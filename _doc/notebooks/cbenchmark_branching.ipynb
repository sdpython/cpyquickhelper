{
  "cells": [
    {
      "cell_type": "markdown",
      "metadata": {},
      "source": [
        "# Measures branching in C++ from python\n",
        "\n",
        "This notebook looks into a couple of ways to write code, which one is efficient, which one is not when it comes to write fast and short loops. Both experiments are around [branching](https://en.wikipedia.org/wiki/Branch_predictor). The notebook relies on C++ code implemented in [cbenchmark.cpp](https://github.com/sdpython/cpyquickhelper/blob/master/src/cpyquickhelper/numbers/cbenchmark.cpp) and\n",
        "[repeat_fct.h](https://github.com/sdpython/cpyquickhelper/blob/master/src/cpyquickhelper/numbers/repeat_fct.h)."
      ]
    },
    {
      "cell_type": "code",
      "execution_count": 1,
      "metadata": {},
      "outputs": [
        {
          "data": {
            "text/html": [
              "<div id=\"my_id_menu_nb\">run previous cell, wait for 2 seconds</div>\n",
              "<script>\n",
              "function repeat_indent_string(n){\n",
              "    var a = \"\" ;\n",
              "    for ( ; n > 0 ; --n)\n",
              "        a += \"    \";\n",
              "    return a;\n",
              "}\n",
              "// look up into all sections and builds an automated menu //\n",
              "var update_menu_string = function(begin, lfirst, llast, sformat, send, keep_item, begin_format, end_format) {\n",
              "    var anchors = document.getElementsByClassName(\"section\");\n",
              "    if (anchors.length == 0) {\n",
              "        anchors = document.getElementsByClassName(\"text_cell_render rendered_html\");\n",
              "    }\n",
              "    var i,t;\n",
              "    var text_menu = begin;\n",
              "    var text_memo = \"<pre>\\nlength:\" + anchors.length + \"\\n\";\n",
              "    var ind = \"\";\n",
              "    var memo_level = 1;\n",
              "    var href;\n",
              "    var tags = [];\n",
              "    var main_item = 0;\n",
              "    var format_open = 0;\n",
              "    for (i = 0; i <= llast; i++)\n",
              "        tags.push(\"h\" + i);\n",
              "\n",
              "    for (i = 0; i < anchors.length; i++) {\n",
              "        text_memo += \"**\" + anchors[i].id + \"--\\n\";\n",
              "\n",
              "        var child = null;\n",
              "        for(t = 0; t < tags.length; t++) {\n",
              "            var r = anchors[i].getElementsByTagName(tags[t]);\n",
              "            if (r.length > 0) {\n",
              "child = r[0];\n",
              "break;\n",
              "            }\n",
              "        }\n",
              "        if (child == null) {\n",
              "            text_memo += \"null\\n\";\n",
              "            continue;\n",
              "        }\n",
              "        if (anchors[i].hasAttribute(\"id\")) {\n",
              "            // when converted in RST\n",
              "            href = anchors[i].id;\n",
              "            text_memo += \"#1-\" + href;\n",
              "            // passer \u00e0 child suivant (le chercher)\n",
              "        }\n",
              "        else if (child.hasAttribute(\"id\")) {\n",
              "            // in a notebook\n",
              "            href = child.id;\n",
              "            text_memo += \"#2-\" + href;\n",
              "        }\n",
              "        else {\n",
              "            text_memo += \"#3-\" + \"*\" + \"\\n\";\n",
              "            continue;\n",
              "        }\n",
              "        var title = child.textContent;\n",
              "        var level = parseInt(child.tagName.substring(1,2));\n",
              "\n",
              "        text_memo += \"--\" + level + \"?\" + lfirst + \"--\" + title + \"\\n\";\n",
              "\n",
              "        if ((level < lfirst) || (level > llast)) {\n",
              "            continue ;\n",
              "        }\n",
              "        if (title.endsWith('\u00b6')) {\n",
              "            title = title.substring(0,title.length-1).replace(\"<\", \"&lt;\")\n",
              "         .replace(\">\", \"&gt;\").replace(\"&\", \"&amp;\");\n",
              "        }\n",
              "        if (title.length == 0) {\n",
              "            continue;\n",
              "        }\n",
              "\n",
              "        while (level < memo_level) {\n",
              "            text_menu += end_format + \"</ul>\\n\";\n",
              "            format_open -= 1;\n",
              "            memo_level -= 1;\n",
              "        }\n",
              "        if (level == lfirst) {\n",
              "            main_item += 1;\n",
              "        }\n",
              "        if (keep_item != -1 && main_item != keep_item + 1) {\n",
              "            // alert(main_item + \" - \" + level + \" - \" + keep_item);\n",
              "            continue;\n",
              "        }\n",
              "        while (level > memo_level) {\n",
              "            text_menu += \"<ul>\\n\";\n",
              "            memo_level += 1;\n",
              "        }\n",
              "        text_menu += repeat_indent_string(level-2);\n",
              "        text_menu += begin_format + sformat.replace(\"__HREF__\", href).replace(\"__TITLE__\", title);\n",
              "        format_open += 1;\n",
              "    }\n",
              "    while (1 < memo_level) {\n",
              "        text_menu += end_format + \"</ul>\\n\";\n",
              "        memo_level -= 1;\n",
              "        format_open -= 1;\n",
              "    }\n",
              "    text_menu += send;\n",
              "    //text_menu += \"\\n\" + text_memo;\n",
              "\n",
              "    while (format_open > 0) {\n",
              "        text_menu += end_format;\n",
              "        format_open -= 1;\n",
              "    }\n",
              "    return text_menu;\n",
              "};\n",
              "var update_menu = function() {\n",
              "    var sbegin = \"\";\n",
              "    var sformat = '<a href=\"#__HREF__\">__TITLE__</a>';\n",
              "    var send = \"\";\n",
              "    var begin_format = '<li>';\n",
              "    var end_format = '</li>';\n",
              "    var keep_item = -1;\n",
              "    var text_menu = update_menu_string(sbegin, 2, 4, sformat, send, keep_item,\n",
              "       begin_format, end_format);\n",
              "    var menu = document.getElementById(\"my_id_menu_nb\");\n",
              "    menu.innerHTML=text_menu;\n",
              "};\n",
              "window.setTimeout(update_menu,2000);\n",
              "            </script>"
            ],
            "text/plain": [
              "<IPython.core.display.HTML object>"
            ]
          },
          "execution_count": 2,
          "metadata": {},
          "output_type": "execute_result"
        }
      ],
      "source": [
        "from jyquickhelper import add_notebook_menu\n",
        "add_notebook_menu()"
      ]
    },
    {
      "cell_type": "code",
      "execution_count": 2,
      "metadata": {},
      "outputs": [],
      "source": [
        "%matplotlib inline"
      ]
    },
    {
      "cell_type": "markdown",
      "metadata": {},
      "source": [
        "[numpy](http://www.numpy.org/) is multithreaded. For an accurate comparison, this needs to be disabled. This can be done as follows or by setting environment variable ``MKL_NUM_THREADS=1``."
      ]
    },
    {
      "cell_type": "code",
      "execution_count": 3,
      "metadata": {},
      "outputs": [],
      "source": [
        "try:\n",
        "    import mkl\n",
        "    mkl.set_num_threads(1)\n",
        "except ModuleNotFoundError as e:\n",
        "    print('mkl not found', e)\n",
        "    import os\n",
        "    os.environ['MKL_NUM_THREADS']='1'"
      ]
    },
    {
      "cell_type": "markdown",
      "metadata": {},
      "source": [
        "## First experiment: comparison C++ syntax\n",
        "\n",
        "This all started with article [Why is it faster to process a sorted array than an unsorted array?](https://stackoverflow.com/questions/11227809/why-is-it-faster-to-process-a-sorted-array-than-an-unsorted-array/11227902#11227902). It compares different implementation fo the following function for which we try different implementations for the third line in next cell. The last option is taken\n",
        "[Checking whether a number is positive or negative using bitwise operators](https://stackoverflow.com/questions/3779202/checking-whether-a-number-is-positive-or-negative-using-bitwise-operators) which avoids [branching](https://en.wikipedia.org/wiki/Branch_predictor)."
      ]
    },
    {
      "cell_type": "code",
      "execution_count": 4,
      "metadata": {},
      "outputs": [],
      "source": [
        "# int nb = 0;\n",
        "# for(auto it = values.begin(); it != values.end(); ++it)\n",
        "#     if (*it >= th) nb++; // this line changes\n",
        "#     if (*it >= th) nb++; // and is repeated 10 times inside the loop.\n",
        "#     // ... 10 times\n",
        "# return nb;"
      ]
    },
    {
      "cell_type": "markdown",
      "metadata": {},
      "source": [
        "The third line is also repeated 10 times to avoid the loop being too significant. "
      ]
    },
    {
      "cell_type": "code",
      "execution_count": 5,
      "metadata": {},
      "outputs": [],
      "source": [
        "from cpyquickhelper.numbers.cbenchmark_dot import measure_scenario_A, measure_scenario_B\n",
        "from cpyquickhelper.numbers.cbenchmark_dot import measure_scenario_C, measure_scenario_D\n",
        "from cpyquickhelper.numbers.cbenchmark_dot import measure_scenario_E, measure_scenario_F\n",
        "from cpyquickhelper.numbers.cbenchmark_dot import measure_scenario_G, measure_scenario_H\n",
        "from cpyquickhelper.numbers.cbenchmark_dot import measure_scenario_I, measure_scenario_J"
      ]
    },
    {
      "cell_type": "code",
      "execution_count": 6,
      "metadata": {},
      "outputs": [
        {
          "data": {
            "text/html": [
              "<div>\n",
              "<style scoped>\n",
              "    .dataframe tbody tr th:only-of-type {\n",
              "        vertical-align: middle;\n",
              "    }\n",
              "\n",
              "    .dataframe tbody tr th {\n",
              "        vertical-align: top;\n",
              "    }\n",
              "\n",
              "    .dataframe thead th {\n",
              "        text-align: right;\n",
              "    }\n",
              "</style>\n",
              "<table border=\"1\" class=\"dataframe\">\n",
              "  <thead>\n",
              "    <tr style=\"text-align: right;\">\n",
              "      <th></th>\n",
              "      <th>average</th>\n",
              "      <th>deviation</th>\n",
              "      <th>doc</th>\n",
              "      <th>label</th>\n",
              "      <th>max_exec</th>\n",
              "      <th>min_exec</th>\n",
              "      <th>name</th>\n",
              "      <th>number</th>\n",
              "      <th>repeat</th>\n",
              "    </tr>\n",
              "  </thead>\n",
              "  <tbody>\n",
              "    <tr>\n",
              "      <th>0</th>\n",
              "      <td>5.728500e-07</td>\n",
              "      <td>5.789527e-07</td>\n",
              "      <td>if (values[i] &gt;= th) ++nb;</td>\n",
              "      <td>sorted</td>\n",
              "      <td>1.186000e-06</td>\n",
              "      <td>7.900000e-07</td>\n",
              "      <td>measure_scenario_A</td>\n",
              "      <td>20.0</td>\n",
              "      <td>10.0</td>\n",
              "    </tr>\n",
              "    <tr>\n",
              "      <th>1</th>\n",
              "      <td>5.333500e-07</td>\n",
              "      <td>5.485149e-07</td>\n",
              "      <td>if (*it &gt;= th) ++nb;</td>\n",
              "      <td>sorted</td>\n",
              "      <td>1.186000e-06</td>\n",
              "      <td>7.900000e-07</td>\n",
              "      <td>measure_scenario_B</td>\n",
              "      <td>20.0</td>\n",
              "      <td>10.0</td>\n",
              "    </tr>\n",
              "    <tr>\n",
              "      <th>2</th>\n",
              "      <td>5.531000e-07</td>\n",
              "      <td>5.642499e-07</td>\n",
              "      <td>if (*it &gt;= th) nb++;</td>\n",
              "      <td>sorted</td>\n",
              "      <td>1.186000e-06</td>\n",
              "      <td>7.900000e-07</td>\n",
              "      <td>measure_scenario_C</td>\n",
              "      <td>20.0</td>\n",
              "      <td>10.0</td>\n",
              "    </tr>\n",
              "    <tr>\n",
              "      <th>3</th>\n",
              "      <td>1.382500e-07</td>\n",
              "      <td>1.884030e-07</td>\n",
              "      <td>nb += *it &gt;= th ? 1 : 0;</td>\n",
              "      <td>sorted</td>\n",
              "      <td>3.950000e-07</td>\n",
              "      <td>0.000000e+00</td>\n",
              "      <td>measure_scenario_D</td>\n",
              "      <td>20.0</td>\n",
              "      <td>10.0</td>\n",
              "    </tr>\n",
              "    <tr>\n",
              "      <th>4</th>\n",
              "      <td>5.531000e-07</td>\n",
              "      <td>5.642849e-07</td>\n",
              "      <td>if (*it &gt;= th) nb += 1;</td>\n",
              "      <td>sorted</td>\n",
              "      <td>1.186000e-06</td>\n",
              "      <td>7.900000e-07</td>\n",
              "      <td>measure_scenario_E</td>\n",
              "      <td>20.0</td>\n",
              "      <td>10.0</td>\n",
              "    </tr>\n",
              "    <tr>\n",
              "      <th>5</th>\n",
              "      <td>1.185500e-07</td>\n",
              "      <td>1.810882e-07</td>\n",
              "      <td>nb += (*it - th) &gt;= 0 ? 1 : 0;</td>\n",
              "      <td>sorted</td>\n",
              "      <td>3.960000e-07</td>\n",
              "      <td>0.000000e+00</td>\n",
              "      <td>measure_scenario_F</td>\n",
              "      <td>20.0</td>\n",
              "      <td>10.0</td>\n",
              "    </tr>\n",
              "    <tr>\n",
              "      <th>6</th>\n",
              "      <td>1.383000e-07</td>\n",
              "      <td>1.884712e-07</td>\n",
              "      <td>nb += (*it - th) &lt; 0 ? 1 : 0;</td>\n",
              "      <td>sorted</td>\n",
              "      <td>3.960000e-07</td>\n",
              "      <td>0.000000e+00</td>\n",
              "      <td>measure_scenario_G</td>\n",
              "      <td>20.0</td>\n",
              "      <td>10.0</td>\n",
              "    </tr>\n",
              "    <tr>\n",
              "      <th>7</th>\n",
              "      <td>1.185000e-07</td>\n",
              "      <td>1.810117e-07</td>\n",
              "      <td>nb += *it &lt; th ? 1 : 0;</td>\n",
              "      <td>sorted</td>\n",
              "      <td>3.950000e-07</td>\n",
              "      <td>0.000000e+00</td>\n",
              "      <td>measure_scenario_H</td>\n",
              "      <td>20.0</td>\n",
              "      <td>10.0</td>\n",
              "    </tr>\n",
              "    <tr>\n",
              "      <th>8</th>\n",
              "      <td>1.580500e-07</td>\n",
              "      <td>1.935710e-07</td>\n",
              "      <td>nb += 1 ^ ((unsigned int)(*it) &gt;&gt; (sizeof(int)...</td>\n",
              "      <td>sorted</td>\n",
              "      <td>3.960000e-07</td>\n",
              "      <td>0.000000e+00</td>\n",
              "      <td>measure_scenario_I</td>\n",
              "      <td>20.0</td>\n",
              "      <td>10.0</td>\n",
              "    </tr>\n",
              "    <tr>\n",
              "      <th>9</th>\n",
              "      <td>7.905000e-08</td>\n",
              "      <td>1.581001e-07</td>\n",
              "      <td>nb += values[i] &gt;= th ? 1 : 0;</td>\n",
              "      <td>sorted</td>\n",
              "      <td>3.960000e-07</td>\n",
              "      <td>0.000000e+00</td>\n",
              "      <td>measure_scenario_J</td>\n",
              "      <td>20.0</td>\n",
              "      <td>10.0</td>\n",
              "    </tr>\n",
              "  </tbody>\n",
              "</table>\n",
              "</div>"
            ],
            "text/plain": [
              "        average     deviation  \\\n",
              "0  5.728500e-07  5.789527e-07   \n",
              "1  5.333500e-07  5.485149e-07   \n",
              "2  5.531000e-07  5.642499e-07   \n",
              "3  1.382500e-07  1.884030e-07   \n",
              "4  5.531000e-07  5.642849e-07   \n",
              "5  1.185500e-07  1.810882e-07   \n",
              "6  1.383000e-07  1.884712e-07   \n",
              "7  1.185000e-07  1.810117e-07   \n",
              "8  1.580500e-07  1.935710e-07   \n",
              "9  7.905000e-08  1.581001e-07   \n",
              "\n",
              "                                                 doc   label      max_exec  \\\n",
              "0                         if (values[i] >= th) ++nb;  sorted  1.186000e-06   \n",
              "1                               if (*it >= th) ++nb;  sorted  1.186000e-06   \n",
              "2                               if (*it >= th) nb++;  sorted  1.186000e-06   \n",
              "3                           nb += *it >= th ? 1 : 0;  sorted  3.950000e-07   \n",
              "4                            if (*it >= th) nb += 1;  sorted  1.186000e-06   \n",
              "5                     nb += (*it - th) >= 0 ? 1 : 0;  sorted  3.960000e-07   \n",
              "6                      nb += (*it - th) < 0 ? 1 : 0;  sorted  3.960000e-07   \n",
              "7                            nb += *it < th ? 1 : 0;  sorted  3.950000e-07   \n",
              "8  nb += 1 ^ ((unsigned int)(*it) >> (sizeof(int)...  sorted  3.960000e-07   \n",
              "9                     nb += values[i] >= th ? 1 : 0;  sorted  3.960000e-07   \n",
              "\n",
              "       min_exec                name  number  repeat  \n",
              "0  7.900000e-07  measure_scenario_A    20.0    10.0  \n",
              "1  7.900000e-07  measure_scenario_B    20.0    10.0  \n",
              "2  7.900000e-07  measure_scenario_C    20.0    10.0  \n",
              "3  0.000000e+00  measure_scenario_D    20.0    10.0  \n",
              "4  7.900000e-07  measure_scenario_E    20.0    10.0  \n",
              "5  0.000000e+00  measure_scenario_F    20.0    10.0  \n",
              "6  0.000000e+00  measure_scenario_G    20.0    10.0  \n",
              "7  0.000000e+00  measure_scenario_H    20.0    10.0  \n",
              "8  0.000000e+00  measure_scenario_I    20.0    10.0  \n",
              "9  0.000000e+00  measure_scenario_J    20.0    10.0  "
            ]
          },
          "execution_count": 7,
          "metadata": {},
          "output_type": "execute_result"
        }
      ],
      "source": [
        "import pandas\n",
        "\n",
        "def test_benchmark(label, values, th, repeat=10, number=20):\n",
        "    funcs = [(k, v) for k, v in globals().copy().items() if k.startswith(\"measure_scenario\")]\n",
        "    rows = []\n",
        "    for k, v in funcs:\n",
        "        exe = v(values, th, repeat, number)\n",
        "        d = exe.todict()\n",
        "        d['doc'] = v.__doc__.split('``')[1]\n",
        "        d['label'] = label\n",
        "        d['name'] = k\n",
        "        rows.append(d)        \n",
        "    df = pandas.DataFrame(rows)\n",
        "    return df\n",
        "\n",
        "test_benchmark(\"sorted\", list(range(10)), 5)"
      ]
    },
    {
      "cell_type": "markdown",
      "metadata": {},
      "source": [
        "Times are not very conclusive on such small lists."
      ]
    },
    {
      "cell_type": "code",
      "execution_count": 7,
      "metadata": {},
      "outputs": [
        {
          "data": {
            "text/html": [
              "<div>\n",
              "<style scoped>\n",
              "    .dataframe tbody tr th:only-of-type {\n",
              "        vertical-align: middle;\n",
              "    }\n",
              "\n",
              "    .dataframe tbody tr th {\n",
              "        vertical-align: top;\n",
              "    }\n",
              "\n",
              "    .dataframe thead th {\n",
              "        text-align: right;\n",
              "    }\n",
              "</style>\n",
              "<table border=\"1\" class=\"dataframe\">\n",
              "  <thead>\n",
              "    <tr style=\"text-align: right;\">\n",
              "      <th></th>\n",
              "      <th>average</th>\n",
              "      <th>deviation</th>\n",
              "      <th>doc</th>\n",
              "      <th>label</th>\n",
              "      <th>max_exec</th>\n",
              "      <th>min_exec</th>\n",
              "      <th>name</th>\n",
              "      <th>number</th>\n",
              "      <th>repeat</th>\n",
              "    </tr>\n",
              "  </thead>\n",
              "  <tbody>\n",
              "    <tr>\n",
              "      <th>0</th>\n",
              "      <td>0.136862</td>\n",
              "      <td>0.0</td>\n",
              "      <td>if (values[i] &gt;= th) ++nb;</td>\n",
              "      <td>sorted</td>\n",
              "      <td>0.021955</td>\n",
              "      <td>0.013029</td>\n",
              "      <td>measure_scenario_A</td>\n",
              "      <td>20.0</td>\n",
              "      <td>200.0</td>\n",
              "    </tr>\n",
              "    <tr>\n",
              "      <th>1</th>\n",
              "      <td>0.139063</td>\n",
              "      <td>0.0</td>\n",
              "      <td>if (*it &gt;= th) ++nb;</td>\n",
              "      <td>sorted</td>\n",
              "      <td>0.017009</td>\n",
              "      <td>0.013001</td>\n",
              "      <td>measure_scenario_B</td>\n",
              "      <td>20.0</td>\n",
              "      <td>200.0</td>\n",
              "    </tr>\n",
              "    <tr>\n",
              "      <th>2</th>\n",
              "      <td>0.132236</td>\n",
              "      <td>0.0</td>\n",
              "      <td>if (*it &gt;= th) nb++;</td>\n",
              "      <td>sorted</td>\n",
              "      <td>0.014134</td>\n",
              "      <td>0.013002</td>\n",
              "      <td>measure_scenario_C</td>\n",
              "      <td>20.0</td>\n",
              "      <td>200.0</td>\n",
              "    </tr>\n",
              "    <tr>\n",
              "      <th>3</th>\n",
              "      <td>0.013740</td>\n",
              "      <td>0.0</td>\n",
              "      <td>nb += *it &gt;= th ? 1 : 0;</td>\n",
              "      <td>sorted</td>\n",
              "      <td>0.002426</td>\n",
              "      <td>0.001293</td>\n",
              "      <td>measure_scenario_D</td>\n",
              "      <td>20.0</td>\n",
              "      <td>200.0</td>\n",
              "    </tr>\n",
              "    <tr>\n",
              "      <th>4</th>\n",
              "      <td>0.136580</td>\n",
              "      <td>0.0</td>\n",
              "      <td>if (*it &gt;= th) nb += 1;</td>\n",
              "      <td>sorted</td>\n",
              "      <td>0.017889</td>\n",
              "      <td>0.013002</td>\n",
              "      <td>measure_scenario_E</td>\n",
              "      <td>20.0</td>\n",
              "      <td>200.0</td>\n",
              "    </tr>\n",
              "    <tr>\n",
              "      <th>5</th>\n",
              "      <td>0.015208</td>\n",
              "      <td>0.0</td>\n",
              "      <td>nb += (*it - th) &gt;= 0 ? 1 : 0;</td>\n",
              "      <td>sorted</td>\n",
              "      <td>0.002863</td>\n",
              "      <td>0.001294</td>\n",
              "      <td>measure_scenario_F</td>\n",
              "      <td>20.0</td>\n",
              "      <td>200.0</td>\n",
              "    </tr>\n",
              "    <tr>\n",
              "      <th>6</th>\n",
              "      <td>0.016229</td>\n",
              "      <td>0.0</td>\n",
              "      <td>nb += (*it - th) &lt; 0 ? 1 : 0;</td>\n",
              "      <td>sorted</td>\n",
              "      <td>0.004782</td>\n",
              "      <td>0.001461</td>\n",
              "      <td>measure_scenario_G</td>\n",
              "      <td>20.0</td>\n",
              "      <td>200.0</td>\n",
              "    </tr>\n",
              "    <tr>\n",
              "      <th>7</th>\n",
              "      <td>0.013643</td>\n",
              "      <td>0.0</td>\n",
              "      <td>nb += *it &lt; th ? 1 : 0;</td>\n",
              "      <td>sorted</td>\n",
              "      <td>0.002153</td>\n",
              "      <td>0.001297</td>\n",
              "      <td>measure_scenario_H</td>\n",
              "      <td>20.0</td>\n",
              "      <td>200.0</td>\n",
              "    </tr>\n",
              "    <tr>\n",
              "      <th>8</th>\n",
              "      <td>0.026053</td>\n",
              "      <td>0.0</td>\n",
              "      <td>nb += 1 ^ ((unsigned int)(*it) &gt;&gt; (sizeof(int)...</td>\n",
              "      <td>sorted</td>\n",
              "      <td>0.004270</td>\n",
              "      <td>0.002405</td>\n",
              "      <td>measure_scenario_I</td>\n",
              "      <td>20.0</td>\n",
              "      <td>200.0</td>\n",
              "    </tr>\n",
              "    <tr>\n",
              "      <th>9</th>\n",
              "      <td>0.015237</td>\n",
              "      <td>0.0</td>\n",
              "      <td>nb += values[i] &gt;= th ? 1 : 0;</td>\n",
              "      <td>sorted</td>\n",
              "      <td>0.002677</td>\n",
              "      <td>0.001457</td>\n",
              "      <td>measure_scenario_J</td>\n",
              "      <td>20.0</td>\n",
              "      <td>200.0</td>\n",
              "    </tr>\n",
              "  </tbody>\n",
              "</table>\n",
              "</div>"
            ],
            "text/plain": [
              "    average  deviation                                                doc  \\\n",
              "0  0.136862        0.0                         if (values[i] >= th) ++nb;   \n",
              "1  0.139063        0.0                               if (*it >= th) ++nb;   \n",
              "2  0.132236        0.0                               if (*it >= th) nb++;   \n",
              "3  0.013740        0.0                           nb += *it >= th ? 1 : 0;   \n",
              "4  0.136580        0.0                            if (*it >= th) nb += 1;   \n",
              "5  0.015208        0.0                     nb += (*it - th) >= 0 ? 1 : 0;   \n",
              "6  0.016229        0.0                      nb += (*it - th) < 0 ? 1 : 0;   \n",
              "7  0.013643        0.0                            nb += *it < th ? 1 : 0;   \n",
              "8  0.026053        0.0  nb += 1 ^ ((unsigned int)(*it) >> (sizeof(int)...   \n",
              "9  0.015237        0.0                     nb += values[i] >= th ? 1 : 0;   \n",
              "\n",
              "    label  max_exec  min_exec                name  number  repeat  \n",
              "0  sorted  0.021955  0.013029  measure_scenario_A    20.0   200.0  \n",
              "1  sorted  0.017009  0.013001  measure_scenario_B    20.0   200.0  \n",
              "2  sorted  0.014134  0.013002  measure_scenario_C    20.0   200.0  \n",
              "3  sorted  0.002426  0.001293  measure_scenario_D    20.0   200.0  \n",
              "4  sorted  0.017889  0.013002  measure_scenario_E    20.0   200.0  \n",
              "5  sorted  0.002863  0.001294  measure_scenario_F    20.0   200.0  \n",
              "6  sorted  0.004782  0.001461  measure_scenario_G    20.0   200.0  \n",
              "7  sorted  0.002153  0.001297  measure_scenario_H    20.0   200.0  \n",
              "8  sorted  0.004270  0.002405  measure_scenario_I    20.0   200.0  \n",
              "9  sorted  0.002677  0.001457  measure_scenario_J    20.0   200.0  "
            ]
          },
          "execution_count": 8,
          "metadata": {},
          "output_type": "execute_result"
        }
      ],
      "source": [
        "values = list(range(100000))\n",
        "df_sorted = test_benchmark(\"sorted\", values, len(values)//2, repeat=200)\n",
        "df_sorted"
      ]
    },
    {
      "cell_type": "markdown",
      "metadata": {},
      "source": [
        "The article some implementations will be slower if the values are not sorted."
      ]
    },
    {
      "cell_type": "code",
      "execution_count": 8,
      "metadata": {},
      "outputs": [
        {
          "data": {
            "text/plain": [
              "[48365, 87890, 41678, 46385, 65651, 61946, 21980, 48529, 87219, 29551]"
            ]
          },
          "execution_count": 9,
          "metadata": {},
          "output_type": "execute_result"
        }
      ],
      "source": [
        "import random\n",
        "random.shuffle(values)\n",
        "values = values.copy()\n",
        "values[:10]"
      ]
    },
    {
      "cell_type": "code",
      "execution_count": 9,
      "metadata": {},
      "outputs": [
        {
          "data": {
            "text/html": [
              "<div>\n",
              "<style scoped>\n",
              "    .dataframe tbody tr th:only-of-type {\n",
              "        vertical-align: middle;\n",
              "    }\n",
              "\n",
              "    .dataframe tbody tr th {\n",
              "        vertical-align: top;\n",
              "    }\n",
              "\n",
              "    .dataframe thead th {\n",
              "        text-align: right;\n",
              "    }\n",
              "</style>\n",
              "<table border=\"1\" class=\"dataframe\">\n",
              "  <thead>\n",
              "    <tr style=\"text-align: right;\">\n",
              "      <th></th>\n",
              "      <th>average</th>\n",
              "      <th>deviation</th>\n",
              "      <th>doc</th>\n",
              "      <th>label</th>\n",
              "      <th>max_exec</th>\n",
              "      <th>min_exec</th>\n",
              "      <th>name</th>\n",
              "      <th>number</th>\n",
              "      <th>repeat</th>\n",
              "    </tr>\n",
              "  </thead>\n",
              "  <tbody>\n",
              "    <tr>\n",
              "      <th>0</th>\n",
              "      <td>0.134693</td>\n",
              "      <td>0.0</td>\n",
              "      <td>if (values[i] &gt;= th) ++nb;</td>\n",
              "      <td>shuffled</td>\n",
              "      <td>0.016256</td>\n",
              "      <td>0.012956</td>\n",
              "      <td>measure_scenario_A</td>\n",
              "      <td>20.0</td>\n",
              "      <td>200.0</td>\n",
              "    </tr>\n",
              "    <tr>\n",
              "      <th>1</th>\n",
              "      <td>0.133707</td>\n",
              "      <td>0.0</td>\n",
              "      <td>if (*it &gt;= th) ++nb;</td>\n",
              "      <td>shuffled</td>\n",
              "      <td>0.015030</td>\n",
              "      <td>0.012998</td>\n",
              "      <td>measure_scenario_B</td>\n",
              "      <td>20.0</td>\n",
              "      <td>200.0</td>\n",
              "    </tr>\n",
              "    <tr>\n",
              "      <th>2</th>\n",
              "      <td>0.133024</td>\n",
              "      <td>0.0</td>\n",
              "      <td>if (*it &gt;= th) nb++;</td>\n",
              "      <td>shuffled</td>\n",
              "      <td>0.014811</td>\n",
              "      <td>0.012997</td>\n",
              "      <td>measure_scenario_C</td>\n",
              "      <td>20.0</td>\n",
              "      <td>200.0</td>\n",
              "    </tr>\n",
              "    <tr>\n",
              "      <th>3</th>\n",
              "      <td>0.013992</td>\n",
              "      <td>0.0</td>\n",
              "      <td>nb += *it &gt;= th ? 1 : 0;</td>\n",
              "      <td>shuffled</td>\n",
              "      <td>0.002802</td>\n",
              "      <td>0.001293</td>\n",
              "      <td>measure_scenario_D</td>\n",
              "      <td>20.0</td>\n",
              "      <td>200.0</td>\n",
              "    </tr>\n",
              "    <tr>\n",
              "      <th>4</th>\n",
              "      <td>0.134017</td>\n",
              "      <td>0.0</td>\n",
              "      <td>if (*it &gt;= th) nb += 1;</td>\n",
              "      <td>shuffled</td>\n",
              "      <td>0.015806</td>\n",
              "      <td>0.013003</td>\n",
              "      <td>measure_scenario_E</td>\n",
              "      <td>20.0</td>\n",
              "      <td>200.0</td>\n",
              "    </tr>\n",
              "    <tr>\n",
              "      <th>5</th>\n",
              "      <td>0.014059</td>\n",
              "      <td>0.0</td>\n",
              "      <td>nb += (*it - th) &gt;= 0 ? 1 : 0;</td>\n",
              "      <td>shuffled</td>\n",
              "      <td>0.002515</td>\n",
              "      <td>0.001294</td>\n",
              "      <td>measure_scenario_F</td>\n",
              "      <td>20.0</td>\n",
              "      <td>200.0</td>\n",
              "    </tr>\n",
              "    <tr>\n",
              "      <th>6</th>\n",
              "      <td>0.014952</td>\n",
              "      <td>0.0</td>\n",
              "      <td>nb += (*it - th) &lt; 0 ? 1 : 0;</td>\n",
              "      <td>shuffled</td>\n",
              "      <td>0.001947</td>\n",
              "      <td>0.001461</td>\n",
              "      <td>measure_scenario_G</td>\n",
              "      <td>20.0</td>\n",
              "      <td>200.0</td>\n",
              "    </tr>\n",
              "    <tr>\n",
              "      <th>7</th>\n",
              "      <td>0.013271</td>\n",
              "      <td>0.0</td>\n",
              "      <td>nb += *it &lt; th ? 1 : 0;</td>\n",
              "      <td>shuffled</td>\n",
              "      <td>0.002554</td>\n",
              "      <td>0.001298</td>\n",
              "      <td>measure_scenario_H</td>\n",
              "      <td>20.0</td>\n",
              "      <td>200.0</td>\n",
              "    </tr>\n",
              "    <tr>\n",
              "      <th>8</th>\n",
              "      <td>0.024356</td>\n",
              "      <td>0.0</td>\n",
              "      <td>nb += 1 ^ ((unsigned int)(*it) &gt;&gt; (sizeof(int)...</td>\n",
              "      <td>shuffled</td>\n",
              "      <td>0.003141</td>\n",
              "      <td>0.002405</td>\n",
              "      <td>measure_scenario_I</td>\n",
              "      <td>20.0</td>\n",
              "      <td>200.0</td>\n",
              "    </tr>\n",
              "    <tr>\n",
              "      <th>9</th>\n",
              "      <td>0.015286</td>\n",
              "      <td>0.0</td>\n",
              "      <td>nb += values[i] &gt;= th ? 1 : 0;</td>\n",
              "      <td>shuffled</td>\n",
              "      <td>0.002744</td>\n",
              "      <td>0.001457</td>\n",
              "      <td>measure_scenario_J</td>\n",
              "      <td>20.0</td>\n",
              "      <td>200.0</td>\n",
              "    </tr>\n",
              "  </tbody>\n",
              "</table>\n",
              "</div>"
            ],
            "text/plain": [
              "    average  deviation                                                doc  \\\n",
              "0  0.134693        0.0                         if (values[i] >= th) ++nb;   \n",
              "1  0.133707        0.0                               if (*it >= th) ++nb;   \n",
              "2  0.133024        0.0                               if (*it >= th) nb++;   \n",
              "3  0.013992        0.0                           nb += *it >= th ? 1 : 0;   \n",
              "4  0.134017        0.0                            if (*it >= th) nb += 1;   \n",
              "5  0.014059        0.0                     nb += (*it - th) >= 0 ? 1 : 0;   \n",
              "6  0.014952        0.0                      nb += (*it - th) < 0 ? 1 : 0;   \n",
              "7  0.013271        0.0                            nb += *it < th ? 1 : 0;   \n",
              "8  0.024356        0.0  nb += 1 ^ ((unsigned int)(*it) >> (sizeof(int)...   \n",
              "9  0.015286        0.0                     nb += values[i] >= th ? 1 : 0;   \n",
              "\n",
              "      label  max_exec  min_exec                name  number  repeat  \n",
              "0  shuffled  0.016256  0.012956  measure_scenario_A    20.0   200.0  \n",
              "1  shuffled  0.015030  0.012998  measure_scenario_B    20.0   200.0  \n",
              "2  shuffled  0.014811  0.012997  measure_scenario_C    20.0   200.0  \n",
              "3  shuffled  0.002802  0.001293  measure_scenario_D    20.0   200.0  \n",
              "4  shuffled  0.015806  0.013003  measure_scenario_E    20.0   200.0  \n",
              "5  shuffled  0.002515  0.001294  measure_scenario_F    20.0   200.0  \n",
              "6  shuffled  0.001947  0.001461  measure_scenario_G    20.0   200.0  \n",
              "7  shuffled  0.002554  0.001298  measure_scenario_H    20.0   200.0  \n",
              "8  shuffled  0.003141  0.002405  measure_scenario_I    20.0   200.0  \n",
              "9  shuffled  0.002744  0.001457  measure_scenario_J    20.0   200.0  "
            ]
          },
          "execution_count": 10,
          "metadata": {},
          "output_type": "execute_result"
        }
      ],
      "source": [
        "df_shuffled = test_benchmark(\"shuffled\", values, len(values)//2, repeat=200)\n",
        "df_shuffled"
      ]
    },
    {
      "cell_type": "code",
      "execution_count": 10,
      "metadata": {},
      "outputs": [],
      "source": [
        "df = pandas.concat([df_sorted, df_shuffled])\n",
        "dfg = df[[\"doc\", \"label\", \"average\"]].pivot(\"doc\", \"label\", \"average\")"
      ]
    },
    {
      "cell_type": "code",
      "execution_count": 11,
      "metadata": {},
      "outputs": [
        {
          "data": {
            "image/png": "[encoded data removed]",
            "text/plain": [
              "<Figure size 432x288 with 1 Axes>"
            ]
          },
          "metadata": {
            "needs_background": "light"
          },
          "output_type": "display_data"
        }
      ],
      "source": [
        "ax = dfg.plot.bar(rot=30)\n",
        "labels = [l.get_text() for l in ax.get_xticklabels()]\n",
        "ax.set_xticklabels(labels, ha='right')\n",
        "ax.set_title(\"Comparison of all implementations\");"
      ]
    },
    {
      "cell_type": "markdown",
      "metadata": {},
      "source": [
        "It seems that inline tests (``cond ? value1 : value2``) do not stop the branching and it should be used whenever possible."
      ]
    },
    {
      "cell_type": "code",
      "execution_count": 12,
      "metadata": {},
      "outputs": [
        {
          "data": {
            "image/png": "[encoded data removed]",
            "text/plain": [
              "<Figure size 432x288 with 1 Axes>"
            ]
          },
          "metadata": {
            "needs_background": "light"
          },
          "output_type": "display_data"
        }
      ],
      "source": [
        "sdf = df[[\"doc\", \"label\", \"average\"]]\n",
        "dfg2 = sdf[sdf.doc.str.contains('[?^]')].pivot(\"doc\", \"label\", \"average\")\n",
        "ax = dfg2.plot.bar(rot=30)\n",
        "labels = [l.get_text() for l in ax.get_xticklabels()]\n",
        "ax.set_xticklabels(labels, ha='right')\n",
        "ax.set_title(\"Comparison of implementations using ? :\");"
      ]
    },
    {
      "cell_type": "code",
      "execution_count": 13,
      "metadata": {},
      "outputs": [
        {
          "data": {
            "image/png": "[encoded data removed]",
            "text/plain": [
              "<Figure size 432x288 with 1 Axes>"
            ]
          },
          "metadata": {
            "needs_background": "light"
          },
          "output_type": "display_data"
        }
      ],
      "source": [
        "sdf = df[[\"doc\", \"label\", \"average\"]]\n",
        "dfg2 = sdf[sdf.doc.str.contains('if')].pivot(\"doc\", \"label\", \"average\")\n",
        "ax = dfg2.plot.bar(rot=30)\n",
        "labels = [l.get_text() for l in ax.get_xticklabels()]\n",
        "ax.set_xticklabels(labels, ha='right')\n",
        "ax.set_ylim([0.10, 0.20])\n",
        "ax.set_title(\"Comparison of implementations using tests\");"
      ]
    },
    {
      "cell_type": "markdown",
      "metadata": {},
      "source": [
        "*sorted*, *not sorted* does not seem to have a real impact in this case. It shows *branching* really slows down the execution of a program. Branching happens whenever the program meets a loop condition or a test. Iterator ``*it`` are faster than accessing an array with notation ``[i]`` which adds a cost due to an extra addition."
      ]
    },
    {
      "cell_type": "markdown",
      "metadata": {},
      "source": [
        "## Second experiment: dot product\n",
        "\n",
        "The goal is to compare the dot product from [numpy.dot](https://docs.scipy.org/doc/numpy-1.15.0/reference/generated/numpy.dot.html) and a couple of implementation in C++ which look like this:"
      ]
    },
    {
      "cell_type": "code",
      "execution_count": 14,
      "metadata": {},
      "outputs": [],
      "source": [
        "# float vector_dot_product_pointer(const float *p1, const float *p2, size_t size)\n",
        "# {\n",
        "#     float sum = 0;\n",
        "#     const float * end1 = p1 + size;\n",
        "#     for(; p1 != end1; ++p1, ++p2)\n",
        "#         sum += *p1 * *p2;\n",
        "#     return sum;\n",
        "# }\n",
        "# \n",
        "# \n",
        "# float vector_dot_product(py::array_t<float> v1, py::array_t<float> v2)\n",
        "# {\n",
        "#     if (v1.ndim() != v2.ndim())\n",
        "#         throw std::runtime_error(\"Vector v1 and v2 must have the same dimension.\");\n",
        "#     if (v1.ndim() != 1)\n",
        "#         throw std::runtime_error(\"Vector v1 and v2 must be vectors.\");\n",
        "#     return vector_dot_product_pointer(v1.data(0), v2.data(0), v1.shape(0));\n",
        "# }"
      ]
    },
    {
      "cell_type": "markdown",
      "metadata": {},
      "source": [
        "### numpy vs C++"
      ]
    },
    {
      "cell_type": "code",
      "execution_count": 15,
      "metadata": {},
      "outputs": [],
      "source": [
        "%matplotlib inline"
      ]
    },
    {
      "cell_type": "code",
      "execution_count": 16,
      "metadata": {},
      "outputs": [
        {
          "data": {
            "text/plain": [
              "3333333.2"
            ]
          },
          "execution_count": 17,
          "metadata": {},
          "output_type": "execute_result"
        }
      ],
      "source": [
        "import numpy\n",
        "\n",
        "def simple_dot(values):\n",
        "    return numpy.dot(values, values)\n",
        "\n",
        "values = list(range(10000000))\n",
        "values = numpy.array(values, dtype=numpy.float32)\n",
        "vect = values / numpy.max(values)\n",
        "simple_dot(vect)"
      ]
    },
    {
      "cell_type": "code",
      "execution_count": 17,
      "metadata": {},
      "outputs": [
        {
          "data": {
            "text/plain": [
              "dtype('float32')"
            ]
          },
          "execution_count": 18,
          "metadata": {},
          "output_type": "execute_result"
        }
      ],
      "source": [
        "vect.dtype"
      ]
    },
    {
      "cell_type": "code",
      "execution_count": 18,
      "metadata": {},
      "outputs": [
        {
          "data": {
            "text/plain": [
              "{'average': 0.12551415209997002,\n",
              " 'deviation': 0.012892999741123123,\n",
              " 'min_exec': 0.11487823799996022,\n",
              " 'max_exec': 0.15420459599999958,\n",
              " 'repeat': 10,\n",
              " 'number': 50,\n",
              " 'size': 10000000}"
            ]
          },
          "execution_count": 19,
          "metadata": {},
          "output_type": "execute_result"
        }
      ],
      "source": [
        "from timeit import Timer\n",
        "\n",
        "def measure_time(stmt, context, repeat=10, number=50):\n",
        "    tim = Timer(stmt, globals=context)\n",
        "    res = numpy.array(tim.repeat(repeat=repeat, number=number))\n",
        "    mean = numpy.mean(res)\n",
        "    dev = numpy.mean(res ** 2)\n",
        "    dev = (dev - mean**2) ** 0.5\n",
        "    return dict(average=mean, deviation=dev, min_exec=numpy.min(res),\n",
        "                max_exec=numpy.max(res), repeat=repeat, number=number,\n",
        "                size=context['values'].shape[0])\n",
        "\n",
        "measure_time(\"simple_dot(values)\", context=dict(simple_dot=simple_dot, values=vect))"
      ]
    },
    {
      "cell_type": "code",
      "execution_count": 19,
      "metadata": {},
      "outputs": [
        {
          "data": {
            "text/html": [
              "<div>\n",
              "<style scoped>\n",
              "    .dataframe tbody tr th:only-of-type {\n",
              "        vertical-align: middle;\n",
              "    }\n",
              "\n",
              "    .dataframe tbody tr th {\n",
              "        vertical-align: top;\n",
              "    }\n",
              "\n",
              "    .dataframe thead th {\n",
              "        text-align: right;\n",
              "    }\n",
              "</style>\n",
              "<table border=\"1\" class=\"dataframe\">\n",
              "  <thead>\n",
              "    <tr style=\"text-align: right;\">\n",
              "      <th></th>\n",
              "      <th>average</th>\n",
              "      <th>deviation</th>\n",
              "      <th>max_exec</th>\n",
              "      <th>min_exec</th>\n",
              "      <th>number</th>\n",
              "      <th>repeat</th>\n",
              "      <th>size</th>\n",
              "    </tr>\n",
              "  </thead>\n",
              "  <tbody>\n",
              "    <tr>\n",
              "      <th>75</th>\n",
              "      <td>0.001137</td>\n",
              "      <td>0.000044</td>\n",
              "      <td>0.001362</td>\n",
              "      <td>0.001116</td>\n",
              "      <td>50</td>\n",
              "      <td>100</td>\n",
              "      <td>187510</td>\n",
              "    </tr>\n",
              "    <tr>\n",
              "      <th>76</th>\n",
              "      <td>0.001141</td>\n",
              "      <td>0.000038</td>\n",
              "      <td>0.001346</td>\n",
              "      <td>0.001122</td>\n",
              "      <td>50</td>\n",
              "      <td>100</td>\n",
              "      <td>190010</td>\n",
              "    </tr>\n",
              "    <tr>\n",
              "      <th>77</th>\n",
              "      <td>0.001148</td>\n",
              "      <td>0.000020</td>\n",
              "      <td>0.001244</td>\n",
              "      <td>0.001136</td>\n",
              "      <td>50</td>\n",
              "      <td>100</td>\n",
              "      <td>192510</td>\n",
              "    </tr>\n",
              "    <tr>\n",
              "      <th>78</th>\n",
              "      <td>0.001168</td>\n",
              "      <td>0.000021</td>\n",
              "      <td>0.001261</td>\n",
              "      <td>0.001152</td>\n",
              "      <td>50</td>\n",
              "      <td>100</td>\n",
              "      <td>195010</td>\n",
              "    </tr>\n",
              "    <tr>\n",
              "      <th>79</th>\n",
              "      <td>0.001348</td>\n",
              "      <td>0.000394</td>\n",
              "      <td>0.002692</td>\n",
              "      <td>0.001165</td>\n",
              "      <td>50</td>\n",
              "      <td>100</td>\n",
              "      <td>197510</td>\n",
              "    </tr>\n",
              "  </tbody>\n",
              "</table>\n",
              "</div>"
            ],
            "text/plain": [
              "     average  deviation  max_exec  min_exec  number  repeat    size\n",
              "75  0.001137   0.000044  0.001362  0.001116      50     100  187510\n",
              "76  0.001141   0.000038  0.001346  0.001122      50     100  190010\n",
              "77  0.001148   0.000020  0.001244  0.001136      50     100  192510\n",
              "78  0.001168   0.000021  0.001261  0.001152      50     100  195010\n",
              "79  0.001348   0.000394  0.002692  0.001165      50     100  197510"
            ]
          },
          "execution_count": 20,
          "metadata": {},
          "output_type": "execute_result"
        }
      ],
      "source": [
        "res = []\n",
        "for i in range(10, 200000, 2500):\n",
        "    t = measure_time(\"simple_dot(values)\", repeat=100,\n",
        "                     context=dict(simple_dot=simple_dot, values=vect[:i].copy()))\n",
        "    res.append(t)\n",
        "\n",
        "import pandas\n",
        "dot = pandas.DataFrame(res)\n",
        "dot.tail()"
      ]
    },
    {
      "cell_type": "code",
      "execution_count": 20,
      "metadata": {},
      "outputs": [
        {
          "data": {
            "text/html": [
              "<div>\n",
              "<style scoped>\n",
              "    .dataframe tbody tr th:only-of-type {\n",
              "        vertical-align: middle;\n",
              "    }\n",
              "\n",
              "    .dataframe tbody tr th {\n",
              "        vertical-align: top;\n",
              "    }\n",
              "\n",
              "    .dataframe thead th {\n",
              "        text-align: right;\n",
              "    }\n",
              "</style>\n",
              "<table border=\"1\" class=\"dataframe\">\n",
              "  <thead>\n",
              "    <tr style=\"text-align: right;\">\n",
              "      <th></th>\n",
              "      <th>average</th>\n",
              "      <th>deviation</th>\n",
              "      <th>max_exec</th>\n",
              "      <th>min_exec</th>\n",
              "      <th>number</th>\n",
              "      <th>repeat</th>\n",
              "      <th>size</th>\n",
              "    </tr>\n",
              "  </thead>\n",
              "  <tbody>\n",
              "    <tr>\n",
              "      <th>0</th>\n",
              "      <td>0.001075</td>\n",
              "      <td>0.000410</td>\n",
              "      <td>0.001722</td>\n",
              "      <td>0.000591</td>\n",
              "      <td>50</td>\n",
              "      <td>10</td>\n",
              "      <td>100000</td>\n",
              "    </tr>\n",
              "    <tr>\n",
              "      <th>1</th>\n",
              "      <td>0.011456</td>\n",
              "      <td>0.002504</td>\n",
              "      <td>0.015181</td>\n",
              "      <td>0.007934</td>\n",
              "      <td>50</td>\n",
              "      <td>10</td>\n",
              "      <td>1100000</td>\n",
              "    </tr>\n",
              "    <tr>\n",
              "      <th>2</th>\n",
              "      <td>0.032301</td>\n",
              "      <td>0.004606</td>\n",
              "      <td>0.043542</td>\n",
              "      <td>0.026140</td>\n",
              "      <td>50</td>\n",
              "      <td>10</td>\n",
              "      <td>2100000</td>\n",
              "    </tr>\n",
              "    <tr>\n",
              "      <th>3</th>\n",
              "      <td>0.040916</td>\n",
              "      <td>0.004739</td>\n",
              "      <td>0.046942</td>\n",
              "      <td>0.033876</td>\n",
              "      <td>50</td>\n",
              "      <td>10</td>\n",
              "      <td>3100000</td>\n",
              "    </tr>\n",
              "    <tr>\n",
              "      <th>4</th>\n",
              "      <td>0.045737</td>\n",
              "      <td>0.001285</td>\n",
              "      <td>0.048492</td>\n",
              "      <td>0.044516</td>\n",
              "      <td>50</td>\n",
              "      <td>10</td>\n",
              "      <td>4100000</td>\n",
              "    </tr>\n",
              "  </tbody>\n",
              "</table>\n",
              "</div>"
            ],
            "text/plain": [
              "    average  deviation  max_exec  min_exec  number  repeat     size\n",
              "0  0.001075   0.000410  0.001722  0.000591      50      10   100000\n",
              "1  0.011456   0.002504  0.015181  0.007934      50      10  1100000\n",
              "2  0.032301   0.004606  0.043542  0.026140      50      10  2100000\n",
              "3  0.040916   0.004739  0.046942  0.033876      50      10  3100000\n",
              "4  0.045737   0.001285  0.048492  0.044516      50      10  4100000"
            ]
          },
          "execution_count": 21,
          "metadata": {},
          "output_type": "execute_result"
        }
      ],
      "source": [
        "res = []\n",
        "for i in range(100000, 10000000, 1000000):\n",
        "    t = measure_time(\"simple_dot(values)\", repeat=10,\n",
        "                     context=dict(simple_dot=simple_dot, values=vect[:i].copy()))\n",
        "    res.append(t)\n",
        "    \n",
        "huge_dot = pandas.DataFrame(res)\n",
        "huge_dot.head()"
      ]
    },
    {
      "cell_type": "code",
      "execution_count": 21,
      "metadata": {},
      "outputs": [
        {
          "data": {
            "image/png": "[encoded data removed]",
            "text/plain": [
              "<Figure size 1008x288 with 2 Axes>"
            ]
          },
          "metadata": {
            "needs_background": "light"
          },
          "output_type": "display_data"
        }
      ],
      "source": [
        "import matplotlib.pyplot as plt\n",
        "fig, ax = plt.subplots(1, 2, figsize=(14,4))\n",
        "dot.plot(x='size', y=\"average\", ax=ax[0])\n",
        "huge_dot.plot(x='size', y=\"average\", ax=ax[1])\n",
        "ax[0].set_title(\"numpy dot product execution time\");\n",
        "ax[1].set_title(\"numpy dot product execution time\");"
      ]
    },
    {
      "cell_type": "markdown",
      "metadata": {},
      "source": [
        "Now the custom implementation. We start with an empty function to get a sense of the cost due to to pybind11."
      ]
    },
    {
      "cell_type": "code",
      "execution_count": 22,
      "metadata": {},
      "outputs": [
        {
          "data": {
            "text/plain": [
              "0.0"
            ]
          },
          "execution_count": 23,
          "metadata": {},
          "output_type": "execute_result"
        }
      ],
      "source": [
        "from cpyquickhelper.numbers.cbenchmark_dot import empty_vector_dot_product\n",
        "empty_vector_dot_product(vect, vect)"
      ]
    },
    {
      "cell_type": "code",
      "execution_count": 23,
      "metadata": {},
      "outputs": [
        {
          "data": {
            "text/plain": [
              "{'average': 8.280469999135675e-05,\n",
              " 'deviation': 2.481106475472426e-05,\n",
              " 'min_exec': 6.321000000752974e-05,\n",
              " 'max_exec': 0.00013787600005343847,\n",
              " 'repeat': 10,\n",
              " 'number': 50,\n",
              " 'size': 10000000}"
            ]
          },
          "execution_count": 24,
          "metadata": {},
          "output_type": "execute_result"
        }
      ],
      "source": [
        "def empty_c11_dot(vect):\n",
        "    return empty_vector_dot_product(vect, vect)\n",
        "\n",
        "measure_time(\"empty_c11_dot(values)\", context=dict(empty_c11_dot=empty_c11_dot, values=vect), repeat=10)"
      ]
    },
    {
      "cell_type": "markdown",
      "metadata": {},
      "source": [
        "Very small. It should not pollute our experiments."
      ]
    },
    {
      "cell_type": "code",
      "execution_count": 24,
      "metadata": {},
      "outputs": [
        {
          "data": {
            "text/plain": [
              "3334629.0"
            ]
          },
          "execution_count": 25,
          "metadata": {},
          "output_type": "execute_result"
        }
      ],
      "source": [
        "from cpyquickhelper.numbers.cbenchmark_dot import vector_dot_product\n",
        "vector_dot_product(vect, vect)"
      ]
    },
    {
      "cell_type": "code",
      "execution_count": 25,
      "metadata": {},
      "outputs": [
        {
          "data": {
            "text/plain": [
              "{'average': 0.6883779342999901,\n",
              " 'deviation': 0.014281541145824214,\n",
              " 'min_exec': 0.6709101500000543,\n",
              " 'max_exec': 0.7089845589999868,\n",
              " 'repeat': 10,\n",
              " 'number': 50,\n",
              " 'size': 10000000}"
            ]
          },
          "execution_count": 26,
          "metadata": {},
          "output_type": "execute_result"
        }
      ],
      "source": [
        "def c11_dot(vect):\n",
        "    return vector_dot_product(vect, vect)\n",
        "\n",
        "measure_time(\"c11_dot(values)\", context=dict(c11_dot=c11_dot, values=vect), repeat=10)"
      ]
    },
    {
      "cell_type": "code",
      "execution_count": 26,
      "metadata": {
        "scrolled": false
      },
      "outputs": [
        {
          "data": {
            "text/html": [
              "<div>\n",
              "<style scoped>\n",
              "    .dataframe tbody tr th:only-of-type {\n",
              "        vertical-align: middle;\n",
              "    }\n",
              "\n",
              "    .dataframe tbody tr th {\n",
              "        vertical-align: top;\n",
              "    }\n",
              "\n",
              "    .dataframe thead th {\n",
              "        text-align: right;\n",
              "    }\n",
              "</style>\n",
              "<table border=\"1\" class=\"dataframe\">\n",
              "  <thead>\n",
              "    <tr style=\"text-align: right;\">\n",
              "      <th></th>\n",
              "      <th>average</th>\n",
              "      <th>deviation</th>\n",
              "      <th>max_exec</th>\n",
              "      <th>min_exec</th>\n",
              "      <th>number</th>\n",
              "      <th>repeat</th>\n",
              "      <th>size</th>\n",
              "    </tr>\n",
              "  </thead>\n",
              "  <tbody>\n",
              "    <tr>\n",
              "      <th>75</th>\n",
              "      <td>0.012365</td>\n",
              "      <td>0.000064</td>\n",
              "      <td>0.012501</td>\n",
              "      <td>0.012278</td>\n",
              "      <td>50</td>\n",
              "      <td>10</td>\n",
              "      <td>187510</td>\n",
              "    </tr>\n",
              "    <tr>\n",
              "      <th>76</th>\n",
              "      <td>0.012442</td>\n",
              "      <td>0.000029</td>\n",
              "      <td>0.012490</td>\n",
              "      <td>0.012377</td>\n",
              "      <td>50</td>\n",
              "      <td>10</td>\n",
              "      <td>190010</td>\n",
              "    </tr>\n",
              "    <tr>\n",
              "      <th>77</th>\n",
              "      <td>0.012798</td>\n",
              "      <td>0.000198</td>\n",
              "      <td>0.013193</td>\n",
              "      <td>0.012547</td>\n",
              "      <td>50</td>\n",
              "      <td>10</td>\n",
              "      <td>192510</td>\n",
              "    </tr>\n",
              "    <tr>\n",
              "      <th>78</th>\n",
              "      <td>0.012882</td>\n",
              "      <td>0.000109</td>\n",
              "      <td>0.013175</td>\n",
              "      <td>0.012777</td>\n",
              "      <td>50</td>\n",
              "      <td>10</td>\n",
              "      <td>195010</td>\n",
              "    </tr>\n",
              "    <tr>\n",
              "      <th>79</th>\n",
              "      <td>0.013287</td>\n",
              "      <td>0.000306</td>\n",
              "      <td>0.014023</td>\n",
              "      <td>0.012913</td>\n",
              "      <td>50</td>\n",
              "      <td>10</td>\n",
              "      <td>197510</td>\n",
              "    </tr>\n",
              "  </tbody>\n",
              "</table>\n",
              "</div>"
            ],
            "text/plain": [
              "     average  deviation  max_exec  min_exec  number  repeat    size\n",
              "75  0.012365   0.000064  0.012501  0.012278      50      10  187510\n",
              "76  0.012442   0.000029  0.012490  0.012377      50      10  190010\n",
              "77  0.012798   0.000198  0.013193  0.012547      50      10  192510\n",
              "78  0.012882   0.000109  0.013175  0.012777      50      10  195010\n",
              "79  0.013287   0.000306  0.014023  0.012913      50      10  197510"
            ]
          },
          "execution_count": 27,
          "metadata": {},
          "output_type": "execute_result"
        }
      ],
      "source": [
        "res = []\n",
        "for i in range(10, 200000, 2500):\n",
        "    t = measure_time(\"c11_dot(values)\", repeat=10,\n",
        "                     context=dict(c11_dot=c11_dot, values=vect[:i].copy()))\n",
        "    res.append(t)\n",
        "\n",
        "import pandas\n",
        "cus_dot = pandas.DataFrame(res)\n",
        "cus_dot.tail()"
      ]
    },
    {
      "cell_type": "code",
      "execution_count": 27,
      "metadata": {},
      "outputs": [
        {
          "data": {
            "image/png": "[encoded data removed]",
            "text/plain": [
              "<Figure size 1008x288 with 2 Axes>"
            ]
          },
          "metadata": {
            "needs_background": "light"
          },
          "output_type": "display_data"
        }
      ],
      "source": [
        "fig, ax = plt.subplots(1, 2, figsize=(14,4))\n",
        "dot.plot(x='size', y=\"average\", ax=ax[0], label=\"numpy\")\n",
        "cus_dot.plot(x='size', y=\"average\", ax=ax[0], label=\"pybind11\")\n",
        "dot.plot(x='size', y=\"average\", ax=ax[1], label=\"numpy\", logy=True)\n",
        "cus_dot.plot(x='size', y=\"average\", ax=ax[1], label=\"pybind11\")\n",
        "ax[0].set_title(\"numpy and custom dot product execution time\");\n",
        "ax[1].set_title(\"numpy and custom dot product execution time\");"
      ]
    },
    {
      "cell_type": "markdown",
      "metadata": {},
      "source": [
        "Pretty slow. Let's see what it does to compute dot product 16 by 16."
      ]
    },
    {
      "cell_type": "markdown",
      "metadata": {},
      "source": [
        "### Use of branching: 16 multplications in one row\n",
        "\n",
        "The code looks like what follows. If there is more than 16 multiplications left, we use function *vector_dot_product_pointer16*, otherwise, there are done one by one like the previous function."
      ]
    },
    {
      "cell_type": "code",
      "execution_count": 28,
      "metadata": {},
      "outputs": [],
      "source": [
        "# float vector_dot_product_pointer16(const float *p1, const float *p2)\n",
        "# {\n",
        "#     float sum = 0;\n",
        "#     \n",
        "#     sum += *(p1++) * *(p2++);\n",
        "#     sum += *(p1++) * *(p2++);\n",
        "#     sum += *(p1++) * *(p2++);\n",
        "#     sum += *(p1++) * *(p2++);\n",
        "#     sum += *(p1++) * *(p2++);\n",
        "#     sum += *(p1++) * *(p2++);\n",
        "#     sum += *(p1++) * *(p2++);\n",
        "#     sum += *(p1++) * *(p2++);\n",
        "# \n",
        "#     sum += *(p1++) * *(p2++);\n",
        "#     sum += *(p1++) * *(p2++);\n",
        "#     sum += *(p1++) * *(p2++);\n",
        "#     sum += *(p1++) * *(p2++);\n",
        "#     sum += *(p1++) * *(p2++);\n",
        "#     sum += *(p1++) * *(p2++);\n",
        "#     sum += *(p1++) * *(p2++);\n",
        "#     sum += *(p1++) * *(p2++);\n",
        "# \n",
        "#     return sum;\n",
        "# }\n",
        "# \n",
        "# #define BYN 16\n",
        "# \n",
        "# float vector_dot_product_pointer16(const float *p1, const float *p2, size_t size)\n",
        "# {\n",
        "#     float sum = 0;\n",
        "#     size_t i = 0;\n",
        "#     if (size >= BYN) {\n",
        "#         size_t size_ = size - BYN;\n",
        "#         for(; i < size_; i += BYN, p1 += BYN, p2 += BYN)\n",
        "#             sum += vector_dot_product_pointer16(p1, p2);\n",
        "#     }\n",
        "#     for(; i < size; ++p1, ++p2, ++i)\n",
        "#         sum += *p1 * *p2;\n",
        "#     return sum;\n",
        "# }\n",
        "# \n",
        "# float vector_dot_product16(py::array_t<float> v1, py::array_t<float> v2)\n",
        "# {\n",
        "#     if (v1.ndim() != v2.ndim())\n",
        "#         throw std::runtime_error(\"Vector v1 and v2 must have the same dimension.\");\n",
        "#     if (v1.ndim() != 1)\n",
        "#         throw std::runtime_error(\"Vector v1 and v2 must be vectors.\");\n",
        "#     return vector_dot_product_pointer16(v1.data(0), v2.data(0), v1.shape(0));\n",
        "# }"
      ]
    },
    {
      "cell_type": "code",
      "execution_count": 29,
      "metadata": {},
      "outputs": [
        {
          "data": {
            "text/plain": [
              "3333331.75"
            ]
          },
          "execution_count": 30,
          "metadata": {},
          "output_type": "execute_result"
        }
      ],
      "source": [
        "from cpyquickhelper.numbers.cbenchmark_dot import vector_dot_product16\n",
        "vector_dot_product16(vect, vect)"
      ]
    },
    {
      "cell_type": "code",
      "execution_count": 30,
      "metadata": {},
      "outputs": [
        {
          "data": {
            "text/plain": [
              "{'average': 0.3249879705000126,\n",
              " 'deviation': 0.02298626004011859,\n",
              " 'min_exec': 0.3086359569999786,\n",
              " 'max_exec': 0.3783302670000239,\n",
              " 'repeat': 10,\n",
              " 'number': 50,\n",
              " 'size': 10000000}"
            ]
          },
          "execution_count": 31,
          "metadata": {},
          "output_type": "execute_result"
        }
      ],
      "source": [
        "def c11_dot16(vect):\n",
        "    return vector_dot_product16(vect, vect)\n",
        "\n",
        "measure_time(\"c11_dot16(values)\", context=dict(c11_dot16=c11_dot16, values=vect), repeat=10)"
      ]
    },
    {
      "cell_type": "code",
      "execution_count": 31,
      "metadata": {},
      "outputs": [
        {
          "data": {
            "text/html": [
              "<div>\n",
              "<style scoped>\n",
              "    .dataframe tbody tr th:only-of-type {\n",
              "        vertical-align: middle;\n",
              "    }\n",
              "\n",
              "    .dataframe tbody tr th {\n",
              "        vertical-align: top;\n",
              "    }\n",
              "\n",
              "    .dataframe thead th {\n",
              "        text-align: right;\n",
              "    }\n",
              "</style>\n",
              "<table border=\"1\" class=\"dataframe\">\n",
              "  <thead>\n",
              "    <tr style=\"text-align: right;\">\n",
              "      <th></th>\n",
              "      <th>average</th>\n",
              "      <th>deviation</th>\n",
              "      <th>max_exec</th>\n",
              "      <th>min_exec</th>\n",
              "      <th>number</th>\n",
              "      <th>repeat</th>\n",
              "      <th>size</th>\n",
              "    </tr>\n",
              "  </thead>\n",
              "  <tbody>\n",
              "    <tr>\n",
              "      <th>75</th>\n",
              "      <td>0.005494</td>\n",
              "      <td>0.000173</td>\n",
              "      <td>0.005939</td>\n",
              "      <td>0.005330</td>\n",
              "      <td>50</td>\n",
              "      <td>10</td>\n",
              "      <td>187510</td>\n",
              "    </tr>\n",
              "    <tr>\n",
              "      <th>76</th>\n",
              "      <td>0.005479</td>\n",
              "      <td>0.000109</td>\n",
              "      <td>0.005678</td>\n",
              "      <td>0.005403</td>\n",
              "      <td>50</td>\n",
              "      <td>10</td>\n",
              "      <td>190010</td>\n",
              "    </tr>\n",
              "    <tr>\n",
              "      <th>77</th>\n",
              "      <td>0.005757</td>\n",
              "      <td>0.000220</td>\n",
              "      <td>0.006221</td>\n",
              "      <td>0.005477</td>\n",
              "      <td>50</td>\n",
              "      <td>10</td>\n",
              "      <td>192510</td>\n",
              "    </tr>\n",
              "    <tr>\n",
              "      <th>78</th>\n",
              "      <td>0.006239</td>\n",
              "      <td>0.000625</td>\n",
              "      <td>0.007619</td>\n",
              "      <td>0.005541</td>\n",
              "      <td>50</td>\n",
              "      <td>10</td>\n",
              "      <td>195010</td>\n",
              "    </tr>\n",
              "    <tr>\n",
              "      <th>79</th>\n",
              "      <td>0.007218</td>\n",
              "      <td>0.001312</td>\n",
              "      <td>0.010175</td>\n",
              "      <td>0.005873</td>\n",
              "      <td>50</td>\n",
              "      <td>10</td>\n",
              "      <td>197510</td>\n",
              "    </tr>\n",
              "  </tbody>\n",
              "</table>\n",
              "</div>"
            ],
            "text/plain": [
              "     average  deviation  max_exec  min_exec  number  repeat    size\n",
              "75  0.005494   0.000173  0.005939  0.005330      50      10  187510\n",
              "76  0.005479   0.000109  0.005678  0.005403      50      10  190010\n",
              "77  0.005757   0.000220  0.006221  0.005477      50      10  192510\n",
              "78  0.006239   0.000625  0.007619  0.005541      50      10  195010\n",
              "79  0.007218   0.001312  0.010175  0.005873      50      10  197510"
            ]
          },
          "execution_count": 32,
          "metadata": {},
          "output_type": "execute_result"
        }
      ],
      "source": [
        "res = []\n",
        "for i in range(10, 200000, 2500):\n",
        "    t = measure_time(\"c11_dot16(values)\", repeat=10,\n",
        "                     context=dict(c11_dot16=c11_dot16, values=vect[:i].copy()))\n",
        "    res.append(t)\n",
        "\n",
        "cus_dot16 = pandas.DataFrame(res)\n",
        "cus_dot16.tail()"
      ]
    },
    {
      "cell_type": "code",
      "execution_count": 32,
      "metadata": {},
      "outputs": [
        {
          "data": {
            "image/png": "[encoded data removed]",
            "text/plain": [
              "<Figure size 1008x288 with 2 Axes>"
            ]
          },
          "metadata": {
            "needs_background": "light"
          },
          "output_type": "display_data"
        }
      ],
      "source": [
        "fig, ax = plt.subplots(1, 2, figsize=(14,4))\n",
        "dot.plot(x='size', y=\"average\", ax=ax[0], label=\"numpy\")\n",
        "cus_dot.plot(x='size', y=\"average\", ax=ax[0], label=\"pybind11\")\n",
        "cus_dot16.plot(x='size', y=\"average\", ax=ax[0], label=\"pybind11x16\")\n",
        "dot.plot(x='size', y=\"average\", ax=ax[1], label=\"numpy\", logy=True)\n",
        "cus_dot.plot(x='size', y=\"average\", ax=ax[1], label=\"pybind11\")\n",
        "cus_dot16.plot(x='size', y=\"average\", ax=ax[1], label=\"pybind11x16\")\n",
        "ax[0].set_title(\"numpy and custom dot product execution time\");\n",
        "ax[1].set_title(\"numpy and custom dot product execution time\");"
      ]
    },
    {
      "cell_type": "markdown",
      "metadata": {},
      "source": [
        "We are far from *numpy* but the branching has clearly a huge impact and the fact the loop condition is evaluated only every 16 iterations does not explain this gain. Next experiment with [SSE](https://fr.wikipedia.org/wiki/Streaming_SIMD_Extensions) instructions."
      ]
    },
    {
      "cell_type": "markdown",
      "metadata": {},
      "source": [
        "### Optimized to remove function call\n",
        "\n",
        "We remove the function call to get the following version."
      ]
    },
    {
      "cell_type": "code",
      "execution_count": 33,
      "metadata": {},
      "outputs": [],
      "source": [
        "# float vector_dot_product_pointer16_nofcall(const float *p1, const float *p2, size_t size)\n",
        "# {\n",
        "#     float sum = 0;    \n",
        "#     const float * end = p1 + size;\n",
        "#     if (size >= BYN) {\n",
        "#         #if(BYN != 16)\n",
        "#             #error \"BYN must be equal to 16\";\n",
        "#         #endif\n",
        "#         unsigned int size_ = (unsigned int) size;\n",
        "#         size_ = size_ >> 4;  // division by 16=2^4\n",
        "#         size_ = size_ << 4;  // multiplication by 16=2^4\n",
        "#         const float * end_ = p1 + size_;\n",
        "#         for(; p1 != end_;)\n",
        "#         {\n",
        "#             sum += *p1 * *p2; ++p1, ++p2;\n",
        "#             sum += *p1 * *p2; ++p1, ++p2;\n",
        "#             sum += *p1 * *p2; ++p1, ++p2;\n",
        "#             sum += *p1 * *p2; ++p1, ++p2;\n",
        "#             \n",
        "#             sum += *p1 * *p2; ++p1, ++p2;\n",
        "#             sum += *p1 * *p2; ++p1, ++p2;\n",
        "#             sum += *p1 * *p2; ++p1, ++p2;\n",
        "#             sum += *p1 * *p2; ++p1, ++p2;\n",
        "# \n",
        "#             sum += *p1 * *p2; ++p1, ++p2;\n",
        "#             sum += *p1 * *p2; ++p1, ++p2;\n",
        "#             sum += *p1 * *p2; ++p1, ++p2;\n",
        "#             sum += *p1 * *p2; ++p1, ++p2;\n",
        "#             \n",
        "#             sum += *p1 * *p2; ++p1, ++p2;\n",
        "#             sum += *p1 * *p2; ++p1, ++p2;\n",
        "#             sum += *p1 * *p2; ++p1, ++p2;\n",
        "#             sum += *p1 * *p2; ++p1, ++p2;\n",
        "#         }\n",
        "#     }\n",
        "#     for(; p1 != end; ++p1, ++p2)\n",
        "#         sum += *p1 * *p2;\n",
        "#     return sum;\n",
        "# }\n",
        "# \n",
        "# float vector_dot_product16_nofcall(py::array_t<float> v1, py::array_t<float> v2)\n",
        "# {\n",
        "#     if (v1.ndim() != v2.ndim())\n",
        "#         throw std::runtime_error(\"Vector v1 and v2 must have the same dimension.\");\n",
        "#     if (v1.ndim() != 1)\n",
        "#         throw std::runtime_error(\"Vector v1 and v2 must be vectors.\");\n",
        "#     return vector_dot_product_pointer16_nofcall(v1.data(0), v2.data(0), v1.shape(0));\n",
        "# }"
      ]
    },
    {
      "cell_type": "code",
      "execution_count": 34,
      "metadata": {},
      "outputs": [
        {
          "data": {
            "text/plain": [
              "3334629.0"
            ]
          },
          "execution_count": 35,
          "metadata": {},
          "output_type": "execute_result"
        }
      ],
      "source": [
        "from cpyquickhelper.numbers.cbenchmark_dot import vector_dot_product16_nofcall\n",
        "vector_dot_product16_nofcall(vect, vect)"
      ]
    },
    {
      "cell_type": "code",
      "execution_count": 35,
      "metadata": {},
      "outputs": [
        {
          "data": {
            "text/plain": [
              "{'average': 0.706979583799989,\n",
              " 'deviation': 0.01947396555851374,\n",
              " 'min_exec': 0.6781796689999737,\n",
              " 'max_exec': 0.739977101999898,\n",
              " 'repeat': 10,\n",
              " 'number': 50,\n",
              " 'size': 10000000}"
            ]
          },
          "execution_count": 36,
          "metadata": {},
          "output_type": "execute_result"
        }
      ],
      "source": [
        "def c11_dot16_nofcall(vect):\n",
        "    return vector_dot_product16_nofcall(vect, vect)\n",
        "\n",
        "measure_time(\"c11_dot16_nofcall(values)\",\n",
        "             context=dict(c11_dot16_nofcall=c11_dot16_nofcall, values=vect), repeat=10)"
      ]
    },
    {
      "cell_type": "code",
      "execution_count": 36,
      "metadata": {},
      "outputs": [
        {
          "data": {
            "text/html": [
              "<div>\n",
              "<style scoped>\n",
              "    .dataframe tbody tr th:only-of-type {\n",
              "        vertical-align: middle;\n",
              "    }\n",
              "\n",
              "    .dataframe tbody tr th {\n",
              "        vertical-align: top;\n",
              "    }\n",
              "\n",
              "    .dataframe thead th {\n",
              "        text-align: right;\n",
              "    }\n",
              "</style>\n",
              "<table border=\"1\" class=\"dataframe\">\n",
              "  <thead>\n",
              "    <tr style=\"text-align: right;\">\n",
              "      <th></th>\n",
              "      <th>average</th>\n",
              "      <th>deviation</th>\n",
              "      <th>max_exec</th>\n",
              "      <th>min_exec</th>\n",
              "      <th>number</th>\n",
              "      <th>repeat</th>\n",
              "      <th>size</th>\n",
              "    </tr>\n",
              "  </thead>\n",
              "  <tbody>\n",
              "    <tr>\n",
              "      <th>75</th>\n",
              "      <td>0.012379</td>\n",
              "      <td>0.000164</td>\n",
              "      <td>0.012792</td>\n",
              "      <td>0.012219</td>\n",
              "      <td>50</td>\n",
              "      <td>10</td>\n",
              "      <td>187510</td>\n",
              "    </tr>\n",
              "    <tr>\n",
              "      <th>76</th>\n",
              "      <td>0.012468</td>\n",
              "      <td>0.000046</td>\n",
              "      <td>0.012537</td>\n",
              "      <td>0.012383</td>\n",
              "      <td>50</td>\n",
              "      <td>10</td>\n",
              "      <td>190010</td>\n",
              "    </tr>\n",
              "    <tr>\n",
              "      <th>77</th>\n",
              "      <td>0.012738</td>\n",
              "      <td>0.000161</td>\n",
              "      <td>0.013196</td>\n",
              "      <td>0.012629</td>\n",
              "      <td>50</td>\n",
              "      <td>10</td>\n",
              "      <td>192510</td>\n",
              "    </tr>\n",
              "    <tr>\n",
              "      <th>78</th>\n",
              "      <td>0.013003</td>\n",
              "      <td>0.000181</td>\n",
              "      <td>0.013258</td>\n",
              "      <td>0.012774</td>\n",
              "      <td>50</td>\n",
              "      <td>10</td>\n",
              "      <td>195010</td>\n",
              "    </tr>\n",
              "    <tr>\n",
              "      <th>79</th>\n",
              "      <td>0.013135</td>\n",
              "      <td>0.000144</td>\n",
              "      <td>0.013410</td>\n",
              "      <td>0.012868</td>\n",
              "      <td>50</td>\n",
              "      <td>10</td>\n",
              "      <td>197510</td>\n",
              "    </tr>\n",
              "  </tbody>\n",
              "</table>\n",
              "</div>"
            ],
            "text/plain": [
              "     average  deviation  max_exec  min_exec  number  repeat    size\n",
              "75  0.012379   0.000164  0.012792  0.012219      50      10  187510\n",
              "76  0.012468   0.000046  0.012537  0.012383      50      10  190010\n",
              "77  0.012738   0.000161  0.013196  0.012629      50      10  192510\n",
              "78  0.013003   0.000181  0.013258  0.012774      50      10  195010\n",
              "79  0.013135   0.000144  0.013410  0.012868      50      10  197510"
            ]
          },
          "execution_count": 37,
          "metadata": {},
          "output_type": "execute_result"
        }
      ],
      "source": [
        "res = []\n",
        "for i in range(10, 200000, 2500):\n",
        "    t = measure_time(\"c11_dot16_nofcall(values)\", repeat=10,\n",
        "                     context=dict(c11_dot16_nofcall=c11_dot16_nofcall, values=vect[:i].copy()))\n",
        "    res.append(t)\n",
        "\n",
        "cus_dot16_nofcall = pandas.DataFrame(res)\n",
        "cus_dot16_nofcall.tail()"
      ]
    },
    {
      "cell_type": "code",
      "execution_count": 37,
      "metadata": {},
      "outputs": [
        {
          "data": {
            "image/png": "[encoded data removed]",
            "text/plain": [
              "<Figure size 1008x288 with 2 Axes>"
            ]
          },
          "metadata": {
            "needs_background": "light"
          },
          "output_type": "display_data"
        }
      ],
      "source": [
        "fig, ax = plt.subplots(1, 2, figsize=(14,4))\n",
        "dot.plot(x='size', y=\"average\", ax=ax[0], label=\"numpy\")\n",
        "cus_dot.plot(x='size', y=\"average\", ax=ax[0], label=\"pybind11\")\n",
        "cus_dot16.plot(x='size', y=\"average\", ax=ax[0], label=\"pybind11x16\")\n",
        "cus_dot16_nofcall.plot(x='size', y=\"average\", ax=ax[0], label=\"pybind11x16_nofcall\")\n",
        "dot.plot(x='size', y=\"average\", ax=ax[1], label=\"numpy\", logy=True)\n",
        "cus_dot.plot(x='size', y=\"average\", ax=ax[1], label=\"pybind11\")\n",
        "cus_dot16.plot(x='size', y=\"average\", ax=ax[1], label=\"pybind11x16\")\n",
        "cus_dot16_nofcall.plot(x='size', y=\"average\", ax=ax[1], label=\"pybind11x16_nofcall\")\n",
        "ax[0].set_title(\"numpy and custom dot product execution time\");\n",
        "ax[1].set_title(\"numpy and custom dot product execution time\");"
      ]
    },
    {
      "cell_type": "markdown",
      "metadata": {},
      "source": [
        "Weird, branching did not happen when the code is not inside a separate function."
      ]
    },
    {
      "cell_type": "markdown",
      "metadata": {},
      "source": [
        "### SSE instructions\n",
        "\n",
        "We replace one function in the previous implementation."
      ]
    },
    {
      "cell_type": "code",
      "execution_count": 38,
      "metadata": {},
      "outputs": [],
      "source": [
        "# #include <xmmintrin.h>\n",
        "# \n",
        "# float vector_dot_product_pointer16_sse(const float *p1, const float *p2)\n",
        "# {\n",
        "#     __m128 c1 = _mm_load_ps(p1);\n",
        "#     __m128 c2 = _mm_load_ps(p2);\n",
        "#     __m128 r1 = _mm_mul_ps(c1, c2);\n",
        "#     \n",
        "#     p1 += 4;\n",
        "#     p2 += 4;\n",
        "#     \n",
        "#     c1 = _mm_load_ps(p1);\n",
        "#     c2 = _mm_load_ps(p2);\n",
        "#     r1 = _mm_add_ps(r1, _mm_mul_ps(c1, c2));\n",
        "#     \n",
        "#     p1 += 4;\n",
        "#     p2 += 4;\n",
        "#     \n",
        "#     c1 = _mm_load_ps(p1);\n",
        "#     c2 = _mm_load_ps(p2);\n",
        "#     r1 = _mm_add_ps(r1, _mm_mul_ps(c1, c2));\n",
        "#     \n",
        "#     p1 += 4;\n",
        "#     p2 += 4;\n",
        "#     \n",
        "#     c1 = _mm_load_ps(p1);\n",
        "#     c2 = _mm_load_ps(p2);\n",
        "#     r1 = _mm_add_ps(r1, _mm_mul_ps(c1, c2));\n",
        "# \n",
        "#     float r[4];\n",
        "#     _mm_store_ps(r, r1);\n",
        "# \n",
        "#     return r[0] + r[1] + r[2] + r[3];\n",
        "# }"
      ]
    },
    {
      "cell_type": "code",
      "execution_count": 39,
      "metadata": {},
      "outputs": [
        {
          "data": {
            "text/plain": [
              "3333332.0"
            ]
          },
          "execution_count": 40,
          "metadata": {},
          "output_type": "execute_result"
        }
      ],
      "source": [
        "from cpyquickhelper.numbers.cbenchmark_dot import vector_dot_product16_sse\n",
        "vector_dot_product16_sse(vect, vect)"
      ]
    },
    {
      "cell_type": "code",
      "execution_count": 40,
      "metadata": {},
      "outputs": [
        {
          "data": {
            "text/plain": [
              "{'average': 0.13832661599998347,\n",
              " 'deviation': 0.005508551608453958,\n",
              " 'min_exec': 0.13362507299996196,\n",
              " 'max_exec': 0.15111008199994558,\n",
              " 'repeat': 10,\n",
              " 'number': 50,\n",
              " 'size': 10000000}"
            ]
          },
          "execution_count": 41,
          "metadata": {},
          "output_type": "execute_result"
        }
      ],
      "source": [
        "def c11_dot16_sse(vect):\n",
        "    return vector_dot_product16_sse(vect, vect)\n",
        "\n",
        "measure_time(\"c11_dot16_sse(values)\", context=dict(c11_dot16_sse=c11_dot16_sse, values=vect), repeat=10)"
      ]
    },
    {
      "cell_type": "code",
      "execution_count": 41,
      "metadata": {},
      "outputs": [
        {
          "data": {
            "text/html": [
              "<div>\n",
              "<style scoped>\n",
              "    .dataframe tbody tr th:only-of-type {\n",
              "        vertical-align: middle;\n",
              "    }\n",
              "\n",
              "    .dataframe tbody tr th {\n",
              "        vertical-align: top;\n",
              "    }\n",
              "\n",
              "    .dataframe thead th {\n",
              "        text-align: right;\n",
              "    }\n",
              "</style>\n",
              "<table border=\"1\" class=\"dataframe\">\n",
              "  <thead>\n",
              "    <tr style=\"text-align: right;\">\n",
              "      <th></th>\n",
              "      <th>average</th>\n",
              "      <th>deviation</th>\n",
              "      <th>max_exec</th>\n",
              "      <th>min_exec</th>\n",
              "      <th>number</th>\n",
              "      <th>repeat</th>\n",
              "      <th>size</th>\n",
              "    </tr>\n",
              "  </thead>\n",
              "  <tbody>\n",
              "    <tr>\n",
              "      <th>75</th>\n",
              "      <td>0.001797</td>\n",
              "      <td>0.000045</td>\n",
              "      <td>0.001909</td>\n",
              "      <td>0.001765</td>\n",
              "      <td>50</td>\n",
              "      <td>10</td>\n",
              "      <td>187510</td>\n",
              "    </tr>\n",
              "    <tr>\n",
              "      <th>76</th>\n",
              "      <td>0.001828</td>\n",
              "      <td>0.000077</td>\n",
              "      <td>0.002052</td>\n",
              "      <td>0.001787</td>\n",
              "      <td>50</td>\n",
              "      <td>10</td>\n",
              "      <td>190010</td>\n",
              "    </tr>\n",
              "    <tr>\n",
              "      <th>77</th>\n",
              "      <td>0.001853</td>\n",
              "      <td>0.000069</td>\n",
              "      <td>0.002050</td>\n",
              "      <td>0.001810</td>\n",
              "      <td>50</td>\n",
              "      <td>10</td>\n",
              "      <td>192510</td>\n",
              "    </tr>\n",
              "    <tr>\n",
              "      <th>78</th>\n",
              "      <td>0.001850</td>\n",
              "      <td>0.000032</td>\n",
              "      <td>0.001932</td>\n",
              "      <td>0.001830</td>\n",
              "      <td>50</td>\n",
              "      <td>10</td>\n",
              "      <td>195010</td>\n",
              "    </tr>\n",
              "    <tr>\n",
              "      <th>79</th>\n",
              "      <td>0.001893</td>\n",
              "      <td>0.000104</td>\n",
              "      <td>0.002193</td>\n",
              "      <td>0.001820</td>\n",
              "      <td>50</td>\n",
              "      <td>10</td>\n",
              "      <td>197510</td>\n",
              "    </tr>\n",
              "  </tbody>\n",
              "</table>\n",
              "</div>"
            ],
            "text/plain": [
              "     average  deviation  max_exec  min_exec  number  repeat    size\n",
              "75  0.001797   0.000045  0.001909  0.001765      50      10  187510\n",
              "76  0.001828   0.000077  0.002052  0.001787      50      10  190010\n",
              "77  0.001853   0.000069  0.002050  0.001810      50      10  192510\n",
              "78  0.001850   0.000032  0.001932  0.001830      50      10  195010\n",
              "79  0.001893   0.000104  0.002193  0.001820      50      10  197510"
            ]
          },
          "execution_count": 42,
          "metadata": {},
          "output_type": "execute_result"
        }
      ],
      "source": [
        "res = []\n",
        "for i in range(10, 200000, 2500):\n",
        "    t = measure_time(\"c11_dot16_sse(values)\", repeat=10,\n",
        "                     context=dict(c11_dot16_sse=c11_dot16_sse, values=vect[:i].copy()))\n",
        "    res.append(t)\n",
        "\n",
        "cus_dot16_sse = pandas.DataFrame(res)\n",
        "cus_dot16_sse.tail()"
      ]
    },
    {
      "cell_type": "code",
      "execution_count": 42,
      "metadata": {},
      "outputs": [
        {
          "data": {
            "image/png": "[encoded data removed]",
            "text/plain": [
              "<Figure size 1008x288 with 2 Axes>"
            ]
          },
          "metadata": {
            "needs_background": "light"
          },
          "output_type": "display_data"
        }
      ],
      "source": [
        "fig, ax = plt.subplots(1, 2, figsize=(14,4))\n",
        "dot.plot(x='size', y=\"average\", ax=ax[0], label=\"numpy\")\n",
        "cus_dot16_sse.plot(x='size', y=\"average\", ax=ax[0], label=\"pybind11x16_sse\")\n",
        "dot.plot(x='size', y=\"average\", ax=ax[1], label=\"numpy\", logy=True)\n",
        "cus_dot16_sse.plot(x='size', y=\"average\", ax=ax[1], label=\"pybind11x16_sse\")\n",
        "cus_dot.plot(x='size', y=\"average\", ax=ax[1], label=\"pybind11\")\n",
        "cus_dot16.plot(x='size', y=\"average\", ax=ax[1], label=\"pybind11x16\")\n",
        "ax[0].set_title(\"numpy and custom dot product execution time\");\n",
        "ax[1].set_title(\"numpy and custom dot product execution time\");"
      ]
    },
    {
      "cell_type": "markdown",
      "metadata": {},
      "source": [
        "Better even though it is still slower than *numpy*. It is closer. Maybe the compilation option are not optimized, *numpy* was also compiled with the Intel compiler. To be accurate, multi-threading must be disabled on *numpy* side. That's the purpose of the first two lines."
      ]
    },
    {
      "cell_type": "markdown",
      "metadata": {},
      "source": [
        "### AVX 512\n",
        "\n",
        "Last experiment with [AVX 512](https://fr.wikipedia.org/wiki/Advanced_Vector_Extensions) instructions but it does not work on all processor. I could not test it on my laptop as these instructions do not seem to be available. More can be found on wikipedia [CPUs with AVX-512](https://en.wikipedia.org/wiki/AVX-512#CPUs_with_AVX-512)."
      ]
    },
    {
      "cell_type": "code",
      "execution_count": 43,
      "metadata": {},
      "outputs": [
        {
          "data": {
            "text/plain": [
              "'Intel64 Family 6 Model 78 Stepping 3, GenuineIntel'"
            ]
          },
          "execution_count": 44,
          "metadata": {},
          "output_type": "execute_result"
        }
      ],
      "source": [
        "import platform\n",
        "platform.processor()"
      ]
    },
    {
      "cell_type": "code",
      "execution_count": 44,
      "metadata": {},
      "outputs": [],
      "source": [
        "import numpy\n",
        "values = numpy.array(list(range(10000000)), dtype=numpy.float32)\n",
        "vect = values / numpy.max(values)"
      ]
    },
    {
      "cell_type": "code",
      "execution_count": 45,
      "metadata": {},
      "outputs": [
        {
          "data": {
            "text/plain": [
              "3333332.0"
            ]
          },
          "execution_count": 46,
          "metadata": {},
          "output_type": "execute_result"
        }
      ],
      "source": [
        "from cpyquickhelper.numbers.cbenchmark_dot import vector_dot_product16_avx512\n",
        "vector_dot_product16_avx512(vect, vect)"
      ]
    },
    {
      "cell_type": "code",
      "execution_count": 46,
      "metadata": {},
      "outputs": [
        {
          "data": {
            "text/plain": [
              "{'average': 0.13641321650001145,\n",
              " 'deviation': 0.004238254352516503,\n",
              " 'min_exec': 0.13372699900003227,\n",
              " 'max_exec': 0.1486140870000554,\n",
              " 'repeat': 10,\n",
              " 'number': 50,\n",
              " 'size': 10000000}"
            ]
          },
          "execution_count": 47,
          "metadata": {},
          "output_type": "execute_result"
        }
      ],
      "source": [
        "def c11_dot16_avx512(vect):\n",
        "    return vector_dot_product16_avx512(vect, vect)\n",
        "\n",
        "measure_time(\"c11_dot16_avx512(values)\",\n",
        "             context=dict(c11_dot16_avx512=c11_dot16_avx512, values=vect), repeat=10)"
      ]
    },
    {
      "cell_type": "code",
      "execution_count": 47,
      "metadata": {},
      "outputs": [
        {
          "data": {
            "text/html": [
              "<div>\n",
              "<style scoped>\n",
              "    .dataframe tbody tr th:only-of-type {\n",
              "        vertical-align: middle;\n",
              "    }\n",
              "\n",
              "    .dataframe tbody tr th {\n",
              "        vertical-align: top;\n",
              "    }\n",
              "\n",
              "    .dataframe thead th {\n",
              "        text-align: right;\n",
              "    }\n",
              "</style>\n",
              "<table border=\"1\" class=\"dataframe\">\n",
              "  <thead>\n",
              "    <tr style=\"text-align: right;\">\n",
              "      <th></th>\n",
              "      <th>average</th>\n",
              "      <th>deviation</th>\n",
              "      <th>max_exec</th>\n",
              "      <th>min_exec</th>\n",
              "      <th>number</th>\n",
              "      <th>repeat</th>\n",
              "      <th>size</th>\n",
              "    </tr>\n",
              "  </thead>\n",
              "  <tbody>\n",
              "    <tr>\n",
              "      <th>75</th>\n",
              "      <td>0.001837</td>\n",
              "      <td>0.000029</td>\n",
              "      <td>0.001903</td>\n",
              "      <td>0.001812</td>\n",
              "      <td>50</td>\n",
              "      <td>10</td>\n",
              "      <td>187510</td>\n",
              "    </tr>\n",
              "    <tr>\n",
              "      <th>76</th>\n",
              "      <td>0.001858</td>\n",
              "      <td>0.000024</td>\n",
              "      <td>0.001893</td>\n",
              "      <td>0.001838</td>\n",
              "      <td>50</td>\n",
              "      <td>10</td>\n",
              "      <td>190010</td>\n",
              "    </tr>\n",
              "    <tr>\n",
              "      <th>77</th>\n",
              "      <td>0.001886</td>\n",
              "      <td>0.000035</td>\n",
              "      <td>0.001973</td>\n",
              "      <td>0.001861</td>\n",
              "      <td>50</td>\n",
              "      <td>10</td>\n",
              "      <td>192510</td>\n",
              "    </tr>\n",
              "    <tr>\n",
              "      <th>78</th>\n",
              "      <td>0.001908</td>\n",
              "      <td>0.000041</td>\n",
              "      <td>0.002017</td>\n",
              "      <td>0.001882</td>\n",
              "      <td>50</td>\n",
              "      <td>10</td>\n",
              "      <td>195010</td>\n",
              "    </tr>\n",
              "    <tr>\n",
              "      <th>79</th>\n",
              "      <td>0.001941</td>\n",
              "      <td>0.000059</td>\n",
              "      <td>0.002108</td>\n",
              "      <td>0.001907</td>\n",
              "      <td>50</td>\n",
              "      <td>10</td>\n",
              "      <td>197510</td>\n",
              "    </tr>\n",
              "  </tbody>\n",
              "</table>\n",
              "</div>"
            ],
            "text/plain": [
              "     average  deviation  max_exec  min_exec  number  repeat    size\n",
              "75  0.001837   0.000029  0.001903  0.001812      50      10  187510\n",
              "76  0.001858   0.000024  0.001893  0.001838      50      10  190010\n",
              "77  0.001886   0.000035  0.001973  0.001861      50      10  192510\n",
              "78  0.001908   0.000041  0.002017  0.001882      50      10  195010\n",
              "79  0.001941   0.000059  0.002108  0.001907      50      10  197510"
            ]
          },
          "execution_count": 48,
          "metadata": {},
          "output_type": "execute_result"
        }
      ],
      "source": [
        "res = []\n",
        "for i in range(10, 200000, 2500):\n",
        "    t = measure_time(\"c11_dot16_avx512(values)\", repeat=10,\n",
        "                     context=dict(c11_dot16_avx512=c11_dot16_avx512, values=vect[:i].copy()))\n",
        "    res.append(t)\n",
        "\n",
        "cus_dot16_avx512 = pandas.DataFrame(res)\n",
        "cus_dot16_avx512.tail()"
      ]
    },
    {
      "cell_type": "code",
      "execution_count": 48,
      "metadata": {},
      "outputs": [
        {
          "data": {
            "image/png": "[encoded data removed]",
            "text/plain": [
              "<Figure size 1008x288 with 2 Axes>"
            ]
          },
          "metadata": {
            "needs_background": "light"
          },
          "output_type": "display_data"
        }
      ],
      "source": [
        "fig, ax = plt.subplots(1, 2, figsize=(14,4))\n",
        "dot.plot(x='size', y=\"average\", ax=ax[0], label=\"numpy\")\n",
        "cus_dot16.plot(x='size', y=\"average\", ax=ax[0], label=\"pybind11x16\")\n",
        "cus_dot16_sse.plot(x='size', y=\"average\", ax=ax[0], label=\"pybind11x16_sse\")\n",
        "cus_dot16_avx512.plot(x='size', y=\"average\", ax=ax[0], label=\"pybind11x16_avx512\")\n",
        "dot.plot(x='size', y=\"average\", ax=ax[1], label=\"numpy\", logy=True)\n",
        "cus_dot16.plot(x='size', y=\"average\", ax=ax[1], label=\"pybind11x16\")\n",
        "cus_dot16_sse.plot(x='size', y=\"average\", ax=ax[1], label=\"pybind11x16_sse\")\n",
        "cus_dot16_avx512.plot(x='size', y=\"average\", ax=ax[1], label=\"pybind11x16_avx512\")\n",
        "cus_dot.plot(x='size', y=\"average\", ax=ax[1], label=\"pybind11\")\n",
        "ax[0].set_title(\"numpy and custom dot product execution time\");\n",
        "ax[1].set_title(\"numpy and custom dot product execution time\");"
      ]
    },
    {
      "cell_type": "markdown",
      "metadata": {},
      "source": [
        "If the time is the same, it means that options AVX512 are not available."
      ]
    },
    {
      "cell_type": "code",
      "execution_count": 49,
      "metadata": {},
      "outputs": [
        {
          "data": {
            "text/plain": [
              "'Available options:  __SSE__ __SSE2__ __SSE3__ __SSE4_1__'"
            ]
          },
          "execution_count": 50,
          "metadata": {},
          "output_type": "execute_result"
        }
      ],
      "source": [
        "from cpyquickhelper.numbers.cbenchmark import get_simd_available_option\n",
        "get_simd_available_option()"
      ]
    },
    {
      "cell_type": "markdown",
      "metadata": {},
      "source": [
        "### Back to numpy\n",
        "\n",
        "This article [Why is matrix multiplication faster with numpy than with ctypes in Python?](https://stackoverflow.com/questions/10442365/why-is-matrix-multiplication-faster-with-numpy-than-with-ctypes-in-python) gives some kints on why *numpy* is still faster. By looking at the code of the dot product in *numpy*: [arraytypes.c.src](https://github.com/numpy/numpy/blob/master/numpy/core/src/multiarray/arraytypes.c.src), it seems that *numpy* does a simple dot product without using branching or uses the library [BLAS](http://www.netlib.org/blas/) which is the case in this benchmark (code for dot product: [sdot.c](http://www.netlib.org/clapack/cblas/sdot.c)). And it does use *branching*. See also function [blas_stride](https://github.com/numpy/numpy/blob/master/numpy/core/src/multiarray/common.h#L298). These libraries then play with [compilation options](https://gcc.gnu.org/onlinedocs/gcc/Optimize-Options.html) and optimize for speed. This benchmark does not look into [cython-blis](https://github.com/explosion/cython-blis) which implements some [BLAS](http://www.netlib.org/blas/) functions with an assembly language and has different implementations depending on the platform it is used."
      ]
    },
    {
      "cell_type": "code",
      "execution_count": 50,
      "metadata": {},
      "outputs": [],
      "source": []
    }
  ],
  "metadata": {
    "kernelspec": {
      "display_name": "Python 3",
      "language": "python",
      "name": "python3"
    },
    "language_info": {
      "codemirror_mode": {
        "name": "ipython",
        "version": 3
      },
      "file_extension": ".py",
      "mimetype": "text/x-python",
      "name": "python",
      "nbconvert_exporter": "python",
      "pygments_lexer": "ipython3",
      "version": "3.7.2"
    }
  },
  "nbformat": 4,
  "nbformat_minor": 2
}