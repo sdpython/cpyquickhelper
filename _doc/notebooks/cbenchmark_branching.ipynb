{
  "cells": [
    {
      "cell_type": "markdown",
      "metadata": {},
      "source": [
        "# Measures branching in C++ from python\n",
        "\n",
        "This notebooks looks into a couple of ways to write code, which one is efficient, which one is not when it comes to write fast and short loops. Both experiments are around [branching](https://en.wikipedia.org/wiki/Branch_predictor)."
      ]
    },
    {
      "cell_type": "code",
      "execution_count": 1,
      "metadata": {},
      "outputs": [
        {
          "data": {
            "text/html": [
              "<div id=\"my_id_menu_nb\">run previous cell, wait for 2 seconds</div>\n",
              "<script>\n",
              "function repeat_indent_string(n){\n",
              "    var a = \"\" ;\n",
              "    for ( ; n > 0 ; --n)\n",
              "        a += \"    \";\n",
              "    return a;\n",
              "}\n",
              "// look up into all sections and builds an automated menu //\n",
              "var update_menu_string = function(begin, lfirst, llast, sformat, send, keep_item, begin_format, end_format) {\n",
              "    var anchors = document.getElementsByClassName(\"section\");\n",
              "    if (anchors.length == 0) {\n",
              "        anchors = document.getElementsByClassName(\"text_cell_render rendered_html\");\n",
              "    }\n",
              "    var i,t;\n",
              "    var text_menu = begin;\n",
              "    var text_memo = \"<pre>\\nlength:\" + anchors.length + \"\\n\";\n",
              "    var ind = \"\";\n",
              "    var memo_level = 1;\n",
              "    var href;\n",
              "    var tags = [];\n",
              "    var main_item = 0;\n",
              "    var format_open = 0;\n",
              "    for (i = 0; i <= llast; i++)\n",
              "        tags.push(\"h\" + i);\n",
              "\n",
              "    for (i = 0; i < anchors.length; i++) {\n",
              "        text_memo += \"**\" + anchors[i].id + \"--\\n\";\n",
              "\n",
              "        var child = null;\n",
              "        for(t = 0; t < tags.length; t++) {\n",
              "            var r = anchors[i].getElementsByTagName(tags[t]);\n",
              "            if (r.length > 0) {\n",
              "child = r[0];\n",
              "break;\n",
              "            }\n",
              "        }\n",
              "        if (child == null) {\n",
              "            text_memo += \"null\\n\";\n",
              "            continue;\n",
              "        }\n",
              "        if (anchors[i].hasAttribute(\"id\")) {\n",
              "            // when converted in RST\n",
              "            href = anchors[i].id;\n",
              "            text_memo += \"#1-\" + href;\n",
              "            // passer \u00e0 child suivant (le chercher)\n",
              "        }\n",
              "        else if (child.hasAttribute(\"id\")) {\n",
              "            // in a notebook\n",
              "            href = child.id;\n",
              "            text_memo += \"#2-\" + href;\n",
              "        }\n",
              "        else {\n",
              "            text_memo += \"#3-\" + \"*\" + \"\\n\";\n",
              "            continue;\n",
              "        }\n",
              "        var title = child.textContent;\n",
              "        var level = parseInt(child.tagName.substring(1,2));\n",
              "\n",
              "        text_memo += \"--\" + level + \"?\" + lfirst + \"--\" + title + \"\\n\";\n",
              "\n",
              "        if ((level < lfirst) || (level > llast)) {\n",
              "            continue ;\n",
              "        }\n",
              "        if (title.endsWith('\u00b6')) {\n",
              "            title = title.substring(0,title.length-1).replace(\"<\", \"&lt;\")\n",
              "         .replace(\">\", \"&gt;\").replace(\"&\", \"&amp;\");\n",
              "        }\n",
              "        if (title.length == 0) {\n",
              "            continue;\n",
              "        }\n",
              "\n",
              "        while (level < memo_level) {\n",
              "            text_menu += end_format + \"</ul>\\n\";\n",
              "            format_open -= 1;\n",
              "            memo_level -= 1;\n",
              "        }\n",
              "        if (level == lfirst) {\n",
              "            main_item += 1;\n",
              "        }\n",
              "        if (keep_item != -1 && main_item != keep_item + 1) {\n",
              "            // alert(main_item + \" - \" + level + \" - \" + keep_item);\n",
              "            continue;\n",
              "        }\n",
              "        while (level > memo_level) {\n",
              "            text_menu += \"<ul>\\n\";\n",
              "            memo_level += 1;\n",
              "        }\n",
              "        text_menu += repeat_indent_string(level-2);\n",
              "        text_menu += begin_format + sformat.replace(\"__HREF__\", href).replace(\"__TITLE__\", title);\n",
              "        format_open += 1;\n",
              "    }\n",
              "    while (1 < memo_level) {\n",
              "        text_menu += end_format + \"</ul>\\n\";\n",
              "        memo_level -= 1;\n",
              "        format_open -= 1;\n",
              "    }\n",
              "    text_menu += send;\n",
              "    //text_menu += \"\\n\" + text_memo;\n",
              "\n",
              "    while (format_open > 0) {\n",
              "        text_menu += end_format;\n",
              "        format_open -= 1;\n",
              "    }\n",
              "    return text_menu;\n",
              "};\n",
              "var update_menu = function() {\n",
              "    var sbegin = \"\";\n",
              "    var sformat = '<a href=\"#__HREF__\">__TITLE__</a>';\n",
              "    var send = \"\";\n",
              "    var begin_format = '<li>';\n",
              "    var end_format = '</li>';\n",
              "    var keep_item = -1;\n",
              "    var text_menu = update_menu_string(sbegin, 2, 4, sformat, send, keep_item,\n",
              "       begin_format, end_format);\n",
              "    var menu = document.getElementById(\"my_id_menu_nb\");\n",
              "    menu.innerHTML=text_menu;\n",
              "};\n",
              "window.setTimeout(update_menu,2000);\n",
              "            </script>"
            ],
            "text/plain": [
              "<IPython.core.display.HTML object>"
            ]
          },
          "execution_count": 2,
          "metadata": {},
          "output_type": "execute_result"
        }
      ],
      "source": [
        "from jyquickhelper import add_notebook_menu\n",
        "add_notebook_menu()"
      ]
    },
    {
      "cell_type": "code",
      "execution_count": 2,
      "metadata": {},
      "outputs": [],
      "source": [
        "%matplotlib inline"
      ]
    },
    {
      "cell_type": "markdown",
      "metadata": {},
      "source": [
        "## First experiment: comparison C++ syntax\n",
        "\n",
        "This all started with article [Why is it faster to process a sorted array than an unsorted array?](https://stackoverflow.com/questions/11227809/why-is-it-faster-to-process-a-sorted-array-than-an-unsorted-array/11227902#11227902). It compares different implementation fo the following function for which we try different implementations for the third line in next cell. The last option is taken\n",
        "[Checking whether a number is positive or negative using bitwise operators](https://stackoverflow.com/questions/3779202/checking-whether-a-number-is-positive-or-negative-using-bitwise-operators) which avoids [branching](https://en.wikipedia.org/wiki/Branch_predictor)."
      ]
    },
    {
      "cell_type": "code",
      "execution_count": 3,
      "metadata": {},
      "outputs": [],
      "source": [
        "# int nb = 0;\n",
        "# for(auto it = values.begin(); it != values.end(); ++it)\n",
        "#     if (*it >= th) nb++; // this line changes\n",
        "#     if (*it >= th) nb++; // and is repeated 10 times inside the loop.\n",
        "#     // ... 10 times\n",
        "# return nb;"
      ]
    },
    {
      "cell_type": "markdown",
      "metadata": {},
      "source": [
        "The third line is also repeated 10 times to avoid the loop being too significant. The code is available on github: [cbenchmark.cpp](https://github.com/sdpython/cpyquickhelper/blob/master/src/cpyquickhelper/numbers/cbenchmark.cpp) and\n",
        "[repeat_fct.h](https://github.com/sdpython/cpyquickhelper/blob/master/src/cpyquickhelper/numbers/repeat_fct.h)."
      ]
    },
    {
      "cell_type": "code",
      "execution_count": 4,
      "metadata": {},
      "outputs": [],
      "source": [
        "from cpyquickhelper.numbers.cbenchmark import measure_scenario_A, measure_scenario_B\n",
        "from cpyquickhelper.numbers.cbenchmark import measure_scenario_C, measure_scenario_D\n",
        "from cpyquickhelper.numbers.cbenchmark import measure_scenario_E, measure_scenario_F\n",
        "from cpyquickhelper.numbers.cbenchmark import measure_scenario_G, measure_scenario_H\n",
        "from cpyquickhelper.numbers.cbenchmark import measure_scenario_I, measure_scenario_J"
      ]
    },
    {
      "cell_type": "code",
      "execution_count": 5,
      "metadata": {},
      "outputs": [
        {
          "data": {
            "text/html": [
              "<div>\n",
              "<style scoped>\n",
              "    .dataframe tbody tr th:only-of-type {\n",
              "        vertical-align: middle;\n",
              "    }\n",
              "\n",
              "    .dataframe tbody tr th {\n",
              "        vertical-align: top;\n",
              "    }\n",
              "\n",
              "    .dataframe thead th {\n",
              "        text-align: right;\n",
              "    }\n",
              "</style>\n",
              "<table border=\"1\" class=\"dataframe\">\n",
              "  <thead>\n",
              "    <tr style=\"text-align: right;\">\n",
              "      <th></th>\n",
              "      <th>average</th>\n",
              "      <th>deviation</th>\n",
              "      <th>doc</th>\n",
              "      <th>label</th>\n",
              "      <th>max_exec</th>\n",
              "      <th>min_exec</th>\n",
              "      <th>name</th>\n",
              "      <th>number</th>\n",
              "      <th>repeat</th>\n",
              "    </tr>\n",
              "  </thead>\n",
              "  <tbody>\n",
              "    <tr>\n",
              "      <th>0</th>\n",
              "      <td>5.926000e-07</td>\n",
              "      <td>5.926001e-07</td>\n",
              "      <td>if (values[i] &gt;= th) ++nb;</td>\n",
              "      <td>sorted</td>\n",
              "      <td>1.186000e-06</td>\n",
              "      <td>1.185000e-06</td>\n",
              "      <td>measure_scenario_A</td>\n",
              "      <td>20.0</td>\n",
              "      <td>10.0</td>\n",
              "    </tr>\n",
              "    <tr>\n",
              "      <th>1</th>\n",
              "      <td>1.461700e-06</td>\n",
              "      <td>4.054160e-06</td>\n",
              "      <td>if (*it &gt;= th) ++nb;</td>\n",
              "      <td>sorted</td>\n",
              "      <td>1.896300e-05</td>\n",
              "      <td>7.900000e-07</td>\n",
              "      <td>measure_scenario_B</td>\n",
              "      <td>20.0</td>\n",
              "      <td>10.0</td>\n",
              "    </tr>\n",
              "    <tr>\n",
              "      <th>2</th>\n",
              "      <td>5.136000e-07</td>\n",
              "      <td>5.315074e-07</td>\n",
              "      <td>if (*it &gt;= th) nb++;</td>\n",
              "      <td>sorted</td>\n",
              "      <td>1.186000e-06</td>\n",
              "      <td>7.900000e-07</td>\n",
              "      <td>measure_scenario_C</td>\n",
              "      <td>20.0</td>\n",
              "      <td>10.0</td>\n",
              "    </tr>\n",
              "    <tr>\n",
              "      <th>3</th>\n",
              "      <td>9.875000e-08</td>\n",
              "      <td>1.710400e-07</td>\n",
              "      <td>nb += *it &gt;= th ? 1 : 0;</td>\n",
              "      <td>sorted</td>\n",
              "      <td>3.950000e-07</td>\n",
              "      <td>0.000000e+00</td>\n",
              "      <td>measure_scenario_D</td>\n",
              "      <td>20.0</td>\n",
              "      <td>10.0</td>\n",
              "    </tr>\n",
              "    <tr>\n",
              "      <th>4</th>\n",
              "      <td>5.136000e-07</td>\n",
              "      <td>5.315074e-07</td>\n",
              "      <td>if (*it &gt;= th) nb += 1;</td>\n",
              "      <td>sorted</td>\n",
              "      <td>1.186000e-06</td>\n",
              "      <td>7.900000e-07</td>\n",
              "      <td>measure_scenario_E</td>\n",
              "      <td>20.0</td>\n",
              "      <td>10.0</td>\n",
              "    </tr>\n",
              "    <tr>\n",
              "      <th>5</th>\n",
              "      <td>1.185500e-07</td>\n",
              "      <td>1.810882e-07</td>\n",
              "      <td>nb += (*it - th) &gt;= 0 ? 1 : 0;</td>\n",
              "      <td>sorted</td>\n",
              "      <td>3.960000e-07</td>\n",
              "      <td>0.000000e+00</td>\n",
              "      <td>measure_scenario_F</td>\n",
              "      <td>20.0</td>\n",
              "      <td>10.0</td>\n",
              "    </tr>\n",
              "    <tr>\n",
              "      <th>6</th>\n",
              "      <td>7.704000e-07</td>\n",
              "      <td>2.909942e-06</td>\n",
              "      <td>nb += (*it - th) &lt; 0 ? 1 : 0;</td>\n",
              "      <td>sorted</td>\n",
              "      <td>1.343300e-05</td>\n",
              "      <td>0.000000e+00</td>\n",
              "      <td>measure_scenario_G</td>\n",
              "      <td>20.0</td>\n",
              "      <td>10.0</td>\n",
              "    </tr>\n",
              "    <tr>\n",
              "      <th>7</th>\n",
              "      <td>9.875000e-08</td>\n",
              "      <td>1.710400e-07</td>\n",
              "      <td>nb += *it &lt; th ? 1 : 0;</td>\n",
              "      <td>sorted</td>\n",
              "      <td>3.950000e-07</td>\n",
              "      <td>0.000000e+00</td>\n",
              "      <td>measure_scenario_H</td>\n",
              "      <td>20.0</td>\n",
              "      <td>10.0</td>\n",
              "    </tr>\n",
              "    <tr>\n",
              "      <th>8</th>\n",
              "      <td>5.925000e-08</td>\n",
              "      <td>1.410432e-07</td>\n",
              "      <td>nb += 1 ^ ((unsigned int)(*it) &gt;&gt; (sizeof(int)...</td>\n",
              "      <td>sorted</td>\n",
              "      <td>3.950000e-07</td>\n",
              "      <td>0.000000e+00</td>\n",
              "      <td>measure_scenario_I</td>\n",
              "      <td>20.0</td>\n",
              "      <td>10.0</td>\n",
              "    </tr>\n",
              "    <tr>\n",
              "      <th>9</th>\n",
              "      <td>5.925000e-08</td>\n",
              "      <td>1.410432e-07</td>\n",
              "      <td>nb += values[i] &gt;= th ? 1 : 0;</td>\n",
              "      <td>sorted</td>\n",
              "      <td>3.950000e-07</td>\n",
              "      <td>0.000000e+00</td>\n",
              "      <td>measure_scenario_J</td>\n",
              "      <td>20.0</td>\n",
              "      <td>10.0</td>\n",
              "    </tr>\n",
              "  </tbody>\n",
              "</table>\n",
              "</div>"
            ],
            "text/plain": [
              "        average     deviation  \\\n",
              "0  5.926000e-07  5.926001e-07   \n",
              "1  1.461700e-06  4.054160e-06   \n",
              "2  5.136000e-07  5.315074e-07   \n",
              "3  9.875000e-08  1.710400e-07   \n",
              "4  5.136000e-07  5.315074e-07   \n",
              "5  1.185500e-07  1.810882e-07   \n",
              "6  7.704000e-07  2.909942e-06   \n",
              "7  9.875000e-08  1.710400e-07   \n",
              "8  5.925000e-08  1.410432e-07   \n",
              "9  5.925000e-08  1.410432e-07   \n",
              "\n",
              "                                                 doc   label      max_exec  \\\n",
              "0                         if (values[i] >= th) ++nb;  sorted  1.186000e-06   \n",
              "1                               if (*it >= th) ++nb;  sorted  1.896300e-05   \n",
              "2                               if (*it >= th) nb++;  sorted  1.186000e-06   \n",
              "3                           nb += *it >= th ? 1 : 0;  sorted  3.950000e-07   \n",
              "4                            if (*it >= th) nb += 1;  sorted  1.186000e-06   \n",
              "5                     nb += (*it - th) >= 0 ? 1 : 0;  sorted  3.960000e-07   \n",
              "6                      nb += (*it - th) < 0 ? 1 : 0;  sorted  1.343300e-05   \n",
              "7                            nb += *it < th ? 1 : 0;  sorted  3.950000e-07   \n",
              "8  nb += 1 ^ ((unsigned int)(*it) >> (sizeof(int)...  sorted  3.950000e-07   \n",
              "9                     nb += values[i] >= th ? 1 : 0;  sorted  3.950000e-07   \n",
              "\n",
              "       min_exec                name  number  repeat  \n",
              "0  1.185000e-06  measure_scenario_A    20.0    10.0  \n",
              "1  7.900000e-07  measure_scenario_B    20.0    10.0  \n",
              "2  7.900000e-07  measure_scenario_C    20.0    10.0  \n",
              "3  0.000000e+00  measure_scenario_D    20.0    10.0  \n",
              "4  7.900000e-07  measure_scenario_E    20.0    10.0  \n",
              "5  0.000000e+00  measure_scenario_F    20.0    10.0  \n",
              "6  0.000000e+00  measure_scenario_G    20.0    10.0  \n",
              "7  0.000000e+00  measure_scenario_H    20.0    10.0  \n",
              "8  0.000000e+00  measure_scenario_I    20.0    10.0  \n",
              "9  0.000000e+00  measure_scenario_J    20.0    10.0  "
            ]
          },
          "execution_count": 6,
          "metadata": {},
          "output_type": "execute_result"
        }
      ],
      "source": [
        "import pandas\n",
        "\n",
        "def test_benchmark(label, values, th, repeat=10, number=20):\n",
        "    funcs = [(k, v) for k, v in globals().copy().items() if k.startswith(\"measure_scenario\")]\n",
        "    rows = []\n",
        "    for k, v in funcs:\n",
        "        exe = v(values, th, repeat, number)\n",
        "        d = exe.todict()\n",
        "        d['doc'] = v.__doc__.split('``')[1]\n",
        "        d['label'] = label\n",
        "        d['name'] = k\n",
        "        rows.append(d)        \n",
        "    df = pandas.DataFrame(rows)\n",
        "    return df\n",
        "\n",
        "test_benchmark(\"sorted\", list(range(10)), 5)"
      ]
    },
    {
      "cell_type": "markdown",
      "metadata": {},
      "source": [
        "Times are not very conclusive on such small lists."
      ]
    },
    {
      "cell_type": "code",
      "execution_count": 6,
      "metadata": {},
      "outputs": [
        {
          "data": {
            "text/html": [
              "<div>\n",
              "<style scoped>\n",
              "    .dataframe tbody tr th:only-of-type {\n",
              "        vertical-align: middle;\n",
              "    }\n",
              "\n",
              "    .dataframe tbody tr th {\n",
              "        vertical-align: top;\n",
              "    }\n",
              "\n",
              "    .dataframe thead th {\n",
              "        text-align: right;\n",
              "    }\n",
              "</style>\n",
              "<table border=\"1\" class=\"dataframe\">\n",
              "  <thead>\n",
              "    <tr style=\"text-align: right;\">\n",
              "      <th></th>\n",
              "      <th>average</th>\n",
              "      <th>deviation</th>\n",
              "      <th>doc</th>\n",
              "      <th>label</th>\n",
              "      <th>max_exec</th>\n",
              "      <th>min_exec</th>\n",
              "      <th>name</th>\n",
              "      <th>number</th>\n",
              "      <th>repeat</th>\n",
              "    </tr>\n",
              "  </thead>\n",
              "  <tbody>\n",
              "    <tr>\n",
              "      <th>0</th>\n",
              "      <td>0.135869</td>\n",
              "      <td>NaN</td>\n",
              "      <td>if (values[i] &gt;= th) ++nb;</td>\n",
              "      <td>sorted</td>\n",
              "      <td>0.015047</td>\n",
              "      <td>0.013123</td>\n",
              "      <td>measure_scenario_A</td>\n",
              "      <td>20.0</td>\n",
              "      <td>200.0</td>\n",
              "    </tr>\n",
              "    <tr>\n",
              "      <th>1</th>\n",
              "      <td>0.134045</td>\n",
              "      <td>NaN</td>\n",
              "      <td>if (*it &gt;= th) ++nb;</td>\n",
              "      <td>sorted</td>\n",
              "      <td>0.014404</td>\n",
              "      <td>0.013069</td>\n",
              "      <td>measure_scenario_B</td>\n",
              "      <td>20.0</td>\n",
              "      <td>200.0</td>\n",
              "    </tr>\n",
              "    <tr>\n",
              "      <th>2</th>\n",
              "      <td>0.134212</td>\n",
              "      <td>NaN</td>\n",
              "      <td>if (*it &gt;= th) nb++;</td>\n",
              "      <td>sorted</td>\n",
              "      <td>0.014494</td>\n",
              "      <td>0.013137</td>\n",
              "      <td>measure_scenario_C</td>\n",
              "      <td>20.0</td>\n",
              "      <td>200.0</td>\n",
              "    </tr>\n",
              "    <tr>\n",
              "      <th>3</th>\n",
              "      <td>0.012844</td>\n",
              "      <td>NaN</td>\n",
              "      <td>nb += *it &gt;= th ? 1 : 0;</td>\n",
              "      <td>sorted</td>\n",
              "      <td>0.001738</td>\n",
              "      <td>0.001153</td>\n",
              "      <td>measure_scenario_D</td>\n",
              "      <td>20.0</td>\n",
              "      <td>200.0</td>\n",
              "    </tr>\n",
              "    <tr>\n",
              "      <th>4</th>\n",
              "      <td>0.134172</td>\n",
              "      <td>NaN</td>\n",
              "      <td>if (*it &gt;= th) nb += 1;</td>\n",
              "      <td>sorted</td>\n",
              "      <td>0.014605</td>\n",
              "      <td>0.013085</td>\n",
              "      <td>measure_scenario_E</td>\n",
              "      <td>20.0</td>\n",
              "      <td>200.0</td>\n",
              "    </tr>\n",
              "    <tr>\n",
              "      <th>5</th>\n",
              "      <td>0.015875</td>\n",
              "      <td>NaN</td>\n",
              "      <td>nb += (*it - th) &gt;= 0 ? 1 : 0;</td>\n",
              "      <td>sorted</td>\n",
              "      <td>0.002473</td>\n",
              "      <td>0.001512</td>\n",
              "      <td>measure_scenario_F</td>\n",
              "      <td>20.0</td>\n",
              "      <td>200.0</td>\n",
              "    </tr>\n",
              "    <tr>\n",
              "      <th>6</th>\n",
              "      <td>0.014354</td>\n",
              "      <td>NaN</td>\n",
              "      <td>nb += (*it - th) &lt; 0 ? 1 : 0;</td>\n",
              "      <td>sorted</td>\n",
              "      <td>0.001598</td>\n",
              "      <td>0.001392</td>\n",
              "      <td>measure_scenario_G</td>\n",
              "      <td>20.0</td>\n",
              "      <td>200.0</td>\n",
              "    </tr>\n",
              "    <tr>\n",
              "      <th>7</th>\n",
              "      <td>0.010048</td>\n",
              "      <td>NaN</td>\n",
              "      <td>nb += *it &lt; th ? 1 : 0;</td>\n",
              "      <td>sorted</td>\n",
              "      <td>0.001273</td>\n",
              "      <td>0.000973</td>\n",
              "      <td>measure_scenario_H</td>\n",
              "      <td>20.0</td>\n",
              "      <td>200.0</td>\n",
              "    </tr>\n",
              "    <tr>\n",
              "      <th>8</th>\n",
              "      <td>0.016442</td>\n",
              "      <td>NaN</td>\n",
              "      <td>nb += 1 ^ ((unsigned int)(*it) &gt;&gt; (sizeof(int)...</td>\n",
              "      <td>sorted</td>\n",
              "      <td>0.002211</td>\n",
              "      <td>0.001555</td>\n",
              "      <td>measure_scenario_I</td>\n",
              "      <td>20.0</td>\n",
              "      <td>200.0</td>\n",
              "    </tr>\n",
              "    <tr>\n",
              "      <th>9</th>\n",
              "      <td>0.014729</td>\n",
              "      <td>NaN</td>\n",
              "      <td>nb += values[i] &gt;= th ? 1 : 0;</td>\n",
              "      <td>sorted</td>\n",
              "      <td>0.001675</td>\n",
              "      <td>0.001404</td>\n",
              "      <td>measure_scenario_J</td>\n",
              "      <td>20.0</td>\n",
              "      <td>200.0</td>\n",
              "    </tr>\n",
              "  </tbody>\n",
              "</table>\n",
              "</div>"
            ],
            "text/plain": [
              "    average  deviation                                                doc  \\\n",
              "0  0.135869        NaN                         if (values[i] >= th) ++nb;   \n",
              "1  0.134045        NaN                               if (*it >= th) ++nb;   \n",
              "2  0.134212        NaN                               if (*it >= th) nb++;   \n",
              "3  0.012844        NaN                           nb += *it >= th ? 1 : 0;   \n",
              "4  0.134172        NaN                            if (*it >= th) nb += 1;   \n",
              "5  0.015875        NaN                     nb += (*it - th) >= 0 ? 1 : 0;   \n",
              "6  0.014354        NaN                      nb += (*it - th) < 0 ? 1 : 0;   \n",
              "7  0.010048        NaN                            nb += *it < th ? 1 : 0;   \n",
              "8  0.016442        NaN  nb += 1 ^ ((unsigned int)(*it) >> (sizeof(int)...   \n",
              "9  0.014729        NaN                     nb += values[i] >= th ? 1 : 0;   \n",
              "\n",
              "    label  max_exec  min_exec                name  number  repeat  \n",
              "0  sorted  0.015047  0.013123  measure_scenario_A    20.0   200.0  \n",
              "1  sorted  0.014404  0.013069  measure_scenario_B    20.0   200.0  \n",
              "2  sorted  0.014494  0.013137  measure_scenario_C    20.0   200.0  \n",
              "3  sorted  0.001738  0.001153  measure_scenario_D    20.0   200.0  \n",
              "4  sorted  0.014605  0.013085  measure_scenario_E    20.0   200.0  \n",
              "5  sorted  0.002473  0.001512  measure_scenario_F    20.0   200.0  \n",
              "6  sorted  0.001598  0.001392  measure_scenario_G    20.0   200.0  \n",
              "7  sorted  0.001273  0.000973  measure_scenario_H    20.0   200.0  \n",
              "8  sorted  0.002211  0.001555  measure_scenario_I    20.0   200.0  \n",
              "9  sorted  0.001675  0.001404  measure_scenario_J    20.0   200.0  "
            ]
          },
          "execution_count": 7,
          "metadata": {},
          "output_type": "execute_result"
        }
      ],
      "source": [
        "values = list(range(100000))\n",
        "df_sorted = test_benchmark(\"sorted\", values, len(values)//2, repeat=200)\n",
        "df_sorted"
      ]
    },
    {
      "cell_type": "markdown",
      "metadata": {},
      "source": [
        "The article some implementations will be slower if the values are not sorted."
      ]
    },
    {
      "cell_type": "code",
      "execution_count": 7,
      "metadata": {},
      "outputs": [
        {
          "data": {
            "text/plain": [
              "[90698, 4105, 40283, 13640, 634, 97734, 57933, 26645, 40155, 49004]"
            ]
          },
          "execution_count": 8,
          "metadata": {},
          "output_type": "execute_result"
        }
      ],
      "source": [
        "import random\n",
        "random.shuffle(values)\n",
        "values[:10]"
      ]
    },
    {
      "cell_type": "code",
      "execution_count": 8,
      "metadata": {},
      "outputs": [
        {
          "data": {
            "text/html": [
              "<div>\n",
              "<style scoped>\n",
              "    .dataframe tbody tr th:only-of-type {\n",
              "        vertical-align: middle;\n",
              "    }\n",
              "\n",
              "    .dataframe tbody tr th {\n",
              "        vertical-align: top;\n",
              "    }\n",
              "\n",
              "    .dataframe thead th {\n",
              "        text-align: right;\n",
              "    }\n",
              "</style>\n",
              "<table border=\"1\" class=\"dataframe\">\n",
              "  <thead>\n",
              "    <tr style=\"text-align: right;\">\n",
              "      <th></th>\n",
              "      <th>average</th>\n",
              "      <th>deviation</th>\n",
              "      <th>doc</th>\n",
              "      <th>label</th>\n",
              "      <th>max_exec</th>\n",
              "      <th>min_exec</th>\n",
              "      <th>name</th>\n",
              "      <th>number</th>\n",
              "      <th>repeat</th>\n",
              "    </tr>\n",
              "  </thead>\n",
              "  <tbody>\n",
              "    <tr>\n",
              "      <th>0</th>\n",
              "      <td>0.134160</td>\n",
              "      <td>NaN</td>\n",
              "      <td>if (values[i] &gt;= th) ++nb;</td>\n",
              "      <td>shuffled</td>\n",
              "      <td>0.016999</td>\n",
              "      <td>0.013054</td>\n",
              "      <td>measure_scenario_A</td>\n",
              "      <td>20.0</td>\n",
              "      <td>200.0</td>\n",
              "    </tr>\n",
              "    <tr>\n",
              "      <th>1</th>\n",
              "      <td>0.134120</td>\n",
              "      <td>NaN</td>\n",
              "      <td>if (*it &gt;= th) ++nb;</td>\n",
              "      <td>shuffled</td>\n",
              "      <td>0.014206</td>\n",
              "      <td>0.013052</td>\n",
              "      <td>measure_scenario_B</td>\n",
              "      <td>20.0</td>\n",
              "      <td>200.0</td>\n",
              "    </tr>\n",
              "    <tr>\n",
              "      <th>2</th>\n",
              "      <td>0.133985</td>\n",
              "      <td>NaN</td>\n",
              "      <td>if (*it &gt;= th) nb++;</td>\n",
              "      <td>shuffled</td>\n",
              "      <td>0.014391</td>\n",
              "      <td>0.013090</td>\n",
              "      <td>measure_scenario_C</td>\n",
              "      <td>20.0</td>\n",
              "      <td>200.0</td>\n",
              "    </tr>\n",
              "    <tr>\n",
              "      <th>3</th>\n",
              "      <td>0.012777</td>\n",
              "      <td>NaN</td>\n",
              "      <td>nb += *it &gt;= th ? 1 : 0;</td>\n",
              "      <td>shuffled</td>\n",
              "      <td>0.001499</td>\n",
              "      <td>0.001152</td>\n",
              "      <td>measure_scenario_D</td>\n",
              "      <td>20.0</td>\n",
              "      <td>200.0</td>\n",
              "    </tr>\n",
              "    <tr>\n",
              "      <th>4</th>\n",
              "      <td>0.135891</td>\n",
              "      <td>NaN</td>\n",
              "      <td>if (*it &gt;= th) nb += 1;</td>\n",
              "      <td>shuffled</td>\n",
              "      <td>0.016132</td>\n",
              "      <td>0.013128</td>\n",
              "      <td>measure_scenario_E</td>\n",
              "      <td>20.0</td>\n",
              "      <td>200.0</td>\n",
              "    </tr>\n",
              "    <tr>\n",
              "      <th>5</th>\n",
              "      <td>0.015934</td>\n",
              "      <td>NaN</td>\n",
              "      <td>nb += (*it - th) &gt;= 0 ? 1 : 0;</td>\n",
              "      <td>shuffled</td>\n",
              "      <td>0.001794</td>\n",
              "      <td>0.001512</td>\n",
              "      <td>measure_scenario_F</td>\n",
              "      <td>20.0</td>\n",
              "      <td>200.0</td>\n",
              "    </tr>\n",
              "    <tr>\n",
              "      <th>6</th>\n",
              "      <td>0.015071</td>\n",
              "      <td>NaN</td>\n",
              "      <td>nb += (*it - th) &lt; 0 ? 1 : 0;</td>\n",
              "      <td>shuffled</td>\n",
              "      <td>0.002265</td>\n",
              "      <td>0.001392</td>\n",
              "      <td>measure_scenario_G</td>\n",
              "      <td>20.0</td>\n",
              "      <td>200.0</td>\n",
              "    </tr>\n",
              "    <tr>\n",
              "      <th>7</th>\n",
              "      <td>0.010243</td>\n",
              "      <td>NaN</td>\n",
              "      <td>nb += *it &lt; th ? 1 : 0;</td>\n",
              "      <td>shuffled</td>\n",
              "      <td>0.001408</td>\n",
              "      <td>0.000973</td>\n",
              "      <td>measure_scenario_H</td>\n",
              "      <td>20.0</td>\n",
              "      <td>200.0</td>\n",
              "    </tr>\n",
              "    <tr>\n",
              "      <th>8</th>\n",
              "      <td>0.016243</td>\n",
              "      <td>NaN</td>\n",
              "      <td>nb += 1 ^ ((unsigned int)(*it) &gt;&gt; (sizeof(int)...</td>\n",
              "      <td>shuffled</td>\n",
              "      <td>0.001796</td>\n",
              "      <td>0.001558</td>\n",
              "      <td>measure_scenario_I</td>\n",
              "      <td>20.0</td>\n",
              "      <td>200.0</td>\n",
              "    </tr>\n",
              "    <tr>\n",
              "      <th>9</th>\n",
              "      <td>0.014711</td>\n",
              "      <td>NaN</td>\n",
              "      <td>nb += values[i] &gt;= th ? 1 : 0;</td>\n",
              "      <td>shuffled</td>\n",
              "      <td>0.001635</td>\n",
              "      <td>0.001399</td>\n",
              "      <td>measure_scenario_J</td>\n",
              "      <td>20.0</td>\n",
              "      <td>200.0</td>\n",
              "    </tr>\n",
              "  </tbody>\n",
              "</table>\n",
              "</div>"
            ],
            "text/plain": [
              "    average  deviation                                                doc  \\\n",
              "0  0.134160        NaN                         if (values[i] >= th) ++nb;   \n",
              "1  0.134120        NaN                               if (*it >= th) ++nb;   \n",
              "2  0.133985        NaN                               if (*it >= th) nb++;   \n",
              "3  0.012777        NaN                           nb += *it >= th ? 1 : 0;   \n",
              "4  0.135891        NaN                            if (*it >= th) nb += 1;   \n",
              "5  0.015934        NaN                     nb += (*it - th) >= 0 ? 1 : 0;   \n",
              "6  0.015071        NaN                      nb += (*it - th) < 0 ? 1 : 0;   \n",
              "7  0.010243        NaN                            nb += *it < th ? 1 : 0;   \n",
              "8  0.016243        NaN  nb += 1 ^ ((unsigned int)(*it) >> (sizeof(int)...   \n",
              "9  0.014711        NaN                     nb += values[i] >= th ? 1 : 0;   \n",
              "\n",
              "      label  max_exec  min_exec                name  number  repeat  \n",
              "0  shuffled  0.016999  0.013054  measure_scenario_A    20.0   200.0  \n",
              "1  shuffled  0.014206  0.013052  measure_scenario_B    20.0   200.0  \n",
              "2  shuffled  0.014391  0.013090  measure_scenario_C    20.0   200.0  \n",
              "3  shuffled  0.001499  0.001152  measure_scenario_D    20.0   200.0  \n",
              "4  shuffled  0.016132  0.013128  measure_scenario_E    20.0   200.0  \n",
              "5  shuffled  0.001794  0.001512  measure_scenario_F    20.0   200.0  \n",
              "6  shuffled  0.002265  0.001392  measure_scenario_G    20.0   200.0  \n",
              "7  shuffled  0.001408  0.000973  measure_scenario_H    20.0   200.0  \n",
              "8  shuffled  0.001796  0.001558  measure_scenario_I    20.0   200.0  \n",
              "9  shuffled  0.001635  0.001399  measure_scenario_J    20.0   200.0  "
            ]
          },
          "execution_count": 9,
          "metadata": {},
          "output_type": "execute_result"
        }
      ],
      "source": [
        "df_shuffled = test_benchmark(\"shuffled\", values, len(values)//2, repeat=200)\n",
        "df_shuffled"
      ]
    },
    {
      "cell_type": "code",
      "execution_count": 9,
      "metadata": {},
      "outputs": [],
      "source": [
        "df = pandas.concat([df_sorted, df_shuffled])\n",
        "dfg = df[[\"doc\", \"label\", \"average\"]].pivot(\"doc\", \"label\", \"average\")"
      ]
    },
    {
      "cell_type": "code",
      "execution_count": 10,
      "metadata": {},
      "outputs": [
        {
          "data": {
            "image/png": "[encoded data removed]",
            "text/plain": [
              "<Figure size 432x288 with 1 Axes>"
            ]
          },
          "metadata": {
            "needs_background": "light"
          },
          "output_type": "display_data"
        }
      ],
      "source": [
        "ax = dfg.plot.bar(rot=30)\n",
        "labels = [l.get_text() for l in ax.get_xticklabels()]\n",
        "ax.set_xticklabels(labels, ha='right')\n",
        "ax.set_title(\"Comparison of all implementations\");"
      ]
    },
    {
      "cell_type": "markdown",
      "metadata": {},
      "source": [
        "It seems that inline tests (``cond ? value1 : value2``) do not stop the branching and it should be used whenever possible."
      ]
    },
    {
      "cell_type": "code",
      "execution_count": 11,
      "metadata": {},
      "outputs": [
        {
          "data": {
            "image/png": "[encoded data removed]",
            "text/plain": [
              "<Figure size 432x288 with 1 Axes>"
            ]
          },
          "metadata": {
            "needs_background": "light"
          },
          "output_type": "display_data"
        }
      ],
      "source": [
        "sdf = df[[\"doc\", \"label\", \"average\"]]\n",
        "dfg2 = sdf[sdf.doc.str.contains('[?^]')].pivot(\"doc\", \"label\", \"average\")\n",
        "ax = dfg2.plot.bar(rot=30)\n",
        "labels = [l.get_text() for l in ax.get_xticklabels()]\n",
        "ax.set_xticklabels(labels, ha='right')\n",
        "ax.set_title(\"Comparison of implementations using ? :\");"
      ]
    },
    {
      "cell_type": "code",
      "execution_count": 12,
      "metadata": {},
      "outputs": [
        {
          "data": {
            "image/png": "[encoded data removed]",
            "text/plain": [
              "<Figure size 432x288 with 1 Axes>"
            ]
          },
          "metadata": {
            "needs_background": "light"
          },
          "output_type": "display_data"
        }
      ],
      "source": [
        "sdf = df[[\"doc\", \"label\", \"average\"]]\n",
        "dfg2 = sdf[sdf.doc.str.contains('if')].pivot(\"doc\", \"label\", \"average\")\n",
        "ax = dfg2.plot.bar(rot=30)\n",
        "labels = [l.get_text() for l in ax.get_xticklabels()]\n",
        "ax.set_xticklabels(labels, ha='right')\n",
        "ax.set_ylim([0.12, 0.15])\n",
        "ax.set_title(\"Comparison of implementations using tests\");"
      ]
    },
    {
      "cell_type": "markdown",
      "metadata": {},
      "source": [
        "*sorted*, *not sorted* does not seem to have a real impact in this case. It shows *branching* really slows down the execution of a program. Branching happens whenever the program meets a loop condition or a test. Iterator ``*it`` are faster than accessing an array with notation ``[i]`` which adds a cost due to an extra addition."
      ]
    },
    {
      "cell_type": "markdown",
      "metadata": {},
      "source": [
        "## Second experiment: dot product\n",
        "\n",
        "The goal is to compare the dot product from [numpy.dot](https://docs.scipy.org/doc/numpy-1.15.0/reference/generated/numpy.dot.html) and a couple of implementation in C++."
      ]
    },
    {
      "cell_type": "code",
      "execution_count": 13,
      "metadata": {},
      "outputs": [],
      "source": [
        "%matplotlib inline"
      ]
    },
    {
      "cell_type": "code",
      "execution_count": 14,
      "metadata": {},
      "outputs": [
        {
          "data": {
            "text/plain": [
              "3333333.2"
            ]
          },
          "execution_count": 15,
          "metadata": {},
          "output_type": "execute_result"
        }
      ],
      "source": [
        "import numpy\n",
        "\n",
        "def simple_dot(values):\n",
        "    return numpy.dot(values, values)\n",
        "\n",
        "values = list(range(10000000))\n",
        "values = numpy.array(values, dtype=numpy.float32)\n",
        "vect = values / numpy.max(values)\n",
        "simple_dot(vect)"
      ]
    },
    {
      "cell_type": "code",
      "execution_count": 15,
      "metadata": {},
      "outputs": [
        {
          "data": {
            "text/plain": [
              "dtype('float32')"
            ]
          },
          "execution_count": 16,
          "metadata": {},
          "output_type": "execute_result"
        }
      ],
      "source": [
        "vect.dtype"
      ]
    },
    {
      "cell_type": "code",
      "execution_count": 16,
      "metadata": {},
      "outputs": [
        {
          "data": {
            "text/plain": [
              "{'average': 0.08977780929999994,\n",
              " 'deviation': 0.011939801614769822,\n",
              " 'min_exec': 0.08073053300000055,\n",
              " 'max_exec': 0.12474953099999908,\n",
              " 'repeat': 10,\n",
              " 'number': 50,\n",
              " 'size': 10000000}"
            ]
          },
          "execution_count": 17,
          "metadata": {},
          "output_type": "execute_result"
        }
      ],
      "source": [
        "from timeit import Timer\n",
        "\n",
        "def measure_time(stmt, context, repeat=10, number=50):\n",
        "    tim = Timer(stmt, globals=context)\n",
        "    res = numpy.array(tim.repeat(repeat=repeat, number=number))\n",
        "    mean = numpy.mean(res)\n",
        "    dev = numpy.mean(res ** 2)\n",
        "    dev = (dev - mean**2) ** 0.5\n",
        "    return dict(average=mean, deviation=dev, min_exec=numpy.min(res),\n",
        "                max_exec=numpy.max(res), repeat=repeat, number=number,\n",
        "                size=context['values'].shape[0])\n",
        "\n",
        "measure_time(\"simple_dot(values)\", context=dict(simple_dot=simple_dot, values=vect))"
      ]
    },
    {
      "cell_type": "code",
      "execution_count": 17,
      "metadata": {},
      "outputs": [
        {
          "data": {
            "text/html": [
              "<div>\n",
              "<style scoped>\n",
              "    .dataframe tbody tr th:only-of-type {\n",
              "        vertical-align: middle;\n",
              "    }\n",
              "\n",
              "    .dataframe tbody tr th {\n",
              "        vertical-align: top;\n",
              "    }\n",
              "\n",
              "    .dataframe thead th {\n",
              "        text-align: right;\n",
              "    }\n",
              "</style>\n",
              "<table border=\"1\" class=\"dataframe\">\n",
              "  <thead>\n",
              "    <tr style=\"text-align: right;\">\n",
              "      <th></th>\n",
              "      <th>average</th>\n",
              "      <th>deviation</th>\n",
              "      <th>max_exec</th>\n",
              "      <th>min_exec</th>\n",
              "      <th>number</th>\n",
              "      <th>repeat</th>\n",
              "      <th>size</th>\n",
              "    </tr>\n",
              "  </thead>\n",
              "  <tbody>\n",
              "    <tr>\n",
              "      <th>75</th>\n",
              "      <td>0.000689</td>\n",
              "      <td>0.000018</td>\n",
              "      <td>0.000772</td>\n",
              "      <td>0.000679</td>\n",
              "      <td>50</td>\n",
              "      <td>100</td>\n",
              "      <td>187510</td>\n",
              "    </tr>\n",
              "    <tr>\n",
              "      <th>76</th>\n",
              "      <td>0.000699</td>\n",
              "      <td>0.000012</td>\n",
              "      <td>0.000750</td>\n",
              "      <td>0.000691</td>\n",
              "      <td>50</td>\n",
              "      <td>100</td>\n",
              "      <td>190010</td>\n",
              "    </tr>\n",
              "    <tr>\n",
              "      <th>77</th>\n",
              "      <td>0.000693</td>\n",
              "      <td>0.000021</td>\n",
              "      <td>0.000780</td>\n",
              "      <td>0.000676</td>\n",
              "      <td>50</td>\n",
              "      <td>100</td>\n",
              "      <td>192510</td>\n",
              "    </tr>\n",
              "    <tr>\n",
              "      <th>78</th>\n",
              "      <td>0.000772</td>\n",
              "      <td>0.000104</td>\n",
              "      <td>0.001050</td>\n",
              "      <td>0.000715</td>\n",
              "      <td>50</td>\n",
              "      <td>100</td>\n",
              "      <td>195010</td>\n",
              "    </tr>\n",
              "    <tr>\n",
              "      <th>79</th>\n",
              "      <td>0.000792</td>\n",
              "      <td>0.000123</td>\n",
              "      <td>0.001220</td>\n",
              "      <td>0.000696</td>\n",
              "      <td>50</td>\n",
              "      <td>100</td>\n",
              "      <td>197510</td>\n",
              "    </tr>\n",
              "  </tbody>\n",
              "</table>\n",
              "</div>"
            ],
            "text/plain": [
              "     average  deviation  max_exec  min_exec  number  repeat    size\n",
              "75  0.000689   0.000018  0.000772  0.000679      50     100  187510\n",
              "76  0.000699   0.000012  0.000750  0.000691      50     100  190010\n",
              "77  0.000693   0.000021  0.000780  0.000676      50     100  192510\n",
              "78  0.000772   0.000104  0.001050  0.000715      50     100  195010\n",
              "79  0.000792   0.000123  0.001220  0.000696      50     100  197510"
            ]
          },
          "execution_count": 18,
          "metadata": {},
          "output_type": "execute_result"
        }
      ],
      "source": [
        "res = []\n",
        "for i in range(10, 200000, 2500):\n",
        "    t = measure_time(\"simple_dot(values)\", repeat=100,\n",
        "                     context=dict(simple_dot=simple_dot, values=vect[:i].copy()))\n",
        "    res.append(t)\n",
        "\n",
        "import pandas\n",
        "dot = pandas.DataFrame(res)\n",
        "dot.tail()"
      ]
    },
    {
      "cell_type": "code",
      "execution_count": 18,
      "metadata": {},
      "outputs": [
        {
          "data": {
            "text/html": [
              "<div>\n",
              "<style scoped>\n",
              "    .dataframe tbody tr th:only-of-type {\n",
              "        vertical-align: middle;\n",
              "    }\n",
              "\n",
              "    .dataframe tbody tr th {\n",
              "        vertical-align: top;\n",
              "    }\n",
              "\n",
              "    .dataframe thead th {\n",
              "        text-align: right;\n",
              "    }\n",
              "</style>\n",
              "<table border=\"1\" class=\"dataframe\">\n",
              "  <thead>\n",
              "    <tr style=\"text-align: right;\">\n",
              "      <th></th>\n",
              "      <th>average</th>\n",
              "      <th>deviation</th>\n",
              "      <th>max_exec</th>\n",
              "      <th>min_exec</th>\n",
              "      <th>number</th>\n",
              "      <th>repeat</th>\n",
              "      <th>size</th>\n",
              "    </tr>\n",
              "  </thead>\n",
              "  <tbody>\n",
              "    <tr>\n",
              "      <th>0</th>\n",
              "      <td>0.001090</td>\n",
              "      <td>0.000536</td>\n",
              "      <td>0.002010</td>\n",
              "      <td>0.000520</td>\n",
              "      <td>50</td>\n",
              "      <td>10</td>\n",
              "      <td>100000</td>\n",
              "    </tr>\n",
              "    <tr>\n",
              "      <th>1</th>\n",
              "      <td>0.009636</td>\n",
              "      <td>0.005231</td>\n",
              "      <td>0.024124</td>\n",
              "      <td>0.004691</td>\n",
              "      <td>50</td>\n",
              "      <td>10</td>\n",
              "      <td>1100000</td>\n",
              "    </tr>\n",
              "    <tr>\n",
              "      <th>2</th>\n",
              "      <td>0.015633</td>\n",
              "      <td>0.001288</td>\n",
              "      <td>0.019161</td>\n",
              "      <td>0.014145</td>\n",
              "      <td>50</td>\n",
              "      <td>10</td>\n",
              "      <td>2100000</td>\n",
              "    </tr>\n",
              "    <tr>\n",
              "      <th>3</th>\n",
              "      <td>0.023959</td>\n",
              "      <td>0.001804</td>\n",
              "      <td>0.028175</td>\n",
              "      <td>0.022146</td>\n",
              "      <td>50</td>\n",
              "      <td>10</td>\n",
              "      <td>3100000</td>\n",
              "    </tr>\n",
              "    <tr>\n",
              "      <th>4</th>\n",
              "      <td>0.032866</td>\n",
              "      <td>0.001459</td>\n",
              "      <td>0.035682</td>\n",
              "      <td>0.031164</td>\n",
              "      <td>50</td>\n",
              "      <td>10</td>\n",
              "      <td>4100000</td>\n",
              "    </tr>\n",
              "  </tbody>\n",
              "</table>\n",
              "</div>"
            ],
            "text/plain": [
              "    average  deviation  max_exec  min_exec  number  repeat     size\n",
              "0  0.001090   0.000536  0.002010  0.000520      50      10   100000\n",
              "1  0.009636   0.005231  0.024124  0.004691      50      10  1100000\n",
              "2  0.015633   0.001288  0.019161  0.014145      50      10  2100000\n",
              "3  0.023959   0.001804  0.028175  0.022146      50      10  3100000\n",
              "4  0.032866   0.001459  0.035682  0.031164      50      10  4100000"
            ]
          },
          "execution_count": 19,
          "metadata": {},
          "output_type": "execute_result"
        }
      ],
      "source": [
        "res = []\n",
        "for i in range(100000, 10000000, 1000000):\n",
        "    t = measure_time(\"simple_dot(values)\", repeat=10,\n",
        "                     context=dict(simple_dot=simple_dot, values=vect[:i].copy()))\n",
        "    res.append(t)\n",
        "    \n",
        "huge_dot = pandas.DataFrame(res)\n",
        "huge_dot.head()"
      ]
    },
    {
      "cell_type": "code",
      "execution_count": 19,
      "metadata": {},
      "outputs": [
        {
          "data": {
            "image/png": "[encoded data removed]",
            "text/plain": [
              "<Figure size 1008x288 with 2 Axes>"
            ]
          },
          "metadata": {
            "needs_background": "light"
          },
          "output_type": "display_data"
        }
      ],
      "source": [
        "import matplotlib.pyplot as plt\n",
        "fig, ax = plt.subplots(1, 2, figsize=(14,4))\n",
        "dot.plot(x='size', y=\"average\", ax=ax[0])\n",
        "huge_dot.plot(x='size', y=\"average\", ax=ax[1])\n",
        "ax[0].set_title(\"numpy dot product execution time\");\n",
        "ax[1].set_title(\"numpy dot product execution time\");"
      ]
    },
    {
      "cell_type": "markdown",
      "metadata": {},
      "source": [
        "Now the custom implementation. We start with an empty function to get a sense of the cost due to to pybind11."
      ]
    },
    {
      "cell_type": "code",
      "execution_count": 20,
      "metadata": {},
      "outputs": [
        {
          "data": {
            "text/plain": [
              "0.0"
            ]
          },
          "execution_count": 21,
          "metadata": {},
          "output_type": "execute_result"
        }
      ],
      "source": [
        "from cpyquickhelper.numbers.cbenchmark import empty_vector_dot_product\n",
        "empty_vector_dot_product(vect, vect)"
      ]
    },
    {
      "cell_type": "code",
      "execution_count": 21,
      "metadata": {},
      "outputs": [
        {
          "data": {
            "text/plain": [
              "{'average': 0.00015367919999889068,\n",
              " 'deviation': 6.798044867135164e-05,\n",
              " 'min_exec': 9.639499999991585e-05,\n",
              " 'max_exec': 0.00034528399999800286,\n",
              " 'repeat': 10,\n",
              " 'number': 50,\n",
              " 'size': 10000000}"
            ]
          },
          "execution_count": 22,
          "metadata": {},
          "output_type": "execute_result"
        }
      ],
      "source": [
        "def empty_c11_dot(vect):\n",
        "    return empty_vector_dot_product(vect, vect)\n",
        "\n",
        "measure_time(\"empty_c11_dot(values)\", context=dict(empty_c11_dot=empty_c11_dot, values=vect), repeat=10)"
      ]
    },
    {
      "cell_type": "markdown",
      "metadata": {},
      "source": [
        "Very small. It should not pollute our experiments."
      ]
    },
    {
      "cell_type": "code",
      "execution_count": 22,
      "metadata": {},
      "outputs": [
        {
          "data": {
            "text/plain": [
              "3334629.0"
            ]
          },
          "execution_count": 23,
          "metadata": {},
          "output_type": "execute_result"
        }
      ],
      "source": [
        "from cpyquickhelper.numbers.cbenchmark import vector_dot_product\n",
        "vector_dot_product(vect, vect)"
      ]
    },
    {
      "cell_type": "code",
      "execution_count": 23,
      "metadata": {},
      "outputs": [
        {
          "data": {
            "text/plain": [
              "{'average': 0.6921877270999992,\n",
              " 'deviation': 0.0020896441251178513,\n",
              " 'min_exec': 0.6886832109999972,\n",
              " 'max_exec': 0.6949915609999948,\n",
              " 'repeat': 10,\n",
              " 'number': 50,\n",
              " 'size': 10000000}"
            ]
          },
          "execution_count": 24,
          "metadata": {},
          "output_type": "execute_result"
        }
      ],
      "source": [
        "def c11_dot(vect):\n",
        "    return vector_dot_product(vect, vect)\n",
        "\n",
        "measure_time(\"c11_dot(values)\", context=dict(c11_dot=c11_dot, values=vect), repeat=10)"
      ]
    },
    {
      "cell_type": "code",
      "execution_count": 24,
      "metadata": {
        "scrolled": false
      },
      "outputs": [
        {
          "data": {
            "text/html": [
              "<div>\n",
              "<style scoped>\n",
              "    .dataframe tbody tr th:only-of-type {\n",
              "        vertical-align: middle;\n",
              "    }\n",
              "\n",
              "    .dataframe tbody tr th {\n",
              "        vertical-align: top;\n",
              "    }\n",
              "\n",
              "    .dataframe thead th {\n",
              "        text-align: right;\n",
              "    }\n",
              "</style>\n",
              "<table border=\"1\" class=\"dataframe\">\n",
              "  <thead>\n",
              "    <tr style=\"text-align: right;\">\n",
              "      <th></th>\n",
              "      <th>average</th>\n",
              "      <th>deviation</th>\n",
              "      <th>max_exec</th>\n",
              "      <th>min_exec</th>\n",
              "      <th>number</th>\n",
              "      <th>repeat</th>\n",
              "      <th>size</th>\n",
              "    </tr>\n",
              "  </thead>\n",
              "  <tbody>\n",
              "    <tr>\n",
              "      <th>75</th>\n",
              "      <td>0.012761</td>\n",
              "      <td>0.000143</td>\n",
              "      <td>0.013049</td>\n",
              "      <td>0.012442</td>\n",
              "      <td>50</td>\n",
              "      <td>10</td>\n",
              "      <td>187510</td>\n",
              "    </tr>\n",
              "    <tr>\n",
              "      <th>76</th>\n",
              "      <td>0.012719</td>\n",
              "      <td>0.000119</td>\n",
              "      <td>0.012931</td>\n",
              "      <td>0.012568</td>\n",
              "      <td>50</td>\n",
              "      <td>10</td>\n",
              "      <td>190010</td>\n",
              "    </tr>\n",
              "    <tr>\n",
              "      <th>77</th>\n",
              "      <td>0.012840</td>\n",
              "      <td>0.000060</td>\n",
              "      <td>0.012958</td>\n",
              "      <td>0.012742</td>\n",
              "      <td>50</td>\n",
              "      <td>10</td>\n",
              "      <td>192510</td>\n",
              "    </tr>\n",
              "    <tr>\n",
              "      <th>78</th>\n",
              "      <td>0.012989</td>\n",
              "      <td>0.000069</td>\n",
              "      <td>0.013119</td>\n",
              "      <td>0.012890</td>\n",
              "      <td>50</td>\n",
              "      <td>10</td>\n",
              "      <td>195010</td>\n",
              "    </tr>\n",
              "    <tr>\n",
              "      <th>79</th>\n",
              "      <td>0.013226</td>\n",
              "      <td>0.000098</td>\n",
              "      <td>0.013436</td>\n",
              "      <td>0.013059</td>\n",
              "      <td>50</td>\n",
              "      <td>10</td>\n",
              "      <td>197510</td>\n",
              "    </tr>\n",
              "  </tbody>\n",
              "</table>\n",
              "</div>"
            ],
            "text/plain": [
              "     average  deviation  max_exec  min_exec  number  repeat    size\n",
              "75  0.012761   0.000143  0.013049  0.012442      50      10  187510\n",
              "76  0.012719   0.000119  0.012931  0.012568      50      10  190010\n",
              "77  0.012840   0.000060  0.012958  0.012742      50      10  192510\n",
              "78  0.012989   0.000069  0.013119  0.012890      50      10  195010\n",
              "79  0.013226   0.000098  0.013436  0.013059      50      10  197510"
            ]
          },
          "execution_count": 25,
          "metadata": {},
          "output_type": "execute_result"
        }
      ],
      "source": [
        "res = []\n",
        "for i in range(10, 200000, 2500):\n",
        "    t = measure_time(\"c11_dot(values)\", repeat=10,\n",
        "                     context=dict(c11_dot=c11_dot, values=vect[:i].copy()))\n",
        "    res.append(t)\n",
        "\n",
        "import pandas\n",
        "cus_dot = pandas.DataFrame(res)\n",
        "cus_dot.tail()"
      ]
    },
    {
      "cell_type": "code",
      "execution_count": 25,
      "metadata": {},
      "outputs": [
        {
          "data": {
            "image/png": "[encoded data removed]",
            "text/plain": [
              "<Figure size 1008x288 with 2 Axes>"
            ]
          },
          "metadata": {
            "needs_background": "light"
          },
          "output_type": "display_data"
        }
      ],
      "source": [
        "fig, ax = plt.subplots(1, 2, figsize=(14,4))\n",
        "dot.plot(x='size', y=\"average\", ax=ax[0], label=\"numpy\")\n",
        "cus_dot.plot(x='size', y=\"average\", ax=ax[0], label=\"pybind11\")\n",
        "dot.plot(x='size', y=\"average\", ax=ax[1], label=\"numpy\", logy=True)\n",
        "cus_dot.plot(x='size', y=\"average\", ax=ax[1], label=\"pybind11\")\n",
        "ax[0].set_title(\"numpy and custom dot product execution time\");\n",
        "ax[1].set_title(\"numpy and custom dot product execution time\");"
      ]
    },
    {
      "cell_type": "markdown",
      "metadata": {},
      "source": [
        "Pretty slow. Let's see what it does to compute dot product 16 by 16."
      ]
    },
    {
      "cell_type": "code",
      "execution_count": 26,
      "metadata": {},
      "outputs": [
        {
          "data": {
            "text/plain": [
              "3333331.75"
            ]
          },
          "execution_count": 27,
          "metadata": {},
          "output_type": "execute_result"
        }
      ],
      "source": [
        "from cpyquickhelper.numbers.cbenchmark import vector_dot_product16\n",
        "vector_dot_product16(vect, vect)"
      ]
    },
    {
      "cell_type": "code",
      "execution_count": 27,
      "metadata": {},
      "outputs": [
        {
          "data": {
            "text/plain": [
              "{'average': 0.3218175382999995,\n",
              " 'deviation': 0.006153465704659649,\n",
              " 'min_exec': 0.31566405200000247,\n",
              " 'max_exec': 0.33637162399999454,\n",
              " 'repeat': 10,\n",
              " 'number': 50,\n",
              " 'size': 10000000}"
            ]
          },
          "execution_count": 28,
          "metadata": {},
          "output_type": "execute_result"
        }
      ],
      "source": [
        "def c11_dot16(vect):\n",
        "    return vector_dot_product16(vect, vect)\n",
        "\n",
        "measure_time(\"c11_dot16(values)\", context=dict(c11_dot16=c11_dot16, values=vect), repeat=10)"
      ]
    },
    {
      "cell_type": "code",
      "execution_count": 28,
      "metadata": {},
      "outputs": [
        {
          "data": {
            "text/html": [
              "<div>\n",
              "<style scoped>\n",
              "    .dataframe tbody tr th:only-of-type {\n",
              "        vertical-align: middle;\n",
              "    }\n",
              "\n",
              "    .dataframe tbody tr th {\n",
              "        vertical-align: top;\n",
              "    }\n",
              "\n",
              "    .dataframe thead th {\n",
              "        text-align: right;\n",
              "    }\n",
              "</style>\n",
              "<table border=\"1\" class=\"dataframe\">\n",
              "  <thead>\n",
              "    <tr style=\"text-align: right;\">\n",
              "      <th></th>\n",
              "      <th>average</th>\n",
              "      <th>deviation</th>\n",
              "      <th>max_exec</th>\n",
              "      <th>min_exec</th>\n",
              "      <th>number</th>\n",
              "      <th>repeat</th>\n",
              "      <th>size</th>\n",
              "    </tr>\n",
              "  </thead>\n",
              "  <tbody>\n",
              "    <tr>\n",
              "      <th>75</th>\n",
              "      <td>0.005482</td>\n",
              "      <td>0.000059</td>\n",
              "      <td>0.005623</td>\n",
              "      <td>0.005390</td>\n",
              "      <td>50</td>\n",
              "      <td>10</td>\n",
              "      <td>187510</td>\n",
              "    </tr>\n",
              "    <tr>\n",
              "      <th>76</th>\n",
              "      <td>0.005573</td>\n",
              "      <td>0.000049</td>\n",
              "      <td>0.005647</td>\n",
              "      <td>0.005461</td>\n",
              "      <td>50</td>\n",
              "      <td>10</td>\n",
              "      <td>190010</td>\n",
              "    </tr>\n",
              "    <tr>\n",
              "      <th>77</th>\n",
              "      <td>0.005647</td>\n",
              "      <td>0.000097</td>\n",
              "      <td>0.005892</td>\n",
              "      <td>0.005543</td>\n",
              "      <td>50</td>\n",
              "      <td>10</td>\n",
              "      <td>192510</td>\n",
              "    </tr>\n",
              "    <tr>\n",
              "      <th>78</th>\n",
              "      <td>0.006533</td>\n",
              "      <td>0.000996</td>\n",
              "      <td>0.008361</td>\n",
              "      <td>0.005662</td>\n",
              "      <td>50</td>\n",
              "      <td>10</td>\n",
              "      <td>195010</td>\n",
              "    </tr>\n",
              "    <tr>\n",
              "      <th>79</th>\n",
              "      <td>0.005885</td>\n",
              "      <td>0.000065</td>\n",
              "      <td>0.006034</td>\n",
              "      <td>0.005811</td>\n",
              "      <td>50</td>\n",
              "      <td>10</td>\n",
              "      <td>197510</td>\n",
              "    </tr>\n",
              "  </tbody>\n",
              "</table>\n",
              "</div>"
            ],
            "text/plain": [
              "     average  deviation  max_exec  min_exec  number  repeat    size\n",
              "75  0.005482   0.000059  0.005623  0.005390      50      10  187510\n",
              "76  0.005573   0.000049  0.005647  0.005461      50      10  190010\n",
              "77  0.005647   0.000097  0.005892  0.005543      50      10  192510\n",
              "78  0.006533   0.000996  0.008361  0.005662      50      10  195010\n",
              "79  0.005885   0.000065  0.006034  0.005811      50      10  197510"
            ]
          },
          "execution_count": 29,
          "metadata": {},
          "output_type": "execute_result"
        }
      ],
      "source": [
        "res = []\n",
        "for i in range(10, 200000, 2500):\n",
        "    t = measure_time(\"c11_dot16(values)\", repeat=10,\n",
        "                     context=dict(c11_dot16=c11_dot16, values=vect[:i].copy()))\n",
        "    res.append(t)\n",
        "\n",
        "cus_dot16 = pandas.DataFrame(res)\n",
        "cus_dot16.tail()"
      ]
    },
    {
      "cell_type": "code",
      "execution_count": 29,
      "metadata": {},
      "outputs": [
        {
          "data": {
            "image/png": "[encoded data removed]",
            "text/plain": [
              "<Figure size 1008x288 with 2 Axes>"
            ]
          },
          "metadata": {
            "needs_background": "light"
          },
          "output_type": "display_data"
        }
      ],
      "source": [
        "fig, ax = plt.subplots(1, 2, figsize=(14,4))\n",
        "dot.plot(x='size', y=\"average\", ax=ax[0], label=\"numpy\")\n",
        "cus_dot.plot(x='size', y=\"average\", ax=ax[0], label=\"pybind11\")\n",
        "cus_dot16.plot(x='size', y=\"average\", ax=ax[0], label=\"pybind11x16\")\n",
        "dot.plot(x='size', y=\"average\", ax=ax[1], label=\"numpy\", logy=True)\n",
        "cus_dot.plot(x='size', y=\"average\", ax=ax[1], label=\"pybind11\")\n",
        "cus_dot16.plot(x='size', y=\"average\", ax=ax[1], label=\"pybind11x16\")\n",
        "ax[0].set_title(\"numpy and custom dot product execution time\");\n",
        "ax[1].set_title(\"numpy and custom dot product execution time\");"
      ]
    },
    {
      "cell_type": "markdown",
      "metadata": {},
      "source": [
        "We are far from *numpy* but the branching has clearly a huge impact and the fact the loop condition is evaluated only every 16 iterations does not explain this gain. Next experiment with [SSE](https://fr.wikipedia.org/wiki/Streaming_SIMD_Extensions) instructions."
      ]
    },
    {
      "cell_type": "code",
      "execution_count": 30,
      "metadata": {},
      "outputs": [
        {
          "data": {
            "text/plain": [
              "3333332.0"
            ]
          },
          "execution_count": 31,
          "metadata": {},
          "output_type": "execute_result"
        }
      ],
      "source": [
        "from cpyquickhelper.numbers.cbenchmark import vector_dot_product16_sse\n",
        "vector_dot_product16_sse(vect, vect)"
      ]
    },
    {
      "cell_type": "code",
      "execution_count": 31,
      "metadata": {},
      "outputs": [
        {
          "data": {
            "text/plain": [
              "{'average': 0.14032947380000066,\n",
              " 'deviation': 0.003421190915140355,\n",
              " 'min_exec': 0.13728247800000304,\n",
              " 'max_exec': 0.14819764800000002,\n",
              " 'repeat': 10,\n",
              " 'number': 50,\n",
              " 'size': 10000000}"
            ]
          },
          "execution_count": 32,
          "metadata": {},
          "output_type": "execute_result"
        }
      ],
      "source": [
        "def c11_dot16_sse(vect):\n",
        "    return vector_dot_product16_sse(vect, vect)\n",
        "\n",
        "measure_time(\"c11_dot16_sse(values)\", context=dict(c11_dot16_sse=c11_dot16_sse, values=vect), repeat=10)"
      ]
    },
    {
      "cell_type": "code",
      "execution_count": 32,
      "metadata": {},
      "outputs": [
        {
          "data": {
            "text/html": [
              "<div>\n",
              "<style scoped>\n",
              "    .dataframe tbody tr th:only-of-type {\n",
              "        vertical-align: middle;\n",
              "    }\n",
              "\n",
              "    .dataframe tbody tr th {\n",
              "        vertical-align: top;\n",
              "    }\n",
              "\n",
              "    .dataframe thead th {\n",
              "        text-align: right;\n",
              "    }\n",
              "</style>\n",
              "<table border=\"1\" class=\"dataframe\">\n",
              "  <thead>\n",
              "    <tr style=\"text-align: right;\">\n",
              "      <th></th>\n",
              "      <th>average</th>\n",
              "      <th>deviation</th>\n",
              "      <th>max_exec</th>\n",
              "      <th>min_exec</th>\n",
              "      <th>number</th>\n",
              "      <th>repeat</th>\n",
              "      <th>size</th>\n",
              "    </tr>\n",
              "  </thead>\n",
              "  <tbody>\n",
              "    <tr>\n",
              "      <th>75</th>\n",
              "      <td>0.001833</td>\n",
              "      <td>0.000019</td>\n",
              "      <td>0.001864</td>\n",
              "      <td>0.001803</td>\n",
              "      <td>50</td>\n",
              "      <td>10</td>\n",
              "      <td>187510</td>\n",
              "    </tr>\n",
              "    <tr>\n",
              "      <th>76</th>\n",
              "      <td>0.001867</td>\n",
              "      <td>0.000032</td>\n",
              "      <td>0.001939</td>\n",
              "      <td>0.001816</td>\n",
              "      <td>50</td>\n",
              "      <td>10</td>\n",
              "      <td>190010</td>\n",
              "    </tr>\n",
              "    <tr>\n",
              "      <th>77</th>\n",
              "      <td>0.001878</td>\n",
              "      <td>0.000013</td>\n",
              "      <td>0.001898</td>\n",
              "      <td>0.001856</td>\n",
              "      <td>50</td>\n",
              "      <td>10</td>\n",
              "      <td>192510</td>\n",
              "    </tr>\n",
              "    <tr>\n",
              "      <th>78</th>\n",
              "      <td>0.001895</td>\n",
              "      <td>0.000020</td>\n",
              "      <td>0.001926</td>\n",
              "      <td>0.001856</td>\n",
              "      <td>50</td>\n",
              "      <td>10</td>\n",
              "      <td>195010</td>\n",
              "    </tr>\n",
              "    <tr>\n",
              "      <th>79</th>\n",
              "      <td>0.001950</td>\n",
              "      <td>0.000040</td>\n",
              "      <td>0.002041</td>\n",
              "      <td>0.001899</td>\n",
              "      <td>50</td>\n",
              "      <td>10</td>\n",
              "      <td>197510</td>\n",
              "    </tr>\n",
              "  </tbody>\n",
              "</table>\n",
              "</div>"
            ],
            "text/plain": [
              "     average  deviation  max_exec  min_exec  number  repeat    size\n",
              "75  0.001833   0.000019  0.001864  0.001803      50      10  187510\n",
              "76  0.001867   0.000032  0.001939  0.001816      50      10  190010\n",
              "77  0.001878   0.000013  0.001898  0.001856      50      10  192510\n",
              "78  0.001895   0.000020  0.001926  0.001856      50      10  195010\n",
              "79  0.001950   0.000040  0.002041  0.001899      50      10  197510"
            ]
          },
          "execution_count": 33,
          "metadata": {},
          "output_type": "execute_result"
        }
      ],
      "source": [
        "res = []\n",
        "for i in range(10, 200000, 2500):\n",
        "    t = measure_time(\"c11_dot16_sse(values)\", repeat=10,\n",
        "                     context=dict(c11_dot16_sse=c11_dot16_sse, values=vect[:i].copy()))\n",
        "    res.append(t)\n",
        "\n",
        "cus_dot16_sse = pandas.DataFrame(res)\n",
        "cus_dot16_sse.tail()"
      ]
    },
    {
      "cell_type": "code",
      "execution_count": 33,
      "metadata": {},
      "outputs": [
        {
          "data": {
            "image/png": "[encoded data removed]",
            "text/plain": [
              "<Figure size 1008x288 with 2 Axes>"
            ]
          },
          "metadata": {
            "needs_background": "light"
          },
          "output_type": "display_data"
        }
      ],
      "source": [
        "fig, ax = plt.subplots(1, 2, figsize=(14,4))\n",
        "dot.plot(x='size', y=\"average\", ax=ax[0], label=\"numpy\")\n",
        "cus_dot16.plot(x='size', y=\"average\", ax=ax[0], label=\"pybind11x16\")\n",
        "cus_dot16_sse.plot(x='size', y=\"average\", ax=ax[0], label=\"pybind11x16_sse\")\n",
        "dot.plot(x='size', y=\"average\", ax=ax[1], label=\"numpy\", logy=True)\n",
        "cus_dot.plot(x='size', y=\"average\", ax=ax[1], label=\"pybind11\")\n",
        "cus_dot16.plot(x='size', y=\"average\", ax=ax[1], label=\"pybind11x16\")\n",
        "cus_dot16_sse.plot(x='size', y=\"average\", ax=ax[1], label=\"pybind11x16_sse\")\n",
        "ax[0].set_title(\"numpy and custom dot product execution time\");\n",
        "ax[1].set_title(\"numpy and custom dot product execution time\");"
      ]
    },
    {
      "cell_type": "markdown",
      "metadata": {},
      "source": [
        "Better even though it is still 4 times slower than *numpy*."
      ]
    },
    {
      "cell_type": "markdown",
      "metadata": {},
      "source": [
        "Last experiment with [AVX 512](https://fr.wikipedia.org/wiki/Advanced_Vector_Extensions) instructions but it does not work on all processor."
      ]
    },
    {
      "cell_type": "code",
      "execution_count": 34,
      "metadata": {},
      "outputs": [
        {
          "data": {
            "text/plain": [
              "'Intel64 Family 6 Model 78 Stepping 3, GenuineIntel'"
            ]
          },
          "execution_count": 35,
          "metadata": {},
          "output_type": "execute_result"
        }
      ],
      "source": [
        "import platform\n",
        "platform.processor()"
      ]
    },
    {
      "cell_type": "code",
      "execution_count": 35,
      "metadata": {},
      "outputs": [],
      "source": [
        "import numpy\n",
        "values = numpy.array(list(range(10000000)), dtype=numpy.float32)\n",
        "vect = values / numpy.max(values)"
      ]
    },
    {
      "cell_type": "code",
      "execution_count": 36,
      "metadata": {},
      "outputs": [
        {
          "data": {
            "text/plain": [
              "3333332.0"
            ]
          },
          "execution_count": 37,
          "metadata": {},
          "output_type": "execute_result"
        }
      ],
      "source": [
        "from cpyquickhelper.numbers.cbenchmark import vector_dot_product16_avx512\n",
        "vector_dot_product16_avx512(vect, vect)"
      ]
    },
    {
      "cell_type": "code",
      "execution_count": 37,
      "metadata": {},
      "outputs": [
        {
          "data": {
            "text/plain": [
              "{'average': 0.1470533113000009,\n",
              " 'deviation': 0.019361733707331998,\n",
              " 'min_exec': 0.13718134300000173,\n",
              " 'max_exec': 0.20421072900000325,\n",
              " 'repeat': 10,\n",
              " 'number': 50,\n",
              " 'size': 10000000}"
            ]
          },
          "execution_count": 38,
          "metadata": {},
          "output_type": "execute_result"
        }
      ],
      "source": [
        "def c11_dot16_avx512(vect):\n",
        "    return vector_dot_product16_avx512(vect, vect)\n",
        "\n",
        "measure_time(\"c11_dot16_avx512(values)\",\n",
        "             context=dict(c11_dot16_avx512=c11_dot16_avx512, values=vect), repeat=10)"
      ]
    },
    {
      "cell_type": "code",
      "execution_count": 38,
      "metadata": {},
      "outputs": [
        {
          "data": {
            "text/html": [
              "<div>\n",
              "<style scoped>\n",
              "    .dataframe tbody tr th:only-of-type {\n",
              "        vertical-align: middle;\n",
              "    }\n",
              "\n",
              "    .dataframe tbody tr th {\n",
              "        vertical-align: top;\n",
              "    }\n",
              "\n",
              "    .dataframe thead th {\n",
              "        text-align: right;\n",
              "    }\n",
              "</style>\n",
              "<table border=\"1\" class=\"dataframe\">\n",
              "  <thead>\n",
              "    <tr style=\"text-align: right;\">\n",
              "      <th></th>\n",
              "      <th>average</th>\n",
              "      <th>deviation</th>\n",
              "      <th>max_exec</th>\n",
              "      <th>min_exec</th>\n",
              "      <th>number</th>\n",
              "      <th>repeat</th>\n",
              "      <th>size</th>\n",
              "    </tr>\n",
              "  </thead>\n",
              "  <tbody>\n",
              "    <tr>\n",
              "      <th>75</th>\n",
              "      <td>0.001914</td>\n",
              "      <td>0.000034</td>\n",
              "      <td>0.002006</td>\n",
              "      <td>0.001886</td>\n",
              "      <td>50</td>\n",
              "      <td>10</td>\n",
              "      <td>187510</td>\n",
              "    </tr>\n",
              "    <tr>\n",
              "      <th>76</th>\n",
              "      <td>0.001925</td>\n",
              "      <td>0.000023</td>\n",
              "      <td>0.001964</td>\n",
              "      <td>0.001876</td>\n",
              "      <td>50</td>\n",
              "      <td>10</td>\n",
              "      <td>190010</td>\n",
              "    </tr>\n",
              "    <tr>\n",
              "      <th>77</th>\n",
              "      <td>0.001960</td>\n",
              "      <td>0.000023</td>\n",
              "      <td>0.002010</td>\n",
              "      <td>0.001937</td>\n",
              "      <td>50</td>\n",
              "      <td>10</td>\n",
              "      <td>192510</td>\n",
              "    </tr>\n",
              "    <tr>\n",
              "      <th>78</th>\n",
              "      <td>0.001989</td>\n",
              "      <td>0.000045</td>\n",
              "      <td>0.002109</td>\n",
              "      <td>0.001955</td>\n",
              "      <td>50</td>\n",
              "      <td>10</td>\n",
              "      <td>195010</td>\n",
              "    </tr>\n",
              "    <tr>\n",
              "      <th>79</th>\n",
              "      <td>0.001993</td>\n",
              "      <td>0.000014</td>\n",
              "      <td>0.002031</td>\n",
              "      <td>0.001979</td>\n",
              "      <td>50</td>\n",
              "      <td>10</td>\n",
              "      <td>197510</td>\n",
              "    </tr>\n",
              "  </tbody>\n",
              "</table>\n",
              "</div>"
            ],
            "text/plain": [
              "     average  deviation  max_exec  min_exec  number  repeat    size\n",
              "75  0.001914   0.000034  0.002006  0.001886      50      10  187510\n",
              "76  0.001925   0.000023  0.001964  0.001876      50      10  190010\n",
              "77  0.001960   0.000023  0.002010  0.001937      50      10  192510\n",
              "78  0.001989   0.000045  0.002109  0.001955      50      10  195010\n",
              "79  0.001993   0.000014  0.002031  0.001979      50      10  197510"
            ]
          },
          "execution_count": 39,
          "metadata": {},
          "output_type": "execute_result"
        }
      ],
      "source": [
        "res = []\n",
        "for i in range(10, 200000, 2500):\n",
        "    t = measure_time(\"c11_dot16_avx512(values)\", repeat=10,\n",
        "                     context=dict(c11_dot16_avx512=c11_dot16_avx512, values=vect[:i].copy()))\n",
        "    res.append(t)\n",
        "\n",
        "cus_dot16_avx512 = pandas.DataFrame(res)\n",
        "cus_dot16_avx512.tail()"
      ]
    },
    {
      "cell_type": "code",
      "execution_count": 39,
      "metadata": {},
      "outputs": [
        {
          "data": {
            "image/png": "[encoded data removed]",
            "text/plain": [
              "<Figure size 1008x288 with 2 Axes>"
            ]
          },
          "metadata": {
            "needs_background": "light"
          },
          "output_type": "display_data"
        }
      ],
      "source": [
        "fig, ax = plt.subplots(1, 2, figsize=(14,4))\n",
        "dot.plot(x='size', y=\"average\", ax=ax[0], label=\"numpy\")\n",
        "cus_dot16.plot(x='size', y=\"average\", ax=ax[0], label=\"pybind11x16\")\n",
        "cus_dot16_sse.plot(x='size', y=\"average\", ax=ax[0], label=\"pybind11x16_sse\")\n",
        "cus_dot16_avx512.plot(x='size', y=\"average\", ax=ax[0], label=\"pybind11x16_avx512\")\n",
        "dot.plot(x='size', y=\"average\", ax=ax[1], label=\"numpy\", logy=True)\n",
        "cus_dot.plot(x='size', y=\"average\", ax=ax[1], label=\"pybind11\")\n",
        "cus_dot16.plot(x='size', y=\"average\", ax=ax[1], label=\"pybind11x16\")\n",
        "cus_dot16_sse.plot(x='size', y=\"average\", ax=ax[1], label=\"pybind11x16_sse\")\n",
        "cus_dot16_avx512.plot(x='size', y=\"average\", ax=ax[1], label=\"pybind11x16_avx512\")\n",
        "ax[0].set_title(\"numpy and custom dot product execution time\");\n",
        "ax[1].set_title(\"numpy and custom dot product execution time\");"
      ]
    },
    {
      "cell_type": "markdown",
      "metadata": {},
      "source": [
        "If the time is the same, it means that options AVX512 are not available."
      ]
    },
    {
      "cell_type": "code",
      "execution_count": 40,
      "metadata": {},
      "outputs": [
        {
          "data": {
            "text/plain": [
              "'Available options:  __SSE__ __SSE2__ __SSE3__ __SSE4_1__'"
            ]
          },
          "execution_count": 41,
          "metadata": {},
          "output_type": "execute_result"
        }
      ],
      "source": [
        "from cpyquickhelper.numbers.cbenchmark import get_simd_available_option\n",
        "get_simd_available_option()"
      ]
    },
    {
      "cell_type": "code",
      "execution_count": 41,
      "metadata": {},
      "outputs": [],
      "source": []
    }
  ],
  "metadata": {
    "kernelspec": {
      "display_name": "Python 3",
      "language": "python",
      "name": "python3"
    },
    "language_info": {
      "codemirror_mode": {
        "name": "ipython",
        "version": 3
      },
      "file_extension": ".py",
      "mimetype": "text/x-python",
      "name": "python",
      "nbconvert_exporter": "python",
      "pygments_lexer": "ipython3",
      "version": "3.7.0"
    }
  },
  "nbformat": 4,
  "nbformat_minor": 2
}