{
  "cells": [
    {
      "cell_type": "markdown",
      "metadata": {},
      "source": [
        "# Measures branching in C++ from python\n",
        "\n",
        "This notebooks looks into a couple of ways to write code, which one is efficient, which one is not when it comes to write fast and short loops. Both experiments are around [branching](https://en.wikipedia.org/wiki/Branch_predictor)."
      ]
    },
    {
      "cell_type": "code",
      "execution_count": 1,
      "metadata": {},
      "outputs": [
        {
          "data": {
            "text/html": [
              "<div id=\"my_id_menu_nb\">run previous cell, wait for 2 seconds</div>\n",
              "<script>\n",
              "function repeat_indent_string(n){\n",
              "    var a = \"\" ;\n",
              "    for ( ; n > 0 ; --n)\n",
              "        a += \"    \";\n",
              "    return a;\n",
              "}\n",
              "// look up into all sections and builds an automated menu //\n",
              "var update_menu_string = function(begin, lfirst, llast, sformat, send, keep_item, begin_format, end_format) {\n",
              "    var anchors = document.getElementsByClassName(\"section\");\n",
              "    if (anchors.length == 0) {\n",
              "        anchors = document.getElementsByClassName(\"text_cell_render rendered_html\");\n",
              "    }\n",
              "    var i,t;\n",
              "    var text_menu = begin;\n",
              "    var text_memo = \"<pre>\\nlength:\" + anchors.length + \"\\n\";\n",
              "    var ind = \"\";\n",
              "    var memo_level = 1;\n",
              "    var href;\n",
              "    var tags = [];\n",
              "    var main_item = 0;\n",
              "    var format_open = 0;\n",
              "    for (i = 0; i <= llast; i++)\n",
              "        tags.push(\"h\" + i);\n",
              "\n",
              "    for (i = 0; i < anchors.length; i++) {\n",
              "        text_memo += \"**\" + anchors[i].id + \"--\\n\";\n",
              "\n",
              "        var child = null;\n",
              "        for(t = 0; t < tags.length; t++) {\n",
              "            var r = anchors[i].getElementsByTagName(tags[t]);\n",
              "            if (r.length > 0) {\n",
              "child = r[0];\n",
              "break;\n",
              "            }\n",
              "        }\n",
              "        if (child == null) {\n",
              "            text_memo += \"null\\n\";\n",
              "            continue;\n",
              "        }\n",
              "        if (anchors[i].hasAttribute(\"id\")) {\n",
              "            // when converted in RST\n",
              "            href = anchors[i].id;\n",
              "            text_memo += \"#1-\" + href;\n",
              "            // passer \u00e0 child suivant (le chercher)\n",
              "        }\n",
              "        else if (child.hasAttribute(\"id\")) {\n",
              "            // in a notebook\n",
              "            href = child.id;\n",
              "            text_memo += \"#2-\" + href;\n",
              "        }\n",
              "        else {\n",
              "            text_memo += \"#3-\" + \"*\" + \"\\n\";\n",
              "            continue;\n",
              "        }\n",
              "        var title = child.textContent;\n",
              "        var level = parseInt(child.tagName.substring(1,2));\n",
              "\n",
              "        text_memo += \"--\" + level + \"?\" + lfirst + \"--\" + title + \"\\n\";\n",
              "\n",
              "        if ((level < lfirst) || (level > llast)) {\n",
              "            continue ;\n",
              "        }\n",
              "        if (title.endsWith('\u00b6')) {\n",
              "            title = title.substring(0,title.length-1).replace(\"<\", \"&lt;\")\n",
              "         .replace(\">\", \"&gt;\").replace(\"&\", \"&amp;\");\n",
              "        }\n",
              "        if (title.length == 0) {\n",
              "            continue;\n",
              "        }\n",
              "\n",
              "        while (level < memo_level) {\n",
              "            text_menu += end_format + \"</ul>\\n\";\n",
              "            format_open -= 1;\n",
              "            memo_level -= 1;\n",
              "        }\n",
              "        if (level == lfirst) {\n",
              "            main_item += 1;\n",
              "        }\n",
              "        if (keep_item != -1 && main_item != keep_item + 1) {\n",
              "            // alert(main_item + \" - \" + level + \" - \" + keep_item);\n",
              "            continue;\n",
              "        }\n",
              "        while (level > memo_level) {\n",
              "            text_menu += \"<ul>\\n\";\n",
              "            memo_level += 1;\n",
              "        }\n",
              "        text_menu += repeat_indent_string(level-2);\n",
              "        text_menu += begin_format + sformat.replace(\"__HREF__\", href).replace(\"__TITLE__\", title);\n",
              "        format_open += 1;\n",
              "    }\n",
              "    while (1 < memo_level) {\n",
              "        text_menu += end_format + \"</ul>\\n\";\n",
              "        memo_level -= 1;\n",
              "        format_open -= 1;\n",
              "    }\n",
              "    text_menu += send;\n",
              "    //text_menu += \"\\n\" + text_memo;\n",
              "\n",
              "    while (format_open > 0) {\n",
              "        text_menu += end_format;\n",
              "        format_open -= 1;\n",
              "    }\n",
              "    return text_menu;\n",
              "};\n",
              "var update_menu = function() {\n",
              "    var sbegin = \"\";\n",
              "    var sformat = '<a href=\"#__HREF__\">__TITLE__</a>';\n",
              "    var send = \"\";\n",
              "    var begin_format = '<li>';\n",
              "    var end_format = '</li>';\n",
              "    var keep_item = -1;\n",
              "    var text_menu = update_menu_string(sbegin, 2, 4, sformat, send, keep_item,\n",
              "       begin_format, end_format);\n",
              "    var menu = document.getElementById(\"my_id_menu_nb\");\n",
              "    menu.innerHTML=text_menu;\n",
              "};\n",
              "window.setTimeout(update_menu,2000);\n",
              "            </script>"
            ],
            "text/plain": [
              "<IPython.core.display.HTML object>"
            ]
          },
          "execution_count": 2,
          "metadata": {},
          "output_type": "execute_result"
        }
      ],
      "source": [
        "from jyquickhelper import add_notebook_menu\n",
        "add_notebook_menu()"
      ]
    },
    {
      "cell_type": "code",
      "execution_count": 2,
      "metadata": {},
      "outputs": [],
      "source": [
        "%matplotlib inline"
      ]
    },
    {
      "cell_type": "markdown",
      "metadata": {},
      "source": [
        "## First experiment: comparison C++ syntax\n",
        "\n",
        "This all started with article [Why is it faster to process a sorted array than an unsorted array?](https://stackoverflow.com/questions/11227809/why-is-it-faster-to-process-a-sorted-array-than-an-unsorted-array/11227902#11227902). It compares different implementation fo the following function for which we try different implementations for the third line in next cell. The last option is taken\n",
        "[Checking whether a number is positive or negative using bitwise operators](https://stackoverflow.com/questions/3779202/checking-whether-a-number-is-positive-or-negative-using-bitwise-operators) which avoids [branching](https://en.wikipedia.org/wiki/Branch_predictor)."
      ]
    },
    {
      "cell_type": "code",
      "execution_count": 3,
      "metadata": {},
      "outputs": [],
      "source": [
        "# int nb = 0;\n",
        "# for(auto it = values.begin(); it != values.end(); ++it)\n",
        "#     if (*it >= th) nb++; // this line changes\n",
        "#     if (*it >= th) nb++; // and is repeated 10 times inside the loop.\n",
        "#     // ... 10 times\n",
        "# return nb;"
      ]
    },
    {
      "cell_type": "markdown",
      "metadata": {},
      "source": [
        "The third line is also repeated 10 times to avoid the loop being too significant. The code is available on github: [cbenchmark.cpp](https://github.com/sdpython/cpyquickhelper/blob/master/src/cpyquickhelper/numbers/cbenchmark.cpp) and\n",
        "[repeat_fct.h](https://github.com/sdpython/cpyquickhelper/blob/master/src/cpyquickhelper/numbers/repeat_fct.h)."
      ]
    },
    {
      "cell_type": "code",
      "execution_count": 4,
      "metadata": {},
      "outputs": [],
      "source": [
        "from cpyquickhelper.numbers.cbenchmark import measure_scenario_A, measure_scenario_B\n",
        "from cpyquickhelper.numbers.cbenchmark import measure_scenario_C, measure_scenario_D\n",
        "from cpyquickhelper.numbers.cbenchmark import measure_scenario_E, measure_scenario_F\n",
        "from cpyquickhelper.numbers.cbenchmark import measure_scenario_G, measure_scenario_H\n",
        "from cpyquickhelper.numbers.cbenchmark import measure_scenario_I, measure_scenario_J"
      ]
    },
    {
      "cell_type": "code",
      "execution_count": 5,
      "metadata": {},
      "outputs": [
        {
          "data": {
            "text/html": [
              "<div>\n",
              "<style scoped>\n",
              "    .dataframe tbody tr th:only-of-type {\n",
              "        vertical-align: middle;\n",
              "    }\n",
              "\n",
              "    .dataframe tbody tr th {\n",
              "        vertical-align: top;\n",
              "    }\n",
              "\n",
              "    .dataframe thead th {\n",
              "        text-align: right;\n",
              "    }\n",
              "</style>\n",
              "<table border=\"1\" class=\"dataframe\">\n",
              "  <thead>\n",
              "    <tr style=\"text-align: right;\">\n",
              "      <th></th>\n",
              "      <th>average</th>\n",
              "      <th>deviation</th>\n",
              "      <th>doc</th>\n",
              "      <th>label</th>\n",
              "      <th>max_exec</th>\n",
              "      <th>min_exec</th>\n",
              "      <th>name</th>\n",
              "      <th>number</th>\n",
              "      <th>repeat</th>\n",
              "    </tr>\n",
              "  </thead>\n",
              "  <tbody>\n",
              "    <tr>\n",
              "      <th>0</th>\n",
              "      <td>6.715500e-07</td>\n",
              "      <td>6.853369e-07</td>\n",
              "      <td>if (values[i] &gt;= th) ++nb;</td>\n",
              "      <td>sorted</td>\n",
              "      <td>1.580000e-06</td>\n",
              "      <td>0.000001</td>\n",
              "      <td>measure_scenario_A</td>\n",
              "      <td>20.0</td>\n",
              "      <td>10.0</td>\n",
              "    </tr>\n",
              "    <tr>\n",
              "      <th>1</th>\n",
              "      <td>6.321000e-07</td>\n",
              "      <td>6.419160e-07</td>\n",
              "      <td>if (*it &gt;= th) ++nb;</td>\n",
              "      <td>sorted</td>\n",
              "      <td>1.581000e-06</td>\n",
              "      <td>0.000001</td>\n",
              "      <td>measure_scenario_B</td>\n",
              "      <td>20.0</td>\n",
              "      <td>10.0</td>\n",
              "    </tr>\n",
              "    <tr>\n",
              "      <th>2</th>\n",
              "      <td>6.913500e-07</td>\n",
              "      <td>7.053421e-07</td>\n",
              "      <td>if (*it &gt;= th) nb++;</td>\n",
              "      <td>sorted</td>\n",
              "      <td>1.581000e-06</td>\n",
              "      <td>0.000001</td>\n",
              "      <td>measure_scenario_C</td>\n",
              "      <td>20.0</td>\n",
              "      <td>10.0</td>\n",
              "    </tr>\n",
              "    <tr>\n",
              "      <th>3</th>\n",
              "      <td>9.875000e-08</td>\n",
              "      <td>1.710400e-07</td>\n",
              "      <td>nb += *it &gt;= th ? 1 : 0;</td>\n",
              "      <td>sorted</td>\n",
              "      <td>3.950000e-07</td>\n",
              "      <td>0.000000</td>\n",
              "      <td>measure_scenario_D</td>\n",
              "      <td>20.0</td>\n",
              "      <td>10.0</td>\n",
              "    </tr>\n",
              "    <tr>\n",
              "      <th>4</th>\n",
              "      <td>6.321000e-07</td>\n",
              "      <td>6.419160e-07</td>\n",
              "      <td>if (*it &gt;= th) nb += 1;</td>\n",
              "      <td>sorted</td>\n",
              "      <td>1.581000e-06</td>\n",
              "      <td>0.000001</td>\n",
              "      <td>measure_scenario_E</td>\n",
              "      <td>20.0</td>\n",
              "      <td>10.0</td>\n",
              "    </tr>\n",
              "    <tr>\n",
              "      <th>5</th>\n",
              "      <td>9.875000e-08</td>\n",
              "      <td>1.710400e-07</td>\n",
              "      <td>nb += (*it - th) &gt;= 0 ? 1 : 0;</td>\n",
              "      <td>sorted</td>\n",
              "      <td>3.950000e-07</td>\n",
              "      <td>0.000000</td>\n",
              "      <td>measure_scenario_F</td>\n",
              "      <td>20.0</td>\n",
              "      <td>10.0</td>\n",
              "    </tr>\n",
              "    <tr>\n",
              "      <th>6</th>\n",
              "      <td>1.185000e-07</td>\n",
              "      <td>1.810117e-07</td>\n",
              "      <td>nb += (*it - th) &lt; 0 ? 1 : 0;</td>\n",
              "      <td>sorted</td>\n",
              "      <td>3.950000e-07</td>\n",
              "      <td>0.000000</td>\n",
              "      <td>measure_scenario_G</td>\n",
              "      <td>20.0</td>\n",
              "      <td>10.0</td>\n",
              "    </tr>\n",
              "    <tr>\n",
              "      <th>7</th>\n",
              "      <td>1.185000e-07</td>\n",
              "      <td>1.810117e-07</td>\n",
              "      <td>nb += *it &lt; th ? 1 : 0;</td>\n",
              "      <td>sorted</td>\n",
              "      <td>3.950000e-07</td>\n",
              "      <td>0.000000</td>\n",
              "      <td>measure_scenario_H</td>\n",
              "      <td>20.0</td>\n",
              "      <td>10.0</td>\n",
              "    </tr>\n",
              "    <tr>\n",
              "      <th>8</th>\n",
              "      <td>1.185500e-07</td>\n",
              "      <td>1.810882e-07</td>\n",
              "      <td>nb += 1 ^ ((unsigned int)(*it) &gt;&gt; (sizeof(int)...</td>\n",
              "      <td>sorted</td>\n",
              "      <td>3.960000e-07</td>\n",
              "      <td>0.000000</td>\n",
              "      <td>measure_scenario_I</td>\n",
              "      <td>20.0</td>\n",
              "      <td>10.0</td>\n",
              "    </tr>\n",
              "    <tr>\n",
              "      <th>9</th>\n",
              "      <td>1.185500e-07</td>\n",
              "      <td>1.810882e-07</td>\n",
              "      <td>nb += values[i] &gt;= th ? 1 : 0;</td>\n",
              "      <td>sorted</td>\n",
              "      <td>3.960000e-07</td>\n",
              "      <td>0.000000</td>\n",
              "      <td>measure_scenario_J</td>\n",
              "      <td>20.0</td>\n",
              "      <td>10.0</td>\n",
              "    </tr>\n",
              "  </tbody>\n",
              "</table>\n",
              "</div>"
            ],
            "text/plain": [
              "        average     deviation  \\\n",
              "0  6.715500e-07  6.853369e-07   \n",
              "1  6.321000e-07  6.419160e-07   \n",
              "2  6.913500e-07  7.053421e-07   \n",
              "3  9.875000e-08  1.710400e-07   \n",
              "4  6.321000e-07  6.419160e-07   \n",
              "5  9.875000e-08  1.710400e-07   \n",
              "6  1.185000e-07  1.810117e-07   \n",
              "7  1.185000e-07  1.810117e-07   \n",
              "8  1.185500e-07  1.810882e-07   \n",
              "9  1.185500e-07  1.810882e-07   \n",
              "\n",
              "                                                 doc   label      max_exec  \\\n",
              "0                         if (values[i] >= th) ++nb;  sorted  1.580000e-06   \n",
              "1                               if (*it >= th) ++nb;  sorted  1.581000e-06   \n",
              "2                               if (*it >= th) nb++;  sorted  1.581000e-06   \n",
              "3                           nb += *it >= th ? 1 : 0;  sorted  3.950000e-07   \n",
              "4                            if (*it >= th) nb += 1;  sorted  1.581000e-06   \n",
              "5                     nb += (*it - th) >= 0 ? 1 : 0;  sorted  3.950000e-07   \n",
              "6                      nb += (*it - th) < 0 ? 1 : 0;  sorted  3.950000e-07   \n",
              "7                            nb += *it < th ? 1 : 0;  sorted  3.950000e-07   \n",
              "8  nb += 1 ^ ((unsigned int)(*it) >> (sizeof(int)...  sorted  3.960000e-07   \n",
              "9                     nb += values[i] >= th ? 1 : 0;  sorted  3.960000e-07   \n",
              "\n",
              "   min_exec                name  number  repeat  \n",
              "0  0.000001  measure_scenario_A    20.0    10.0  \n",
              "1  0.000001  measure_scenario_B    20.0    10.0  \n",
              "2  0.000001  measure_scenario_C    20.0    10.0  \n",
              "3  0.000000  measure_scenario_D    20.0    10.0  \n",
              "4  0.000001  measure_scenario_E    20.0    10.0  \n",
              "5  0.000000  measure_scenario_F    20.0    10.0  \n",
              "6  0.000000  measure_scenario_G    20.0    10.0  \n",
              "7  0.000000  measure_scenario_H    20.0    10.0  \n",
              "8  0.000000  measure_scenario_I    20.0    10.0  \n",
              "9  0.000000  measure_scenario_J    20.0    10.0  "
            ]
          },
          "execution_count": 6,
          "metadata": {},
          "output_type": "execute_result"
        }
      ],
      "source": [
        "import pandas\n",
        "\n",
        "def test_benchmark(label, values, th, repeat=10, number=20):\n",
        "    funcs = [(k, v) for k, v in globals().copy().items() if k.startswith(\"measure_scenario\")]\n",
        "    rows = []\n",
        "    for k, v in funcs:\n",
        "        exe = v(values, th, repeat, number)\n",
        "        d = exe.todict()\n",
        "        d['doc'] = v.__doc__.split('``')[1]\n",
        "        d['label'] = label\n",
        "        d['name'] = k\n",
        "        rows.append(d)        \n",
        "    df = pandas.DataFrame(rows)\n",
        "    return df\n",
        "\n",
        "test_benchmark(\"sorted\", list(range(10)), 5)"
      ]
    },
    {
      "cell_type": "markdown",
      "metadata": {},
      "source": [
        "Times are not very conclusive on such small lists."
      ]
    },
    {
      "cell_type": "code",
      "execution_count": 6,
      "metadata": {},
      "outputs": [
        {
          "data": {
            "text/html": [
              "<div>\n",
              "<style scoped>\n",
              "    .dataframe tbody tr th:only-of-type {\n",
              "        vertical-align: middle;\n",
              "    }\n",
              "\n",
              "    .dataframe tbody tr th {\n",
              "        vertical-align: top;\n",
              "    }\n",
              "\n",
              "    .dataframe thead th {\n",
              "        text-align: right;\n",
              "    }\n",
              "</style>\n",
              "<table border=\"1\" class=\"dataframe\">\n",
              "  <thead>\n",
              "    <tr style=\"text-align: right;\">\n",
              "      <th></th>\n",
              "      <th>average</th>\n",
              "      <th>deviation</th>\n",
              "      <th>doc</th>\n",
              "      <th>label</th>\n",
              "      <th>max_exec</th>\n",
              "      <th>min_exec</th>\n",
              "      <th>name</th>\n",
              "      <th>number</th>\n",
              "      <th>repeat</th>\n",
              "    </tr>\n",
              "  </thead>\n",
              "  <tbody>\n",
              "    <tr>\n",
              "      <th>0</th>\n",
              "      <td>0.198809</td>\n",
              "      <td>NaN</td>\n",
              "      <td>if (values[i] &gt;= th) ++nb;</td>\n",
              "      <td>sorted</td>\n",
              "      <td>0.048316</td>\n",
              "      <td>0.013214</td>\n",
              "      <td>measure_scenario_A</td>\n",
              "      <td>20.0</td>\n",
              "      <td>200.0</td>\n",
              "    </tr>\n",
              "    <tr>\n",
              "      <th>1</th>\n",
              "      <td>0.144563</td>\n",
              "      <td>NaN</td>\n",
              "      <td>if (*it &gt;= th) ++nb;</td>\n",
              "      <td>sorted</td>\n",
              "      <td>0.036785</td>\n",
              "      <td>0.013085</td>\n",
              "      <td>measure_scenario_B</td>\n",
              "      <td>20.0</td>\n",
              "      <td>200.0</td>\n",
              "    </tr>\n",
              "    <tr>\n",
              "      <th>2</th>\n",
              "      <td>0.168784</td>\n",
              "      <td>NaN</td>\n",
              "      <td>if (*it &gt;= th) nb++;</td>\n",
              "      <td>sorted</td>\n",
              "      <td>0.055323</td>\n",
              "      <td>0.013207</td>\n",
              "      <td>measure_scenario_C</td>\n",
              "      <td>20.0</td>\n",
              "      <td>200.0</td>\n",
              "    </tr>\n",
              "    <tr>\n",
              "      <th>3</th>\n",
              "      <td>0.013268</td>\n",
              "      <td>NaN</td>\n",
              "      <td>nb += *it &gt;= th ? 1 : 0;</td>\n",
              "      <td>sorted</td>\n",
              "      <td>0.002524</td>\n",
              "      <td>0.001087</td>\n",
              "      <td>measure_scenario_D</td>\n",
              "      <td>20.0</td>\n",
              "      <td>200.0</td>\n",
              "    </tr>\n",
              "    <tr>\n",
              "      <th>4</th>\n",
              "      <td>0.173552</td>\n",
              "      <td>NaN</td>\n",
              "      <td>if (*it &gt;= th) nb += 1;</td>\n",
              "      <td>sorted</td>\n",
              "      <td>0.049706</td>\n",
              "      <td>0.013067</td>\n",
              "      <td>measure_scenario_E</td>\n",
              "      <td>20.0</td>\n",
              "      <td>200.0</td>\n",
              "    </tr>\n",
              "    <tr>\n",
              "      <th>5</th>\n",
              "      <td>0.016593</td>\n",
              "      <td>NaN</td>\n",
              "      <td>nb += (*it - th) &gt;= 0 ? 1 : 0;</td>\n",
              "      <td>sorted</td>\n",
              "      <td>0.002472</td>\n",
              "      <td>0.001589</td>\n",
              "      <td>measure_scenario_F</td>\n",
              "      <td>20.0</td>\n",
              "      <td>200.0</td>\n",
              "    </tr>\n",
              "    <tr>\n",
              "      <th>6</th>\n",
              "      <td>0.017285</td>\n",
              "      <td>NaN</td>\n",
              "      <td>nb += (*it - th) &lt; 0 ? 1 : 0;</td>\n",
              "      <td>sorted</td>\n",
              "      <td>0.005242</td>\n",
              "      <td>0.001393</td>\n",
              "      <td>measure_scenario_G</td>\n",
              "      <td>20.0</td>\n",
              "      <td>200.0</td>\n",
              "    </tr>\n",
              "    <tr>\n",
              "      <th>7</th>\n",
              "      <td>0.019051</td>\n",
              "      <td>NaN</td>\n",
              "      <td>nb += *it &lt; th ? 1 : 0;</td>\n",
              "      <td>sorted</td>\n",
              "      <td>0.003614</td>\n",
              "      <td>0.001296</td>\n",
              "      <td>measure_scenario_H</td>\n",
              "      <td>20.0</td>\n",
              "      <td>200.0</td>\n",
              "    </tr>\n",
              "    <tr>\n",
              "      <th>8</th>\n",
              "      <td>0.019326</td>\n",
              "      <td>NaN</td>\n",
              "      <td>nb += 1 ^ ((unsigned int)(*it) &gt;&gt; (sizeof(int)...</td>\n",
              "      <td>sorted</td>\n",
              "      <td>0.004416</td>\n",
              "      <td>0.001521</td>\n",
              "      <td>measure_scenario_I</td>\n",
              "      <td>20.0</td>\n",
              "      <td>200.0</td>\n",
              "    </tr>\n",
              "    <tr>\n",
              "      <th>9</th>\n",
              "      <td>0.021155</td>\n",
              "      <td>NaN</td>\n",
              "      <td>nb += values[i] &gt;= th ? 1 : 0;</td>\n",
              "      <td>sorted</td>\n",
              "      <td>0.003900</td>\n",
              "      <td>0.001401</td>\n",
              "      <td>measure_scenario_J</td>\n",
              "      <td>20.0</td>\n",
              "      <td>200.0</td>\n",
              "    </tr>\n",
              "  </tbody>\n",
              "</table>\n",
              "</div>"
            ],
            "text/plain": [
              "    average  deviation                                                doc  \\\n",
              "0  0.198809        NaN                         if (values[i] >= th) ++nb;   \n",
              "1  0.144563        NaN                               if (*it >= th) ++nb;   \n",
              "2  0.168784        NaN                               if (*it >= th) nb++;   \n",
              "3  0.013268        NaN                           nb += *it >= th ? 1 : 0;   \n",
              "4  0.173552        NaN                            if (*it >= th) nb += 1;   \n",
              "5  0.016593        NaN                     nb += (*it - th) >= 0 ? 1 : 0;   \n",
              "6  0.017285        NaN                      nb += (*it - th) < 0 ? 1 : 0;   \n",
              "7  0.019051        NaN                            nb += *it < th ? 1 : 0;   \n",
              "8  0.019326        NaN  nb += 1 ^ ((unsigned int)(*it) >> (sizeof(int)...   \n",
              "9  0.021155        NaN                     nb += values[i] >= th ? 1 : 0;   \n",
              "\n",
              "    label  max_exec  min_exec                name  number  repeat  \n",
              "0  sorted  0.048316  0.013214  measure_scenario_A    20.0   200.0  \n",
              "1  sorted  0.036785  0.013085  measure_scenario_B    20.0   200.0  \n",
              "2  sorted  0.055323  0.013207  measure_scenario_C    20.0   200.0  \n",
              "3  sorted  0.002524  0.001087  measure_scenario_D    20.0   200.0  \n",
              "4  sorted  0.049706  0.013067  measure_scenario_E    20.0   200.0  \n",
              "5  sorted  0.002472  0.001589  measure_scenario_F    20.0   200.0  \n",
              "6  sorted  0.005242  0.001393  measure_scenario_G    20.0   200.0  \n",
              "7  sorted  0.003614  0.001296  measure_scenario_H    20.0   200.0  \n",
              "8  sorted  0.004416  0.001521  measure_scenario_I    20.0   200.0  \n",
              "9  sorted  0.003900  0.001401  measure_scenario_J    20.0   200.0  "
            ]
          },
          "execution_count": 7,
          "metadata": {},
          "output_type": "execute_result"
        }
      ],
      "source": [
        "values = list(range(100000))\n",
        "df_sorted = test_benchmark(\"sorted\", values, len(values)//2, repeat=200)\n",
        "df_sorted"
      ]
    },
    {
      "cell_type": "markdown",
      "metadata": {},
      "source": [
        "The article some implementations will be slower if the values are not sorted."
      ]
    },
    {
      "cell_type": "code",
      "execution_count": 7,
      "metadata": {},
      "outputs": [
        {
          "data": {
            "text/plain": [
              "[94184, 59162, 58681, 12733, 65360, 16582, 69420, 13481, 51075, 54881]"
            ]
          },
          "execution_count": 8,
          "metadata": {},
          "output_type": "execute_result"
        }
      ],
      "source": [
        "import random\n",
        "random.shuffle(values)\n",
        "values[:10]"
      ]
    },
    {
      "cell_type": "code",
      "execution_count": 8,
      "metadata": {},
      "outputs": [
        {
          "data": {
            "text/html": [
              "<div>\n",
              "<style scoped>\n",
              "    .dataframe tbody tr th:only-of-type {\n",
              "        vertical-align: middle;\n",
              "    }\n",
              "\n",
              "    .dataframe tbody tr th {\n",
              "        vertical-align: top;\n",
              "    }\n",
              "\n",
              "    .dataframe thead th {\n",
              "        text-align: right;\n",
              "    }\n",
              "</style>\n",
              "<table border=\"1\" class=\"dataframe\">\n",
              "  <thead>\n",
              "    <tr style=\"text-align: right;\">\n",
              "      <th></th>\n",
              "      <th>average</th>\n",
              "      <th>deviation</th>\n",
              "      <th>doc</th>\n",
              "      <th>label</th>\n",
              "      <th>max_exec</th>\n",
              "      <th>min_exec</th>\n",
              "      <th>name</th>\n",
              "      <th>number</th>\n",
              "      <th>repeat</th>\n",
              "    </tr>\n",
              "  </thead>\n",
              "  <tbody>\n",
              "    <tr>\n",
              "      <th>0</th>\n",
              "      <td>0.261780</td>\n",
              "      <td>NaN</td>\n",
              "      <td>if (values[i] &gt;= th) ++nb;</td>\n",
              "      <td>shuffled</td>\n",
              "      <td>0.045293</td>\n",
              "      <td>0.013667</td>\n",
              "      <td>measure_scenario_A</td>\n",
              "      <td>20.0</td>\n",
              "      <td>200.0</td>\n",
              "    </tr>\n",
              "    <tr>\n",
              "      <th>1</th>\n",
              "      <td>0.284194</td>\n",
              "      <td>NaN</td>\n",
              "      <td>if (*it &gt;= th) ++nb;</td>\n",
              "      <td>shuffled</td>\n",
              "      <td>0.048064</td>\n",
              "      <td>0.014950</td>\n",
              "      <td>measure_scenario_B</td>\n",
              "      <td>20.0</td>\n",
              "      <td>200.0</td>\n",
              "    </tr>\n",
              "    <tr>\n",
              "      <th>2</th>\n",
              "      <td>0.255135</td>\n",
              "      <td>NaN</td>\n",
              "      <td>if (*it &gt;= th) nb++;</td>\n",
              "      <td>shuffled</td>\n",
              "      <td>0.051055</td>\n",
              "      <td>0.014096</td>\n",
              "      <td>measure_scenario_C</td>\n",
              "      <td>20.0</td>\n",
              "      <td>200.0</td>\n",
              "    </tr>\n",
              "    <tr>\n",
              "      <th>3</th>\n",
              "      <td>0.021042</td>\n",
              "      <td>NaN</td>\n",
              "      <td>nb += *it &gt;= th ? 1 : 0;</td>\n",
              "      <td>shuffled</td>\n",
              "      <td>0.003608</td>\n",
              "      <td>0.001093</td>\n",
              "      <td>measure_scenario_D</td>\n",
              "      <td>20.0</td>\n",
              "      <td>200.0</td>\n",
              "    </tr>\n",
              "    <tr>\n",
              "      <th>4</th>\n",
              "      <td>0.246156</td>\n",
              "      <td>NaN</td>\n",
              "      <td>if (*it &gt;= th) nb += 1;</td>\n",
              "      <td>shuffled</td>\n",
              "      <td>0.041745</td>\n",
              "      <td>0.016777</td>\n",
              "      <td>measure_scenario_E</td>\n",
              "      <td>20.0</td>\n",
              "      <td>200.0</td>\n",
              "    </tr>\n",
              "    <tr>\n",
              "      <th>5</th>\n",
              "      <td>0.029178</td>\n",
              "      <td>NaN</td>\n",
              "      <td>nb += (*it - th) &gt;= 0 ? 1 : 0;</td>\n",
              "      <td>shuffled</td>\n",
              "      <td>0.004090</td>\n",
              "      <td>0.001762</td>\n",
              "      <td>measure_scenario_F</td>\n",
              "      <td>20.0</td>\n",
              "      <td>200.0</td>\n",
              "    </tr>\n",
              "    <tr>\n",
              "      <th>6</th>\n",
              "      <td>0.024587</td>\n",
              "      <td>NaN</td>\n",
              "      <td>nb += (*it - th) &lt; 0 ? 1 : 0;</td>\n",
              "      <td>shuffled</td>\n",
              "      <td>0.002947</td>\n",
              "      <td>0.001429</td>\n",
              "      <td>measure_scenario_G</td>\n",
              "      <td>20.0</td>\n",
              "      <td>200.0</td>\n",
              "    </tr>\n",
              "    <tr>\n",
              "      <th>7</th>\n",
              "      <td>0.024666</td>\n",
              "      <td>NaN</td>\n",
              "      <td>nb += *it &lt; th ? 1 : 0;</td>\n",
              "      <td>shuffled</td>\n",
              "      <td>0.004103</td>\n",
              "      <td>0.001606</td>\n",
              "      <td>measure_scenario_H</td>\n",
              "      <td>20.0</td>\n",
              "      <td>200.0</td>\n",
              "    </tr>\n",
              "    <tr>\n",
              "      <th>8</th>\n",
              "      <td>0.029580</td>\n",
              "      <td>NaN</td>\n",
              "      <td>nb += 1 ^ ((unsigned int)(*it) &gt;&gt; (sizeof(int)...</td>\n",
              "      <td>shuffled</td>\n",
              "      <td>0.004534</td>\n",
              "      <td>0.001577</td>\n",
              "      <td>measure_scenario_I</td>\n",
              "      <td>20.0</td>\n",
              "      <td>200.0</td>\n",
              "    </tr>\n",
              "    <tr>\n",
              "      <th>9</th>\n",
              "      <td>0.024714</td>\n",
              "      <td>NaN</td>\n",
              "      <td>nb += values[i] &gt;= th ? 1 : 0;</td>\n",
              "      <td>shuffled</td>\n",
              "      <td>0.003013</td>\n",
              "      <td>0.001685</td>\n",
              "      <td>measure_scenario_J</td>\n",
              "      <td>20.0</td>\n",
              "      <td>200.0</td>\n",
              "    </tr>\n",
              "  </tbody>\n",
              "</table>\n",
              "</div>"
            ],
            "text/plain": [
              "    average  deviation                                                doc  \\\n",
              "0  0.261780        NaN                         if (values[i] >= th) ++nb;   \n",
              "1  0.284194        NaN                               if (*it >= th) ++nb;   \n",
              "2  0.255135        NaN                               if (*it >= th) nb++;   \n",
              "3  0.021042        NaN                           nb += *it >= th ? 1 : 0;   \n",
              "4  0.246156        NaN                            if (*it >= th) nb += 1;   \n",
              "5  0.029178        NaN                     nb += (*it - th) >= 0 ? 1 : 0;   \n",
              "6  0.024587        NaN                      nb += (*it - th) < 0 ? 1 : 0;   \n",
              "7  0.024666        NaN                            nb += *it < th ? 1 : 0;   \n",
              "8  0.029580        NaN  nb += 1 ^ ((unsigned int)(*it) >> (sizeof(int)...   \n",
              "9  0.024714        NaN                     nb += values[i] >= th ? 1 : 0;   \n",
              "\n",
              "      label  max_exec  min_exec                name  number  repeat  \n",
              "0  shuffled  0.045293  0.013667  measure_scenario_A    20.0   200.0  \n",
              "1  shuffled  0.048064  0.014950  measure_scenario_B    20.0   200.0  \n",
              "2  shuffled  0.051055  0.014096  measure_scenario_C    20.0   200.0  \n",
              "3  shuffled  0.003608  0.001093  measure_scenario_D    20.0   200.0  \n",
              "4  shuffled  0.041745  0.016777  measure_scenario_E    20.0   200.0  \n",
              "5  shuffled  0.004090  0.001762  measure_scenario_F    20.0   200.0  \n",
              "6  shuffled  0.002947  0.001429  measure_scenario_G    20.0   200.0  \n",
              "7  shuffled  0.004103  0.001606  measure_scenario_H    20.0   200.0  \n",
              "8  shuffled  0.004534  0.001577  measure_scenario_I    20.0   200.0  \n",
              "9  shuffled  0.003013  0.001685  measure_scenario_J    20.0   200.0  "
            ]
          },
          "execution_count": 9,
          "metadata": {},
          "output_type": "execute_result"
        }
      ],
      "source": [
        "df_shuffled = test_benchmark(\"shuffled\", values, len(values)//2, repeat=200)\n",
        "df_shuffled"
      ]
    },
    {
      "cell_type": "code",
      "execution_count": 9,
      "metadata": {},
      "outputs": [],
      "source": [
        "df = pandas.concat([df_sorted, df_shuffled])\n",
        "dfg = df[[\"doc\", \"label\", \"average\"]].pivot(\"doc\", \"label\", \"average\")"
      ]
    },
    {
      "cell_type": "code",
      "execution_count": 10,
      "metadata": {},
      "outputs": [
        {
          "data": {
            "image/png": "[encoded data removed]",
            "text/plain": [
              "<Figure size 432x288 with 1 Axes>"
            ]
          },
          "metadata": {
            "needs_background": "light"
          },
          "output_type": "display_data"
        }
      ],
      "source": [
        "ax = dfg.plot.bar(rot=30)\n",
        "labels = [l.get_text() for l in ax.get_xticklabels()]\n",
        "ax.set_xticklabels(labels, ha='right')\n",
        "ax.set_title(\"Comparison of all implementations\");"
      ]
    },
    {
      "cell_type": "markdown",
      "metadata": {},
      "source": [
        "It seems that inline tests (``cond ? value1 : value2``) do not stop the branching and it should be used whenever possible."
      ]
    },
    {
      "cell_type": "code",
      "execution_count": 11,
      "metadata": {},
      "outputs": [
        {
          "data": {
            "image/png": "[encoded data removed]",
            "text/plain": [
              "<Figure size 432x288 with 1 Axes>"
            ]
          },
          "metadata": {
            "needs_background": "light"
          },
          "output_type": "display_data"
        }
      ],
      "source": [
        "sdf = df[[\"doc\", \"label\", \"average\"]]\n",
        "dfg2 = sdf[sdf.doc.str.contains('[?^]')].pivot(\"doc\", \"label\", \"average\")\n",
        "ax = dfg2.plot.bar(rot=30)\n",
        "labels = [l.get_text() for l in ax.get_xticklabels()]\n",
        "ax.set_xticklabels(labels, ha='right')\n",
        "ax.set_title(\"Comparison of implementations using ? :\");"
      ]
    },
    {
      "cell_type": "code",
      "execution_count": 12,
      "metadata": {},
      "outputs": [
        {
          "data": {
            "image/png": "[encoded data removed]",
            "text/plain": [
              "<Figure size 432x288 with 1 Axes>"
            ]
          },
          "metadata": {
            "needs_background": "light"
          },
          "output_type": "display_data"
        }
      ],
      "source": [
        "sdf = df[[\"doc\", \"label\", \"average\"]]\n",
        "dfg2 = sdf[sdf.doc.str.contains('if')].pivot(\"doc\", \"label\", \"average\")\n",
        "ax = dfg2.plot.bar(rot=30)\n",
        "labels = [l.get_text() for l in ax.get_xticklabels()]\n",
        "ax.set_xticklabels(labels, ha='right')\n",
        "ax.set_ylim([0.12, 0.15])\n",
        "ax.set_title(\"Comparison of implementations using tests\");"
      ]
    },
    {
      "cell_type": "markdown",
      "metadata": {},
      "source": [
        "*sorted*, *not sorted* does not seem to have a real impact in this case. It shows *branching* really slows down the execution of a program. Branching happens whenever the program meets a loop condition or a test. Iterator ``*it`` are faster than accessing an array with notation ``[i]`` which adds a cost due to an extra addition."
      ]
    },
    {
      "cell_type": "markdown",
      "metadata": {},
      "source": [
        "## Second experiment: dot product\n",
        "\n",
        "The goal is to compare the dot product from [numpy.dot](https://docs.scipy.org/doc/numpy-1.15.0/reference/generated/numpy.dot.html) and a couple of implementation in C++."
      ]
    },
    {
      "cell_type": "code",
      "execution_count": 13,
      "metadata": {},
      "outputs": [],
      "source": [
        "%matplotlib inline"
      ]
    },
    {
      "cell_type": "code",
      "execution_count": 14,
      "metadata": {},
      "outputs": [
        {
          "data": {
            "text/plain": [
              "3333333.2"
            ]
          },
          "execution_count": 15,
          "metadata": {},
          "output_type": "execute_result"
        }
      ],
      "source": [
        "import numpy\n",
        "\n",
        "def simple_dot(values):\n",
        "    return numpy.dot(values, values)\n",
        "\n",
        "values = list(range(10000000))\n",
        "values = numpy.array(values, dtype=numpy.float32)\n",
        "vect = values / numpy.max(values)\n",
        "simple_dot(vect)"
      ]
    },
    {
      "cell_type": "code",
      "execution_count": 15,
      "metadata": {},
      "outputs": [
        {
          "data": {
            "text/plain": [
              "dtype('float32')"
            ]
          },
          "execution_count": 16,
          "metadata": {},
          "output_type": "execute_result"
        }
      ],
      "source": [
        "vect.dtype"
      ]
    },
    {
      "cell_type": "code",
      "execution_count": 16,
      "metadata": {},
      "outputs": [
        {
          "data": {
            "text/plain": [
              "{'average': 0.10138990750000047,\n",
              " 'deviation': 0.008654755653649404,\n",
              " 'min_exec': 0.09204155399999792,\n",
              " 'max_exec': 0.11354399100000023,\n",
              " 'repeat': 10,\n",
              " 'number': 50,\n",
              " 'size': 10000000}"
            ]
          },
          "execution_count": 17,
          "metadata": {},
          "output_type": "execute_result"
        }
      ],
      "source": [
        "from timeit import Timer\n",
        "\n",
        "def measure_time(stmt, context, repeat=10, number=50):\n",
        "    tim = Timer(stmt, globals=context)\n",
        "    res = numpy.array(tim.repeat(repeat=repeat, number=number))\n",
        "    mean = numpy.mean(res)\n",
        "    dev = numpy.mean(res ** 2)\n",
        "    dev = (dev - mean**2) ** 0.5\n",
        "    return dict(average=mean, deviation=dev, min_exec=numpy.min(res),\n",
        "                max_exec=numpy.max(res), repeat=repeat, number=number,\n",
        "                size=context['values'].shape[0])\n",
        "\n",
        "measure_time(\"simple_dot(values)\", context=dict(simple_dot=simple_dot, values=vect))"
      ]
    },
    {
      "cell_type": "code",
      "execution_count": 17,
      "metadata": {},
      "outputs": [
        {
          "data": {
            "text/html": [
              "<div>\n",
              "<style scoped>\n",
              "    .dataframe tbody tr th:only-of-type {\n",
              "        vertical-align: middle;\n",
              "    }\n",
              "\n",
              "    .dataframe tbody tr th {\n",
              "        vertical-align: top;\n",
              "    }\n",
              "\n",
              "    .dataframe thead th {\n",
              "        text-align: right;\n",
              "    }\n",
              "</style>\n",
              "<table border=\"1\" class=\"dataframe\">\n",
              "  <thead>\n",
              "    <tr style=\"text-align: right;\">\n",
              "      <th></th>\n",
              "      <th>average</th>\n",
              "      <th>deviation</th>\n",
              "      <th>max_exec</th>\n",
              "      <th>min_exec</th>\n",
              "      <th>number</th>\n",
              "      <th>repeat</th>\n",
              "      <th>size</th>\n",
              "    </tr>\n",
              "  </thead>\n",
              "  <tbody>\n",
              "    <tr>\n",
              "      <th>75</th>\n",
              "      <td>0.001282</td>\n",
              "      <td>0.000359</td>\n",
              "      <td>0.002106</td>\n",
              "      <td>0.000695</td>\n",
              "      <td>50</td>\n",
              "      <td>100</td>\n",
              "      <td>187510</td>\n",
              "    </tr>\n",
              "    <tr>\n",
              "      <th>76</th>\n",
              "      <td>0.001228</td>\n",
              "      <td>0.000354</td>\n",
              "      <td>0.002132</td>\n",
              "      <td>0.000689</td>\n",
              "      <td>50</td>\n",
              "      <td>100</td>\n",
              "      <td>190010</td>\n",
              "    </tr>\n",
              "    <tr>\n",
              "      <th>77</th>\n",
              "      <td>0.001309</td>\n",
              "      <td>0.000301</td>\n",
              "      <td>0.002137</td>\n",
              "      <td>0.000725</td>\n",
              "      <td>50</td>\n",
              "      <td>100</td>\n",
              "      <td>192510</td>\n",
              "    </tr>\n",
              "    <tr>\n",
              "      <th>78</th>\n",
              "      <td>0.001303</td>\n",
              "      <td>0.000329</td>\n",
              "      <td>0.002176</td>\n",
              "      <td>0.000705</td>\n",
              "      <td>50</td>\n",
              "      <td>100</td>\n",
              "      <td>195010</td>\n",
              "    </tr>\n",
              "    <tr>\n",
              "      <th>79</th>\n",
              "      <td>0.001292</td>\n",
              "      <td>0.000268</td>\n",
              "      <td>0.001563</td>\n",
              "      <td>0.000732</td>\n",
              "      <td>50</td>\n",
              "      <td>100</td>\n",
              "      <td>197510</td>\n",
              "    </tr>\n",
              "  </tbody>\n",
              "</table>\n",
              "</div>"
            ],
            "text/plain": [
              "     average  deviation  max_exec  min_exec  number  repeat    size\n",
              "75  0.001282   0.000359  0.002106  0.000695      50     100  187510\n",
              "76  0.001228   0.000354  0.002132  0.000689      50     100  190010\n",
              "77  0.001309   0.000301  0.002137  0.000725      50     100  192510\n",
              "78  0.001303   0.000329  0.002176  0.000705      50     100  195010\n",
              "79  0.001292   0.000268  0.001563  0.000732      50     100  197510"
            ]
          },
          "execution_count": 18,
          "metadata": {},
          "output_type": "execute_result"
        }
      ],
      "source": [
        "res = []\n",
        "for i in range(10, 200000, 2500):\n",
        "    t = measure_time(\"simple_dot(values)\", repeat=100,\n",
        "                     context=dict(simple_dot=simple_dot, values=vect[:i].copy()))\n",
        "    res.append(t)\n",
        "\n",
        "import pandas\n",
        "dot = pandas.DataFrame(res)\n",
        "dot.tail()"
      ]
    },
    {
      "cell_type": "code",
      "execution_count": 18,
      "metadata": {},
      "outputs": [
        {
          "data": {
            "text/html": [
              "<div>\n",
              "<style scoped>\n",
              "    .dataframe tbody tr th:only-of-type {\n",
              "        vertical-align: middle;\n",
              "    }\n",
              "\n",
              "    .dataframe tbody tr th {\n",
              "        vertical-align: top;\n",
              "    }\n",
              "\n",
              "    .dataframe thead th {\n",
              "        text-align: right;\n",
              "    }\n",
              "</style>\n",
              "<table border=\"1\" class=\"dataframe\">\n",
              "  <thead>\n",
              "    <tr style=\"text-align: right;\">\n",
              "      <th></th>\n",
              "      <th>average</th>\n",
              "      <th>deviation</th>\n",
              "      <th>max_exec</th>\n",
              "      <th>min_exec</th>\n",
              "      <th>number</th>\n",
              "      <th>repeat</th>\n",
              "      <th>size</th>\n",
              "    </tr>\n",
              "  </thead>\n",
              "  <tbody>\n",
              "    <tr>\n",
              "      <th>0</th>\n",
              "      <td>0.001599</td>\n",
              "      <td>0.000811</td>\n",
              "      <td>0.003718</td>\n",
              "      <td>0.000787</td>\n",
              "      <td>50</td>\n",
              "      <td>10</td>\n",
              "      <td>100000</td>\n",
              "    </tr>\n",
              "    <tr>\n",
              "      <th>1</th>\n",
              "      <td>0.009523</td>\n",
              "      <td>0.001686</td>\n",
              "      <td>0.012843</td>\n",
              "      <td>0.006636</td>\n",
              "      <td>50</td>\n",
              "      <td>10</td>\n",
              "      <td>1100000</td>\n",
              "    </tr>\n",
              "    <tr>\n",
              "      <th>2</th>\n",
              "      <td>0.021579</td>\n",
              "      <td>0.002297</td>\n",
              "      <td>0.024504</td>\n",
              "      <td>0.018018</td>\n",
              "      <td>50</td>\n",
              "      <td>10</td>\n",
              "      <td>2100000</td>\n",
              "    </tr>\n",
              "    <tr>\n",
              "      <th>3</th>\n",
              "      <td>0.029569</td>\n",
              "      <td>0.002440</td>\n",
              "      <td>0.033978</td>\n",
              "      <td>0.025643</td>\n",
              "      <td>50</td>\n",
              "      <td>10</td>\n",
              "      <td>3100000</td>\n",
              "    </tr>\n",
              "    <tr>\n",
              "      <th>4</th>\n",
              "      <td>0.037091</td>\n",
              "      <td>0.001086</td>\n",
              "      <td>0.039047</td>\n",
              "      <td>0.035381</td>\n",
              "      <td>50</td>\n",
              "      <td>10</td>\n",
              "      <td>4100000</td>\n",
              "    </tr>\n",
              "  </tbody>\n",
              "</table>\n",
              "</div>"
            ],
            "text/plain": [
              "    average  deviation  max_exec  min_exec  number  repeat     size\n",
              "0  0.001599   0.000811  0.003718  0.000787      50      10   100000\n",
              "1  0.009523   0.001686  0.012843  0.006636      50      10  1100000\n",
              "2  0.021579   0.002297  0.024504  0.018018      50      10  2100000\n",
              "3  0.029569   0.002440  0.033978  0.025643      50      10  3100000\n",
              "4  0.037091   0.001086  0.039047  0.035381      50      10  4100000"
            ]
          },
          "execution_count": 19,
          "metadata": {},
          "output_type": "execute_result"
        }
      ],
      "source": [
        "res = []\n",
        "for i in range(100000, 10000000, 1000000):\n",
        "    t = measure_time(\"simple_dot(values)\", repeat=10,\n",
        "                     context=dict(simple_dot=simple_dot, values=vect[:i].copy()))\n",
        "    res.append(t)\n",
        "    \n",
        "huge_dot = pandas.DataFrame(res)\n",
        "huge_dot.head()"
      ]
    },
    {
      "cell_type": "code",
      "execution_count": 19,
      "metadata": {},
      "outputs": [
        {
          "data": {
            "image/png": "[encoded data removed]",
            "text/plain": [
              "<Figure size 1008x288 with 2 Axes>"
            ]
          },
          "metadata": {
            "needs_background": "light"
          },
          "output_type": "display_data"
        }
      ],
      "source": [
        "import matplotlib.pyplot as plt\n",
        "fig, ax = plt.subplots(1, 2, figsize=(14,4))\n",
        "dot.plot(x='size', y=\"average\", ax=ax[0])\n",
        "huge_dot.plot(x='size', y=\"average\", ax=ax[1])\n",
        "ax[0].set_title(\"numpy dot product execution time\");\n",
        "ax[1].set_title(\"numpy dot product execution time\");"
      ]
    },
    {
      "cell_type": "markdown",
      "metadata": {},
      "source": [
        "Now the custom implementation. We start with an empty function to get a sense of the cost due to to pybind11."
      ]
    },
    {
      "cell_type": "code",
      "execution_count": 20,
      "metadata": {},
      "outputs": [
        {
          "data": {
            "text/plain": [
              "0.0"
            ]
          },
          "execution_count": 21,
          "metadata": {},
          "output_type": "execute_result"
        }
      ],
      "source": [
        "from cpyquickhelper.numbers.cbenchmark import empty_vector_dot_product\n",
        "empty_vector_dot_product(vect, vect)"
      ]
    },
    {
      "cell_type": "code",
      "execution_count": 21,
      "metadata": {},
      "outputs": [
        {
          "data": {
            "text/plain": [
              "{'average': 7.861729999945056e-05,\n",
              " 'deviation': 5.752138455230638e-06,\n",
              " 'min_exec': 7.506200000051422e-05,\n",
              " 'max_exec': 9.086400000057893e-05,\n",
              " 'repeat': 10,\n",
              " 'number': 50,\n",
              " 'size': 10000000}"
            ]
          },
          "execution_count": 22,
          "metadata": {},
          "output_type": "execute_result"
        }
      ],
      "source": [
        "def empty_c11_dot(vect):\n",
        "    return empty_vector_dot_product(vect, vect)\n",
        "\n",
        "measure_time(\"empty_c11_dot(values)\", context=dict(empty_c11_dot=empty_c11_dot, values=vect), repeat=10)"
      ]
    },
    {
      "cell_type": "markdown",
      "metadata": {},
      "source": [
        "Very small. It should not pollute our experiments."
      ]
    },
    {
      "cell_type": "code",
      "execution_count": 22,
      "metadata": {},
      "outputs": [
        {
          "data": {
            "text/plain": [
              "3334629.0"
            ]
          },
          "execution_count": 23,
          "metadata": {},
          "output_type": "execute_result"
        }
      ],
      "source": [
        "from cpyquickhelper.numbers.cbenchmark import vector_dot_product\n",
        "vector_dot_product(vect, vect)"
      ]
    },
    {
      "cell_type": "code",
      "execution_count": 23,
      "metadata": {},
      "outputs": [
        {
          "data": {
            "text/plain": [
              "{'average': 1.230638641500002,\n",
              " 'deviation': 0.06253004633593653,\n",
              " 'min_exec': 1.150500859999994,\n",
              " 'max_exec': 1.354440181000001,\n",
              " 'repeat': 10,\n",
              " 'number': 50,\n",
              " 'size': 10000000}"
            ]
          },
          "execution_count": 24,
          "metadata": {},
          "output_type": "execute_result"
        }
      ],
      "source": [
        "def c11_dot(vect):\n",
        "    return vector_dot_product(vect, vect)\n",
        "\n",
        "measure_time(\"c11_dot(values)\", context=dict(c11_dot=c11_dot, values=vect), repeat=10)"
      ]
    },
    {
      "cell_type": "code",
      "execution_count": 24,
      "metadata": {
        "scrolled": false
      },
      "outputs": [
        {
          "data": {
            "text/html": [
              "<div>\n",
              "<style scoped>\n",
              "    .dataframe tbody tr th:only-of-type {\n",
              "        vertical-align: middle;\n",
              "    }\n",
              "\n",
              "    .dataframe tbody tr th {\n",
              "        vertical-align: top;\n",
              "    }\n",
              "\n",
              "    .dataframe thead th {\n",
              "        text-align: right;\n",
              "    }\n",
              "</style>\n",
              "<table border=\"1\" class=\"dataframe\">\n",
              "  <thead>\n",
              "    <tr style=\"text-align: right;\">\n",
              "      <th></th>\n",
              "      <th>average</th>\n",
              "      <th>deviation</th>\n",
              "      <th>max_exec</th>\n",
              "      <th>min_exec</th>\n",
              "      <th>number</th>\n",
              "      <th>repeat</th>\n",
              "      <th>size</th>\n",
              "    </tr>\n",
              "  </thead>\n",
              "  <tbody>\n",
              "    <tr>\n",
              "      <th>75</th>\n",
              "      <td>0.021315</td>\n",
              "      <td>0.000960</td>\n",
              "      <td>0.022708</td>\n",
              "      <td>0.019550</td>\n",
              "      <td>50</td>\n",
              "      <td>10</td>\n",
              "      <td>187510</td>\n",
              "    </tr>\n",
              "    <tr>\n",
              "      <th>76</th>\n",
              "      <td>0.021803</td>\n",
              "      <td>0.001620</td>\n",
              "      <td>0.023953</td>\n",
              "      <td>0.018914</td>\n",
              "      <td>50</td>\n",
              "      <td>10</td>\n",
              "      <td>190010</td>\n",
              "    </tr>\n",
              "    <tr>\n",
              "      <th>77</th>\n",
              "      <td>0.021976</td>\n",
              "      <td>0.002127</td>\n",
              "      <td>0.024301</td>\n",
              "      <td>0.016995</td>\n",
              "      <td>50</td>\n",
              "      <td>10</td>\n",
              "      <td>192510</td>\n",
              "    </tr>\n",
              "    <tr>\n",
              "      <th>78</th>\n",
              "      <td>0.023837</td>\n",
              "      <td>0.003302</td>\n",
              "      <td>0.031787</td>\n",
              "      <td>0.019257</td>\n",
              "      <td>50</td>\n",
              "      <td>10</td>\n",
              "      <td>195010</td>\n",
              "    </tr>\n",
              "    <tr>\n",
              "      <th>79</th>\n",
              "      <td>0.023727</td>\n",
              "      <td>0.002631</td>\n",
              "      <td>0.029847</td>\n",
              "      <td>0.020970</td>\n",
              "      <td>50</td>\n",
              "      <td>10</td>\n",
              "      <td>197510</td>\n",
              "    </tr>\n",
              "  </tbody>\n",
              "</table>\n",
              "</div>"
            ],
            "text/plain": [
              "     average  deviation  max_exec  min_exec  number  repeat    size\n",
              "75  0.021315   0.000960  0.022708  0.019550      50      10  187510\n",
              "76  0.021803   0.001620  0.023953  0.018914      50      10  190010\n",
              "77  0.021976   0.002127  0.024301  0.016995      50      10  192510\n",
              "78  0.023837   0.003302  0.031787  0.019257      50      10  195010\n",
              "79  0.023727   0.002631  0.029847  0.020970      50      10  197510"
            ]
          },
          "execution_count": 25,
          "metadata": {},
          "output_type": "execute_result"
        }
      ],
      "source": [
        "res = []\n",
        "for i in range(10, 200000, 2500):\n",
        "    t = measure_time(\"c11_dot(values)\", repeat=10,\n",
        "                     context=dict(c11_dot=c11_dot, values=vect[:i].copy()))\n",
        "    res.append(t)\n",
        "\n",
        "import pandas\n",
        "cus_dot = pandas.DataFrame(res)\n",
        "cus_dot.tail()"
      ]
    },
    {
      "cell_type": "code",
      "execution_count": 25,
      "metadata": {},
      "outputs": [
        {
          "data": {
            "image/png": "[encoded data removed]",
            "text/plain": [
              "<Figure size 1008x288 with 2 Axes>"
            ]
          },
          "metadata": {
            "needs_background": "light"
          },
          "output_type": "display_data"
        }
      ],
      "source": [
        "fig, ax = plt.subplots(1, 2, figsize=(14,4))\n",
        "dot.plot(x='size', y=\"average\", ax=ax[0], label=\"numpy\")\n",
        "cus_dot.plot(x='size', y=\"average\", ax=ax[0], label=\"pybind11\")\n",
        "huge_dot.plot(x='size', y=\"average\", ax=ax[1])\n",
        "ax[0].set_title(\"numpy and custom dot product execution time\");\n",
        "ax[1].set_title(\"numpy dot product execution time\");"
      ]
    },
    {
      "cell_type": "markdown",
      "metadata": {},
      "source": [
        "Pretty slow. Let's see what it does to compute dot product 16 by 16."
      ]
    },
    {
      "cell_type": "code",
      "execution_count": 26,
      "metadata": {},
      "outputs": [
        {
          "data": {
            "text/plain": [
              "3333347.75"
            ]
          },
          "execution_count": 27,
          "metadata": {},
          "output_type": "execute_result"
        }
      ],
      "source": [
        "from cpyquickhelper.numbers.cbenchmark import vector_dot_product16\n",
        "vector_dot_product16(vect, vect)"
      ]
    },
    {
      "cell_type": "code",
      "execution_count": 27,
      "metadata": {},
      "outputs": [
        {
          "data": {
            "text/plain": [
              "{'average': 0.549444384600001,\n",
              " 'deviation': 0.03770776910745487,\n",
              " 'min_exec': 0.49643061400000477,\n",
              " 'max_exec': 0.609181716000009,\n",
              " 'repeat': 10,\n",
              " 'number': 50,\n",
              " 'size': 10000000}"
            ]
          },
          "execution_count": 28,
          "metadata": {},
          "output_type": "execute_result"
        }
      ],
      "source": [
        "def c11_dot16(vect):\n",
        "    return vector_dot_product16(vect, vect)\n",
        "\n",
        "measure_time(\"c11_dot16(values)\", context=dict(c11_dot16=c11_dot16, values=vect), repeat=10)"
      ]
    },
    {
      "cell_type": "code",
      "execution_count": 28,
      "metadata": {},
      "outputs": [
        {
          "data": {
            "text/html": [
              "<div>\n",
              "<style scoped>\n",
              "    .dataframe tbody tr th:only-of-type {\n",
              "        vertical-align: middle;\n",
              "    }\n",
              "\n",
              "    .dataframe tbody tr th {\n",
              "        vertical-align: top;\n",
              "    }\n",
              "\n",
              "    .dataframe thead th {\n",
              "        text-align: right;\n",
              "    }\n",
              "</style>\n",
              "<table border=\"1\" class=\"dataframe\">\n",
              "  <thead>\n",
              "    <tr style=\"text-align: right;\">\n",
              "      <th></th>\n",
              "      <th>average</th>\n",
              "      <th>deviation</th>\n",
              "      <th>max_exec</th>\n",
              "      <th>min_exec</th>\n",
              "      <th>number</th>\n",
              "      <th>repeat</th>\n",
              "      <th>size</th>\n",
              "    </tr>\n",
              "  </thead>\n",
              "  <tbody>\n",
              "    <tr>\n",
              "      <th>75</th>\n",
              "      <td>0.008781</td>\n",
              "      <td>0.000703</td>\n",
              "      <td>0.009825</td>\n",
              "      <td>0.007852</td>\n",
              "      <td>50</td>\n",
              "      <td>10</td>\n",
              "      <td>187510</td>\n",
              "    </tr>\n",
              "    <tr>\n",
              "      <th>76</th>\n",
              "      <td>0.008244</td>\n",
              "      <td>0.000796</td>\n",
              "      <td>0.009833</td>\n",
              "      <td>0.007157</td>\n",
              "      <td>50</td>\n",
              "      <td>10</td>\n",
              "      <td>190010</td>\n",
              "    </tr>\n",
              "    <tr>\n",
              "      <th>77</th>\n",
              "      <td>0.013141</td>\n",
              "      <td>0.004889</td>\n",
              "      <td>0.020504</td>\n",
              "      <td>0.007861</td>\n",
              "      <td>50</td>\n",
              "      <td>10</td>\n",
              "      <td>192510</td>\n",
              "    </tr>\n",
              "    <tr>\n",
              "      <th>78</th>\n",
              "      <td>0.021605</td>\n",
              "      <td>0.001113</td>\n",
              "      <td>0.022815</td>\n",
              "      <td>0.019202</td>\n",
              "      <td>50</td>\n",
              "      <td>10</td>\n",
              "      <td>195010</td>\n",
              "    </tr>\n",
              "    <tr>\n",
              "      <th>79</th>\n",
              "      <td>0.012634</td>\n",
              "      <td>0.003342</td>\n",
              "      <td>0.019947</td>\n",
              "      <td>0.009158</td>\n",
              "      <td>50</td>\n",
              "      <td>10</td>\n",
              "      <td>197510</td>\n",
              "    </tr>\n",
              "  </tbody>\n",
              "</table>\n",
              "</div>"
            ],
            "text/plain": [
              "     average  deviation  max_exec  min_exec  number  repeat    size\n",
              "75  0.008781   0.000703  0.009825  0.007852      50      10  187510\n",
              "76  0.008244   0.000796  0.009833  0.007157      50      10  190010\n",
              "77  0.013141   0.004889  0.020504  0.007861      50      10  192510\n",
              "78  0.021605   0.001113  0.022815  0.019202      50      10  195010\n",
              "79  0.012634   0.003342  0.019947  0.009158      50      10  197510"
            ]
          },
          "execution_count": 29,
          "metadata": {},
          "output_type": "execute_result"
        }
      ],
      "source": [
        "res = []\n",
        "for i in range(10, 200000, 2500):\n",
        "    t = measure_time(\"c11_dot16(values)\", repeat=10,\n",
        "                     context=dict(c11_dot16=c11_dot16, values=vect[:i].copy()))\n",
        "    res.append(t)\n",
        "\n",
        "cus_dot16 = pandas.DataFrame(res)\n",
        "cus_dot16.tail()"
      ]
    },
    {
      "cell_type": "code",
      "execution_count": 29,
      "metadata": {},
      "outputs": [
        {
          "data": {
            "image/png": "[encoded data removed]",
            "text/plain": [
              "<Figure size 1008x288 with 2 Axes>"
            ]
          },
          "metadata": {
            "needs_background": "light"
          },
          "output_type": "display_data"
        }
      ],
      "source": [
        "fig, ax = plt.subplots(1, 2, figsize=(14,4))\n",
        "dot.plot(x='size', y=\"average\", ax=ax[0], label=\"numpy\")\n",
        "cus_dot.plot(x='size', y=\"average\", ax=ax[0], label=\"pybind11\")\n",
        "cus_dot16.plot(x='size', y=\"average\", ax=ax[0], label=\"pybind11x16\")\n",
        "huge_dot.plot(x='size', y=\"average\", ax=ax[1])\n",
        "ax[0].set_title(\"numpy and custom dot product execution time\");\n",
        "ax[1].set_title(\"numpy dot product execution time\");"
      ]
    },
    {
      "cell_type": "markdown",
      "metadata": {},
      "source": [
        "We are far from *numpy* but the branching has clearly a huge impact and the fact the loop condition is evaluated only every 16 iterations does not explain this gain. Next experiment with AVX instructions."
      ]
    },
    {
      "cell_type": "code",
      "execution_count": 30,
      "metadata": {},
      "outputs": [
        {
          "data": {
            "text/plain": [
              "3333348.0"
            ]
          },
          "execution_count": 31,
          "metadata": {},
          "output_type": "execute_result"
        }
      ],
      "source": [
        "from cpyquickhelper.numbers.cbenchmark import vector_dot_product16_avx\n",
        "vector_dot_product16_avx(vect, vect)"
      ]
    },
    {
      "cell_type": "code",
      "execution_count": 31,
      "metadata": {},
      "outputs": [
        {
          "data": {
            "text/plain": [
              "{'average': 0.22894923780000057,\n",
              " 'deviation': 0.017864189231819375,\n",
              " 'min_exec': 0.1984167499999927,\n",
              " 'max_exec': 0.25440178099999855,\n",
              " 'repeat': 10,\n",
              " 'number': 50,\n",
              " 'size': 10000000}"
            ]
          },
          "execution_count": 32,
          "metadata": {},
          "output_type": "execute_result"
        }
      ],
      "source": [
        "def c11_dot16_avx(vect):\n",
        "    return vector_dot_product16_avx(vect, vect)\n",
        "\n",
        "measure_time(\"c11_dot16_avx(values)\", context=dict(c11_dot16_avx=c11_dot16_avx, values=vect), repeat=10)"
      ]
    },
    {
      "cell_type": "code",
      "execution_count": 32,
      "metadata": {},
      "outputs": [
        {
          "data": {
            "text/html": [
              "<div>\n",
              "<style scoped>\n",
              "    .dataframe tbody tr th:only-of-type {\n",
              "        vertical-align: middle;\n",
              "    }\n",
              "\n",
              "    .dataframe tbody tr th {\n",
              "        vertical-align: top;\n",
              "    }\n",
              "\n",
              "    .dataframe thead th {\n",
              "        text-align: right;\n",
              "    }\n",
              "</style>\n",
              "<table border=\"1\" class=\"dataframe\">\n",
              "  <thead>\n",
              "    <tr style=\"text-align: right;\">\n",
              "      <th></th>\n",
              "      <th>average</th>\n",
              "      <th>deviation</th>\n",
              "      <th>max_exec</th>\n",
              "      <th>min_exec</th>\n",
              "      <th>number</th>\n",
              "      <th>repeat</th>\n",
              "      <th>size</th>\n",
              "    </tr>\n",
              "  </thead>\n",
              "  <tbody>\n",
              "    <tr>\n",
              "      <th>75</th>\n",
              "      <td>0.002974</td>\n",
              "      <td>0.000407</td>\n",
              "      <td>0.003799</td>\n",
              "      <td>0.002448</td>\n",
              "      <td>50</td>\n",
              "      <td>10</td>\n",
              "      <td>187510</td>\n",
              "    </tr>\n",
              "    <tr>\n",
              "      <th>76</th>\n",
              "      <td>0.003231</td>\n",
              "      <td>0.000525</td>\n",
              "      <td>0.003864</td>\n",
              "      <td>0.002324</td>\n",
              "      <td>50</td>\n",
              "      <td>10</td>\n",
              "      <td>190010</td>\n",
              "    </tr>\n",
              "    <tr>\n",
              "      <th>77</th>\n",
              "      <td>0.003069</td>\n",
              "      <td>0.000333</td>\n",
              "      <td>0.003878</td>\n",
              "      <td>0.002718</td>\n",
              "      <td>50</td>\n",
              "      <td>10</td>\n",
              "      <td>192510</td>\n",
              "    </tr>\n",
              "    <tr>\n",
              "      <th>78</th>\n",
              "      <td>0.002710</td>\n",
              "      <td>0.000390</td>\n",
              "      <td>0.003774</td>\n",
              "      <td>0.002353</td>\n",
              "      <td>50</td>\n",
              "      <td>10</td>\n",
              "      <td>195010</td>\n",
              "    </tr>\n",
              "    <tr>\n",
              "      <th>79</th>\n",
              "      <td>0.003206</td>\n",
              "      <td>0.000572</td>\n",
              "      <td>0.003990</td>\n",
              "      <td>0.002421</td>\n",
              "      <td>50</td>\n",
              "      <td>10</td>\n",
              "      <td>197510</td>\n",
              "    </tr>\n",
              "  </tbody>\n",
              "</table>\n",
              "</div>"
            ],
            "text/plain": [
              "     average  deviation  max_exec  min_exec  number  repeat    size\n",
              "75  0.002974   0.000407  0.003799  0.002448      50      10  187510\n",
              "76  0.003231   0.000525  0.003864  0.002324      50      10  190010\n",
              "77  0.003069   0.000333  0.003878  0.002718      50      10  192510\n",
              "78  0.002710   0.000390  0.003774  0.002353      50      10  195010\n",
              "79  0.003206   0.000572  0.003990  0.002421      50      10  197510"
            ]
          },
          "execution_count": 33,
          "metadata": {},
          "output_type": "execute_result"
        }
      ],
      "source": [
        "res = []\n",
        "for i in range(10, 200000, 2500):\n",
        "    t = measure_time(\"c11_dot16_avx(values)\", repeat=10,\n",
        "                     context=dict(c11_dot16_avx=c11_dot16_avx, values=vect[:i].copy()))\n",
        "    res.append(t)\n",
        "\n",
        "cus_dot16_avx = pandas.DataFrame(res)\n",
        "cus_dot16_avx.tail()"
      ]
    },
    {
      "cell_type": "code",
      "execution_count": 33,
      "metadata": {},
      "outputs": [
        {
          "data": {
            "image/png": "[encoded data removed]",
            "text/plain": [
              "<Figure size 504x288 with 1 Axes>"
            ]
          },
          "metadata": {
            "needs_background": "light"
          },
          "output_type": "display_data"
        }
      ],
      "source": [
        "fig, ax = plt.subplots(1, 1, figsize=(7,4))\n",
        "dot.plot(x='size', y=\"average\", ax=ax, label=\"numpy\")\n",
        "cus_dot16.plot(x='size', y=\"average\", ax=ax, label=\"pybind11x16\")\n",
        "cus_dot16_avx.plot(x='size', y=\"average\", ax=ax, label=\"pybind11x16_avx\")\n",
        "ax.set_title(\"numpy and custom dot product execution time\");"
      ]
    },
    {
      "cell_type": "markdown",
      "metadata": {},
      "source": [
        "Better even though it is still 4 times slower than *numpy*."
      ]
    },
    {
      "cell_type": "markdown",
      "metadata": {},
      "source": [
        "Last experiment with AVX 512 instructions but it does not work on all processor."
      ]
    },
    {
      "cell_type": "code",
      "execution_count": 34,
      "metadata": {},
      "outputs": [
        {
          "data": {
            "text/plain": [
              "'Intel64 Family 6 Model 78 Stepping 3, GenuineIntel'"
            ]
          },
          "execution_count": 35,
          "metadata": {},
          "output_type": "execute_result"
        }
      ],
      "source": [
        "import platform\n",
        "platform.processor()"
      ]
    },
    {
      "cell_type": "code",
      "execution_count": 35,
      "metadata": {},
      "outputs": [],
      "source": [
        "import numpy\n",
        "values = numpy.array(list(range(10000000)), dtype=numpy.float32)\n",
        "vect = values / numpy.max(values)"
      ]
    },
    {
      "cell_type": "code",
      "execution_count": 36,
      "metadata": {},
      "outputs": [],
      "source": [
        "from cpyquickhelper.numbers.cbenchmark import vector_dot_product16_avx512\n",
        "vector_dot_product16_avx512(vect, vect)"
      ]
    },
    {
      "cell_type": "code",
      "execution_count": 37,
      "metadata": {},
      "outputs": [],
      "source": [
        "def c11_dot16_avx512(vect):\n",
        "    return vector_dot_product16_avx512(vect, vect)\n",
        "\n",
        "measure_time(\"c11_dot16_avx512(values)\",\n",
        "             context=dict(c11_dot16_avx512=c11_dot16_avx512, values=vect), repeat=10)"
      ]
    },
    {
      "cell_type": "code",
      "execution_count": 38,
      "metadata": {},
      "outputs": [],
      "source": [
        "res = []\n",
        "for i in range(10, 200000, 2500):\n",
        "    t = measure_time(\"c11_dot16_avx512(values)\", repeat=10,\n",
        "                     context=dict(c11_dot16_avx512=c11_dot16_avx512, values=vect[:i].copy()))\n",
        "    res.append(t)\n",
        "\n",
        "cus_dot16_avx512 = pandas.DataFrame(res)\n",
        "cus_dot16_avx512.tail()"
      ]
    },
    {
      "cell_type": "code",
      "execution_count": 39,
      "metadata": {},
      "outputs": [],
      "source": [
        "fig, ax = plt.subplots(1, 1, figsize=(7,4))\n",
        "dot.plot(x='size', y=\"average\", ax=ax, label=\"numpy\")\n",
        "cus_dot16.plot(x='size', y=\"average\", ax=ax, label=\"pybind11x16\")\n",
        "cus_dot16_avx.plot(x='size', y=\"average\", ax=ax, label=\"pybind11x16_avx\")\n",
        "cus_dot16_avx512.plot(x='size', y=\"average\", ax=ax, label=\"pybind11x16_avx512\")\n",
        "ax.set_title(\"numpy and custom dot product execution time\");"
      ]
    }
  ],
  "metadata": {
    "kernelspec": {
      "display_name": "Python 3",
      "language": "python",
      "name": "python3"
    },
    "language_info": {
      "codemirror_mode": {
        "name": "ipython",
        "version": 3
      },
      "file_extension": ".py",
      "mimetype": "text/x-python",
      "name": "python",
      "nbconvert_exporter": "python",
      "pygments_lexer": "ipython3",
      "version": "3.7.0"
    }
  },
  "nbformat": 4,
  "nbformat_minor": 2
}