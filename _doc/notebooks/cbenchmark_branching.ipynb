{
  "cells": [
    {
      "cell_type": "markdown",
      "metadata": {},
      "source": [
        "# Measures branching in C++ from python\n",
        "\n",
        "This notebook looks into a couple of ways to write code, which one is efficient, which one is not when it comes to write fast and short loops. Both experiments are around [branching](https://en.wikipedia.org/wiki/Branch_predictor). The notebook relies on C++ code implemented in [cbenchmark.cpp](https://github.com/sdpython/cpyquickhelper/blob/master/cpyquickhelper/numbers/cbenchmark.cpp) and\n",
        "[repeat_fct.h](https://github.com/sdpython/cpyquickhelper/blob/master/cpyquickhelper/numbers/repeat_fct.h)."
      ]
    },
    {
      "cell_type": "code",
      "execution_count": 1,
      "metadata": {},
      "outputs": [
        {
          "data": {
            "text/html": [
              "<div id=\"my_id_menu_nb\">run previous cell, wait for 2 seconds</div>\n",
              "<script>\n",
              "function repeat_indent_string(n){\n",
              "    var a = \"\" ;\n",
              "    for ( ; n > 0 ; --n)\n",
              "        a += \"    \";\n",
              "    return a;\n",
              "}\n",
              "// look up into all sections and builds an automated menu //\n",
              "var update_menu_string = function(begin, lfirst, llast, sformat, send, keep_item, begin_format, end_format) {\n",
              "    var anchors = document.getElementsByClassName(\"section\");\n",
              "    if (anchors.length == 0) {\n",
              "        anchors = document.getElementsByClassName(\"text_cell_render rendered_html\");\n",
              "    }\n",
              "    var i,t;\n",
              "    var text_menu = begin;\n",
              "    var text_memo = \"<pre>\\nlength:\" + anchors.length + \"\\n\";\n",
              "    var ind = \"\";\n",
              "    var memo_level = 1;\n",
              "    var href;\n",
              "    var tags = [];\n",
              "    var main_item = 0;\n",
              "    var format_open = 0;\n",
              "    for (i = 0; i <= llast; i++)\n",
              "        tags.push(\"h\" + i);\n",
              "\n",
              "    for (i = 0; i < anchors.length; i++) {\n",
              "        text_memo += \"**\" + anchors[i].id + \"--\\n\";\n",
              "\n",
              "        var child = null;\n",
              "        for(t = 0; t < tags.length; t++) {\n",
              "            var r = anchors[i].getElementsByTagName(tags[t]);\n",
              "            if (r.length > 0) {\n",
              "child = r[0];\n",
              "break;\n",
              "            }\n",
              "        }\n",
              "        if (child == null) {\n",
              "            text_memo += \"null\\n\";\n",
              "            continue;\n",
              "        }\n",
              "        if (anchors[i].hasAttribute(\"id\")) {\n",
              "            // when converted in RST\n",
              "            href = anchors[i].id;\n",
              "            text_memo += \"#1-\" + href;\n",
              "            // passer \u00e0 child suivant (le chercher)\n",
              "        }\n",
              "        else if (child.hasAttribute(\"id\")) {\n",
              "            // in a notebook\n",
              "            href = child.id;\n",
              "            text_memo += \"#2-\" + href;\n",
              "        }\n",
              "        else {\n",
              "            text_memo += \"#3-\" + \"*\" + \"\\n\";\n",
              "            continue;\n",
              "        }\n",
              "        var title = child.textContent;\n",
              "        var level = parseInt(child.tagName.substring(1,2));\n",
              "\n",
              "        text_memo += \"--\" + level + \"?\" + lfirst + \"--\" + title + \"\\n\";\n",
              "\n",
              "        if ((level < lfirst) || (level > llast)) {\n",
              "            continue ;\n",
              "        }\n",
              "        if (title.endsWith('\u00b6')) {\n",
              "            title = title.substring(0,title.length-1).replace(\"<\", \"&lt;\")\n",
              "         .replace(\">\", \"&gt;\").replace(\"&\", \"&amp;\");\n",
              "        }\n",
              "        if (title.length == 0) {\n",
              "            continue;\n",
              "        }\n",
              "\n",
              "        while (level < memo_level) {\n",
              "            text_menu += end_format + \"</ul>\\n\";\n",
              "            format_open -= 1;\n",
              "            memo_level -= 1;\n",
              "        }\n",
              "        if (level == lfirst) {\n",
              "            main_item += 1;\n",
              "        }\n",
              "        if (keep_item != -1 && main_item != keep_item + 1) {\n",
              "            // alert(main_item + \" - \" + level + \" - \" + keep_item);\n",
              "            continue;\n",
              "        }\n",
              "        while (level > memo_level) {\n",
              "            text_menu += \"<ul>\\n\";\n",
              "            memo_level += 1;\n",
              "        }\n",
              "        text_menu += repeat_indent_string(level-2);\n",
              "        text_menu += begin_format + sformat.replace(\"__HREF__\", href).replace(\"__TITLE__\", title);\n",
              "        format_open += 1;\n",
              "    }\n",
              "    while (1 < memo_level) {\n",
              "        text_menu += end_format + \"</ul>\\n\";\n",
              "        memo_level -= 1;\n",
              "        format_open -= 1;\n",
              "    }\n",
              "    text_menu += send;\n",
              "    //text_menu += \"\\n\" + text_memo;\n",
              "\n",
              "    while (format_open > 0) {\n",
              "        text_menu += end_format;\n",
              "        format_open -= 1;\n",
              "    }\n",
              "    return text_menu;\n",
              "};\n",
              "var update_menu = function() {\n",
              "    var sbegin = \"\";\n",
              "    var sformat = '<a href=\"#__HREF__\">__TITLE__</a>';\n",
              "    var send = \"\";\n",
              "    var begin_format = '<li>';\n",
              "    var end_format = '</li>';\n",
              "    var keep_item = -1;\n",
              "    var text_menu = update_menu_string(sbegin, 2, 4, sformat, send, keep_item,\n",
              "       begin_format, end_format);\n",
              "    var menu = document.getElementById(\"my_id_menu_nb\");\n",
              "    menu.innerHTML=text_menu;\n",
              "};\n",
              "window.setTimeout(update_menu,2000);\n",
              "            </script>"
            ],
            "text/plain": [
              "<IPython.core.display.HTML object>"
            ]
          },
          "execution_count": 2,
          "metadata": {},
          "output_type": "execute_result"
        }
      ],
      "source": [
        "from jyquickhelper import add_notebook_menu\n",
        "add_notebook_menu()"
      ]
    },
    {
      "cell_type": "code",
      "execution_count": 2,
      "metadata": {},
      "outputs": [],
      "source": [
        "%matplotlib inline"
      ]
    },
    {
      "cell_type": "markdown",
      "metadata": {},
      "source": [
        "[numpy](http://www.numpy.org/) is multithreaded. For an accurate comparison, this needs to be disabled. This can be done as follows or by setting environment variable ``MKL_NUM_THREADS=1``."
      ]
    },
    {
      "cell_type": "code",
      "execution_count": 3,
      "metadata": {},
      "outputs": [],
      "source": [
        "try:\n",
        "    import mkl\n",
        "    mkl.set_num_threads(1)\n",
        "except ModuleNotFoundError as e:\n",
        "    print('mkl not found', e)\n",
        "    import os\n",
        "    os.environ['MKL_NUM_THREADS']='1'"
      ]
    },
    {
      "cell_type": "markdown",
      "metadata": {},
      "source": [
        "## First experiment: comparison C++ syntax\n",
        "\n",
        "This all started with article [Why is it faster to process a sorted array than an unsorted array?](https://stackoverflow.com/questions/11227809/why-is-it-faster-to-process-a-sorted-array-than-an-unsorted-array/11227902#11227902). It compares different implementation fo the following function for which we try different implementations for the third line in next cell. The last option is taken\n",
        "[Checking whether a number is positive or negative using bitwise operators](https://stackoverflow.com/questions/3779202/checking-whether-a-number-is-positive-or-negative-using-bitwise-operators) which avoids [branching](https://en.wikipedia.org/wiki/Branch_predictor)."
      ]
    },
    {
      "cell_type": "code",
      "execution_count": 4,
      "metadata": {},
      "outputs": [],
      "source": [
        "# int nb = 0;\n",
        "# for(auto it = values.begin(); it != values.end(); ++it)\n",
        "#     if (*it >= th) nb++; // this line changes\n",
        "#     if (*it >= th) nb++; // and is repeated 10 times inside the loop.\n",
        "#     // ... 10 times\n",
        "# return nb;"
      ]
    },
    {
      "cell_type": "markdown",
      "metadata": {},
      "source": [
        "The third line is also repeated 10 times to avoid the loop being too significant. "
      ]
    },
    {
      "cell_type": "code",
      "execution_count": 5,
      "metadata": {},
      "outputs": [],
      "source": [
        "from cpyquickhelper.numbers.cbenchmark_dot import measure_scenario_A, measure_scenario_B\n",
        "from cpyquickhelper.numbers.cbenchmark_dot import measure_scenario_C, measure_scenario_D\n",
        "from cpyquickhelper.numbers.cbenchmark_dot import measure_scenario_E, measure_scenario_F\n",
        "from cpyquickhelper.numbers.cbenchmark_dot import measure_scenario_G, measure_scenario_H\n",
        "from cpyquickhelper.numbers.cbenchmark_dot import measure_scenario_I, measure_scenario_J"
      ]
    },
    {
      "cell_type": "code",
      "execution_count": 6,
      "metadata": {},
      "outputs": [
        {
          "data": {
            "text/html": [
              "<div>\n",
              "<style scoped>\n",
              "    .dataframe tbody tr th:only-of-type {\n",
              "        vertical-align: middle;\n",
              "    }\n",
              "\n",
              "    .dataframe tbody tr th {\n",
              "        vertical-align: top;\n",
              "    }\n",
              "\n",
              "    .dataframe thead th {\n",
              "        text-align: right;\n",
              "    }\n",
              "</style>\n",
              "<table border=\"1\" class=\"dataframe\">\n",
              "  <thead>\n",
              "    <tr style=\"text-align: right;\">\n",
              "      <th></th>\n",
              "      <th>average</th>\n",
              "      <th>deviation</th>\n",
              "      <th>doc</th>\n",
              "      <th>label</th>\n",
              "      <th>max_exec</th>\n",
              "      <th>min_exec</th>\n",
              "      <th>name</th>\n",
              "      <th>number</th>\n",
              "      <th>repeat</th>\n",
              "    </tr>\n",
              "  </thead>\n",
              "  <tbody>\n",
              "    <tr>\n",
              "      <th>0</th>\n",
              "      <td>5.531000e-08</td>\n",
              "      <td>2.436689e-07</td>\n",
              "      <td>if (values[i] &gt;= th) ++nb;</td>\n",
              "      <td>sorted</td>\n",
              "      <td>1.186000e-06</td>\n",
              "      <td>7.900000e-07</td>\n",
              "      <td>measure_scenario_A</td>\n",
              "      <td>20.0</td>\n",
              "      <td>10.0</td>\n",
              "    </tr>\n",
              "    <tr>\n",
              "      <th>1</th>\n",
              "      <td>5.136000e-08</td>\n",
              "      <td>2.280146e-07</td>\n",
              "      <td>if (*it &gt;= th) ++nb;</td>\n",
              "      <td>sorted</td>\n",
              "      <td>1.186000e-06</td>\n",
              "      <td>7.900000e-07</td>\n",
              "      <td>measure_scenario_B</td>\n",
              "      <td>20.0</td>\n",
              "      <td>10.0</td>\n",
              "    </tr>\n",
              "    <tr>\n",
              "      <th>2</th>\n",
              "      <td>5.926000e-08</td>\n",
              "      <td>2.583084e-07</td>\n",
              "      <td>if (*it &gt;= th) nb++;</td>\n",
              "      <td>sorted</td>\n",
              "      <td>1.186000e-06</td>\n",
              "      <td>1.185000e-06</td>\n",
              "      <td>measure_scenario_C</td>\n",
              "      <td>20.0</td>\n",
              "      <td>10.0</td>\n",
              "    </tr>\n",
              "    <tr>\n",
              "      <th>3</th>\n",
              "      <td>9.875000e-09</td>\n",
              "      <td>6.166936e-08</td>\n",
              "      <td>nb += *it &gt;= th ? 1 : 0;</td>\n",
              "      <td>sorted</td>\n",
              "      <td>3.950000e-07</td>\n",
              "      <td>0.000000e+00</td>\n",
              "      <td>measure_scenario_D</td>\n",
              "      <td>20.0</td>\n",
              "      <td>10.0</td>\n",
              "    </tr>\n",
              "    <tr>\n",
              "      <th>4</th>\n",
              "      <td>6.123500e-08</td>\n",
              "      <td>2.682277e-07</td>\n",
              "      <td>if (*it &gt;= th) nb += 1;</td>\n",
              "      <td>sorted</td>\n",
              "      <td>1.580000e-06</td>\n",
              "      <td>1.185000e-06</td>\n",
              "      <td>measure_scenario_E</td>\n",
              "      <td>20.0</td>\n",
              "      <td>10.0</td>\n",
              "    </tr>\n",
              "    <tr>\n",
              "      <th>5</th>\n",
              "      <td>1.777500e-08</td>\n",
              "      <td>8.188513e-08</td>\n",
              "      <td>nb += (*it - th) &gt;= 0 ? 1 : 0;</td>\n",
              "      <td>sorted</td>\n",
              "      <td>3.950000e-07</td>\n",
              "      <td>0.000000e+00</td>\n",
              "      <td>measure_scenario_F</td>\n",
              "      <td>20.0</td>\n",
              "      <td>10.0</td>\n",
              "    </tr>\n",
              "    <tr>\n",
              "      <th>6</th>\n",
              "      <td>1.185500e-08</td>\n",
              "      <td>6.741041e-08</td>\n",
              "      <td>nb += (*it - th) &lt; 0 ? 1 : 0;</td>\n",
              "      <td>sorted</td>\n",
              "      <td>3.960000e-07</td>\n",
              "      <td>0.000000e+00</td>\n",
              "      <td>measure_scenario_G</td>\n",
              "      <td>20.0</td>\n",
              "      <td>10.0</td>\n",
              "    </tr>\n",
              "    <tr>\n",
              "      <th>7</th>\n",
              "      <td>1.383000e-08</td>\n",
              "      <td>7.261929e-08</td>\n",
              "      <td>nb += *it &lt; th ? 1 : 0;</td>\n",
              "      <td>sorted</td>\n",
              "      <td>3.960000e-07</td>\n",
              "      <td>0.000000e+00</td>\n",
              "      <td>measure_scenario_H</td>\n",
              "      <td>20.0</td>\n",
              "      <td>10.0</td>\n",
              "    </tr>\n",
              "    <tr>\n",
              "      <th>8</th>\n",
              "      <td>9.880000e-09</td>\n",
              "      <td>6.170061e-08</td>\n",
              "      <td>nb += 1 ^ ((unsigned int)(*it) &gt;&gt; (sizeof(int)...</td>\n",
              "      <td>sorted</td>\n",
              "      <td>3.960000e-07</td>\n",
              "      <td>0.000000e+00</td>\n",
              "      <td>measure_scenario_I</td>\n",
              "      <td>20.0</td>\n",
              "      <td>10.0</td>\n",
              "    </tr>\n",
              "    <tr>\n",
              "      <th>9</th>\n",
              "      <td>9.880000e-09</td>\n",
              "      <td>6.170061e-08</td>\n",
              "      <td>nb += values[i] &gt;= th ? 1 : 0;</td>\n",
              "      <td>sorted</td>\n",
              "      <td>3.960000e-07</td>\n",
              "      <td>0.000000e+00</td>\n",
              "      <td>measure_scenario_J</td>\n",
              "      <td>20.0</td>\n",
              "      <td>10.0</td>\n",
              "    </tr>\n",
              "  </tbody>\n",
              "</table>\n",
              "</div>"
            ],
            "text/plain": [
              "        average     deviation  \\\n",
              "0  5.531000e-08  2.436689e-07   \n",
              "1  5.136000e-08  2.280146e-07   \n",
              "2  5.926000e-08  2.583084e-07   \n",
              "3  9.875000e-09  6.166936e-08   \n",
              "4  6.123500e-08  2.682277e-07   \n",
              "5  1.777500e-08  8.188513e-08   \n",
              "6  1.185500e-08  6.741041e-08   \n",
              "7  1.383000e-08  7.261929e-08   \n",
              "8  9.880000e-09  6.170061e-08   \n",
              "9  9.880000e-09  6.170061e-08   \n",
              "\n",
              "                                                 doc   label      max_exec  \\\n",
              "0                         if (values[i] >= th) ++nb;  sorted  1.186000e-06   \n",
              "1                               if (*it >= th) ++nb;  sorted  1.186000e-06   \n",
              "2                               if (*it >= th) nb++;  sorted  1.186000e-06   \n",
              "3                           nb += *it >= th ? 1 : 0;  sorted  3.950000e-07   \n",
              "4                            if (*it >= th) nb += 1;  sorted  1.580000e-06   \n",
              "5                     nb += (*it - th) >= 0 ? 1 : 0;  sorted  3.950000e-07   \n",
              "6                      nb += (*it - th) < 0 ? 1 : 0;  sorted  3.960000e-07   \n",
              "7                            nb += *it < th ? 1 : 0;  sorted  3.960000e-07   \n",
              "8  nb += 1 ^ ((unsigned int)(*it) >> (sizeof(int)...  sorted  3.960000e-07   \n",
              "9                     nb += values[i] >= th ? 1 : 0;  sorted  3.960000e-07   \n",
              "\n",
              "       min_exec                name  number  repeat  \n",
              "0  7.900000e-07  measure_scenario_A    20.0    10.0  \n",
              "1  7.900000e-07  measure_scenario_B    20.0    10.0  \n",
              "2  1.185000e-06  measure_scenario_C    20.0    10.0  \n",
              "3  0.000000e+00  measure_scenario_D    20.0    10.0  \n",
              "4  1.185000e-06  measure_scenario_E    20.0    10.0  \n",
              "5  0.000000e+00  measure_scenario_F    20.0    10.0  \n",
              "6  0.000000e+00  measure_scenario_G    20.0    10.0  \n",
              "7  0.000000e+00  measure_scenario_H    20.0    10.0  \n",
              "8  0.000000e+00  measure_scenario_I    20.0    10.0  \n",
              "9  0.000000e+00  measure_scenario_J    20.0    10.0  "
            ]
          },
          "execution_count": 7,
          "metadata": {},
          "output_type": "execute_result"
        }
      ],
      "source": [
        "import pandas\n",
        "\n",
        "def test_benchmark(label, values, th, repeat=10, number=20):\n",
        "    funcs = [(k, v) for k, v in globals().copy().items() if k.startswith(\"measure_scenario\")]\n",
        "    rows = []\n",
        "    for k, v in funcs:\n",
        "        exe = v(values, th, repeat, number)\n",
        "        d = exe.todict()\n",
        "        d['doc'] = v.__doc__.split('``')[1]\n",
        "        d['label'] = label\n",
        "        d['name'] = k\n",
        "        rows.append(d)        \n",
        "    df = pandas.DataFrame(rows)\n",
        "    return df\n",
        "\n",
        "test_benchmark(\"sorted\", list(range(10)), 5)"
      ]
    },
    {
      "cell_type": "markdown",
      "metadata": {},
      "source": [
        "Times are not very conclusive on such small lists."
      ]
    },
    {
      "cell_type": "code",
      "execution_count": 7,
      "metadata": {},
      "outputs": [
        {
          "data": {
            "text/html": [
              "<div>\n",
              "<style scoped>\n",
              "    .dataframe tbody tr th:only-of-type {\n",
              "        vertical-align: middle;\n",
              "    }\n",
              "\n",
              "    .dataframe tbody tr th {\n",
              "        vertical-align: top;\n",
              "    }\n",
              "\n",
              "    .dataframe thead th {\n",
              "        text-align: right;\n",
              "    }\n",
              "</style>\n",
              "<table border=\"1\" class=\"dataframe\">\n",
              "  <thead>\n",
              "    <tr style=\"text-align: right;\">\n",
              "      <th></th>\n",
              "      <th>average</th>\n",
              "      <th>deviation</th>\n",
              "      <th>doc</th>\n",
              "      <th>label</th>\n",
              "      <th>max_exec</th>\n",
              "      <th>min_exec</th>\n",
              "      <th>name</th>\n",
              "      <th>number</th>\n",
              "      <th>repeat</th>\n",
              "    </tr>\n",
              "  </thead>\n",
              "  <tbody>\n",
              "    <tr>\n",
              "      <th>0</th>\n",
              "      <td>0.000700</td>\n",
              "      <td>0.003053</td>\n",
              "      <td>if (values[i] &gt;= th) ++nb;</td>\n",
              "      <td>sorted</td>\n",
              "      <td>0.017597</td>\n",
              "      <td>0.013181</td>\n",
              "      <td>measure_scenario_A</td>\n",
              "      <td>20.0</td>\n",
              "      <td>200.0</td>\n",
              "    </tr>\n",
              "    <tr>\n",
              "      <th>1</th>\n",
              "      <td>0.000694</td>\n",
              "      <td>0.003027</td>\n",
              "      <td>if (*it &gt;= th) ++nb;</td>\n",
              "      <td>sorted</td>\n",
              "      <td>0.017016</td>\n",
              "      <td>0.013244</td>\n",
              "      <td>measure_scenario_B</td>\n",
              "      <td>20.0</td>\n",
              "      <td>200.0</td>\n",
              "    </tr>\n",
              "    <tr>\n",
              "      <th>2</th>\n",
              "      <td>0.000696</td>\n",
              "      <td>0.003033</td>\n",
              "      <td>if (*it &gt;= th) nb++;</td>\n",
              "      <td>sorted</td>\n",
              "      <td>0.015455</td>\n",
              "      <td>0.013286</td>\n",
              "      <td>measure_scenario_C</td>\n",
              "      <td>20.0</td>\n",
              "      <td>200.0</td>\n",
              "    </tr>\n",
              "    <tr>\n",
              "      <th>3</th>\n",
              "      <td>0.000075</td>\n",
              "      <td>0.000419</td>\n",
              "      <td>nb += *it &gt;= th ? 1 : 0;</td>\n",
              "      <td>sorted</td>\n",
              "      <td>0.014525</td>\n",
              "      <td>0.001295</td>\n",
              "      <td>measure_scenario_D</td>\n",
              "      <td>20.0</td>\n",
              "      <td>200.0</td>\n",
              "    </tr>\n",
              "    <tr>\n",
              "      <th>4</th>\n",
              "      <td>0.000678</td>\n",
              "      <td>0.002957</td>\n",
              "      <td>if (*it &gt;= th) nb += 1;</td>\n",
              "      <td>sorted</td>\n",
              "      <td>0.014415</td>\n",
              "      <td>0.013246</td>\n",
              "      <td>measure_scenario_E</td>\n",
              "      <td>20.0</td>\n",
              "      <td>200.0</td>\n",
              "    </tr>\n",
              "    <tr>\n",
              "      <th>5</th>\n",
              "      <td>0.000068</td>\n",
              "      <td>0.000299</td>\n",
              "      <td>nb += (*it - th) &gt;= 0 ? 1 : 0;</td>\n",
              "      <td>sorted</td>\n",
              "      <td>0.002627</td>\n",
              "      <td>0.001296</td>\n",
              "      <td>measure_scenario_F</td>\n",
              "      <td>20.0</td>\n",
              "      <td>200.0</td>\n",
              "    </tr>\n",
              "    <tr>\n",
              "      <th>6</th>\n",
              "      <td>0.000076</td>\n",
              "      <td>0.000331</td>\n",
              "      <td>nb += (*it - th) &lt; 0 ? 1 : 0;</td>\n",
              "      <td>sorted</td>\n",
              "      <td>0.001979</td>\n",
              "      <td>0.001466</td>\n",
              "      <td>measure_scenario_G</td>\n",
              "      <td>20.0</td>\n",
              "      <td>200.0</td>\n",
              "    </tr>\n",
              "    <tr>\n",
              "      <th>7</th>\n",
              "      <td>0.000068</td>\n",
              "      <td>0.000297</td>\n",
              "      <td>nb += *it &lt; th ? 1 : 0;</td>\n",
              "      <td>sorted</td>\n",
              "      <td>0.001515</td>\n",
              "      <td>0.001327</td>\n",
              "      <td>measure_scenario_H</td>\n",
              "      <td>20.0</td>\n",
              "      <td>200.0</td>\n",
              "    </tr>\n",
              "    <tr>\n",
              "      <th>8</th>\n",
              "      <td>0.000116</td>\n",
              "      <td>0.000507</td>\n",
              "      <td>nb += 1 ^ ((unsigned int)(*it) &gt;&gt; (sizeof(int)...</td>\n",
              "      <td>sorted</td>\n",
              "      <td>0.003563</td>\n",
              "      <td>0.002243</td>\n",
              "      <td>measure_scenario_I</td>\n",
              "      <td>20.0</td>\n",
              "      <td>200.0</td>\n",
              "    </tr>\n",
              "    <tr>\n",
              "      <th>9</th>\n",
              "      <td>0.000076</td>\n",
              "      <td>0.000334</td>\n",
              "      <td>nb += values[i] &gt;= th ? 1 : 0;</td>\n",
              "      <td>sorted</td>\n",
              "      <td>0.002580</td>\n",
              "      <td>0.001459</td>\n",
              "      <td>measure_scenario_J</td>\n",
              "      <td>20.0</td>\n",
              "      <td>200.0</td>\n",
              "    </tr>\n",
              "  </tbody>\n",
              "</table>\n",
              "</div>"
            ],
            "text/plain": [
              "    average  deviation                                                doc  \\\n",
              "0  0.000700   0.003053                         if (values[i] >= th) ++nb;   \n",
              "1  0.000694   0.003027                               if (*it >= th) ++nb;   \n",
              "2  0.000696   0.003033                               if (*it >= th) nb++;   \n",
              "3  0.000075   0.000419                           nb += *it >= th ? 1 : 0;   \n",
              "4  0.000678   0.002957                            if (*it >= th) nb += 1;   \n",
              "5  0.000068   0.000299                     nb += (*it - th) >= 0 ? 1 : 0;   \n",
              "6  0.000076   0.000331                      nb += (*it - th) < 0 ? 1 : 0;   \n",
              "7  0.000068   0.000297                            nb += *it < th ? 1 : 0;   \n",
              "8  0.000116   0.000507  nb += 1 ^ ((unsigned int)(*it) >> (sizeof(int)...   \n",
              "9  0.000076   0.000334                     nb += values[i] >= th ? 1 : 0;   \n",
              "\n",
              "    label  max_exec  min_exec                name  number  repeat  \n",
              "0  sorted  0.017597  0.013181  measure_scenario_A    20.0   200.0  \n",
              "1  sorted  0.017016  0.013244  measure_scenario_B    20.0   200.0  \n",
              "2  sorted  0.015455  0.013286  measure_scenario_C    20.0   200.0  \n",
              "3  sorted  0.014525  0.001295  measure_scenario_D    20.0   200.0  \n",
              "4  sorted  0.014415  0.013246  measure_scenario_E    20.0   200.0  \n",
              "5  sorted  0.002627  0.001296  measure_scenario_F    20.0   200.0  \n",
              "6  sorted  0.001979  0.001466  measure_scenario_G    20.0   200.0  \n",
              "7  sorted  0.001515  0.001327  measure_scenario_H    20.0   200.0  \n",
              "8  sorted  0.003563  0.002243  measure_scenario_I    20.0   200.0  \n",
              "9  sorted  0.002580  0.001459  measure_scenario_J    20.0   200.0  "
            ]
          },
          "execution_count": 8,
          "metadata": {},
          "output_type": "execute_result"
        }
      ],
      "source": [
        "values = list(range(100000))\n",
        "df_sorted = test_benchmark(\"sorted\", values, len(values)//2, repeat=200)\n",
        "df_sorted"
      ]
    },
    {
      "cell_type": "markdown",
      "metadata": {},
      "source": [
        "The article some implementations will be slower if the values are not sorted."
      ]
    },
    {
      "cell_type": "code",
      "execution_count": 8,
      "metadata": {},
      "outputs": [
        {
          "data": {
            "text/plain": [
              "[61979, 58748, 83841, 18733, 65719, 3863, 11079, 28211, 56989, 80111]"
            ]
          },
          "execution_count": 9,
          "metadata": {},
          "output_type": "execute_result"
        }
      ],
      "source": [
        "import random\n",
        "random.shuffle(values)\n",
        "values = values.copy()\n",
        "values[:10]"
      ]
    },
    {
      "cell_type": "code",
      "execution_count": 9,
      "metadata": {},
      "outputs": [
        {
          "data": {
            "text/html": [
              "<div>\n",
              "<style scoped>\n",
              "    .dataframe tbody tr th:only-of-type {\n",
              "        vertical-align: middle;\n",
              "    }\n",
              "\n",
              "    .dataframe tbody tr th {\n",
              "        vertical-align: top;\n",
              "    }\n",
              "\n",
              "    .dataframe thead th {\n",
              "        text-align: right;\n",
              "    }\n",
              "</style>\n",
              "<table border=\"1\" class=\"dataframe\">\n",
              "  <thead>\n",
              "    <tr style=\"text-align: right;\">\n",
              "      <th></th>\n",
              "      <th>average</th>\n",
              "      <th>deviation</th>\n",
              "      <th>doc</th>\n",
              "      <th>label</th>\n",
              "      <th>max_exec</th>\n",
              "      <th>min_exec</th>\n",
              "      <th>name</th>\n",
              "      <th>number</th>\n",
              "      <th>repeat</th>\n",
              "    </tr>\n",
              "  </thead>\n",
              "  <tbody>\n",
              "    <tr>\n",
              "      <th>0</th>\n",
              "      <td>0.000681</td>\n",
              "      <td>0.002967</td>\n",
              "      <td>if (values[i] &gt;= th) ++nb;</td>\n",
              "      <td>shuffled</td>\n",
              "      <td>0.015230</td>\n",
              "      <td>0.013242</td>\n",
              "      <td>measure_scenario_A</td>\n",
              "      <td>20.0</td>\n",
              "      <td>200.0</td>\n",
              "    </tr>\n",
              "    <tr>\n",
              "      <th>1</th>\n",
              "      <td>0.000687</td>\n",
              "      <td>0.002997</td>\n",
              "      <td>if (*it &gt;= th) ++nb;</td>\n",
              "      <td>shuffled</td>\n",
              "      <td>0.016303</td>\n",
              "      <td>0.013187</td>\n",
              "      <td>measure_scenario_B</td>\n",
              "      <td>20.0</td>\n",
              "      <td>200.0</td>\n",
              "    </tr>\n",
              "    <tr>\n",
              "      <th>2</th>\n",
              "      <td>0.000710</td>\n",
              "      <td>0.003108</td>\n",
              "      <td>if (*it &gt;= th) nb++;</td>\n",
              "      <td>shuffled</td>\n",
              "      <td>0.028689</td>\n",
              "      <td>0.013217</td>\n",
              "      <td>measure_scenario_C</td>\n",
              "      <td>20.0</td>\n",
              "      <td>200.0</td>\n",
              "    </tr>\n",
              "    <tr>\n",
              "      <th>3</th>\n",
              "      <td>0.000073</td>\n",
              "      <td>0.000325</td>\n",
              "      <td>nb += *it &gt;= th ? 1 : 0;</td>\n",
              "      <td>shuffled</td>\n",
              "      <td>0.002737</td>\n",
              "      <td>0.001295</td>\n",
              "      <td>measure_scenario_D</td>\n",
              "      <td>20.0</td>\n",
              "      <td>200.0</td>\n",
              "    </tr>\n",
              "    <tr>\n",
              "      <th>4</th>\n",
              "      <td>0.000699</td>\n",
              "      <td>0.003048</td>\n",
              "      <td>if (*it &gt;= th) nb += 1;</td>\n",
              "      <td>shuffled</td>\n",
              "      <td>0.016042</td>\n",
              "      <td>0.013239</td>\n",
              "      <td>measure_scenario_E</td>\n",
              "      <td>20.0</td>\n",
              "      <td>200.0</td>\n",
              "    </tr>\n",
              "    <tr>\n",
              "      <th>5</th>\n",
              "      <td>0.000068</td>\n",
              "      <td>0.000300</td>\n",
              "      <td>nb += (*it - th) &gt;= 0 ? 1 : 0;</td>\n",
              "      <td>shuffled</td>\n",
              "      <td>0.002450</td>\n",
              "      <td>0.001296</td>\n",
              "      <td>measure_scenario_F</td>\n",
              "      <td>20.0</td>\n",
              "      <td>200.0</td>\n",
              "    </tr>\n",
              "    <tr>\n",
              "      <th>6</th>\n",
              "      <td>0.000088</td>\n",
              "      <td>0.000394</td>\n",
              "      <td>nb += (*it - th) &lt; 0 ? 1 : 0;</td>\n",
              "      <td>shuffled</td>\n",
              "      <td>0.003836</td>\n",
              "      <td>0.001464</td>\n",
              "      <td>measure_scenario_G</td>\n",
              "      <td>20.0</td>\n",
              "      <td>200.0</td>\n",
              "    </tr>\n",
              "    <tr>\n",
              "      <th>7</th>\n",
              "      <td>0.000078</td>\n",
              "      <td>0.000352</td>\n",
              "      <td>nb += *it &lt; th ? 1 : 0;</td>\n",
              "      <td>shuffled</td>\n",
              "      <td>0.004734</td>\n",
              "      <td>0.001297</td>\n",
              "      <td>measure_scenario_H</td>\n",
              "      <td>20.0</td>\n",
              "      <td>200.0</td>\n",
              "    </tr>\n",
              "    <tr>\n",
              "      <th>8</th>\n",
              "      <td>0.000131</td>\n",
              "      <td>0.000578</td>\n",
              "      <td>nb += 1 ^ ((unsigned int)(*it) &gt;&gt; (sizeof(int)...</td>\n",
              "      <td>shuffled</td>\n",
              "      <td>0.004077</td>\n",
              "      <td>0.002240</td>\n",
              "      <td>measure_scenario_I</td>\n",
              "      <td>20.0</td>\n",
              "      <td>200.0</td>\n",
              "    </tr>\n",
              "    <tr>\n",
              "      <th>9</th>\n",
              "      <td>0.000084</td>\n",
              "      <td>0.000372</td>\n",
              "      <td>nb += values[i] &gt;= th ? 1 : 0;</td>\n",
              "      <td>shuffled</td>\n",
              "      <td>0.003729</td>\n",
              "      <td>0.001459</td>\n",
              "      <td>measure_scenario_J</td>\n",
              "      <td>20.0</td>\n",
              "      <td>200.0</td>\n",
              "    </tr>\n",
              "  </tbody>\n",
              "</table>\n",
              "</div>"
            ],
            "text/plain": [
              "    average  deviation                                                doc  \\\n",
              "0  0.000681   0.002967                         if (values[i] >= th) ++nb;   \n",
              "1  0.000687   0.002997                               if (*it >= th) ++nb;   \n",
              "2  0.000710   0.003108                               if (*it >= th) nb++;   \n",
              "3  0.000073   0.000325                           nb += *it >= th ? 1 : 0;   \n",
              "4  0.000699   0.003048                            if (*it >= th) nb += 1;   \n",
              "5  0.000068   0.000300                     nb += (*it - th) >= 0 ? 1 : 0;   \n",
              "6  0.000088   0.000394                      nb += (*it - th) < 0 ? 1 : 0;   \n",
              "7  0.000078   0.000352                            nb += *it < th ? 1 : 0;   \n",
              "8  0.000131   0.000578  nb += 1 ^ ((unsigned int)(*it) >> (sizeof(int)...   \n",
              "9  0.000084   0.000372                     nb += values[i] >= th ? 1 : 0;   \n",
              "\n",
              "      label  max_exec  min_exec                name  number  repeat  \n",
              "0  shuffled  0.015230  0.013242  measure_scenario_A    20.0   200.0  \n",
              "1  shuffled  0.016303  0.013187  measure_scenario_B    20.0   200.0  \n",
              "2  shuffled  0.028689  0.013217  measure_scenario_C    20.0   200.0  \n",
              "3  shuffled  0.002737  0.001295  measure_scenario_D    20.0   200.0  \n",
              "4  shuffled  0.016042  0.013239  measure_scenario_E    20.0   200.0  \n",
              "5  shuffled  0.002450  0.001296  measure_scenario_F    20.0   200.0  \n",
              "6  shuffled  0.003836  0.001464  measure_scenario_G    20.0   200.0  \n",
              "7  shuffled  0.004734  0.001297  measure_scenario_H    20.0   200.0  \n",
              "8  shuffled  0.004077  0.002240  measure_scenario_I    20.0   200.0  \n",
              "9  shuffled  0.003729  0.001459  measure_scenario_J    20.0   200.0  "
            ]
          },
          "execution_count": 10,
          "metadata": {},
          "output_type": "execute_result"
        }
      ],
      "source": [
        "df_shuffled = test_benchmark(\"shuffled\", values, len(values)//2, repeat=200)\n",
        "df_shuffled"
      ]
    },
    {
      "cell_type": "code",
      "execution_count": 10,
      "metadata": {},
      "outputs": [],
      "source": [
        "df = pandas.concat([df_sorted, df_shuffled])\n",
        "dfg = df[[\"doc\", \"label\", \"average\"]].pivot(\"doc\", \"label\", \"average\")"
      ]
    },
    {
      "cell_type": "code",
      "execution_count": 11,
      "metadata": {},
      "outputs": [
        {
          "data": {
            "image/png": "[encoded data removed]",
            "text/plain": [
              "<Figure size 432x288 with 1 Axes>"
            ]
          },
          "metadata": {
            "needs_background": "light"
          },
          "output_type": "display_data"
        }
      ],
      "source": [
        "ax = dfg.plot.bar(rot=30)\n",
        "labels = [l.get_text() for l in ax.get_xticklabels()]\n",
        "ax.set_xticklabels(labels, ha='right')\n",
        "ax.set_title(\"Comparison of all implementations\");"
      ]
    },
    {
      "cell_type": "markdown",
      "metadata": {},
      "source": [
        "It seems that inline tests (``cond ? value1 : value2``) do not stop the branching and it should be used whenever possible."
      ]
    },
    {
      "cell_type": "code",
      "execution_count": 12,
      "metadata": {},
      "outputs": [
        {
          "data": {
            "image/png": "[encoded data removed]",
            "text/plain": [
              "<Figure size 432x288 with 1 Axes>"
            ]
          },
          "metadata": {
            "needs_background": "light"
          },
          "output_type": "display_data"
        }
      ],
      "source": [
        "sdf = df[[\"doc\", \"label\", \"average\"]]\n",
        "dfg2 = sdf[sdf.doc.str.contains('[?^]')].pivot(\"doc\", \"label\", \"average\")\n",
        "ax = dfg2.plot.bar(rot=30)\n",
        "labels = [l.get_text() for l in ax.get_xticklabels()]\n",
        "ax.set_xticklabels(labels, ha='right')\n",
        "ax.set_title(\"Comparison of implementations using ? :\");"
      ]
    },
    {
      "cell_type": "code",
      "execution_count": 13,
      "metadata": {},
      "outputs": [
        {
          "data": {
            "image/png": "[encoded data removed]",
            "text/plain": [
              "<Figure size 432x288 with 1 Axes>"
            ]
          },
          "metadata": {
            "needs_background": "light"
          },
          "output_type": "display_data"
        }
      ],
      "source": [
        "sdf = df[[\"doc\", \"label\", \"average\"]]\n",
        "dfg2 = sdf[sdf.doc.str.contains('if')].pivot(\"doc\", \"label\", \"average\")\n",
        "ax = dfg2.plot.bar(rot=30)\n",
        "labels = [l.get_text() for l in ax.get_xticklabels()]\n",
        "ax.set_xticklabels(labels, ha='right')\n",
        "ax.set_ylim([0.0004, 0.0020])\n",
        "ax.set_title(\"Comparison of implementations using tests\");"
      ]
    },
    {
      "cell_type": "markdown",
      "metadata": {},
      "source": [
        "*sorted*, *not sorted* does not seem to have a real impact in this case. It shows *branching* really slows down the execution of a program. Branching happens whenever the program meets a loop condition or a test. Iterator ``*it`` are faster than accessing an array with notation ``[i]`` which adds a cost due to an extra addition."
      ]
    },
    {
      "cell_type": "markdown",
      "metadata": {},
      "source": [
        "## Second experiment: dot product\n",
        "\n",
        "The goal is to compare the dot product from [numpy.dot](https://docs.scipy.org/doc/numpy-1.15.0/reference/generated/numpy.dot.html) and a couple of implementation in C++ which look like this:"
      ]
    },
    {
      "cell_type": "code",
      "execution_count": 14,
      "metadata": {},
      "outputs": [],
      "source": [
        "# float vector_dot_product_pointer(const float *p1, const float *p2, size_t size)\n",
        "# {\n",
        "#     float sum = 0;\n",
        "#     const float * end1 = p1 + size;\n",
        "#     for(; p1 != end1; ++p1, ++p2)\n",
        "#         sum += *p1 * *p2;\n",
        "#     return sum;\n",
        "# }\n",
        "# \n",
        "# \n",
        "# float vector_dot_product(py::array_t<float> v1, py::array_t<float> v2)\n",
        "# {\n",
        "#     if (v1.ndim() != v2.ndim())\n",
        "#         throw std::runtime_error(\"Vector v1 and v2 must have the same dimension.\");\n",
        "#     if (v1.ndim() != 1)\n",
        "#         throw std::runtime_error(\"Vector v1 and v2 must be vectors.\");\n",
        "#     return vector_dot_product_pointer(v1.data(0), v2.data(0), v1.shape(0));\n",
        "# }"
      ]
    },
    {
      "cell_type": "markdown",
      "metadata": {},
      "source": [
        "### numpy vs C++"
      ]
    },
    {
      "cell_type": "markdown",
      "metadata": {},
      "source": [
        "#### numpy.dot"
      ]
    },
    {
      "cell_type": "code",
      "execution_count": 15,
      "metadata": {},
      "outputs": [],
      "source": [
        "%matplotlib inline"
      ]
    },
    {
      "cell_type": "code",
      "execution_count": 16,
      "metadata": {},
      "outputs": [
        {
          "data": {
            "text/plain": [
              "3333333.2"
            ]
          },
          "execution_count": 17,
          "metadata": {},
          "output_type": "execute_result"
        }
      ],
      "source": [
        "import numpy\n",
        "\n",
        "def simple_dot(values):\n",
        "    return numpy.dot(values, values)\n",
        "\n",
        "values = list(range(10000000))\n",
        "values = numpy.array(values, dtype=numpy.float32)\n",
        "vect = values / numpy.max(values)\n",
        "simple_dot(vect)"
      ]
    },
    {
      "cell_type": "code",
      "execution_count": 17,
      "metadata": {},
      "outputs": [
        {
          "data": {
            "text/plain": [
              "dtype('float32')"
            ]
          },
          "execution_count": 18,
          "metadata": {},
          "output_type": "execute_result"
        }
      ],
      "source": [
        "vect.dtype"
      ]
    },
    {
      "cell_type": "code",
      "execution_count": 18,
      "metadata": {},
      "outputs": [
        {
          "data": {
            "text/plain": [
              "{'average': 0.13003559880000354,\n",
              " 'deviation': 0.013603052453628351,\n",
              " 'min_exec': 0.11317438400004676,\n",
              " 'max_exec': 0.15061276000000134,\n",
              " 'repeat': 10,\n",
              " 'number': 50,\n",
              " 'size': 10000000}"
            ]
          },
          "execution_count": 19,
          "metadata": {},
          "output_type": "execute_result"
        }
      ],
      "source": [
        "from timeit import Timer\n",
        "\n",
        "def measure_time(stmt, context, repeat=10, number=50):\n",
        "    tim = Timer(stmt, globals=context)\n",
        "    res = numpy.array(tim.repeat(repeat=repeat, number=number))\n",
        "    mean = numpy.mean(res)\n",
        "    dev = numpy.mean(res ** 2)\n",
        "    dev = (dev - mean**2) ** 0.5\n",
        "    return dict(average=mean, deviation=dev, min_exec=numpy.min(res),\n",
        "                max_exec=numpy.max(res), repeat=repeat, number=number,\n",
        "                size=context['values'].shape[0])\n",
        "\n",
        "measure_time(\"simple_dot(values)\", context=dict(simple_dot=simple_dot, values=vect))"
      ]
    },
    {
      "cell_type": "code",
      "execution_count": 19,
      "metadata": {},
      "outputs": [
        {
          "data": {
            "text/html": [
              "<div>\n",
              "<style scoped>\n",
              "    .dataframe tbody tr th:only-of-type {\n",
              "        vertical-align: middle;\n",
              "    }\n",
              "\n",
              "    .dataframe tbody tr th {\n",
              "        vertical-align: top;\n",
              "    }\n",
              "\n",
              "    .dataframe thead th {\n",
              "        text-align: right;\n",
              "    }\n",
              "</style>\n",
              "<table border=\"1\" class=\"dataframe\">\n",
              "  <thead>\n",
              "    <tr style=\"text-align: right;\">\n",
              "      <th></th>\n",
              "      <th>average</th>\n",
              "      <th>deviation</th>\n",
              "      <th>max_exec</th>\n",
              "      <th>min_exec</th>\n",
              "      <th>number</th>\n",
              "      <th>repeat</th>\n",
              "      <th>size</th>\n",
              "    </tr>\n",
              "  </thead>\n",
              "  <tbody>\n",
              "    <tr>\n",
              "      <th>75</th>\n",
              "      <td>0.000951</td>\n",
              "      <td>0.000054</td>\n",
              "      <td>0.001261</td>\n",
              "      <td>0.000894</td>\n",
              "      <td>50</td>\n",
              "      <td>100</td>\n",
              "      <td>187510</td>\n",
              "    </tr>\n",
              "    <tr>\n",
              "      <th>76</th>\n",
              "      <td>0.000960</td>\n",
              "      <td>0.000070</td>\n",
              "      <td>0.001479</td>\n",
              "      <td>0.000907</td>\n",
              "      <td>50</td>\n",
              "      <td>100</td>\n",
              "      <td>190010</td>\n",
              "    </tr>\n",
              "    <tr>\n",
              "      <th>77</th>\n",
              "      <td>0.000985</td>\n",
              "      <td>0.000056</td>\n",
              "      <td>0.001358</td>\n",
              "      <td>0.000936</td>\n",
              "      <td>50</td>\n",
              "      <td>100</td>\n",
              "      <td>192510</td>\n",
              "    </tr>\n",
              "    <tr>\n",
              "      <th>78</th>\n",
              "      <td>0.000977</td>\n",
              "      <td>0.000027</td>\n",
              "      <td>0.001172</td>\n",
              "      <td>0.000928</td>\n",
              "      <td>50</td>\n",
              "      <td>100</td>\n",
              "      <td>195010</td>\n",
              "    </tr>\n",
              "    <tr>\n",
              "      <th>79</th>\n",
              "      <td>0.000994</td>\n",
              "      <td>0.000023</td>\n",
              "      <td>0.001143</td>\n",
              "      <td>0.000977</td>\n",
              "      <td>50</td>\n",
              "      <td>100</td>\n",
              "      <td>197510</td>\n",
              "    </tr>\n",
              "  </tbody>\n",
              "</table>\n",
              "</div>"
            ],
            "text/plain": [
              "     average  deviation  max_exec  min_exec  number  repeat    size\n",
              "75  0.000951   0.000054  0.001261  0.000894      50     100  187510\n",
              "76  0.000960   0.000070  0.001479  0.000907      50     100  190010\n",
              "77  0.000985   0.000056  0.001358  0.000936      50     100  192510\n",
              "78  0.000977   0.000027  0.001172  0.000928      50     100  195010\n",
              "79  0.000994   0.000023  0.001143  0.000977      50     100  197510"
            ]
          },
          "execution_count": 20,
          "metadata": {},
          "output_type": "execute_result"
        }
      ],
      "source": [
        "res = []\n",
        "for i in range(10, 200000, 2500):\n",
        "    t = measure_time(\"simple_dot(values)\", repeat=100,\n",
        "                     context=dict(simple_dot=simple_dot, values=vect[:i].copy()))\n",
        "    res.append(t)\n",
        "\n",
        "import pandas\n",
        "dot = pandas.DataFrame(res)\n",
        "dot.tail()"
      ]
    },
    {
      "cell_type": "code",
      "execution_count": 20,
      "metadata": {},
      "outputs": [
        {
          "data": {
            "text/html": [
              "<div>\n",
              "<style scoped>\n",
              "    .dataframe tbody tr th:only-of-type {\n",
              "        vertical-align: middle;\n",
              "    }\n",
              "\n",
              "    .dataframe tbody tr th {\n",
              "        vertical-align: top;\n",
              "    }\n",
              "\n",
              "    .dataframe thead th {\n",
              "        text-align: right;\n",
              "    }\n",
              "</style>\n",
              "<table border=\"1\" class=\"dataframe\">\n",
              "  <thead>\n",
              "    <tr style=\"text-align: right;\">\n",
              "      <th></th>\n",
              "      <th>average</th>\n",
              "      <th>deviation</th>\n",
              "      <th>max_exec</th>\n",
              "      <th>min_exec</th>\n",
              "      <th>number</th>\n",
              "      <th>repeat</th>\n",
              "      <th>size</th>\n",
              "    </tr>\n",
              "  </thead>\n",
              "  <tbody>\n",
              "    <tr>\n",
              "      <th>0</th>\n",
              "      <td>0.000767</td>\n",
              "      <td>0.000145</td>\n",
              "      <td>0.001178</td>\n",
              "      <td>0.000638</td>\n",
              "      <td>50</td>\n",
              "      <td>10</td>\n",
              "      <td>100000</td>\n",
              "    </tr>\n",
              "    <tr>\n",
              "      <th>1</th>\n",
              "      <td>0.010815</td>\n",
              "      <td>0.004275</td>\n",
              "      <td>0.020729</td>\n",
              "      <td>0.007911</td>\n",
              "      <td>50</td>\n",
              "      <td>10</td>\n",
              "      <td>1100000</td>\n",
              "    </tr>\n",
              "    <tr>\n",
              "      <th>2</th>\n",
              "      <td>0.021920</td>\n",
              "      <td>0.000776</td>\n",
              "      <td>0.023652</td>\n",
              "      <td>0.021118</td>\n",
              "      <td>50</td>\n",
              "      <td>10</td>\n",
              "      <td>2100000</td>\n",
              "    </tr>\n",
              "    <tr>\n",
              "      <th>3</th>\n",
              "      <td>0.033189</td>\n",
              "      <td>0.000535</td>\n",
              "      <td>0.034132</td>\n",
              "      <td>0.032384</td>\n",
              "      <td>50</td>\n",
              "      <td>10</td>\n",
              "      <td>3100000</td>\n",
              "    </tr>\n",
              "    <tr>\n",
              "      <th>4</th>\n",
              "      <td>0.044347</td>\n",
              "      <td>0.000538</td>\n",
              "      <td>0.045126</td>\n",
              "      <td>0.043684</td>\n",
              "      <td>50</td>\n",
              "      <td>10</td>\n",
              "      <td>4100000</td>\n",
              "    </tr>\n",
              "  </tbody>\n",
              "</table>\n",
              "</div>"
            ],
            "text/plain": [
              "    average  deviation  max_exec  min_exec  number  repeat     size\n",
              "0  0.000767   0.000145  0.001178  0.000638      50      10   100000\n",
              "1  0.010815   0.004275  0.020729  0.007911      50      10  1100000\n",
              "2  0.021920   0.000776  0.023652  0.021118      50      10  2100000\n",
              "3  0.033189   0.000535  0.034132  0.032384      50      10  3100000\n",
              "4  0.044347   0.000538  0.045126  0.043684      50      10  4100000"
            ]
          },
          "execution_count": 21,
          "metadata": {},
          "output_type": "execute_result"
        }
      ],
      "source": [
        "res = []\n",
        "for i in range(100000, 10000000, 1000000):\n",
        "    t = measure_time(\"simple_dot(values)\", repeat=10,\n",
        "                     context=dict(simple_dot=simple_dot, values=vect[:i].copy()))\n",
        "    res.append(t)\n",
        "    \n",
        "huge_dot = pandas.DataFrame(res)\n",
        "huge_dot.head()"
      ]
    },
    {
      "cell_type": "code",
      "execution_count": 21,
      "metadata": {},
      "outputs": [
        {
          "data": {
            "image/png": "[encoded data removed]",
            "text/plain": [
              "<Figure size 1008x288 with 2 Axes>"
            ]
          },
          "metadata": {
            "needs_background": "light"
          },
          "output_type": "display_data"
        }
      ],
      "source": [
        "import matplotlib.pyplot as plt\n",
        "fig, ax = plt.subplots(1, 2, figsize=(14,4))\n",
        "dot.plot(x='size', y=\"average\", ax=ax[0])\n",
        "huge_dot.plot(x='size', y=\"average\", ax=ax[1], logy=True)\n",
        "ax[0].set_title(\"numpy dot product execution time\");\n",
        "ax[1].set_title(\"numpy dot product execution time\");"
      ]
    },
    {
      "cell_type": "markdown",
      "metadata": {},
      "source": [
        "#### numpy.einsum"
      ]
    },
    {
      "cell_type": "code",
      "execution_count": 22,
      "metadata": {},
      "outputs": [
        {
          "data": {
            "text/plain": [
              "3333333.8"
            ]
          },
          "execution_count": 23,
          "metadata": {},
          "output_type": "execute_result"
        }
      ],
      "source": [
        "def simple_dot_einsum(values):\n",
        "    return numpy.einsum('i,i->', values, values)\n",
        "\n",
        "values = list(range(10000000))\n",
        "values = numpy.array(values, dtype=numpy.float32)\n",
        "vect = values / numpy.max(values)\n",
        "simple_dot_einsum(vect)"
      ]
    },
    {
      "cell_type": "code",
      "execution_count": 23,
      "metadata": {},
      "outputs": [
        {
          "data": {
            "text/plain": [
              "{'average': 0.19493563069999595,\n",
              " 'deviation': 0.018592816248719633,\n",
              " 'min_exec': 0.18268146299999444,\n",
              " 'max_exec': 0.23413384600002018,\n",
              " 'repeat': 10,\n",
              " 'number': 50,\n",
              " 'size': 10000000}"
            ]
          },
          "execution_count": 24,
          "metadata": {},
          "output_type": "execute_result"
        }
      ],
      "source": [
        "measure_time(\"simple_dot_einsum(values)\", context=dict(simple_dot_einsum=simple_dot_einsum, values=vect))"
      ]
    },
    {
      "cell_type": "code",
      "execution_count": 24,
      "metadata": {},
      "outputs": [
        {
          "data": {
            "text/html": [
              "<div>\n",
              "<style scoped>\n",
              "    .dataframe tbody tr th:only-of-type {\n",
              "        vertical-align: middle;\n",
              "    }\n",
              "\n",
              "    .dataframe tbody tr th {\n",
              "        vertical-align: top;\n",
              "    }\n",
              "\n",
              "    .dataframe thead th {\n",
              "        text-align: right;\n",
              "    }\n",
              "</style>\n",
              "<table border=\"1\" class=\"dataframe\">\n",
              "  <thead>\n",
              "    <tr style=\"text-align: right;\">\n",
              "      <th></th>\n",
              "      <th>average</th>\n",
              "      <th>deviation</th>\n",
              "      <th>max_exec</th>\n",
              "      <th>min_exec</th>\n",
              "      <th>number</th>\n",
              "      <th>repeat</th>\n",
              "      <th>size</th>\n",
              "    </tr>\n",
              "  </thead>\n",
              "  <tbody>\n",
              "    <tr>\n",
              "      <th>75</th>\n",
              "      <td>0.003561</td>\n",
              "      <td>0.000220</td>\n",
              "      <td>0.004371</td>\n",
              "      <td>0.003284</td>\n",
              "      <td>50</td>\n",
              "      <td>100</td>\n",
              "      <td>187510</td>\n",
              "    </tr>\n",
              "    <tr>\n",
              "      <th>76</th>\n",
              "      <td>0.003591</td>\n",
              "      <td>0.000201</td>\n",
              "      <td>0.004558</td>\n",
              "      <td>0.003325</td>\n",
              "      <td>50</td>\n",
              "      <td>100</td>\n",
              "      <td>190010</td>\n",
              "    </tr>\n",
              "    <tr>\n",
              "      <th>77</th>\n",
              "      <td>0.004289</td>\n",
              "      <td>0.000961</td>\n",
              "      <td>0.008022</td>\n",
              "      <td>0.003464</td>\n",
              "      <td>50</td>\n",
              "      <td>100</td>\n",
              "      <td>192510</td>\n",
              "    </tr>\n",
              "    <tr>\n",
              "      <th>78</th>\n",
              "      <td>0.004148</td>\n",
              "      <td>0.000931</td>\n",
              "      <td>0.007775</td>\n",
              "      <td>0.003406</td>\n",
              "      <td>50</td>\n",
              "      <td>100</td>\n",
              "      <td>195010</td>\n",
              "    </tr>\n",
              "    <tr>\n",
              "      <th>79</th>\n",
              "      <td>0.004014</td>\n",
              "      <td>0.000760</td>\n",
              "      <td>0.007641</td>\n",
              "      <td>0.003450</td>\n",
              "      <td>50</td>\n",
              "      <td>100</td>\n",
              "      <td>197510</td>\n",
              "    </tr>\n",
              "  </tbody>\n",
              "</table>\n",
              "</div>"
            ],
            "text/plain": [
              "     average  deviation  max_exec  min_exec  number  repeat    size\n",
              "75  0.003561   0.000220  0.004371  0.003284      50     100  187510\n",
              "76  0.003591   0.000201  0.004558  0.003325      50     100  190010\n",
              "77  0.004289   0.000961  0.008022  0.003464      50     100  192510\n",
              "78  0.004148   0.000931  0.007775  0.003406      50     100  195010\n",
              "79  0.004014   0.000760  0.007641  0.003450      50     100  197510"
            ]
          },
          "execution_count": 25,
          "metadata": {},
          "output_type": "execute_result"
        }
      ],
      "source": [
        "res = []\n",
        "for i in range(10, 200000, 2500):\n",
        "    t = measure_time(\"simple_dot_einsum(values)\", repeat=100,\n",
        "                     context=dict(simple_dot_einsum=simple_dot_einsum, values=vect[:i].copy()))\n",
        "    res.append(t)\n",
        "\n",
        "import pandas\n",
        "einsum_dot = pandas.DataFrame(res)\n",
        "einsum_dot.tail()"
      ]
    },
    {
      "cell_type": "code",
      "execution_count": 25,
      "metadata": {},
      "outputs": [
        {
          "data": {
            "image/png": "[encoded data removed]",
            "text/plain": [
              "<Figure size 504x288 with 1 Axes>"
            ]
          },
          "metadata": {
            "needs_background": "light"
          },
          "output_type": "display_data"
        }
      ],
      "source": [
        "import matplotlib.pyplot as plt\n",
        "fig, ax = plt.subplots(1, 1, figsize=(7,4))\n",
        "dot.plot(x='size', y=\"average\", ax=ax, label=\"numpy.dot\", logy=True)\n",
        "einsum_dot.plot(x='size', y=\"average\", ax=ax, logy=True,label=\"numpy.einsum\")\n",
        "ax.set_title(\"numpy einsum / dot dot product execution time\");"
      ]
    },
    {
      "cell_type": "markdown",
      "metadata": {},
      "source": [
        "The function [einsum](https://docs.scipy.org/doc/numpy/reference/generated/numpy.einsum.html) is slower (see [Einsum - Einstein summation in deep learning](https://rockt.github.io/2018/04/30/einsum) appears to be slower but it is usually faster when it comes to chain operations as it reduces the number of intermediate allocations to do."
      ]
    },
    {
      "cell_type": "markdown",
      "metadata": {},
      "source": [
        "#### pybind11"
      ]
    },
    {
      "cell_type": "markdown",
      "metadata": {},
      "source": [
        "Now the custom implementation. We start with an empty function to get a sense of the cost due to to pybind11."
      ]
    },
    {
      "cell_type": "code",
      "execution_count": 26,
      "metadata": {},
      "outputs": [
        {
          "data": {
            "text/plain": [
              "0.0"
            ]
          },
          "execution_count": 27,
          "metadata": {},
          "output_type": "execute_result"
        }
      ],
      "source": [
        "from cpyquickhelper.numbers.cbenchmark_dot import empty_vector_dot_product\n",
        "empty_vector_dot_product(vect, vect)"
      ]
    },
    {
      "cell_type": "code",
      "execution_count": 27,
      "metadata": {},
      "outputs": [
        {
          "data": {
            "text/plain": [
              "{'average': 0.00014048369999954957,\n",
              " 'deviation': 5.028467816216195e-05,\n",
              " 'min_exec': 0.00010745600000916511,\n",
              " 'max_exec': 0.0002844440000018267,\n",
              " 'repeat': 10,\n",
              " 'number': 50,\n",
              " 'size': 10000000}"
            ]
          },
          "execution_count": 28,
          "metadata": {},
          "output_type": "execute_result"
        }
      ],
      "source": [
        "def empty_c11_dot(vect):\n",
        "    return empty_vector_dot_product(vect, vect)\n",
        "\n",
        "measure_time(\"empty_c11_dot(values)\", context=dict(empty_c11_dot=empty_c11_dot, values=vect), repeat=10)"
      ]
    },
    {
      "cell_type": "markdown",
      "metadata": {},
      "source": [
        "Very small. It should not pollute our experiments."
      ]
    },
    {
      "cell_type": "code",
      "execution_count": 28,
      "metadata": {},
      "outputs": [
        {
          "data": {
            "text/plain": [
              "3334629.0"
            ]
          },
          "execution_count": 29,
          "metadata": {},
          "output_type": "execute_result"
        }
      ],
      "source": [
        "from cpyquickhelper.numbers.cbenchmark_dot import vector_dot_product\n",
        "vector_dot_product(vect, vect)"
      ]
    },
    {
      "cell_type": "code",
      "execution_count": 29,
      "metadata": {},
      "outputs": [
        {
          "data": {
            "text/plain": [
              "{'average': 0.6892336721999982,\n",
              " 'deviation': 0.0026355267788006364,\n",
              " 'min_exec': 0.682669808,\n",
              " 'max_exec': 0.6934451039999914,\n",
              " 'repeat': 10,\n",
              " 'number': 50,\n",
              " 'size': 10000000}"
            ]
          },
          "execution_count": 30,
          "metadata": {},
          "output_type": "execute_result"
        }
      ],
      "source": [
        "def c11_dot(vect):\n",
        "    return vector_dot_product(vect, vect)\n",
        "\n",
        "measure_time(\"c11_dot(values)\", context=dict(c11_dot=c11_dot, values=vect), repeat=10)"
      ]
    },
    {
      "cell_type": "code",
      "execution_count": 30,
      "metadata": {
        "scrolled": false
      },
      "outputs": [
        {
          "data": {
            "text/html": [
              "<div>\n",
              "<style scoped>\n",
              "    .dataframe tbody tr th:only-of-type {\n",
              "        vertical-align: middle;\n",
              "    }\n",
              "\n",
              "    .dataframe tbody tr th {\n",
              "        vertical-align: top;\n",
              "    }\n",
              "\n",
              "    .dataframe thead th {\n",
              "        text-align: right;\n",
              "    }\n",
              "</style>\n",
              "<table border=\"1\" class=\"dataframe\">\n",
              "  <thead>\n",
              "    <tr style=\"text-align: right;\">\n",
              "      <th></th>\n",
              "      <th>average</th>\n",
              "      <th>deviation</th>\n",
              "      <th>max_exec</th>\n",
              "      <th>min_exec</th>\n",
              "      <th>number</th>\n",
              "      <th>repeat</th>\n",
              "      <th>size</th>\n",
              "    </tr>\n",
              "  </thead>\n",
              "  <tbody>\n",
              "    <tr>\n",
              "      <th>75</th>\n",
              "      <td>0.012888</td>\n",
              "      <td>0.000114</td>\n",
              "      <td>0.013124</td>\n",
              "      <td>0.012738</td>\n",
              "      <td>50</td>\n",
              "      <td>10</td>\n",
              "      <td>187510</td>\n",
              "    </tr>\n",
              "    <tr>\n",
              "      <th>76</th>\n",
              "      <td>0.013072</td>\n",
              "      <td>0.000136</td>\n",
              "      <td>0.013442</td>\n",
              "      <td>0.012917</td>\n",
              "      <td>50</td>\n",
              "      <td>10</td>\n",
              "      <td>190010</td>\n",
              "    </tr>\n",
              "    <tr>\n",
              "      <th>77</th>\n",
              "      <td>0.013343</td>\n",
              "      <td>0.000245</td>\n",
              "      <td>0.013846</td>\n",
              "      <td>0.013095</td>\n",
              "      <td>50</td>\n",
              "      <td>10</td>\n",
              "      <td>192510</td>\n",
              "    </tr>\n",
              "    <tr>\n",
              "      <th>78</th>\n",
              "      <td>0.013593</td>\n",
              "      <td>0.000537</td>\n",
              "      <td>0.014853</td>\n",
              "      <td>0.013234</td>\n",
              "      <td>50</td>\n",
              "      <td>10</td>\n",
              "      <td>195010</td>\n",
              "    </tr>\n",
              "    <tr>\n",
              "      <th>79</th>\n",
              "      <td>0.013525</td>\n",
              "      <td>0.000072</td>\n",
              "      <td>0.013690</td>\n",
              "      <td>0.013440</td>\n",
              "      <td>50</td>\n",
              "      <td>10</td>\n",
              "      <td>197510</td>\n",
              "    </tr>\n",
              "  </tbody>\n",
              "</table>\n",
              "</div>"
            ],
            "text/plain": [
              "     average  deviation  max_exec  min_exec  number  repeat    size\n",
              "75  0.012888   0.000114  0.013124  0.012738      50      10  187510\n",
              "76  0.013072   0.000136  0.013442  0.012917      50      10  190010\n",
              "77  0.013343   0.000245  0.013846  0.013095      50      10  192510\n",
              "78  0.013593   0.000537  0.014853  0.013234      50      10  195010\n",
              "79  0.013525   0.000072  0.013690  0.013440      50      10  197510"
            ]
          },
          "execution_count": 31,
          "metadata": {},
          "output_type": "execute_result"
        }
      ],
      "source": [
        "res = []\n",
        "for i in range(10, 200000, 2500):\n",
        "    t = measure_time(\"c11_dot(values)\", repeat=10,\n",
        "                     context=dict(c11_dot=c11_dot, values=vect[:i].copy()))\n",
        "    res.append(t)\n",
        "\n",
        "import pandas\n",
        "cus_dot = pandas.DataFrame(res)\n",
        "cus_dot.tail()"
      ]
    },
    {
      "cell_type": "code",
      "execution_count": 31,
      "metadata": {},
      "outputs": [
        {
          "data": {
            "image/png": "[encoded data removed]",
            "text/plain": [
              "<Figure size 1008x288 with 2 Axes>"
            ]
          },
          "metadata": {
            "needs_background": "light"
          },
          "output_type": "display_data"
        }
      ],
      "source": [
        "fig, ax = plt.subplots(1, 2, figsize=(14,4))\n",
        "dot.plot(x='size', y=\"average\", ax=ax[0], label=\"numpy\")\n",
        "cus_dot.plot(x='size', y=\"average\", ax=ax[0], label=\"pybind11\")\n",
        "dot.plot(x='size', y=\"average\", ax=ax[1], label=\"numpy\", logy=True)\n",
        "cus_dot.plot(x='size', y=\"average\", ax=ax[1], label=\"pybind11\")\n",
        "ax[0].set_title(\"numpy and custom dot product execution time\");\n",
        "ax[1].set_title(\"numpy and custom dot product execution time\");"
      ]
    },
    {
      "cell_type": "markdown",
      "metadata": {},
      "source": [
        "Pretty slow. Let's see what it does to compute dot product 16 by 16."
      ]
    },
    {
      "cell_type": "markdown",
      "metadata": {},
      "source": [
        "### BLAS\n",
        "\n",
        "Internally, [numpy](http://www.numpy.org/) is using [BLAS](http://www.netlib.org/blas/). A direct call to it should give the same results."
      ]
    },
    {
      "cell_type": "code",
      "execution_count": 32,
      "metadata": {},
      "outputs": [
        {
          "data": {
            "text/plain": [
              "{'average': 0.11466716290000108,\n",
              " 'deviation': 0.002010324291081832,\n",
              " 'min_exec': 0.11229813799999988,\n",
              " 'max_exec': 0.11973121600000525,\n",
              " 'repeat': 10,\n",
              " 'number': 50,\n",
              " 'size': 10000000}"
            ]
          },
          "execution_count": 33,
          "metadata": {},
          "output_type": "execute_result"
        }
      ],
      "source": [
        "from cpyquickhelper.numbers.direct_blas_lapack import cblas_sdot\n",
        "\n",
        "def blas_dot(vect):\n",
        "    return cblas_sdot(vect, vect)\n",
        "\n",
        "measure_time(\"blas_dot(values)\", context=dict(blas_dot=blas_dot, values=vect), repeat=10)"
      ]
    },
    {
      "cell_type": "code",
      "execution_count": 33,
      "metadata": {},
      "outputs": [
        {
          "data": {
            "text/html": [
              "<div>\n",
              "<style scoped>\n",
              "    .dataframe tbody tr th:only-of-type {\n",
              "        vertical-align: middle;\n",
              "    }\n",
              "\n",
              "    .dataframe tbody tr th {\n",
              "        vertical-align: top;\n",
              "    }\n",
              "\n",
              "    .dataframe thead th {\n",
              "        text-align: right;\n",
              "    }\n",
              "</style>\n",
              "<table border=\"1\" class=\"dataframe\">\n",
              "  <thead>\n",
              "    <tr style=\"text-align: right;\">\n",
              "      <th></th>\n",
              "      <th>average</th>\n",
              "      <th>deviation</th>\n",
              "      <th>max_exec</th>\n",
              "      <th>min_exec</th>\n",
              "      <th>number</th>\n",
              "      <th>repeat</th>\n",
              "      <th>size</th>\n",
              "    </tr>\n",
              "  </thead>\n",
              "  <tbody>\n",
              "    <tr>\n",
              "      <th>75</th>\n",
              "      <td>0.001297</td>\n",
              "      <td>0.000054</td>\n",
              "      <td>0.001430</td>\n",
              "      <td>0.001251</td>\n",
              "      <td>50</td>\n",
              "      <td>10</td>\n",
              "      <td>187510</td>\n",
              "    </tr>\n",
              "    <tr>\n",
              "      <th>76</th>\n",
              "      <td>0.001331</td>\n",
              "      <td>0.000061</td>\n",
              "      <td>0.001433</td>\n",
              "      <td>0.001264</td>\n",
              "      <td>50</td>\n",
              "      <td>10</td>\n",
              "      <td>190010</td>\n",
              "    </tr>\n",
              "    <tr>\n",
              "      <th>77</th>\n",
              "      <td>0.001300</td>\n",
              "      <td>0.000025</td>\n",
              "      <td>0.001344</td>\n",
              "      <td>0.001268</td>\n",
              "      <td>50</td>\n",
              "      <td>10</td>\n",
              "      <td>192510</td>\n",
              "    </tr>\n",
              "    <tr>\n",
              "      <th>78</th>\n",
              "      <td>0.001325</td>\n",
              "      <td>0.000080</td>\n",
              "      <td>0.001550</td>\n",
              "      <td>0.001257</td>\n",
              "      <td>50</td>\n",
              "      <td>10</td>\n",
              "      <td>195010</td>\n",
              "    </tr>\n",
              "    <tr>\n",
              "      <th>79</th>\n",
              "      <td>0.001465</td>\n",
              "      <td>0.000218</td>\n",
              "      <td>0.001961</td>\n",
              "      <td>0.001264</td>\n",
              "      <td>50</td>\n",
              "      <td>10</td>\n",
              "      <td>197510</td>\n",
              "    </tr>\n",
              "  </tbody>\n",
              "</table>\n",
              "</div>"
            ],
            "text/plain": [
              "     average  deviation  max_exec  min_exec  number  repeat    size\n",
              "75  0.001297   0.000054  0.001430  0.001251      50      10  187510\n",
              "76  0.001331   0.000061  0.001433  0.001264      50      10  190010\n",
              "77  0.001300   0.000025  0.001344  0.001268      50      10  192510\n",
              "78  0.001325   0.000080  0.001550  0.001257      50      10  195010\n",
              "79  0.001465   0.000218  0.001961  0.001264      50      10  197510"
            ]
          },
          "execution_count": 34,
          "metadata": {},
          "output_type": "execute_result"
        }
      ],
      "source": [
        "res = []\n",
        "for i in range(10, 200000, 2500):\n",
        "    t = measure_time(\"blas_dot(values)\", repeat=10,\n",
        "                     context=dict(blas_dot=blas_dot, values=vect[:i].copy()))\n",
        "    res.append(t)\n",
        "\n",
        "import pandas\n",
        "blas_dot = pandas.DataFrame(res)\n",
        "blas_dot.tail()"
      ]
    },
    {
      "cell_type": "code",
      "execution_count": 34,
      "metadata": {},
      "outputs": [
        {
          "data": {
            "image/png": "[encoded data removed]",
            "text/plain": [
              "<Figure size 1008x288 with 2 Axes>"
            ]
          },
          "metadata": {
            "needs_background": "light"
          },
          "output_type": "display_data"
        }
      ],
      "source": [
        "fig, ax = plt.subplots(1, 2, figsize=(14,4))\n",
        "dot.plot(x='size', y=\"average\", ax=ax[0], label=\"numpy\")\n",
        "cus_dot.plot(x='size', y=\"average\", ax=ax[0], label=\"pybind11\")\n",
        "blas_dot.plot(x='size', y=\"average\", ax=ax[0], label=\"blas\")\n",
        "dot.plot(x='size', y=\"average\", ax=ax[1], label=\"numpy\", logy=True)\n",
        "cus_dot.plot(x='size', y=\"average\", ax=ax[1], label=\"pybind11\")\n",
        "blas_dot.plot(x='size', y=\"average\", ax=ax[1], label=\"blas\")\n",
        "ax[0].set_title(\"numpy and custom dot product execution time\");\n",
        "ax[1].set_title(\"numpy and custom dot product execution time\");"
      ]
    },
    {
      "cell_type": "markdown",
      "metadata": {},
      "source": [
        "### Use of branching: 16 multplications in one row\n",
        "\n",
        "The code looks like what follows. If there is more than 16 multiplications left, we use function *vector_dot_product_pointer16*, otherwise, there are done one by one like the previous function."
      ]
    },
    {
      "cell_type": "code",
      "execution_count": 35,
      "metadata": {},
      "outputs": [],
      "source": [
        "# float vector_dot_product_pointer16(const float *p1, const float *p2)\n",
        "# {\n",
        "#     float sum = 0;\n",
        "#     \n",
        "#     sum += *(p1++) * *(p2++);\n",
        "#     sum += *(p1++) * *(p2++);\n",
        "#     sum += *(p1++) * *(p2++);\n",
        "#     sum += *(p1++) * *(p2++);\n",
        "#     sum += *(p1++) * *(p2++);\n",
        "#     sum += *(p1++) * *(p2++);\n",
        "#     sum += *(p1++) * *(p2++);\n",
        "#     sum += *(p1++) * *(p2++);\n",
        "# \n",
        "#     sum += *(p1++) * *(p2++);\n",
        "#     sum += *(p1++) * *(p2++);\n",
        "#     sum += *(p1++) * *(p2++);\n",
        "#     sum += *(p1++) * *(p2++);\n",
        "#     sum += *(p1++) * *(p2++);\n",
        "#     sum += *(p1++) * *(p2++);\n",
        "#     sum += *(p1++) * *(p2++);\n",
        "#     sum += *(p1++) * *(p2++);\n",
        "# \n",
        "#     return sum;\n",
        "# }\n",
        "# \n",
        "# #define BYN 16\n",
        "# \n",
        "# float vector_dot_product_pointer16(const float *p1, const float *p2, size_t size)\n",
        "# {\n",
        "#     float sum = 0;\n",
        "#     size_t i = 0;\n",
        "#     if (size >= BYN) {\n",
        "#         size_t size_ = size - BYN;\n",
        "#         for(; i < size_; i += BYN, p1 += BYN, p2 += BYN)\n",
        "#             sum += vector_dot_product_pointer16(p1, p2);\n",
        "#     }\n",
        "#     for(; i < size; ++p1, ++p2, ++i)\n",
        "#         sum += *p1 * *p2;\n",
        "#     return sum;\n",
        "# }\n",
        "# \n",
        "# float vector_dot_product16(py::array_t<float> v1, py::array_t<float> v2)\n",
        "# {\n",
        "#     if (v1.ndim() != v2.ndim())\n",
        "#         throw std::runtime_error(\"Vector v1 and v2 must have the same dimension.\");\n",
        "#     if (v1.ndim() != 1)\n",
        "#         throw std::runtime_error(\"Vector v1 and v2 must be vectors.\");\n",
        "#     return vector_dot_product_pointer16(v1.data(0), v2.data(0), v1.shape(0));\n",
        "# }"
      ]
    },
    {
      "cell_type": "code",
      "execution_count": 36,
      "metadata": {},
      "outputs": [
        {
          "data": {
            "text/plain": [
              "3333331.75"
            ]
          },
          "execution_count": 37,
          "metadata": {},
          "output_type": "execute_result"
        }
      ],
      "source": [
        "from cpyquickhelper.numbers.cbenchmark_dot import vector_dot_product16\n",
        "vector_dot_product16(vect, vect)"
      ]
    },
    {
      "cell_type": "code",
      "execution_count": 37,
      "metadata": {},
      "outputs": [
        {
          "data": {
            "text/plain": [
              "{'average': 0.314910955000002,\n",
              " 'deviation': 0.0029377506421509954,\n",
              " 'min_exec': 0.30951390500000286,\n",
              " 'max_exec': 0.3185746350000045,\n",
              " 'repeat': 10,\n",
              " 'number': 50,\n",
              " 'size': 10000000}"
            ]
          },
          "execution_count": 38,
          "metadata": {},
          "output_type": "execute_result"
        }
      ],
      "source": [
        "def c11_dot16(vect):\n",
        "    return vector_dot_product16(vect, vect)\n",
        "\n",
        "measure_time(\"c11_dot16(values)\", context=dict(c11_dot16=c11_dot16, values=vect), repeat=10)"
      ]
    },
    {
      "cell_type": "code",
      "execution_count": 38,
      "metadata": {},
      "outputs": [
        {
          "data": {
            "text/html": [
              "<div>\n",
              "<style scoped>\n",
              "    .dataframe tbody tr th:only-of-type {\n",
              "        vertical-align: middle;\n",
              "    }\n",
              "\n",
              "    .dataframe tbody tr th {\n",
              "        vertical-align: top;\n",
              "    }\n",
              "\n",
              "    .dataframe thead th {\n",
              "        text-align: right;\n",
              "    }\n",
              "</style>\n",
              "<table border=\"1\" class=\"dataframe\">\n",
              "  <thead>\n",
              "    <tr style=\"text-align: right;\">\n",
              "      <th></th>\n",
              "      <th>average</th>\n",
              "      <th>deviation</th>\n",
              "      <th>max_exec</th>\n",
              "      <th>min_exec</th>\n",
              "      <th>number</th>\n",
              "      <th>repeat</th>\n",
              "      <th>size</th>\n",
              "    </tr>\n",
              "  </thead>\n",
              "  <tbody>\n",
              "    <tr>\n",
              "      <th>75</th>\n",
              "      <td>0.006188</td>\n",
              "      <td>0.000874</td>\n",
              "      <td>0.008504</td>\n",
              "      <td>0.005581</td>\n",
              "      <td>50</td>\n",
              "      <td>10</td>\n",
              "      <td>187510</td>\n",
              "    </tr>\n",
              "    <tr>\n",
              "      <th>76</th>\n",
              "      <td>0.006737</td>\n",
              "      <td>0.001393</td>\n",
              "      <td>0.009910</td>\n",
              "      <td>0.005642</td>\n",
              "      <td>50</td>\n",
              "      <td>10</td>\n",
              "      <td>190010</td>\n",
              "    </tr>\n",
              "    <tr>\n",
              "      <th>77</th>\n",
              "      <td>0.006309</td>\n",
              "      <td>0.001338</td>\n",
              "      <td>0.009852</td>\n",
              "      <td>0.005515</td>\n",
              "      <td>50</td>\n",
              "      <td>10</td>\n",
              "      <td>192510</td>\n",
              "    </tr>\n",
              "    <tr>\n",
              "      <th>78</th>\n",
              "      <td>0.005659</td>\n",
              "      <td>0.000078</td>\n",
              "      <td>0.005808</td>\n",
              "      <td>0.005575</td>\n",
              "      <td>50</td>\n",
              "      <td>10</td>\n",
              "      <td>195010</td>\n",
              "    </tr>\n",
              "    <tr>\n",
              "      <th>79</th>\n",
              "      <td>0.005982</td>\n",
              "      <td>0.000239</td>\n",
              "      <td>0.006648</td>\n",
              "      <td>0.005743</td>\n",
              "      <td>50</td>\n",
              "      <td>10</td>\n",
              "      <td>197510</td>\n",
              "    </tr>\n",
              "  </tbody>\n",
              "</table>\n",
              "</div>"
            ],
            "text/plain": [
              "     average  deviation  max_exec  min_exec  number  repeat    size\n",
              "75  0.006188   0.000874  0.008504  0.005581      50      10  187510\n",
              "76  0.006737   0.001393  0.009910  0.005642      50      10  190010\n",
              "77  0.006309   0.001338  0.009852  0.005515      50      10  192510\n",
              "78  0.005659   0.000078  0.005808  0.005575      50      10  195010\n",
              "79  0.005982   0.000239  0.006648  0.005743      50      10  197510"
            ]
          },
          "execution_count": 39,
          "metadata": {},
          "output_type": "execute_result"
        }
      ],
      "source": [
        "res = []\n",
        "for i in range(10, 200000, 2500):\n",
        "    t = measure_time(\"c11_dot16(values)\", repeat=10,\n",
        "                     context=dict(c11_dot16=c11_dot16, values=vect[:i].copy()))\n",
        "    res.append(t)\n",
        "\n",
        "cus_dot16 = pandas.DataFrame(res)\n",
        "cus_dot16.tail()"
      ]
    },
    {
      "cell_type": "code",
      "execution_count": 39,
      "metadata": {},
      "outputs": [
        {
          "data": {
            "image/png": "[encoded data removed]",
            "text/plain": [
              "<Figure size 1008x288 with 2 Axes>"
            ]
          },
          "metadata": {
            "needs_background": "light"
          },
          "output_type": "display_data"
        }
      ],
      "source": [
        "fig, ax = plt.subplots(1, 2, figsize=(14,4))\n",
        "dot.plot(x='size', y=\"average\", ax=ax[0], label=\"numpy\")\n",
        "cus_dot.plot(x='size', y=\"average\", ax=ax[0], label=\"pybind11\")\n",
        "cus_dot16.plot(x='size', y=\"average\", ax=ax[0], label=\"pybind11x16\")\n",
        "dot.plot(x='size', y=\"average\", ax=ax[1], label=\"numpy\", logy=True)\n",
        "cus_dot.plot(x='size', y=\"average\", ax=ax[1], label=\"pybind11\")\n",
        "cus_dot16.plot(x='size', y=\"average\", ax=ax[1], label=\"pybind11x16\")\n",
        "ax[0].set_title(\"numpy and custom dot product execution time\");\n",
        "ax[1].set_title(\"numpy and custom dot product execution time\");"
      ]
    },
    {
      "cell_type": "markdown",
      "metadata": {},
      "source": [
        "We are far from *numpy* but the branching has clearly a huge impact and the fact the loop condition is evaluated only every 16 iterations does not explain this gain. Next experiment with [SSE](https://fr.wikipedia.org/wiki/Streaming_SIMD_Extensions) instructions."
      ]
    },
    {
      "cell_type": "markdown",
      "metadata": {},
      "source": [
        "### Optimized to remove function call\n",
        "\n",
        "We remove the function call to get the following version."
      ]
    },
    {
      "cell_type": "code",
      "execution_count": 40,
      "metadata": {},
      "outputs": [],
      "source": [
        "# float vector_dot_product_pointer16_nofcall(const float *p1, const float *p2, size_t size)\n",
        "# {\n",
        "#     float sum = 0;    \n",
        "#     const float * end = p1 + size;\n",
        "#     if (size >= BYN) {\n",
        "#         #if(BYN != 16)\n",
        "#             #error \"BYN must be equal to 16\";\n",
        "#         #endif\n",
        "#         unsigned int size_ = (unsigned int) size;\n",
        "#         size_ = size_ >> 4;  // division by 16=2^4\n",
        "#         size_ = size_ << 4;  // multiplication by 16=2^4\n",
        "#         const float * end_ = p1 + size_;\n",
        "#         for(; p1 != end_;)\n",
        "#         {\n",
        "#             sum += *p1 * *p2; ++p1, ++p2;\n",
        "#             sum += *p1 * *p2; ++p1, ++p2;\n",
        "#             sum += *p1 * *p2; ++p1, ++p2;\n",
        "#             sum += *p1 * *p2; ++p1, ++p2;\n",
        "#             \n",
        "#             sum += *p1 * *p2; ++p1, ++p2;\n",
        "#             sum += *p1 * *p2; ++p1, ++p2;\n",
        "#             sum += *p1 * *p2; ++p1, ++p2;\n",
        "#             sum += *p1 * *p2; ++p1, ++p2;\n",
        "# \n",
        "#             sum += *p1 * *p2; ++p1, ++p2;\n",
        "#             sum += *p1 * *p2; ++p1, ++p2;\n",
        "#             sum += *p1 * *p2; ++p1, ++p2;\n",
        "#             sum += *p1 * *p2; ++p1, ++p2;\n",
        "#             \n",
        "#             sum += *p1 * *p2; ++p1, ++p2;\n",
        "#             sum += *p1 * *p2; ++p1, ++p2;\n",
        "#             sum += *p1 * *p2; ++p1, ++p2;\n",
        "#             sum += *p1 * *p2; ++p1, ++p2;\n",
        "#         }\n",
        "#     }\n",
        "#     for(; p1 != end; ++p1, ++p2)\n",
        "#         sum += *p1 * *p2;\n",
        "#     return sum;\n",
        "# }\n",
        "# \n",
        "# float vector_dot_product16_nofcall(py::array_t<float> v1, py::array_t<float> v2)\n",
        "# {\n",
        "#     if (v1.ndim() != v2.ndim())\n",
        "#         throw std::runtime_error(\"Vector v1 and v2 must have the same dimension.\");\n",
        "#     if (v1.ndim() != 1)\n",
        "#         throw std::runtime_error(\"Vector v1 and v2 must be vectors.\");\n",
        "#     return vector_dot_product_pointer16_nofcall(v1.data(0), v2.data(0), v1.shape(0));\n",
        "# }"
      ]
    },
    {
      "cell_type": "code",
      "execution_count": 41,
      "metadata": {},
      "outputs": [
        {
          "data": {
            "text/plain": [
              "3334629.0"
            ]
          },
          "execution_count": 42,
          "metadata": {},
          "output_type": "execute_result"
        }
      ],
      "source": [
        "from cpyquickhelper.numbers.cbenchmark_dot import vector_dot_product16_nofcall\n",
        "vector_dot_product16_nofcall(vect, vect)"
      ]
    },
    {
      "cell_type": "code",
      "execution_count": 42,
      "metadata": {},
      "outputs": [
        {
          "data": {
            "text/plain": [
              "{'average': 0.7019152174999987,\n",
              " 'deviation': 0.008392854092724276,\n",
              " 'min_exec': 0.688034739999992,\n",
              " 'max_exec': 0.7141897709999938,\n",
              " 'repeat': 10,\n",
              " 'number': 50,\n",
              " 'size': 10000000}"
            ]
          },
          "execution_count": 43,
          "metadata": {},
          "output_type": "execute_result"
        }
      ],
      "source": [
        "def c11_dot16_nofcall(vect):\n",
        "    return vector_dot_product16_nofcall(vect, vect)\n",
        "\n",
        "measure_time(\"c11_dot16_nofcall(values)\",\n",
        "             context=dict(c11_dot16_nofcall=c11_dot16_nofcall, values=vect), repeat=10)"
      ]
    },
    {
      "cell_type": "code",
      "execution_count": 43,
      "metadata": {},
      "outputs": [
        {
          "data": {
            "text/html": [
              "<div>\n",
              "<style scoped>\n",
              "    .dataframe tbody tr th:only-of-type {\n",
              "        vertical-align: middle;\n",
              "    }\n",
              "\n",
              "    .dataframe tbody tr th {\n",
              "        vertical-align: top;\n",
              "    }\n",
              "\n",
              "    .dataframe thead th {\n",
              "        text-align: right;\n",
              "    }\n",
              "</style>\n",
              "<table border=\"1\" class=\"dataframe\">\n",
              "  <thead>\n",
              "    <tr style=\"text-align: right;\">\n",
              "      <th></th>\n",
              "      <th>average</th>\n",
              "      <th>deviation</th>\n",
              "      <th>max_exec</th>\n",
              "      <th>min_exec</th>\n",
              "      <th>number</th>\n",
              "      <th>repeat</th>\n",
              "      <th>size</th>\n",
              "    </tr>\n",
              "  </thead>\n",
              "  <tbody>\n",
              "    <tr>\n",
              "      <th>75</th>\n",
              "      <td>0.013276</td>\n",
              "      <td>0.000297</td>\n",
              "      <td>0.013990</td>\n",
              "      <td>0.012912</td>\n",
              "      <td>50</td>\n",
              "      <td>10</td>\n",
              "      <td>187510</td>\n",
              "    </tr>\n",
              "    <tr>\n",
              "      <th>76</th>\n",
              "      <td>0.013366</td>\n",
              "      <td>0.000161</td>\n",
              "      <td>0.013586</td>\n",
              "      <td>0.013041</td>\n",
              "      <td>50</td>\n",
              "      <td>10</td>\n",
              "      <td>190010</td>\n",
              "    </tr>\n",
              "    <tr>\n",
              "      <th>77</th>\n",
              "      <td>0.013594</td>\n",
              "      <td>0.000572</td>\n",
              "      <td>0.015058</td>\n",
              "      <td>0.012880</td>\n",
              "      <td>50</td>\n",
              "      <td>10</td>\n",
              "      <td>192510</td>\n",
              "    </tr>\n",
              "    <tr>\n",
              "      <th>78</th>\n",
              "      <td>0.013450</td>\n",
              "      <td>0.000088</td>\n",
              "      <td>0.013630</td>\n",
              "      <td>0.013338</td>\n",
              "      <td>50</td>\n",
              "      <td>10</td>\n",
              "      <td>195010</td>\n",
              "    </tr>\n",
              "    <tr>\n",
              "      <th>79</th>\n",
              "      <td>0.014544</td>\n",
              "      <td>0.001399</td>\n",
              "      <td>0.017488</td>\n",
              "      <td>0.013462</td>\n",
              "      <td>50</td>\n",
              "      <td>10</td>\n",
              "      <td>197510</td>\n",
              "    </tr>\n",
              "  </tbody>\n",
              "</table>\n",
              "</div>"
            ],
            "text/plain": [
              "     average  deviation  max_exec  min_exec  number  repeat    size\n",
              "75  0.013276   0.000297  0.013990  0.012912      50      10  187510\n",
              "76  0.013366   0.000161  0.013586  0.013041      50      10  190010\n",
              "77  0.013594   0.000572  0.015058  0.012880      50      10  192510\n",
              "78  0.013450   0.000088  0.013630  0.013338      50      10  195010\n",
              "79  0.014544   0.001399  0.017488  0.013462      50      10  197510"
            ]
          },
          "execution_count": 44,
          "metadata": {},
          "output_type": "execute_result"
        }
      ],
      "source": [
        "res = []\n",
        "for i in range(10, 200000, 2500):\n",
        "    t = measure_time(\"c11_dot16_nofcall(values)\", repeat=10,\n",
        "                     context=dict(c11_dot16_nofcall=c11_dot16_nofcall, values=vect[:i].copy()))\n",
        "    res.append(t)\n",
        "\n",
        "cus_dot16_nofcall = pandas.DataFrame(res)\n",
        "cus_dot16_nofcall.tail()"
      ]
    },
    {
      "cell_type": "code",
      "execution_count": 44,
      "metadata": {},
      "outputs": [
        {
          "data": {
            "image/png": "[encoded data removed]",
            "text/plain": [
              "<Figure size 1008x288 with 2 Axes>"
            ]
          },
          "metadata": {
            "needs_background": "light"
          },
          "output_type": "display_data"
        }
      ],
      "source": [
        "fig, ax = plt.subplots(1, 2, figsize=(14,4))\n",
        "dot.plot(x='size', y=\"average\", ax=ax[0], label=\"numpy\")\n",
        "cus_dot.plot(x='size', y=\"average\", ax=ax[0], label=\"pybind11\")\n",
        "cus_dot16.plot(x='size', y=\"average\", ax=ax[0], label=\"pybind11x16\")\n",
        "cus_dot16_nofcall.plot(x='size', y=\"average\", ax=ax[0], label=\"pybind11x16_nofcall\")\n",
        "dot.plot(x='size', y=\"average\", ax=ax[1], label=\"numpy\", logy=True)\n",
        "cus_dot.plot(x='size', y=\"average\", ax=ax[1], label=\"pybind11\")\n",
        "cus_dot16.plot(x='size', y=\"average\", ax=ax[1], label=\"pybind11x16\")\n",
        "cus_dot16_nofcall.plot(x='size', y=\"average\", ax=ax[1], label=\"pybind11x16_nofcall\")\n",
        "ax[0].set_title(\"numpy and custom dot product execution time\");\n",
        "ax[1].set_title(\"numpy and custom dot product execution time\");"
      ]
    },
    {
      "cell_type": "markdown",
      "metadata": {},
      "source": [
        "Weird, branching did not happen when the code is not inside a separate function."
      ]
    },
    {
      "cell_type": "markdown",
      "metadata": {},
      "source": [
        "### SSE instructions\n",
        "\n",
        "We replace one function in the previous implementation."
      ]
    },
    {
      "cell_type": "code",
      "execution_count": 45,
      "metadata": {},
      "outputs": [],
      "source": [
        "# #include <xmmintrin.h>\n",
        "# \n",
        "# float vector_dot_product_pointer16_sse(const float *p1, const float *p2)\n",
        "# {\n",
        "#     __m128 c1 = _mm_load_ps(p1);\n",
        "#     __m128 c2 = _mm_load_ps(p2);\n",
        "#     __m128 r1 = _mm_mul_ps(c1, c2);\n",
        "#     \n",
        "#     p1 += 4;\n",
        "#     p2 += 4;\n",
        "#     \n",
        "#     c1 = _mm_load_ps(p1);\n",
        "#     c2 = _mm_load_ps(p2);\n",
        "#     r1 = _mm_add_ps(r1, _mm_mul_ps(c1, c2));\n",
        "#     \n",
        "#     p1 += 4;\n",
        "#     p2 += 4;\n",
        "#     \n",
        "#     c1 = _mm_load_ps(p1);\n",
        "#     c2 = _mm_load_ps(p2);\n",
        "#     r1 = _mm_add_ps(r1, _mm_mul_ps(c1, c2));\n",
        "#     \n",
        "#     p1 += 4;\n",
        "#     p2 += 4;\n",
        "#     \n",
        "#     c1 = _mm_load_ps(p1);\n",
        "#     c2 = _mm_load_ps(p2);\n",
        "#     r1 = _mm_add_ps(r1, _mm_mul_ps(c1, c2));\n",
        "# \n",
        "#     float r[4];\n",
        "#     _mm_store_ps(r, r1);\n",
        "# \n",
        "#     return r[0] + r[1] + r[2] + r[3];\n",
        "# }"
      ]
    },
    {
      "cell_type": "code",
      "execution_count": 46,
      "metadata": {},
      "outputs": [
        {
          "data": {
            "text/plain": [
              "3333332.0"
            ]
          },
          "execution_count": 47,
          "metadata": {},
          "output_type": "execute_result"
        }
      ],
      "source": [
        "from cpyquickhelper.numbers.cbenchmark_dot import vector_dot_product16_sse\n",
        "vector_dot_product16_sse(vect, vect)"
      ]
    },
    {
      "cell_type": "code",
      "execution_count": 47,
      "metadata": {},
      "outputs": [
        {
          "data": {
            "text/plain": [
              "{'average': 0.1534800747999981,\n",
              " 'deviation': 0.01927684724441485,\n",
              " 'min_exec': 0.1383946999999921,\n",
              " 'max_exec': 0.2020374889999914,\n",
              " 'repeat': 10,\n",
              " 'number': 50,\n",
              " 'size': 10000000}"
            ]
          },
          "execution_count": 48,
          "metadata": {},
          "output_type": "execute_result"
        }
      ],
      "source": [
        "def c11_dot16_sse(vect):\n",
        "    return vector_dot_product16_sse(vect, vect)\n",
        "\n",
        "measure_time(\"c11_dot16_sse(values)\", context=dict(c11_dot16_sse=c11_dot16_sse, values=vect), repeat=10)"
      ]
    },
    {
      "cell_type": "code",
      "execution_count": 48,
      "metadata": {},
      "outputs": [
        {
          "data": {
            "text/html": [
              "<div>\n",
              "<style scoped>\n",
              "    .dataframe tbody tr th:only-of-type {\n",
              "        vertical-align: middle;\n",
              "    }\n",
              "\n",
              "    .dataframe tbody tr th {\n",
              "        vertical-align: top;\n",
              "    }\n",
              "\n",
              "    .dataframe thead th {\n",
              "        text-align: right;\n",
              "    }\n",
              "</style>\n",
              "<table border=\"1\" class=\"dataframe\">\n",
              "  <thead>\n",
              "    <tr style=\"text-align: right;\">\n",
              "      <th></th>\n",
              "      <th>average</th>\n",
              "      <th>deviation</th>\n",
              "      <th>max_exec</th>\n",
              "      <th>min_exec</th>\n",
              "      <th>number</th>\n",
              "      <th>repeat</th>\n",
              "      <th>size</th>\n",
              "    </tr>\n",
              "  </thead>\n",
              "  <tbody>\n",
              "    <tr>\n",
              "      <th>75</th>\n",
              "      <td>0.001966</td>\n",
              "      <td>0.000318</td>\n",
              "      <td>0.002915</td>\n",
              "      <td>0.001797</td>\n",
              "      <td>50</td>\n",
              "      <td>10</td>\n",
              "      <td>187510</td>\n",
              "    </tr>\n",
              "    <tr>\n",
              "      <th>76</th>\n",
              "      <td>0.001963</td>\n",
              "      <td>0.000188</td>\n",
              "      <td>0.002505</td>\n",
              "      <td>0.001845</td>\n",
              "      <td>50</td>\n",
              "      <td>10</td>\n",
              "      <td>190010</td>\n",
              "    </tr>\n",
              "    <tr>\n",
              "      <th>77</th>\n",
              "      <td>0.001952</td>\n",
              "      <td>0.000081</td>\n",
              "      <td>0.002097</td>\n",
              "      <td>0.001844</td>\n",
              "      <td>50</td>\n",
              "      <td>10</td>\n",
              "      <td>192510</td>\n",
              "    </tr>\n",
              "    <tr>\n",
              "      <th>78</th>\n",
              "      <td>0.001941</td>\n",
              "      <td>0.000089</td>\n",
              "      <td>0.002146</td>\n",
              "      <td>0.001839</td>\n",
              "      <td>50</td>\n",
              "      <td>10</td>\n",
              "      <td>195010</td>\n",
              "    </tr>\n",
              "    <tr>\n",
              "      <th>79</th>\n",
              "      <td>0.001920</td>\n",
              "      <td>0.000051</td>\n",
              "      <td>0.001995</td>\n",
              "      <td>0.001860</td>\n",
              "      <td>50</td>\n",
              "      <td>10</td>\n",
              "      <td>197510</td>\n",
              "    </tr>\n",
              "  </tbody>\n",
              "</table>\n",
              "</div>"
            ],
            "text/plain": [
              "     average  deviation  max_exec  min_exec  number  repeat    size\n",
              "75  0.001966   0.000318  0.002915  0.001797      50      10  187510\n",
              "76  0.001963   0.000188  0.002505  0.001845      50      10  190010\n",
              "77  0.001952   0.000081  0.002097  0.001844      50      10  192510\n",
              "78  0.001941   0.000089  0.002146  0.001839      50      10  195010\n",
              "79  0.001920   0.000051  0.001995  0.001860      50      10  197510"
            ]
          },
          "execution_count": 49,
          "metadata": {},
          "output_type": "execute_result"
        }
      ],
      "source": [
        "res = []\n",
        "for i in range(10, 200000, 2500):\n",
        "    t = measure_time(\"c11_dot16_sse(values)\", repeat=10,\n",
        "                     context=dict(c11_dot16_sse=c11_dot16_sse, values=vect[:i].copy()))\n",
        "    res.append(t)\n",
        "\n",
        "cus_dot16_sse = pandas.DataFrame(res)\n",
        "cus_dot16_sse.tail()"
      ]
    },
    {
      "cell_type": "code",
      "execution_count": 49,
      "metadata": {},
      "outputs": [
        {
          "data": {
            "image/png": "[encoded data removed]",
            "text/plain": [
              "<Figure size 1008x288 with 2 Axes>"
            ]
          },
          "metadata": {
            "needs_background": "light"
          },
          "output_type": "display_data"
        }
      ],
      "source": [
        "fig, ax = plt.subplots(1, 2, figsize=(14,4))\n",
        "dot.plot(x='size', y=\"average\", ax=ax[0], label=\"numpy\")\n",
        "cus_dot16_sse.plot(x='size', y=\"average\", ax=ax[0], label=\"pybind11x16_sse\")\n",
        "dot.plot(x='size', y=\"average\", ax=ax[1], label=\"numpy\", logy=True)\n",
        "cus_dot16_sse.plot(x='size', y=\"average\", ax=ax[1], label=\"pybind11x16_sse\")\n",
        "cus_dot.plot(x='size', y=\"average\", ax=ax[1], label=\"pybind11\")\n",
        "cus_dot16.plot(x='size', y=\"average\", ax=ax[1], label=\"pybind11x16\")\n",
        "ax[0].set_title(\"numpy and custom dot product execution time\");\n",
        "ax[1].set_title(\"numpy and custom dot product execution time\");"
      ]
    },
    {
      "cell_type": "markdown",
      "metadata": {},
      "source": [
        "Better even though it is still slower than *numpy*. It is closer. Maybe the compilation option are not optimized, *numpy* was also compiled with the Intel compiler. To be accurate, multi-threading must be disabled on *numpy* side. That's the purpose of the first two lines."
      ]
    },
    {
      "cell_type": "markdown",
      "metadata": {},
      "source": [
        "### AVX 512\n",
        "\n",
        "Last experiment with [AVX 512](https://fr.wikipedia.org/wiki/Advanced_Vector_Extensions) instructions but it does not work on all processor. I could not test it on my laptop as these instructions do not seem to be available. More can be found on wikipedia [CPUs with AVX-512](https://en.wikipedia.org/wiki/AVX-512#CPUs_with_AVX-512)."
      ]
    },
    {
      "cell_type": "code",
      "execution_count": 50,
      "metadata": {},
      "outputs": [
        {
          "data": {
            "text/plain": [
              "'Intel64 Family 6 Model 78 Stepping 3, GenuineIntel'"
            ]
          },
          "execution_count": 51,
          "metadata": {},
          "output_type": "execute_result"
        }
      ],
      "source": [
        "import platform\n",
        "platform.processor()"
      ]
    },
    {
      "cell_type": "code",
      "execution_count": 51,
      "metadata": {},
      "outputs": [],
      "source": [
        "import numpy\n",
        "values = numpy.array(list(range(10000000)), dtype=numpy.float32)\n",
        "vect = values / numpy.max(values)"
      ]
    },
    {
      "cell_type": "code",
      "execution_count": 52,
      "metadata": {},
      "outputs": [
        {
          "data": {
            "text/plain": [
              "3333332.0"
            ]
          },
          "execution_count": 53,
          "metadata": {},
          "output_type": "execute_result"
        }
      ],
      "source": [
        "from cpyquickhelper.numbers.cbenchmark_dot import vector_dot_product16_avx512\n",
        "vector_dot_product16_avx512(vect, vect)"
      ]
    },
    {
      "cell_type": "code",
      "execution_count": 53,
      "metadata": {},
      "outputs": [
        {
          "data": {
            "text/plain": [
              "{'average': 0.14781647649999882,\n",
              " 'deviation': 0.012658855801156724,\n",
              " 'min_exec': 0.13536813599999675,\n",
              " 'max_exec': 0.17408571899999004,\n",
              " 'repeat': 10,\n",
              " 'number': 50,\n",
              " 'size': 10000000}"
            ]
          },
          "execution_count": 54,
          "metadata": {},
          "output_type": "execute_result"
        }
      ],
      "source": [
        "def c11_dot16_avx512(vect):\n",
        "    return vector_dot_product16_avx512(vect, vect)\n",
        "\n",
        "measure_time(\"c11_dot16_avx512(values)\",\n",
        "             context=dict(c11_dot16_avx512=c11_dot16_avx512, values=vect), repeat=10)"
      ]
    },
    {
      "cell_type": "code",
      "execution_count": 54,
      "metadata": {},
      "outputs": [
        {
          "data": {
            "text/html": [
              "<div>\n",
              "<style scoped>\n",
              "    .dataframe tbody tr th:only-of-type {\n",
              "        vertical-align: middle;\n",
              "    }\n",
              "\n",
              "    .dataframe tbody tr th {\n",
              "        vertical-align: top;\n",
              "    }\n",
              "\n",
              "    .dataframe thead th {\n",
              "        text-align: right;\n",
              "    }\n",
              "</style>\n",
              "<table border=\"1\" class=\"dataframe\">\n",
              "  <thead>\n",
              "    <tr style=\"text-align: right;\">\n",
              "      <th></th>\n",
              "      <th>average</th>\n",
              "      <th>deviation</th>\n",
              "      <th>max_exec</th>\n",
              "      <th>min_exec</th>\n",
              "      <th>number</th>\n",
              "      <th>repeat</th>\n",
              "      <th>size</th>\n",
              "    </tr>\n",
              "  </thead>\n",
              "  <tbody>\n",
              "    <tr>\n",
              "      <th>75</th>\n",
              "      <td>0.001978</td>\n",
              "      <td>0.000191</td>\n",
              "      <td>0.002513</td>\n",
              "      <td>0.001845</td>\n",
              "      <td>50</td>\n",
              "      <td>10</td>\n",
              "      <td>187510</td>\n",
              "    </tr>\n",
              "    <tr>\n",
              "      <th>76</th>\n",
              "      <td>0.001926</td>\n",
              "      <td>0.000158</td>\n",
              "      <td>0.002337</td>\n",
              "      <td>0.001791</td>\n",
              "      <td>50</td>\n",
              "      <td>10</td>\n",
              "      <td>190010</td>\n",
              "    </tr>\n",
              "    <tr>\n",
              "      <th>77</th>\n",
              "      <td>0.001889</td>\n",
              "      <td>0.000107</td>\n",
              "      <td>0.002188</td>\n",
              "      <td>0.001817</td>\n",
              "      <td>50</td>\n",
              "      <td>10</td>\n",
              "      <td>192510</td>\n",
              "    </tr>\n",
              "    <tr>\n",
              "      <th>78</th>\n",
              "      <td>0.001932</td>\n",
              "      <td>0.000108</td>\n",
              "      <td>0.002245</td>\n",
              "      <td>0.001836</td>\n",
              "      <td>50</td>\n",
              "      <td>10</td>\n",
              "      <td>195010</td>\n",
              "    </tr>\n",
              "    <tr>\n",
              "      <th>79</th>\n",
              "      <td>0.001970</td>\n",
              "      <td>0.000043</td>\n",
              "      <td>0.002071</td>\n",
              "      <td>0.001931</td>\n",
              "      <td>50</td>\n",
              "      <td>10</td>\n",
              "      <td>197510</td>\n",
              "    </tr>\n",
              "  </tbody>\n",
              "</table>\n",
              "</div>"
            ],
            "text/plain": [
              "     average  deviation  max_exec  min_exec  number  repeat    size\n",
              "75  0.001978   0.000191  0.002513  0.001845      50      10  187510\n",
              "76  0.001926   0.000158  0.002337  0.001791      50      10  190010\n",
              "77  0.001889   0.000107  0.002188  0.001817      50      10  192510\n",
              "78  0.001932   0.000108  0.002245  0.001836      50      10  195010\n",
              "79  0.001970   0.000043  0.002071  0.001931      50      10  197510"
            ]
          },
          "execution_count": 55,
          "metadata": {},
          "output_type": "execute_result"
        }
      ],
      "source": [
        "res = []\n",
        "for i in range(10, 200000, 2500):\n",
        "    t = measure_time(\"c11_dot16_avx512(values)\", repeat=10,\n",
        "                     context=dict(c11_dot16_avx512=c11_dot16_avx512, values=vect[:i].copy()))\n",
        "    res.append(t)\n",
        "\n",
        "cus_dot16_avx512 = pandas.DataFrame(res)\n",
        "cus_dot16_avx512.tail()"
      ]
    },
    {
      "cell_type": "code",
      "execution_count": 55,
      "metadata": {},
      "outputs": [
        {
          "data": {
            "image/png": "[encoded data removed]",
            "text/plain": [
              "<Figure size 1008x288 with 2 Axes>"
            ]
          },
          "metadata": {
            "needs_background": "light"
          },
          "output_type": "display_data"
        }
      ],
      "source": [
        "fig, ax = plt.subplots(1, 2, figsize=(14,4))\n",
        "dot.plot(x='size', y=\"average\", ax=ax[0], label=\"numpy\")\n",
        "cus_dot16.plot(x='size', y=\"average\", ax=ax[0], label=\"pybind11x16\")\n",
        "cus_dot16_sse.plot(x='size', y=\"average\", ax=ax[0], label=\"pybind11x16_sse\")\n",
        "cus_dot16_avx512.plot(x='size', y=\"average\", ax=ax[0], label=\"pybind11x16_avx512\")\n",
        "dot.plot(x='size', y=\"average\", ax=ax[1], label=\"numpy\", logy=True)\n",
        "cus_dot16.plot(x='size', y=\"average\", ax=ax[1], label=\"pybind11x16\")\n",
        "cus_dot16_sse.plot(x='size', y=\"average\", ax=ax[1], label=\"pybind11x16_sse\")\n",
        "cus_dot16_avx512.plot(x='size', y=\"average\", ax=ax[1], label=\"pybind11x16_avx512\")\n",
        "cus_dot.plot(x='size', y=\"average\", ax=ax[1], label=\"pybind11\")\n",
        "ax[0].set_title(\"numpy and custom dot product execution time\");\n",
        "ax[1].set_title(\"numpy and custom dot product execution time\");"
      ]
    },
    {
      "cell_type": "markdown",
      "metadata": {},
      "source": [
        "If the time is the same, it means that options AVX512 are not available."
      ]
    },
    {
      "cell_type": "code",
      "execution_count": 56,
      "metadata": {},
      "outputs": [
        {
          "data": {
            "text/plain": [
              "'Available options:  __SSE__ __SSE2__ __SSE3__ __SSE4_1__'"
            ]
          },
          "execution_count": 57,
          "metadata": {},
          "output_type": "execute_result"
        }
      ],
      "source": [
        "from cpyquickhelper.numbers.cbenchmark import get_simd_available_option\n",
        "get_simd_available_option()"
      ]
    },
    {
      "cell_type": "markdown",
      "metadata": {},
      "source": [
        "### Back to numpy\n",
        "\n",
        "This article [Why is matrix multiplication faster with numpy than with ctypes in Python?](https://stackoverflow.com/questions/10442365/why-is-matrix-multiplication-faster-with-numpy-than-with-ctypes-in-python) gives some kints on why *numpy* is still faster. By looking at the code of the dot product in *numpy*: [arraytypes.c.src](https://github.com/numpy/numpy/blob/master/numpy/core/src/multiarray/arraytypes.c.src), it seems that *numpy* does a simple dot product without using branching or uses the library [BLAS](http://www.netlib.org/blas/) which is the case in this benchmark (code for dot product: [sdot.c](http://www.netlib.org/clapack/cblas/sdot.c)). And it does use *branching*. See also function [blas_stride](https://github.com/numpy/numpy/blob/master/numpy/core/src/multiarray/common.h#L298). These libraries then play with [compilation options](https://gcc.gnu.org/onlinedocs/gcc/Optimize-Options.html) and optimize for speed. This benchmark does not look into [cython-blis](https://github.com/explosion/cython-blis) which implements some [BLAS](http://www.netlib.org/blas/) functions with an assembly language and has different implementations depending on the platform it is used. A little bit more on C++ optimization [How to optimize C and C++ code in 2018](https://medium.com/@aka.rider/how-to-optimize-c-and-c-code-in-2018-bd4f90a72c2b)."
      ]
    },
    {
      "cell_type": "code",
      "execution_count": 57,
      "metadata": {},
      "outputs": [],
      "source": []
    }
  ],
  "metadata": {
    "kernelspec": {
      "display_name": "Python 3",
      "language": "python",
      "name": "python3"
    },
    "language_info": {
      "codemirror_mode": {
        "name": "ipython",
        "version": 3
      },
      "file_extension": ".py",
      "mimetype": "text/x-python",
      "name": "python",
      "nbconvert_exporter": "python",
      "pygments_lexer": "ipython3",
      "version": "3.7.2"
    }
  },
  "nbformat": 4,
  "nbformat_minor": 2
}