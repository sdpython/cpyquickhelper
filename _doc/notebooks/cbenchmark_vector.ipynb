{
  "cells": [
    {
      "cell_type": "markdown",
      "id": "1b9d02c0",
      "metadata": {},
      "source": [
        "# Use of PYBIND11_MAKE_OPAQUE\n",
        "\n",
        "[pybind11](https://pybind11.readthedocs.io/) automatically converts `std::vector` into python list. That's convenient but not necessarily efficient depending on how it is used after that. [PYBIND11_MAKE_OPAQUE](https://pybind11.readthedocs.io/en/stable/advanced/cast/stl.html#making-opaque-types) is used to create a [capsule](https://docs.python.org/3/c-api/capsule.html) to hold a pointer on the C++ object."
      ]
    },
    {
      "cell_type": "code",
      "execution_count": 1,
      "id": "f4a5179a",
      "metadata": {},
      "outputs": [
        {
          "data": {
            "text/html": [
              "<div id=\"my_id_menu_nb\">run previous cell, wait for 2 seconds</div>\n",
              "<script>\n",
              "function repeat_indent_string(n){\n",
              "    var a = \"\" ;\n",
              "    for ( ; n > 0 ; --n)\n",
              "        a += \"    \";\n",
              "    return a;\n",
              "}\n",
              "// look up into all sections and builds an automated menu //\n",
              "var update_menu_string = function(begin, lfirst, llast, sformat, send, keep_item, begin_format, end_format) {\n",
              "    var anchors = document.getElementsByClassName(\"section\");\n",
              "    if (anchors.length == 0) {\n",
              "        anchors = document.getElementsByClassName(\"text_cell_render rendered_html\");\n",
              "    }\n",
              "    var i,t;\n",
              "    var text_menu = begin;\n",
              "    var text_memo = \"<pre>\\nlength:\" + anchors.length + \"\\n\";\n",
              "    var ind = \"\";\n",
              "    var memo_level = 1;\n",
              "    var href;\n",
              "    var tags = [];\n",
              "    var main_item = 0;\n",
              "    var format_open = 0;\n",
              "    for (i = 0; i <= llast; i++)\n",
              "        tags.push(\"h\" + i);\n",
              "\n",
              "    for (i = 0; i < anchors.length; i++) {\n",
              "        text_memo += \"**\" + anchors[i].id + \"--\\n\";\n",
              "\n",
              "        var child = null;\n",
              "        for(t = 0; t < tags.length; t++) {\n",
              "            var r = anchors[i].getElementsByTagName(tags[t]);\n",
              "            if (r.length > 0) {\n",
              "child = r[0];\n",
              "break;\n",
              "            }\n",
              "        }\n",
              "        if (child == null) {\n",
              "            text_memo += \"null\\n\";\n",
              "            continue;\n",
              "        }\n",
              "        if (anchors[i].hasAttribute(\"id\")) {\n",
              "            // when converted in RST\n",
              "            href = anchors[i].id;\n",
              "            text_memo += \"#1-\" + href;\n",
              "            // passer \u00e0 child suivant (le chercher)\n",
              "        }\n",
              "        else if (child.hasAttribute(\"id\")) {\n",
              "            // in a notebook\n",
              "            href = child.id;\n",
              "            text_memo += \"#2-\" + href;\n",
              "        }\n",
              "        else {\n",
              "            text_memo += \"#3-\" + \"*\" + \"\\n\";\n",
              "            continue;\n",
              "        }\n",
              "        var title = child.textContent;\n",
              "        var level = parseInt(child.tagName.substring(1,2));\n",
              "\n",
              "        text_memo += \"--\" + level + \"?\" + lfirst + \"--\" + title + \"\\n\";\n",
              "\n",
              "        if ((level < lfirst) || (level > llast)) {\n",
              "            continue ;\n",
              "        }\n",
              "        if (title.endsWith('\u00b6')) {\n",
              "            title = title.substring(0,title.length-1).replace(\"<\", \"&lt;\")\n",
              "         .replace(\">\", \"&gt;\").replace(\"&\", \"&amp;\");\n",
              "        }\n",
              "        if (title.length == 0) {\n",
              "            continue;\n",
              "        }\n",
              "\n",
              "        while (level < memo_level) {\n",
              "            text_menu += end_format + \"</ul>\\n\";\n",
              "            format_open -= 1;\n",
              "            memo_level -= 1;\n",
              "        }\n",
              "        if (level == lfirst) {\n",
              "            main_item += 1;\n",
              "        }\n",
              "        if (keep_item != -1 && main_item != keep_item + 1) {\n",
              "            // alert(main_item + \" - \" + level + \" - \" + keep_item);\n",
              "            continue;\n",
              "        }\n",
              "        while (level > memo_level) {\n",
              "            text_menu += \"<ul>\\n\";\n",
              "            memo_level += 1;\n",
              "        }\n",
              "        text_menu += repeat_indent_string(level-2);\n",
              "        text_menu += begin_format + sformat.replace(\"__HREF__\", href).replace(\"__TITLE__\", title);\n",
              "        format_open += 1;\n",
              "    }\n",
              "    while (1 < memo_level) {\n",
              "        text_menu += end_format + \"</ul>\\n\";\n",
              "        memo_level -= 1;\n",
              "        format_open -= 1;\n",
              "    }\n",
              "    text_menu += send;\n",
              "    //text_menu += \"\\n\" + text_memo;\n",
              "\n",
              "    while (format_open > 0) {\n",
              "        text_menu += end_format;\n",
              "        format_open -= 1;\n",
              "    }\n",
              "    return text_menu;\n",
              "};\n",
              "var update_menu = function() {\n",
              "    var sbegin = \"\";\n",
              "    var sformat = '<a href=\"#__HREF__\">__TITLE__</a>';\n",
              "    var send = \"\";\n",
              "    var begin_format = '<li>';\n",
              "    var end_format = '</li>';\n",
              "    var keep_item = -1;\n",
              "    var text_menu = update_menu_string(sbegin, 2, 4, sformat, send, keep_item,\n",
              "       begin_format, end_format);\n",
              "    var menu = document.getElementById(\"my_id_menu_nb\");\n",
              "    menu.innerHTML=text_menu;\n",
              "};\n",
              "window.setTimeout(update_menu,2000);\n",
              "            </script>"
            ],
            "text/plain": [
              "<IPython.core.display.HTML object>"
            ]
          },
          "execution_count": 2,
          "metadata": {},
          "output_type": "execute_result"
        }
      ],
      "source": [
        "from jyquickhelper import add_notebook_menu\n",
        "add_notebook_menu()"
      ]
    },
    {
      "cell_type": "code",
      "execution_count": 2,
      "id": "4f747872",
      "metadata": {},
      "outputs": [],
      "source": [
        "%matplotlib inline"
      ]
    },
    {
      "cell_type": "markdown",
      "id": "aaf98a54",
      "metadata": {},
      "source": [
        "## Two identical classes\n",
        "\n",
        "Both of then creates random vectors equivalent to `std::vector<Tensor>`, and `Tensor ~  std::vector<float>`. The first one returns a capsule due `PYBIND11_MAKE_OPAQUE(std::vector<OneTensorFloat>)` inserted into the C++ code. The other one is returning a list."
      ]
    },
    {
      "cell_type": "code",
      "execution_count": 3,
      "id": "68b5a870",
      "metadata": {},
      "outputs": [
        {
          "name": "stdout",
          "output_type": "stream",
          "text": [
            "<cpyquickhelper.examples.vector_container_python.OneTensorVector object at 0x000002B144FB5470>\n"
          ]
        }
      ],
      "source": [
        "from cpyquickhelper.examples.vector_container_python import (\n",
        "    RandomTensorVectorFloat, RandomTensorVectorFloat2)\n",
        "\n",
        "rnd = RandomTensorVectorFloat(10, 10)\n",
        "result = rnd.get_tensor_vector()\n",
        "print(result)"
      ]
    },
    {
      "cell_type": "code",
      "execution_count": 4,
      "id": "9e696e48",
      "metadata": {},
      "outputs": [
        {
          "name": "stdout",
          "output_type": "stream",
          "text": [
            "<cpyquickhelper.examples.vector_container_python.TensorVectorConstReferencePointer object at 0x000002B13BB8DD70>\n"
          ]
        }
      ],
      "source": [
        "result_ref = rnd.get_tensor_vector_ref()\n",
        "print(result_ref)"
      ]
    },
    {
      "cell_type": "code",
      "execution_count": 5,
      "id": "ffa90177",
      "metadata": {},
      "outputs": [
        {
          "name": "stdout",
          "output_type": "stream",
          "text": [
            "[<cpyquickhelper.examples.vector_container_python.OneTensor2 object at 0x000002B144BC4330>, <cpyquickhelper.examples.vector_container_python.OneTensor2 object at 0x000002B144BC2BF0>, <cpyquickhelper.examples.vector_container_python.OneTensor2 object at 0x000002B144BC2E30>, <cpyquickhelper.examples.vector_container_python.OneTensor2 object at 0x000002B144BC2C30>, <cpyquickhelper.examples.vector_container_python.OneTensor2 object at 0x000002B144BC2FB0>, <cpyquickhelper.examples.vector_container_python.OneTensor2 object at 0x000002B144BC2970>, <cpyquickhelper.examples.vector_container_python.OneTensor2 object at 0x000002B144BC26F0>, <cpyquickhelper.examples.vector_container_python.OneTensor2 object at 0x000002B144BC22B0>, <cpyquickhelper.examples.vector_container_python.OneTensor2 object at 0x000002B144BC21B0>, <cpyquickhelper.examples.vector_container_python.OneTensor2 object at 0x000002B144BC20F0>]\n"
          ]
        }
      ],
      "source": [
        "rnd2 = RandomTensorVectorFloat2(10, 10)\n",
        "result2 = rnd2.get_tensor_vector()\n",
        "print(result2)"
      ]
    },
    {
      "cell_type": "code",
      "execution_count": 6,
      "id": "b1c8b697",
      "metadata": {},
      "outputs": [
        {
          "name": "stdout",
          "output_type": "stream",
          "text": [
            "<cpyquickhelper.examples.vector_container_python.TensorVectorConstReferencePointer2 object at 0x000002B144EE0C30>\n"
          ]
        }
      ],
      "source": [
        "result2_ref = rnd2.get_tensor_vector_ref()\n",
        "print(result2_ref)"
      ]
    },
    {
      "cell_type": "code",
      "execution_count": 7,
      "id": "b51163b3",
      "metadata": {},
      "outputs": [
        {
          "name": "stdout",
          "output_type": "stream",
          "text": [
            "3.13 \u00b5s \u00b1 60.6 ns per loop (mean \u00b1 std. dev. of 7 runs, 100,000 loops each)\n"
          ]
        }
      ],
      "source": [
        "%timeit rnd.get_tensor_vector()"
      ]
    },
    {
      "cell_type": "code",
      "execution_count": 8,
      "id": "8de22452",
      "metadata": {},
      "outputs": [
        {
          "name": "stdout",
          "output_type": "stream",
          "text": [
            "1.21 \u00b5s \u00b1 38.4 ns per loop (mean \u00b1 std. dev. of 7 runs, 1,000,000 loops each)\n"
          ]
        }
      ],
      "source": [
        "%timeit rnd.get_tensor_vector_ref()"
      ]
    },
    {
      "cell_type": "code",
      "execution_count": 9,
      "id": "4466169b",
      "metadata": {},
      "outputs": [
        {
          "name": "stdout",
          "output_type": "stream",
          "text": [
            "10.4 \u00b5s \u00b1 138 ns per loop (mean \u00b1 std. dev. of 7 runs, 100,000 loops each)\n"
          ]
        }
      ],
      "source": [
        "%timeit rnd2.get_tensor_vector()"
      ]
    },
    {
      "cell_type": "code",
      "execution_count": 10,
      "id": "c716c766",
      "metadata": {},
      "outputs": [
        {
          "name": "stdout",
          "output_type": "stream",
          "text": [
            "1.19 \u00b5s \u00b1 18.1 ns per loop (mean \u00b1 std. dev. of 7 runs, 1,000,000 loops each)\n"
          ]
        }
      ],
      "source": [
        "%timeit rnd2.get_tensor_vector_ref()"
      ]
    },
    {
      "cell_type": "markdown",
      "id": "e3cafd4d",
      "metadata": {},
      "source": [
        "## Scenarii\n",
        "\n",
        "Three possibilities:\n",
        "\n",
        "* **list**: `std::vector<Tensor>` is converted into a list of copied Tensors\n",
        "* **capsule**: `std::vector<Tensor>` is converted into a capsule on a copied `std::vector<Tensor>`, the capsule still holds the pointer and is responsible to the deletion.\n",
        "* **ref**: `std::vector<Tensor>` is just return as a pointer. The cost of getting the pointer does not depend on the content size. It is somehow the low limit."
      ]
    },
    {
      "cell_type": "markdown",
      "id": "f2ed080e",
      "metadata": {},
      "source": [
        "## Plots"
      ]
    },
    {
      "cell_type": "code",
      "execution_count": 11,
      "id": "7cd2b82d",
      "metadata": {},
      "outputs": [
        {
          "name": "stderr",
          "output_type": "stream",
          "text": [
            "100%|\u2588\u2588\u2588\u2588\u2588\u2588\u2588\u2588\u2588\u2588\u2588\u2588\u2588\u2588\u2588\u2588\u2588\u2588\u2588\u2588\u2588\u2588\u2588\u2588\u2588\u2588\u2588\u2588\u2588\u2588\u2588\u2588\u2588\u2588\u2588\u2588\u2588\u2588\u2588\u2588\u2588\u2588\u2588\u2588\u2588\u2588\u2588\u2588\u2588\u2588\u2588\u2588\u2588\u2588\u2588\u2588\u2588\u2588\u2588\u2588\u2588\u2588\u2588\u2588\u2588\u2588\u2588\u2588\u2588\u2588\u2588\u2588\u2588\u2588\u2588\u2588\u2588\u2588\u2588\u2588| 144/144 [00:19<00:00,  7.43it/s]\n"
          ]
        },
        {
          "data": {
            "text/html": [
              "<div>\n",
              "<style scoped>\n",
              "    .dataframe tbody tr th:only-of-type {\n",
              "        vertical-align: middle;\n",
              "    }\n",
              "\n",
              "    .dataframe tbody tr th {\n",
              "        vertical-align: top;\n",
              "    }\n",
              "\n",
              "    .dataframe thead th {\n",
              "        text-align: right;\n",
              "    }\n",
              "</style>\n",
              "<table border=\"1\" class=\"dataframe\">\n",
              "  <thead>\n",
              "    <tr style=\"text-align: right;\">\n",
              "      <th></th>\n",
              "      <th>average</th>\n",
              "      <th>deviation</th>\n",
              "      <th>min_exec</th>\n",
              "      <th>max_exec</th>\n",
              "      <th>repeat</th>\n",
              "      <th>number</th>\n",
              "      <th>ttime</th>\n",
              "      <th>context_size</th>\n",
              "      <th>name</th>\n",
              "      <th>n_vectors</th>\n",
              "      <th>size</th>\n",
              "    </tr>\n",
              "  </thead>\n",
              "  <tbody>\n",
              "    <tr>\n",
              "      <th>409</th>\n",
              "      <td>0.018321</td>\n",
              "      <td>0.000367</td>\n",
              "      <td>0.018026</td>\n",
              "      <td>0.018838</td>\n",
              "      <td>3</td>\n",
              "      <td>3</td>\n",
              "      <td>0.054962</td>\n",
              "      <td>64</td>\n",
              "      <td>list</td>\n",
              "      <td>10000</td>\n",
              "      <td>200</td>\n",
              "    </tr>\n",
              "    <tr>\n",
              "      <th>410</th>\n",
              "      <td>0.000002</td>\n",
              "      <td>0.000001</td>\n",
              "      <td>0.000001</td>\n",
              "      <td>0.000004</td>\n",
              "      <td>3</td>\n",
              "      <td>3</td>\n",
              "      <td>0.000007</td>\n",
              "      <td>64</td>\n",
              "      <td>ref</td>\n",
              "      <td>10000</td>\n",
              "      <td>200</td>\n",
              "    </tr>\n",
              "    <tr>\n",
              "      <th>411</th>\n",
              "      <td>0.010974</td>\n",
              "      <td>0.000492</td>\n",
              "      <td>0.010512</td>\n",
              "      <td>0.011656</td>\n",
              "      <td>3</td>\n",
              "      <td>3</td>\n",
              "      <td>0.032923</td>\n",
              "      <td>64</td>\n",
              "      <td>capsule</td>\n",
              "      <td>10000</td>\n",
              "      <td>500</td>\n",
              "    </tr>\n",
              "    <tr>\n",
              "      <th>412</th>\n",
              "      <td>0.035484</td>\n",
              "      <td>0.000900</td>\n",
              "      <td>0.034286</td>\n",
              "      <td>0.036456</td>\n",
              "      <td>3</td>\n",
              "      <td>3</td>\n",
              "      <td>0.106451</td>\n",
              "      <td>64</td>\n",
              "      <td>list</td>\n",
              "      <td>10000</td>\n",
              "      <td>500</td>\n",
              "    </tr>\n",
              "    <tr>\n",
              "      <th>413</th>\n",
              "      <td>0.000003</td>\n",
              "      <td>0.000002</td>\n",
              "      <td>0.000001</td>\n",
              "      <td>0.000005</td>\n",
              "      <td>3</td>\n",
              "      <td>3</td>\n",
              "      <td>0.000008</td>\n",
              "      <td>64</td>\n",
              "      <td>ref</td>\n",
              "      <td>10000</td>\n",
              "      <td>500</td>\n",
              "    </tr>\n",
              "  </tbody>\n",
              "</table>\n",
              "</div>"
            ],
            "text/plain": [
              "      average  deviation  min_exec  max_exec  repeat  number     ttime  \\\n",
              "409  0.018321   0.000367  0.018026  0.018838       3       3  0.054962   \n",
              "410  0.000002   0.000001  0.000001  0.000004       3       3  0.000007   \n",
              "411  0.010974   0.000492  0.010512  0.011656       3       3  0.032923   \n",
              "412  0.035484   0.000900  0.034286  0.036456       3       3  0.106451   \n",
              "413  0.000003   0.000002  0.000001  0.000005       3       3  0.000008   \n",
              "\n",
              "     context_size     name  n_vectors  size  \n",
              "409            64     list      10000   200  \n",
              "410            64      ref      10000   200  \n",
              "411            64  capsule      10000   500  \n",
              "412            64     list      10000   500  \n",
              "413            64      ref      10000   500  "
            ]
          },
          "execution_count": 12,
          "metadata": {},
          "output_type": "execute_result"
        }
      ],
      "source": [
        "import itertools\n",
        "from cpyquickhelper.numbers.speed_measure import measure_time\n",
        "from tqdm import tqdm\n",
        "import pandas\n",
        "\n",
        "data = []\n",
        "sizes = [1, 2, 5, 10, 20, 50, 100, 200, 500, 1000, 5000, 10000]\n",
        "sizes = list(itertools.product(sizes, sizes))\n",
        "for i, j in tqdm(sizes):\n",
        "    if j >= 1000:\n",
        "        if i > 1000:\n",
        "            continue\n",
        "    if i * j >= 1e6:\n",
        "        repeat, number = 3, 3\n",
        "    else:\n",
        "        repeat, number = 10, 10\n",
        "    rnd = RandomTensorVectorFloat(i, j)\n",
        "    obs = measure_time(lambda: rnd.get_tensor_vector(), repeat=repeat, number=number, div_by_number=True)\n",
        "    obs['name'] = 'capsule'\n",
        "    obs['n_vectors'] = i\n",
        "    obs['size'] = j\n",
        "    data.append(obs)\n",
        "\n",
        "    rnd2 = RandomTensorVectorFloat2(i, j)\n",
        "    obs = measure_time(lambda: rnd2.get_tensor_vector(), repeat=repeat, number=number, div_by_number=True)\n",
        "    obs['name'] = 'list'\n",
        "    obs['n_vectors'] = i\n",
        "    obs['size'] = j\n",
        "    data.append(obs)\n",
        "\n",
        "    obs = measure_time(lambda: rnd2.get_tensor_vector_ref(), repeat=repeat, number=number, div_by_number=True)\n",
        "    obs['name'] = 'ref'\n",
        "    obs['n_vectors'] = i\n",
        "    obs['size'] = j\n",
        "    data.append(obs)\n",
        "    \n",
        "df = pandas.DataFrame(data)\n",
        "df.tail()"
      ]
    },
    {
      "cell_type": "code",
      "execution_count": 12,
      "id": "e66b1106",
      "metadata": {},
      "outputs": [
        {
          "data": {
            "text/html": [
              "<div>\n",
              "<style scoped>\n",
              "    .dataframe tbody tr th:only-of-type {\n",
              "        vertical-align: middle;\n",
              "    }\n",
              "\n",
              "    .dataframe tbody tr th {\n",
              "        vertical-align: top;\n",
              "    }\n",
              "\n",
              "    .dataframe thead th {\n",
              "        text-align: right;\n",
              "    }\n",
              "</style>\n",
              "<table border=\"1\" class=\"dataframe\">\n",
              "  <thead>\n",
              "    <tr style=\"text-align: right;\">\n",
              "      <th></th>\n",
              "      <th>name</th>\n",
              "      <th>capsule</th>\n",
              "      <th>list</th>\n",
              "      <th>ref</th>\n",
              "      <th>ratio</th>\n",
              "    </tr>\n",
              "    <tr>\n",
              "      <th>n_vectors</th>\n",
              "      <th>size</th>\n",
              "      <th></th>\n",
              "      <th></th>\n",
              "      <th></th>\n",
              "      <th></th>\n",
              "    </tr>\n",
              "  </thead>\n",
              "  <tbody>\n",
              "    <tr>\n",
              "      <th rowspan=\"5\" valign=\"top\">10000</th>\n",
              "      <th>20</th>\n",
              "      <td>0.001611</td>\n",
              "      <td>0.009616</td>\n",
              "      <td>0.000001</td>\n",
              "      <td>0.167512</td>\n",
              "    </tr>\n",
              "    <tr>\n",
              "      <th>50</th>\n",
              "      <td>0.001892</td>\n",
              "      <td>0.010399</td>\n",
              "      <td>0.000001</td>\n",
              "      <td>0.181907</td>\n",
              "    </tr>\n",
              "    <tr>\n",
              "      <th>100</th>\n",
              "      <td>0.002597</td>\n",
              "      <td>0.014054</td>\n",
              "      <td>0.000002</td>\n",
              "      <td>0.184789</td>\n",
              "    </tr>\n",
              "    <tr>\n",
              "      <th>200</th>\n",
              "      <td>0.004847</td>\n",
              "      <td>0.018321</td>\n",
              "      <td>0.000002</td>\n",
              "      <td>0.264565</td>\n",
              "    </tr>\n",
              "    <tr>\n",
              "      <th>500</th>\n",
              "      <td>0.010974</td>\n",
              "      <td>0.035484</td>\n",
              "      <td>0.000003</td>\n",
              "      <td>0.309278</td>\n",
              "    </tr>\n",
              "  </tbody>\n",
              "</table>\n",
              "</div>"
            ],
            "text/plain": [
              "name             capsule      list       ref     ratio\n",
              "n_vectors size                                        \n",
              "10000     20    0.001611  0.009616  0.000001  0.167512\n",
              "          50    0.001892  0.010399  0.000001  0.181907\n",
              "          100   0.002597  0.014054  0.000002  0.184789\n",
              "          200   0.004847  0.018321  0.000002  0.264565\n",
              "          500   0.010974  0.035484  0.000003  0.309278"
            ]
          },
          "execution_count": 13,
          "metadata": {},
          "output_type": "execute_result"
        }
      ],
      "source": [
        "piv = pandas.pivot_table(df, index=['n_vectors', 'size'], columns=['name'], values='average')\n",
        "piv['ratio'] = piv['capsule'] / piv['list']\n",
        "piv.tail()"
      ]
    },
    {
      "cell_type": "code",
      "execution_count": 13,
      "id": "23ccccc5",
      "metadata": {},
      "outputs": [
        {
          "data": {
            "image/png": "[encoded data removed]",
            "text/plain": [
              "<Figure size 720x288 with 2 Axes>"
            ]
          },
          "metadata": {
            "needs_background": "light"
          },
          "output_type": "display_data"
        }
      ],
      "source": [
        "import matplotlib.pyplot as plt\n",
        "fig, ax = plt.subplots(1, 2, figsize=(10, 4))\n",
        "piv[['capsule', 'list', 'ref']].plot(logy=True, ax=ax[0], title='Capsule (OPAQUE) / list')\n",
        "piv.sort_values('ratio', ascending=False)[['ratio']].plot(ax=ax[1], title='Ratio Capsule (OPAQUE) / list');"
      ]
    },
    {
      "cell_type": "code",
      "execution_count": 14,
      "id": "2fde92f9",
      "metadata": {},
      "outputs": [
        {
          "data": {
            "text/html": [
              "<div>\n",
              "<style scoped>\n",
              "    .dataframe tbody tr th:only-of-type {\n",
              "        vertical-align: middle;\n",
              "    }\n",
              "\n",
              "    .dataframe tbody tr th {\n",
              "        vertical-align: top;\n",
              "    }\n",
              "\n",
              "    .dataframe thead th {\n",
              "        text-align: right;\n",
              "    }\n",
              "</style>\n",
              "<table border=\"1\" class=\"dataframe\">\n",
              "  <thead>\n",
              "    <tr style=\"text-align: right;\">\n",
              "      <th>size</th>\n",
              "      <th>1</th>\n",
              "      <th>2</th>\n",
              "      <th>5</th>\n",
              "      <th>10</th>\n",
              "      <th>20</th>\n",
              "      <th>50</th>\n",
              "      <th>100</th>\n",
              "      <th>200</th>\n",
              "      <th>500</th>\n",
              "      <th>1000</th>\n",
              "      <th>5000</th>\n",
              "      <th>10000</th>\n",
              "    </tr>\n",
              "    <tr>\n",
              "      <th>n_vectors</th>\n",
              "      <th></th>\n",
              "      <th></th>\n",
              "      <th></th>\n",
              "      <th></th>\n",
              "      <th></th>\n",
              "      <th></th>\n",
              "      <th></th>\n",
              "      <th></th>\n",
              "      <th></th>\n",
              "      <th></th>\n",
              "      <th></th>\n",
              "      <th></th>\n",
              "    </tr>\n",
              "  </thead>\n",
              "  <tbody>\n",
              "    <tr>\n",
              "      <th>1</th>\n",
              "      <td>0.566917</td>\n",
              "      <td>1.130723</td>\n",
              "      <td>0.995022</td>\n",
              "      <td>1.023320</td>\n",
              "      <td>1.028793</td>\n",
              "      <td>1.612390</td>\n",
              "      <td>0.943035</td>\n",
              "      <td>1.717130</td>\n",
              "      <td>1.284653</td>\n",
              "      <td>0.973898</td>\n",
              "      <td>1.083473</td>\n",
              "      <td>0.663566</td>\n",
              "    </tr>\n",
              "    <tr>\n",
              "      <th>2</th>\n",
              "      <td>0.862783</td>\n",
              "      <td>0.757669</td>\n",
              "      <td>0.775862</td>\n",
              "      <td>0.775123</td>\n",
              "      <td>0.829735</td>\n",
              "      <td>0.763393</td>\n",
              "      <td>0.776532</td>\n",
              "      <td>0.762319</td>\n",
              "      <td>0.871343</td>\n",
              "      <td>0.699622</td>\n",
              "      <td>0.612026</td>\n",
              "      <td>0.539308</td>\n",
              "    </tr>\n",
              "    <tr>\n",
              "      <th>5</th>\n",
              "      <td>0.379608</td>\n",
              "      <td>0.555293</td>\n",
              "      <td>0.368967</td>\n",
              "      <td>0.470159</td>\n",
              "      <td>0.378897</td>\n",
              "      <td>0.410572</td>\n",
              "      <td>0.589214</td>\n",
              "      <td>0.434686</td>\n",
              "      <td>0.395905</td>\n",
              "      <td>0.419958</td>\n",
              "      <td>0.461235</td>\n",
              "      <td>0.473515</td>\n",
              "    </tr>\n",
              "    <tr>\n",
              "      <th>10</th>\n",
              "      <td>0.301479</td>\n",
              "      <td>0.316046</td>\n",
              "      <td>0.374528</td>\n",
              "      <td>0.303198</td>\n",
              "      <td>0.407169</td>\n",
              "      <td>0.359681</td>\n",
              "      <td>0.288451</td>\n",
              "      <td>0.360526</td>\n",
              "      <td>0.402298</td>\n",
              "      <td>0.398315</td>\n",
              "      <td>0.393545</td>\n",
              "      <td>0.439519</td>\n",
              "    </tr>\n",
              "    <tr>\n",
              "      <th>20</th>\n",
              "      <td>0.356484</td>\n",
              "      <td>0.251247</td>\n",
              "      <td>0.230067</td>\n",
              "      <td>0.210293</td>\n",
              "      <td>0.252366</td>\n",
              "      <td>0.255456</td>\n",
              "      <td>0.288205</td>\n",
              "      <td>0.284486</td>\n",
              "      <td>0.252392</td>\n",
              "      <td>0.257864</td>\n",
              "      <td>0.416393</td>\n",
              "      <td>0.043764</td>\n",
              "    </tr>\n",
              "    <tr>\n",
              "      <th>50</th>\n",
              "      <td>0.231620</td>\n",
              "      <td>0.220888</td>\n",
              "      <td>0.210009</td>\n",
              "      <td>0.216061</td>\n",
              "      <td>0.214163</td>\n",
              "      <td>0.282138</td>\n",
              "      <td>0.266862</td>\n",
              "      <td>0.206823</td>\n",
              "      <td>0.263674</td>\n",
              "      <td>0.339590</td>\n",
              "      <td>0.039424</td>\n",
              "      <td>0.493669</td>\n",
              "    </tr>\n",
              "    <tr>\n",
              "      <th>100</th>\n",
              "      <td>0.394659</td>\n",
              "      <td>0.189204</td>\n",
              "      <td>0.256503</td>\n",
              "      <td>0.206615</td>\n",
              "      <td>0.214958</td>\n",
              "      <td>0.218592</td>\n",
              "      <td>0.240267</td>\n",
              "      <td>0.225569</td>\n",
              "      <td>0.243605</td>\n",
              "      <td>0.314168</td>\n",
              "      <td>0.412960</td>\n",
              "      <td>0.406809</td>\n",
              "    </tr>\n",
              "    <tr>\n",
              "      <th>200</th>\n",
              "      <td>0.201795</td>\n",
              "      <td>0.189723</td>\n",
              "      <td>0.211110</td>\n",
              "      <td>0.197427</td>\n",
              "      <td>0.212577</td>\n",
              "      <td>0.212658</td>\n",
              "      <td>0.212798</td>\n",
              "      <td>0.225500</td>\n",
              "      <td>0.257274</td>\n",
              "      <td>0.277588</td>\n",
              "      <td>0.439891</td>\n",
              "      <td>0.427631</td>\n",
              "    </tr>\n",
              "    <tr>\n",
              "      <th>500</th>\n",
              "      <td>0.189678</td>\n",
              "      <td>0.169699</td>\n",
              "      <td>0.188959</td>\n",
              "      <td>0.193446</td>\n",
              "      <td>0.184101</td>\n",
              "      <td>0.209909</td>\n",
              "      <td>0.205913</td>\n",
              "      <td>0.229271</td>\n",
              "      <td>0.243023</td>\n",
              "      <td>0.110660</td>\n",
              "      <td>0.472577</td>\n",
              "      <td>0.456907</td>\n",
              "    </tr>\n",
              "    <tr>\n",
              "      <th>1000</th>\n",
              "      <td>0.181940</td>\n",
              "      <td>0.183248</td>\n",
              "      <td>0.183335</td>\n",
              "      <td>0.186856</td>\n",
              "      <td>0.191277</td>\n",
              "      <td>0.195801</td>\n",
              "      <td>0.197123</td>\n",
              "      <td>0.209983</td>\n",
              "      <td>0.262004</td>\n",
              "      <td>0.184530</td>\n",
              "      <td>0.471995</td>\n",
              "      <td>0.467629</td>\n",
              "    </tr>\n",
              "    <tr>\n",
              "      <th>5000</th>\n",
              "      <td>0.183440</td>\n",
              "      <td>0.179145</td>\n",
              "      <td>0.178354</td>\n",
              "      <td>0.179633</td>\n",
              "      <td>0.178630</td>\n",
              "      <td>0.185844</td>\n",
              "      <td>0.194558</td>\n",
              "      <td>0.160261</td>\n",
              "      <td>0.334000</td>\n",
              "      <td>NaN</td>\n",
              "      <td>NaN</td>\n",
              "      <td>NaN</td>\n",
              "    </tr>\n",
              "    <tr>\n",
              "      <th>10000</th>\n",
              "      <td>0.178259</td>\n",
              "      <td>0.174690</td>\n",
              "      <td>0.172229</td>\n",
              "      <td>0.166271</td>\n",
              "      <td>0.167512</td>\n",
              "      <td>0.181907</td>\n",
              "      <td>0.184789</td>\n",
              "      <td>0.264565</td>\n",
              "      <td>0.309278</td>\n",
              "      <td>NaN</td>\n",
              "      <td>NaN</td>\n",
              "      <td>NaN</td>\n",
              "    </tr>\n",
              "  </tbody>\n",
              "</table>\n",
              "</div>"
            ],
            "text/plain": [
              "size          1         2         5         10        20        50     \\\n",
              "n_vectors                                                               \n",
              "1          0.566917  1.130723  0.995022  1.023320  1.028793  1.612390   \n",
              "2          0.862783  0.757669  0.775862  0.775123  0.829735  0.763393   \n",
              "5          0.379608  0.555293  0.368967  0.470159  0.378897  0.410572   \n",
              "10         0.301479  0.316046  0.374528  0.303198  0.407169  0.359681   \n",
              "20         0.356484  0.251247  0.230067  0.210293  0.252366  0.255456   \n",
              "50         0.231620  0.220888  0.210009  0.216061  0.214163  0.282138   \n",
              "100        0.394659  0.189204  0.256503  0.206615  0.214958  0.218592   \n",
              "200        0.201795  0.189723  0.211110  0.197427  0.212577  0.212658   \n",
              "500        0.189678  0.169699  0.188959  0.193446  0.184101  0.209909   \n",
              "1000       0.181940  0.183248  0.183335  0.186856  0.191277  0.195801   \n",
              "5000       0.183440  0.179145  0.178354  0.179633  0.178630  0.185844   \n",
              "10000      0.178259  0.174690  0.172229  0.166271  0.167512  0.181907   \n",
              "\n",
              "size          100       200       500       1000      5000      10000  \n",
              "n_vectors                                                              \n",
              "1          0.943035  1.717130  1.284653  0.973898  1.083473  0.663566  \n",
              "2          0.776532  0.762319  0.871343  0.699622  0.612026  0.539308  \n",
              "5          0.589214  0.434686  0.395905  0.419958  0.461235  0.473515  \n",
              "10         0.288451  0.360526  0.402298  0.398315  0.393545  0.439519  \n",
              "20         0.288205  0.284486  0.252392  0.257864  0.416393  0.043764  \n",
              "50         0.266862  0.206823  0.263674  0.339590  0.039424  0.493669  \n",
              "100        0.240267  0.225569  0.243605  0.314168  0.412960  0.406809  \n",
              "200        0.212798  0.225500  0.257274  0.277588  0.439891  0.427631  \n",
              "500        0.205913  0.229271  0.243023  0.110660  0.472577  0.456907  \n",
              "1000       0.197123  0.209983  0.262004  0.184530  0.471995  0.467629  \n",
              "5000       0.194558  0.160261  0.334000       NaN       NaN       NaN  \n",
              "10000      0.184789  0.264565  0.309278       NaN       NaN       NaN  "
            ]
          },
          "execution_count": 15,
          "metadata": {},
          "output_type": "execute_result"
        }
      ],
      "source": [
        "flat = piv.reset_index(drop=False)[['n_vectors', 'size', 'ratio']]\n",
        "flat_piv = flat.pivot('n_vectors', 'size', 'ratio')\n",
        "flat_piv"
      ]
    },
    {
      "cell_type": "code",
      "execution_count": 15,
      "id": "b69db209",
      "metadata": {},
      "outputs": [
        {
          "data": {
            "image/png": "[encoded data removed]",
            "text/plain": [
              "<Figure size 432x288 with 2 Axes>"
            ]
          },
          "metadata": {
            "needs_background": "light"
          },
          "output_type": "display_data"
        }
      ],
      "source": [
        "import numpy\n",
        "import seaborn\n",
        "seaborn.heatmap(numpy.minimum(flat_piv.values, 1), cmap=\"YlGnBu\",\n",
        "                xticklabels=list(flat_piv.index), yticklabels=list(flat_piv.columns));"
      ]
    },
    {
      "cell_type": "code",
      "execution_count": 16,
      "id": "7449de78",
      "metadata": {},
      "outputs": [],
      "source": []
    },
    {
      "cell_type": "code",
      "execution_count": 17,
      "id": "45756699",
      "metadata": {},
      "outputs": [],
      "source": []
    }
  ],
  "metadata": {
    "kernelspec": {
      "display_name": "Python 3",
      "language": "python",
      "name": "python3"
    },
    "language_info": {
      "codemirror_mode": {
        "name": "ipython",
        "version": 3
      },
      "file_extension": ".py",
      "mimetype": "text/x-python",
      "name": "python",
      "nbconvert_exporter": "python",
      "pygments_lexer": "ipython3",
      "version": "3.9.5"
    }
  },
  "nbformat": 4,
  "nbformat_minor": 5
}