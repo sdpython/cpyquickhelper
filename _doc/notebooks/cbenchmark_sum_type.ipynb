{
  "cells": [
    {
      "cell_type": "markdown",
      "metadata": {},
      "source": [
        "# Measures a vector sum with different accumulator type\n",
        "\n",
        "This notebook compares how fast is the sum if the accumulator used to store the sum is of a different type than the summed elements."
      ]
    },
    {
      "cell_type": "code",
      "execution_count": 1,
      "metadata": {},
      "outputs": [
        {
          "data": {
            "text/html": [
              "<div id=\"my_id_menu_nb\">run previous cell, wait for 2 seconds</div>\n",
              "<script>\n",
              "function repeat_indent_string(n){\n",
              "    var a = \"\" ;\n",
              "    for ( ; n > 0 ; --n)\n",
              "        a += \"    \";\n",
              "    return a;\n",
              "}\n",
              "// look up into all sections and builds an automated menu //\n",
              "var update_menu_string = function(begin, lfirst, llast, sformat, send, keep_item, begin_format, end_format) {\n",
              "    var anchors = document.getElementsByClassName(\"section\");\n",
              "    if (anchors.length == 0) {\n",
              "        anchors = document.getElementsByClassName(\"text_cell_render rendered_html\");\n",
              "    }\n",
              "    var i,t;\n",
              "    var text_menu = begin;\n",
              "    var text_memo = \"<pre>\\nlength:\" + anchors.length + \"\\n\";\n",
              "    var ind = \"\";\n",
              "    var memo_level = 1;\n",
              "    var href;\n",
              "    var tags = [];\n",
              "    var main_item = 0;\n",
              "    var format_open = 0;\n",
              "    for (i = 0; i <= llast; i++)\n",
              "        tags.push(\"h\" + i);\n",
              "\n",
              "    for (i = 0; i < anchors.length; i++) {\n",
              "        text_memo += \"**\" + anchors[i].id + \"--\\n\";\n",
              "\n",
              "        var child = null;\n",
              "        for(t = 0; t < tags.length; t++) {\n",
              "            var r = anchors[i].getElementsByTagName(tags[t]);\n",
              "            if (r.length > 0) {\n",
              "child = r[0];\n",
              "break;\n",
              "            }\n",
              "        }\n",
              "        if (child == null) {\n",
              "            text_memo += \"null\\n\";\n",
              "            continue;\n",
              "        }\n",
              "        if (anchors[i].hasAttribute(\"id\")) {\n",
              "            // when converted in RST\n",
              "            href = anchors[i].id;\n",
              "            text_memo += \"#1-\" + href;\n",
              "            // passer \u00e0 child suivant (le chercher)\n",
              "        }\n",
              "        else if (child.hasAttribute(\"id\")) {\n",
              "            // in a notebook\n",
              "            href = child.id;\n",
              "            text_memo += \"#2-\" + href;\n",
              "        }\n",
              "        else {\n",
              "            text_memo += \"#3-\" + \"*\" + \"\\n\";\n",
              "            continue;\n",
              "        }\n",
              "        var title = child.textContent;\n",
              "        var level = parseInt(child.tagName.substring(1,2));\n",
              "\n",
              "        text_memo += \"--\" + level + \"?\" + lfirst + \"--\" + title + \"\\n\";\n",
              "\n",
              "        if ((level < lfirst) || (level > llast)) {\n",
              "            continue ;\n",
              "        }\n",
              "        if (title.endsWith('\u00b6')) {\n",
              "            title = title.substring(0,title.length-1).replace(\"<\", \"&lt;\")\n",
              "         .replace(\">\", \"&gt;\").replace(\"&\", \"&amp;\");\n",
              "        }\n",
              "        if (title.length == 0) {\n",
              "            continue;\n",
              "        }\n",
              "\n",
              "        while (level < memo_level) {\n",
              "            text_menu += end_format + \"</ul>\\n\";\n",
              "            format_open -= 1;\n",
              "            memo_level -= 1;\n",
              "        }\n",
              "        if (level == lfirst) {\n",
              "            main_item += 1;\n",
              "        }\n",
              "        if (keep_item != -1 && main_item != keep_item + 1) {\n",
              "            // alert(main_item + \" - \" + level + \" - \" + keep_item);\n",
              "            continue;\n",
              "        }\n",
              "        while (level > memo_level) {\n",
              "            text_menu += \"<ul>\\n\";\n",
              "            memo_level += 1;\n",
              "        }\n",
              "        text_menu += repeat_indent_string(level-2);\n",
              "        text_menu += begin_format + sformat.replace(\"__HREF__\", href).replace(\"__TITLE__\", title);\n",
              "        format_open += 1;\n",
              "    }\n",
              "    while (1 < memo_level) {\n",
              "        text_menu += end_format + \"</ul>\\n\";\n",
              "        memo_level -= 1;\n",
              "        format_open -= 1;\n",
              "    }\n",
              "    text_menu += send;\n",
              "    //text_menu += \"\\n\" + text_memo;\n",
              "\n",
              "    while (format_open > 0) {\n",
              "        text_menu += end_format;\n",
              "        format_open -= 1;\n",
              "    }\n",
              "    return text_menu;\n",
              "};\n",
              "var update_menu = function() {\n",
              "    var sbegin = \"\";\n",
              "    var sformat = '<a href=\"#__HREF__\">__TITLE__</a>';\n",
              "    var send = \"\";\n",
              "    var begin_format = '<li>';\n",
              "    var end_format = '</li>';\n",
              "    var keep_item = -1;\n",
              "    var text_menu = update_menu_string(sbegin, 2, 4, sformat, send, keep_item,\n",
              "       begin_format, end_format);\n",
              "    var menu = document.getElementById(\"my_id_menu_nb\");\n",
              "    menu.innerHTML=text_menu;\n",
              "};\n",
              "window.setTimeout(update_menu,2000);\n",
              "            </script>"
            ],
            "text/plain": [
              "<IPython.core.display.HTML object>"
            ]
          },
          "execution_count": 2,
          "metadata": {},
          "output_type": "execute_result"
        }
      ],
      "source": [
        "from jyquickhelper import add_notebook_menu\n",
        "add_notebook_menu()"
      ]
    },
    {
      "cell_type": "code",
      "execution_count": 2,
      "metadata": {},
      "outputs": [],
      "source": [
        "%matplotlib inline"
      ]
    },
    {
      "cell_type": "markdown",
      "metadata": {},
      "source": [
        "[numpy](http://www.numpy.org/) is multithreaded. For an accurate comparison, this needs to be disabled. This can be done as follows or by setting environment variable ``MKL_NUM_THREADS=1``."
      ]
    },
    {
      "cell_type": "code",
      "execution_count": 3,
      "metadata": {},
      "outputs": [],
      "source": [
        "try:\n",
        "    import mkl\n",
        "    mkl.set_num_threads(1)\n",
        "except ModuleNotFoundError as e:\n",
        "    print('mkl not found', e)\n",
        "    import os\n",
        "    os.environ['MKL_NUM_THREADS']='1'"
      ]
    },
    {
      "cell_type": "markdown",
      "metadata": {},
      "source": [
        "## First comparison\n",
        "\n",
        "We compare the two following implementation."
      ]
    },
    {
      "cell_type": "code",
      "execution_count": 4,
      "metadata": {},
      "outputs": [],
      "source": [
        "# float scenario_Float(const float *p1, size_t size)\n",
        "# {\n",
        "#     float sum = 0;\n",
        "#     const float * end1 = p1 + size;\n",
        "#     for(; p1 != end1; ++p1)\n",
        "#         sum += *p1;\n",
        "#     return sum;\n",
        "# }\n",
        "# \n",
        "# float scenario_Double(const float *p1, size_t size)\n",
        "# {\n",
        "#     double sum = 0;\n",
        "#     const float * end1 = p1 + size;\n",
        "#     for(; p1 != end1; ++p1)\n",
        "#         sum += *p1;\n",
        "#     return (float)sum;\n",
        "# }"
      ]
    },
    {
      "cell_type": "markdown",
      "metadata": {},
      "source": [
        "The third line is also repeated 10 times to avoid the loop being too significant. "
      ]
    },
    {
      "cell_type": "code",
      "execution_count": 5,
      "metadata": {},
      "outputs": [],
      "source": [
        "from cpyquickhelper.numbers.cbenchmark_sum_type import measure_scenario_Double, measure_scenario_Float"
      ]
    },
    {
      "cell_type": "code",
      "execution_count": 6,
      "metadata": {},
      "outputs": [
        {
          "data": {
            "text/html": [
              "<div>\n",
              "<style scoped>\n",
              "    .dataframe tbody tr th:only-of-type {\n",
              "        vertical-align: middle;\n",
              "    }\n",
              "\n",
              "    .dataframe tbody tr th {\n",
              "        vertical-align: top;\n",
              "    }\n",
              "\n",
              "    .dataframe thead th {\n",
              "        text-align: right;\n",
              "    }\n",
              "</style>\n",
              "<table border=\"1\" class=\"dataframe\">\n",
              "  <thead>\n",
              "    <tr style=\"text-align: right;\">\n",
              "      <th></th>\n",
              "      <th>average</th>\n",
              "      <th>deviation</th>\n",
              "      <th>doc</th>\n",
              "      <th>label</th>\n",
              "      <th>max_exec</th>\n",
              "      <th>min_exec</th>\n",
              "      <th>name</th>\n",
              "      <th>number</th>\n",
              "      <th>repeat</th>\n",
              "    </tr>\n",
              "  </thead>\n",
              "  <tbody>\n",
              "    <tr>\n",
              "      <th>0</th>\n",
              "      <td>7.664200e-09</td>\n",
              "      <td>7.683250e-08</td>\n",
              "      <td>a double accumulator</td>\n",
              "      <td>sorted</td>\n",
              "      <td>7.910000e-07</td>\n",
              "      <td>3.950000e-07</td>\n",
              "      <td>scenario_Double</td>\n",
              "      <td>100.0</td>\n",
              "      <td>100.0</td>\n",
              "    </tr>\n",
              "    <tr>\n",
              "      <th>1</th>\n",
              "      <td>5.096300e-09</td>\n",
              "      <td>5.378331e-08</td>\n",
              "      <td>a float accumulator</td>\n",
              "      <td>sorted</td>\n",
              "      <td>7.910000e-07</td>\n",
              "      <td>3.950000e-07</td>\n",
              "      <td>scenario_Float</td>\n",
              "      <td>100.0</td>\n",
              "      <td>100.0</td>\n",
              "    </tr>\n",
              "  </tbody>\n",
              "</table>\n",
              "</div>"
            ],
            "text/plain": [
              "        average     deviation                   doc   label      max_exec  \\\n",
              "0  7.664200e-09  7.683250e-08  a double accumulator  sorted  7.910000e-07   \n",
              "1  5.096300e-09  5.378331e-08   a float accumulator  sorted  7.910000e-07   \n",
              "\n",
              "       min_exec             name  number  repeat  \n",
              "0  3.950000e-07  scenario_Double   100.0   100.0  \n",
              "1  3.950000e-07   scenario_Float   100.0   100.0  "
            ]
          },
          "execution_count": 7,
          "metadata": {},
          "output_type": "execute_result"
        }
      ],
      "source": [
        "import pandas\n",
        "import numpy\n",
        "\n",
        "def test_benchmark(label, values, repeat=100, number=100):\n",
        "    funcs = [(k, v) for k, v in globals().copy().items() if k.startswith(\"measure_scenario\")]\n",
        "    rows = []\n",
        "    for k, v in funcs:\n",
        "        exe = v(values, repeat, number)\n",
        "        d = exe.todict()\n",
        "        d['doc'] = \" \".join(v.__doc__.split('ExecutionStat')[1].strip().split(' ')[-3:]).strip('.')\n",
        "        d['label'] = label\n",
        "        d['name'] = k.replace(\"measure_\", \"\")\n",
        "        rows.append(d)        \n",
        "    df = pandas.DataFrame(rows)\n",
        "    return df\n",
        "\n",
        "test_benchmark(\"sorted\", numpy.random.rand(10).astype(numpy.float32))"
      ]
    },
    {
      "cell_type": "markdown",
      "metadata": {},
      "source": [
        "Times are not very conclusive on such small lists."
      ]
    },
    {
      "cell_type": "code",
      "execution_count": 7,
      "metadata": {},
      "outputs": [
        {
          "data": {
            "text/html": [
              "<div>\n",
              "<style scoped>\n",
              "    .dataframe tbody tr th:only-of-type {\n",
              "        vertical-align: middle;\n",
              "    }\n",
              "\n",
              "    .dataframe tbody tr th {\n",
              "        vertical-align: top;\n",
              "    }\n",
              "\n",
              "    .dataframe thead th {\n",
              "        text-align: right;\n",
              "    }\n",
              "</style>\n",
              "<table border=\"1\" class=\"dataframe\">\n",
              "  <thead>\n",
              "    <tr style=\"text-align: right;\">\n",
              "      <th></th>\n",
              "      <th>average</th>\n",
              "      <th>deviation</th>\n",
              "      <th>doc</th>\n",
              "      <th>label</th>\n",
              "      <th>max_exec</th>\n",
              "      <th>min_exec</th>\n",
              "      <th>name</th>\n",
              "      <th>number</th>\n",
              "      <th>repeat</th>\n",
              "    </tr>\n",
              "  </thead>\n",
              "  <tbody>\n",
              "    <tr>\n",
              "      <th>0</th>\n",
              "      <td>0.000140</td>\n",
              "      <td>0.00143</td>\n",
              "      <td>a double accumulator</td>\n",
              "      <td>sorted</td>\n",
              "      <td>0.042079</td>\n",
              "      <td>0.013098</td>\n",
              "      <td>scenario_Double</td>\n",
              "      <td>100.0</td>\n",
              "      <td>100.0</td>\n",
              "    </tr>\n",
              "    <tr>\n",
              "      <th>1</th>\n",
              "      <td>0.000141</td>\n",
              "      <td>0.00143</td>\n",
              "      <td>a float accumulator</td>\n",
              "      <td>sorted</td>\n",
              "      <td>0.037468</td>\n",
              "      <td>0.013094</td>\n",
              "      <td>scenario_Float</td>\n",
              "      <td>100.0</td>\n",
              "      <td>100.0</td>\n",
              "    </tr>\n",
              "  </tbody>\n",
              "</table>\n",
              "</div>"
            ],
            "text/plain": [
              "    average  deviation                   doc   label  max_exec  min_exec  \\\n",
              "0  0.000140    0.00143  a double accumulator  sorted  0.042079  0.013098   \n",
              "1  0.000141    0.00143   a float accumulator  sorted  0.037468  0.013094   \n",
              "\n",
              "              name  number  repeat  \n",
              "0  scenario_Double   100.0   100.0  \n",
              "1   scenario_Float   100.0   100.0  "
            ]
          },
          "execution_count": 8,
          "metadata": {},
          "output_type": "execute_result"
        }
      ],
      "source": [
        "values = numpy.random.rand(100000).astype(numpy.float32)\n",
        "\n",
        "df = test_benchmark(\"sorted\", values)\n",
        "df"
      ]
    },
    {
      "cell_type": "code",
      "execution_count": 8,
      "metadata": {},
      "outputs": [],
      "source": [
        "df = pandas.concat([df])\n",
        "dfg = df[[\"doc\", \"label\", \"average\"]].pivot(\"doc\", \"label\", \"average\")"
      ]
    },
    {
      "cell_type": "code",
      "execution_count": 9,
      "metadata": {},
      "outputs": [
        {
          "data": {
            "image/png": "[encoded data removed]",
            "text/plain": [
              "<Figure size 432x288 with 1 Axes>"
            ]
          },
          "metadata": {
            "needs_background": "light"
          },
          "output_type": "display_data"
        }
      ],
      "source": [
        "ax = dfg.plot.bar(rot=30)\n",
        "labels = [l.get_text() for l in ax.get_xticklabels()]\n",
        "ax.set_xticklabels(labels, ha='right')\n",
        "ax.set_title(\"Comparison of all implementations\");"
      ]
    },
    {
      "cell_type": "markdown",
      "metadata": {},
      "source": [
        "## For different sizes"
      ]
    },
    {
      "cell_type": "code",
      "execution_count": 10,
      "metadata": {},
      "outputs": [
        {
          "data": {
            "text/html": [
              "<div>\n",
              "<style scoped>\n",
              "    .dataframe tbody tr th:only-of-type {\n",
              "        vertical-align: middle;\n",
              "    }\n",
              "\n",
              "    .dataframe tbody tr th {\n",
              "        vertical-align: top;\n",
              "    }\n",
              "\n",
              "    .dataframe thead th {\n",
              "        text-align: right;\n",
              "    }\n",
              "</style>\n",
              "<table border=\"1\" class=\"dataframe\">\n",
              "  <thead>\n",
              "    <tr style=\"text-align: right;\">\n",
              "      <th></th>\n",
              "      <th>average</th>\n",
              "      <th>deviation</th>\n",
              "      <th>doc</th>\n",
              "      <th>label</th>\n",
              "      <th>max_exec</th>\n",
              "      <th>min_exec</th>\n",
              "      <th>name</th>\n",
              "      <th>number</th>\n",
              "      <th>repeat</th>\n",
              "      <th>size</th>\n",
              "    </tr>\n",
              "  </thead>\n",
              "  <tbody>\n",
              "    <tr>\n",
              "      <th>0</th>\n",
              "      <td>1.418275e-07</td>\n",
              "      <td>0.000001</td>\n",
              "      <td>a double accumulator</td>\n",
              "      <td>sorted</td>\n",
              "      <td>0.000026</td>\n",
              "      <td>0.000013</td>\n",
              "      <td>scenario_Double</td>\n",
              "      <td>100.0</td>\n",
              "      <td>20.0</td>\n",
              "      <td>100.0</td>\n",
              "    </tr>\n",
              "    <tr>\n",
              "      <th>1</th>\n",
              "      <td>1.590125e-07</td>\n",
              "      <td>0.000002</td>\n",
              "      <td>a float accumulator</td>\n",
              "      <td>sorted</td>\n",
              "      <td>0.000043</td>\n",
              "      <td>0.000012</td>\n",
              "      <td>scenario_Float</td>\n",
              "      <td>100.0</td>\n",
              "      <td>20.0</td>\n",
              "      <td>100.0</td>\n",
              "    </tr>\n",
              "    <tr>\n",
              "      <th>0</th>\n",
              "      <td>1.380739e-06</td>\n",
              "      <td>0.000014</td>\n",
              "      <td>a double accumulator</td>\n",
              "      <td>sorted</td>\n",
              "      <td>0.000190</td>\n",
              "      <td>0.000127</td>\n",
              "      <td>scenario_Double</td>\n",
              "      <td>100.0</td>\n",
              "      <td>20.0</td>\n",
              "      <td>1000.0</td>\n",
              "    </tr>\n",
              "    <tr>\n",
              "      <th>1</th>\n",
              "      <td>1.292245e-06</td>\n",
              "      <td>0.000013</td>\n",
              "      <td>a float accumulator</td>\n",
              "      <td>sorted</td>\n",
              "      <td>0.000161</td>\n",
              "      <td>0.000124</td>\n",
              "      <td>scenario_Float</td>\n",
              "      <td>100.0</td>\n",
              "      <td>20.0</td>\n",
              "      <td>1000.0</td>\n",
              "    </tr>\n",
              "    <tr>\n",
              "      <th>0</th>\n",
              "      <td>1.415682e-05</td>\n",
              "      <td>0.000142</td>\n",
              "      <td>a double accumulator</td>\n",
              "      <td>sorted</td>\n",
              "      <td>0.001969</td>\n",
              "      <td>0.001293</td>\n",
              "      <td>scenario_Double</td>\n",
              "      <td>100.0</td>\n",
              "      <td>20.0</td>\n",
              "      <td>10000.0</td>\n",
              "    </tr>\n",
              "  </tbody>\n",
              "</table>\n",
              "</div>"
            ],
            "text/plain": [
              "        average  deviation                   doc   label  max_exec  min_exec  \\\n",
              "0  1.418275e-07   0.000001  a double accumulator  sorted  0.000026  0.000013   \n",
              "1  1.590125e-07   0.000002   a float accumulator  sorted  0.000043  0.000012   \n",
              "0  1.380739e-06   0.000014  a double accumulator  sorted  0.000190  0.000127   \n",
              "1  1.292245e-06   0.000013   a float accumulator  sorted  0.000161  0.000124   \n",
              "0  1.415682e-05   0.000142  a double accumulator  sorted  0.001969  0.001293   \n",
              "\n",
              "              name  number  repeat     size  \n",
              "0  scenario_Double   100.0    20.0    100.0  \n",
              "1   scenario_Float   100.0    20.0    100.0  \n",
              "0  scenario_Double   100.0    20.0   1000.0  \n",
              "1   scenario_Float   100.0    20.0   1000.0  \n",
              "0  scenario_Double   100.0    20.0  10000.0  "
            ]
          },
          "execution_count": 11,
          "metadata": {},
          "output_type": "execute_result"
        }
      ],
      "source": [
        "dfs = []\n",
        "\n",
        "for i in range(2, 7):\n",
        "    n = 10 ** i\n",
        "    values = numpy.random.rand(n).astype(numpy.float32)\n",
        "    df = test_benchmark(\"sorted\", values, repeat=20)\n",
        "    df[\"size\"] = float(n)\n",
        "    dfs.append(df)\n",
        "    \n",
        "df = pandas.concat(dfs)\n",
        "df.head()"
      ]
    },
    {
      "cell_type": "code",
      "execution_count": 11,
      "metadata": {},
      "outputs": [
        {
          "data": {
            "text/html": [
              "<div>\n",
              "<style scoped>\n",
              "    .dataframe tbody tr th:only-of-type {\n",
              "        vertical-align: middle;\n",
              "    }\n",
              "\n",
              "    .dataframe tbody tr th {\n",
              "        vertical-align: top;\n",
              "    }\n",
              "\n",
              "    .dataframe thead th {\n",
              "        text-align: right;\n",
              "    }\n",
              "</style>\n",
              "<table border=\"1\" class=\"dataframe\">\n",
              "  <thead>\n",
              "    <tr style=\"text-align: right;\">\n",
              "      <th>doc</th>\n",
              "      <th>size</th>\n",
              "      <th>a double accumulator</th>\n",
              "      <th>a float accumulator</th>\n",
              "      <th>ratio</th>\n",
              "    </tr>\n",
              "  </thead>\n",
              "  <tbody>\n",
              "    <tr>\n",
              "      <th>0</th>\n",
              "      <td>100.0</td>\n",
              "      <td>1.418275e-07</td>\n",
              "      <td>1.590125e-07</td>\n",
              "      <td>0.891927</td>\n",
              "    </tr>\n",
              "    <tr>\n",
              "      <th>1</th>\n",
              "      <td>1000.0</td>\n",
              "      <td>1.380739e-06</td>\n",
              "      <td>1.292245e-06</td>\n",
              "      <td>1.068480</td>\n",
              "    </tr>\n",
              "    <tr>\n",
              "      <th>2</th>\n",
              "      <td>10000.0</td>\n",
              "      <td>1.415682e-05</td>\n",
              "      <td>1.347988e-05</td>\n",
              "      <td>1.050218</td>\n",
              "    </tr>\n",
              "    <tr>\n",
              "      <th>3</th>\n",
              "      <td>100000.0</td>\n",
              "      <td>1.558953e-04</td>\n",
              "      <td>1.326750e-04</td>\n",
              "      <td>1.175017</td>\n",
              "    </tr>\n",
              "    <tr>\n",
              "      <th>4</th>\n",
              "      <td>1000000.0</td>\n",
              "      <td>1.391328e-03</td>\n",
              "      <td>1.367595e-03</td>\n",
              "      <td>1.017354</td>\n",
              "    </tr>\n",
              "  </tbody>\n",
              "</table>\n",
              "</div>"
            ],
            "text/plain": [
              "doc       size  a double accumulator  a float accumulator     ratio\n",
              "0        100.0          1.418275e-07         1.590125e-07  0.891927\n",
              "1       1000.0          1.380739e-06         1.292245e-06  1.068480\n",
              "2      10000.0          1.415682e-05         1.347988e-05  1.050218\n",
              "3     100000.0          1.558953e-04         1.326750e-04  1.175017\n",
              "4    1000000.0          1.391328e-03         1.367595e-03  1.017354"
            ]
          },
          "execution_count": 12,
          "metadata": {},
          "output_type": "execute_result"
        }
      ],
      "source": [
        "piv = df.pivot(\"size\", \"doc\", \"average\")\n",
        "cols = piv.columns\n",
        "piv = piv.reset_index(drop=False)\n",
        "piv[\"ratio\"] = piv[\"a double accumulator\"] / piv[\"a float accumulator\"]\n",
        "piv"
      ]
    },
    {
      "cell_type": "code",
      "execution_count": 12,
      "metadata": {},
      "outputs": [
        {
          "data": {
            "image/png": "[encoded data removed]",
            "text/plain": [
              "<Figure size 432x288 with 1 Axes>"
            ]
          },
          "metadata": {
            "needs_background": "light"
          },
          "output_type": "display_data"
        }
      ],
      "source": [
        "ax = piv.plot(x='size', y=cols, logy=True, logx=True)\n",
        "ax.set_title(\"Compares float and double accumulator for a sum.\");"
      ]
    },
    {
      "cell_type": "markdown",
      "metadata": {},
      "source": [
        "There is almost no difference."
      ]
    },
    {
      "cell_type": "code",
      "execution_count": 13,
      "metadata": {},
      "outputs": [],
      "source": []
    }
  ],
  "metadata": {
    "kernelspec": {
      "display_name": "Python 3",
      "language": "python",
      "name": "python3"
    },
    "language_info": {
      "codemirror_mode": {
        "name": "ipython",
        "version": 3
      },
      "file_extension": ".py",
      "mimetype": "text/x-python",
      "name": "python",
      "nbconvert_exporter": "python",
      "pygments_lexer": "ipython3",
      "version": "3.7.2"
    }
  },
  "nbformat": 4,
  "nbformat_minor": 2
}